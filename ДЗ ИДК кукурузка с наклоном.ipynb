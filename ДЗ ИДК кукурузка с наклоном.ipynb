{
 "cells": [
  {
   "cell_type": "code",
   "execution_count": 20,
   "metadata": {},
   "outputs": [],
   "source": [
    "import numpy as np\n",
    "import matplotlib.pyplot as plt\n",
    "import prop\n",
    "from pandas import DataFrame\n",
    "from scipy.optimize import fsolve\n",
    "from scipy.interpolate import interp1d\n",
    "from scipy.integrate import ode, simps\n",
    "import math\n",
    "\n",
    "%matplotlib inline\n",
    "%config InlineBackend.figure_format = 'svg'\n",
    "\n",
    "#Perараметры текста\n",
    "plt.rcParams[\"font.family\"] = 'serif'\n",
    "plt.rcParams['font.weight'] = 'ultralight'\n",
    "plt.rcParams['font.serif'] = 'Times New Roman'\n",
    "plt.rcParams['font.size'] = 14\n",
    "plt.rcParams['font.style'] = 'normal'\n",
    "plt.rcParams['mathtext.default'] = 'regular'\n",
    "plt.rcParams['mathtext.fontset'] = 'stix'"
   ]
  },
  {
   "cell_type": "code",
   "execution_count": 21,
   "metadata": {},
   "outputs": [],
   "source": [
    "# Исходные данные\n",
    "D_sn = 0.195    # калибр снаряда\n",
    "m_sn = 93       # масса снаряда\n",
    "# скорость полета во время коррекции, м/с\n",
    "V_sn_kor_min = 370\n",
    "V_sn_kor_max = 410\n",
    "# угловая скорость снаряда, об/с\n",
    "nu_sn_min = 8\n",
    "nu_sn_max = 10\n",
    "I_kor = 140     # требуемый импульс коррекции\n",
    "fi2_tel = np.deg2rad(120) # телесный угол коррекции\n",
    "t_v = 1e-3      # = delta_t время выхода двигателя на режим\n",
    "n_du = 18       # 18\n",
    "m_du_max = 0.35 # максимальная масса одного ИДК\n",
    "# кол-во коррекций: 6 (по 3 ДУ),   12 (6 по 2 ДУ + 6 по 1 ДУ),   18 (по 1 ДУ)\n",
    "# угол наклона сопла: 25 градусов\n",
    "# угол между осями ДУ: 60 градусов\n",
    "T_min = 273.15 - 50\n",
    "T_nom = 273.15 + 18\n",
    "T_max = 273.15 + 50\n",
    "\n",
    "mu_c = 0.95\n",
    "kappa_pred = 180\n",
    "\n",
    "p_atm = 101325"
   ]
  },
  {
   "cell_type": "markdown",
   "metadata": {},
   "source": [
    "#### 1. Формирование недостающих исходных данных"
   ]
  },
  {
   "cell_type": "code",
   "execution_count": 22,
   "metadata": {},
   "outputs": [
    {
     "name": "stdout",
     "output_type": "stream",
     "text": [
      "L_max = 53.2\n",
      "Время коррекции 0.033 ... 0.042 с\n",
      "ksi = 0.670\n",
      "Время горения заряда топлива: 0.02 c\n",
      "Время последействия: 0.012 c\n"
     ]
    }
   ],
   "source": [
    "D_du = 50/1000  # диаметр ИДК\n",
    "\n",
    "# максимальная длина ДУ\n",
    "L_max = (D_sn / 2 - np.sqrt(3) / 2 * D_du - 2 * 3e-3) / np.cos(np.deg2rad(25))\n",
    "print(f'L_max = {L_max*1e3:.1f}')\n",
    "L_max = math.ceil(L_max * 1000) / 1000\n",
    "\n",
    "# Определение времени работы ИДК\n",
    "t_d_min = 1 / nu_sn_max * fi2_tel / (2 * np.pi)\n",
    "t_d_max = 1 / nu_sn_min * fi2_tel / (2 * np.pi)\n",
    "print(f'Время коррекции {t_d_min:.3f} ... {t_d_max:.3f} с')\n",
    "\n",
    "# Окончательное время \n",
    "t_d = 0.033\n",
    "\n",
    "# Коэффициент заполнения индикаторной кривой\n",
    "ksi_max = interp1d(np.linspace(0.01,0.07,7),[0.5,0.55,0.65,0.75,0.79,0.8,0.8])\n",
    "ksi_min = interp1d(np.linspace(0.01,0.07,7),[0.5,0.52,0.59,0.68,0.71,0.72,0.72])\n",
    "# ksi = np.mean([ksi_min(t_d),ksi_max(t_d)])\n",
    "ksi = ksi_max(t_d) - 0.01\n",
    "print(f'ksi = {ksi:.3f}')\n",
    "\n",
    "t_g = t_d / 4 * (5 * ksi - 1) - 3/8 * t_v   # Время горения заряда топлива (первое приближение)\n",
    "t_g = math.ceil(t_g * 1000) / 1000\n",
    "t_p = t_d - t_v - t_g                       # Время последействия\n",
    "print(f'Время горения заряда топлива: {t_g} c\\nВремя последействия: {t_p:.3f} c')"
   ]
  },
  {
   "cell_type": "code",
   "execution_count": 23,
   "metadata": {},
   "outputs": [
    {
     "name": "stdout",
     "output_type": "stream",
     "text": [
      "Теоретический коэффициент тяги 1.46\n",
      "Действительный коэффициент тяги 1.318\n"
     ]
    }
   ],
   "source": [
    "# Назначим в первом приближении коэффициент расширения сопла\n",
    "zeta = 1.4\n",
    "\n",
    "# теоретический коэффициент тяги\n",
    "K_tf = interp1d(np.linspace(1.4,2.6,7),[1.46,1.51,1.56,1.6,1.62,1.64,1.67])\n",
    "K_t = K_tf(zeta) + 0\n",
    "print(f'Теоретический коэффициент тяги {K_t}')\n",
    "\n",
    "# потери\n",
    "fi1 = 0.95\n",
    "fi2 = 0.95\n",
    "\n",
    "# Действительный коэффициент тяги\n",
    "K_d = fi1 * fi2 * K_t\n",
    "print(f'Действительный коэффициент тяги {K_d:.3f}')"
   ]
  },
  {
   "cell_type": "code",
   "execution_count": 24,
   "metadata": {},
   "outputs": [
    {
     "name": "stdout",
     "output_type": "stream",
     "text": [
      "Необходимая тяга 7031.57\n"
     ]
    }
   ],
   "source": [
    "# Коэффициенты\n",
    "K1 = 0.92\n",
    "K2 = 1.08\n",
    "\n",
    "# необходимая тяга\n",
    "P_need = I_kor / (K1 * K2 * ksi * t_d) / np.cos(np.deg2rad(25))\n",
    "print(f'Необходимая тяга {P_need:.2f}')"
   ]
  },
  {
   "cell_type": "markdown",
   "metadata": {},
   "source": [
    "##### 1.6 Выбор марки топлива"
   ]
  },
  {
   "cell_type": "code",
   "execution_count": 25,
   "metadata": {},
   "outputs": [
    {
     "name": "stdout",
     "output_type": "stream",
     "text": [
      "0.0039 0.0422\n",
      "p1N = 89.630 МПа\n",
      "p1_min = 52.011 МПа\n"
     ]
    }
   ],
   "source": [
    "# посчитать тепловые потери\n",
    "\n",
    "propel = prop.get_propellant('B-3')\n",
    "p1_max = 120e6\n",
    "delta_st = np.round(1.3 * p1_max * D_du / (2 * 1000e6),4)\n",
    "D_km = np.round(D_du - 2 * delta_st,4)\n",
    "print(delta_st,D_km)\n",
    "\n",
    "# Из уравнения Бори находим минимальное и номинальное давления по одному заданному\n",
    "def fun(x):\n",
    "    p1N, p1_min = x[0], x[1]\n",
    "    return [propel.u(p1_max,T_max) / p1_max - propel.F1(p1N/1e6) / p1N,\n",
    "            propel.u(p1_max,T_max) / (p1_max * propel.F3(T_min)) - propel.F1(p1_min/1e6) / p1_min]\n",
    "\n",
    "find_p1N = lambda p1N: propel.u(p1_max,T_max) / p1_max - propel.F1(p1N/1e6) / p1N\n",
    "find_p1_min = lambda p1_min: propel.u(p1_max,T_max) / (p1_max * propel.F3(T_min)) - propel.F1(p1_min/1e6) / p1_min\n",
    "\n",
    "p1N, p1_min = fsolve(fun,[0.9 * p1_max, 0.6 * p1_max])\n",
    "\n",
    "print(f'p1N = {p1N/1e6:.3f} МПа\\np1_min = {p1_min/1e6:.3f} МПа')"
   ]
  },
  {
   "cell_type": "code",
   "execution_count": 26,
   "metadata": {},
   "outputs": [
    {
     "name": "stdout",
     "output_type": "stream",
     "text": [
      "Площадь критики 0.00010260277489851142\n",
      "Диаметр критики 0.011429694239145029\n",
      "Длины блоков сопла: (0.009, 0.002, 0.0063)\n",
      " Общая длина сопла: 0.0173\n",
      " Макс допуст длина заряда 0.036699999999999997\n"
     ]
    }
   ],
   "source": [
    "# Площадь критического сечения сопла\n",
    "F_kr = P_need / (K_d * p1_min)\n",
    "print(f'Площадь критики {F_kr}')\n",
    "\n",
    "# диаметр критического сечения сопла\n",
    "D_kr = np.sqrt(4 * F_kr / np.pi)\n",
    "print(f'Диаметр критики {D_kr}')\n",
    "\n",
    "fi_vx = np.deg2rad(60)\n",
    "fi_c = np.deg2rad(20)\n",
    "\n",
    "# Длины участков сопла\n",
    "L1 = np.round((D_km - D_kr) / (2 * np.tan(fi_vx)),3)\n",
    "L2 = 2e-3\n",
    "L3 = np.round(D_kr/(2*np.tan(fi_c)) * (zeta - 1),4)\n",
    "\n",
    "print(f'Длины блоков сопла: {L1,L2,L3}\\n',\n",
    "      f'Общая длина сопла: {L1 + L2 + L3}\\n',\n",
    "      f'Макс допуст длина заряда {L_max - (L1 + L2 + L3)}')"
   ]
  },
  {
   "cell_type": "code",
   "execution_count": 27,
   "metadata": {},
   "outputs": [
    {
     "name": "stdout",
     "output_type": "stream",
     "text": [
      "Безразм скорость потока 1.772\n",
      " Критическая скорость звука 1075.505\n",
      " Скорость 1905.735\n",
      " Давление 10.491\n",
      " Температура 2005.495\n",
      " Плотность 15.476\n"
     ]
    }
   ],
   "source": [
    "# Расчет газодинамических параметров в выходном сечении сопла\n",
    "\n",
    "#вспомогательные гд функции\n",
    "tau = lambda lmbd, k: 1 - (k - 1)/(k + 1)*lmbd**2\n",
    "pi = lambda lmbd, k: (1 - (k - 1)/(k + 1)*lmbd**2) ** (k / (k - 1))\n",
    "eps = lambda lmbd, k: pi(lmbd,k) / tau(lmbd,k)\n",
    "q = lambda lmbd, k:  ((k + 1) / 2)**(1 / (k - 1)) * lmbd * eps(lmbd, k)\n",
    "nu = lambda lmbd, k: 1 / q(lmbd,k)\n",
    "f = lambda lmbd, k: (lmbd**2 + 1) * (1 - (k - 1) / (k + 1) * lmbd**2) ** (1 / (k - 1))\n",
    "\n",
    "A = lambda k: np.sqrt(k * ((2 / (k + 1))**((k + 1) / (k - 1))))\n",
    "\n",
    "find_lambda_a = lambda lmbd: q(lmbd,propel.k) - 1 / zeta ** 2\n",
    "\n",
    "lambda_a = fsolve(find_lambda_a,1.5)[0]\n",
    "c_kr = np.sqrt(2 * propel.k / (propel.k + 1) * propel.R * propel.T0)\n",
    "V_a = lambda_a * c_kr\n",
    "p_a = pi(lambda_a,propel.k) * p1N\n",
    "T_a = tau(lambda_a,propel.k) * propel.T0\n",
    "rho_a = p_a / (propel.R * T_a)\n",
    "\n",
    "print(f'Безразм скорость потока {lambda_a:.3f}\\n',\n",
    "      f'Критическая скорость звука {c_kr:.3f}\\n',\n",
    "      f'Скорость {V_a:.3f}\\n',\n",
    "      f'Давление {p_a/1e6:.3f}\\n',\n",
    "      f'Температура {T_a:.3f}\\n',\n",
    "      f'Плотность {rho_a:.3f}')"
   ]
  },
  {
   "cell_type": "code",
   "execution_count": 28,
   "metadata": {},
   "outputs": [],
   "source": [
    "G_p = mu_c * A(propel.k) * F_kr * p1_min / np.sqrt(propel.R * propel.T0)\n",
    "omega_t = G_p * t_g\n",
    "e_0 = 2 * propel.u(p1_min,T_min) * t_g\n",
    "S_g = omega_t / (propel.rho * propel.u(p1_min,T_min) * t_g)\n",
    "\n",
    "def results_for_one_m(m):\n",
    "    n = 1\n",
    "    ki = 1\n",
    "    while m > ki:\n",
    "        n += 3 * (m - ki)\n",
    "        ki += 2\n",
    "\n",
    "    D_nar = (D_km - 2e-3) / m\n",
    "    D_vn = D_nar - 2 * e_0\n",
    "    L_zar = S_g / (np.pi * n * (D_nar + D_vn))\n",
    "    kappa_vn = 4 * L_zar / D_vn\n",
    "    kappa_nar = 4 * n * D_nar * L_zar / (D_km**2 - n * D_nar ** 2)\n",
    "    eps_s = (D_nar ** 2 - D_vn ** 2) / D_km ** 2 * n\n",
    "    Sh = 4 * F_kr / (np.pi * D_km**2 * (1 - eps_s))\n",
    "\n",
    "    result = {\n",
    "        'm': m,\n",
    "        'n': n,\n",
    "        'D_nar': np.round(D_nar*1e3,1),\n",
    "        'D_vn': np.round(D_vn*1e3,1),\n",
    "        'L_zar': np.round(L_zar*1e3),\n",
    "        'kappa_vn': np.round(kappa_vn,2),\n",
    "        'kappa_nar': np.round(kappa_nar,2),\n",
    "        'eps_s': np.round(eps_s,3),\n",
    "        'Sh': np.round(Sh,3),\n",
    "        'pass': []\n",
    "    }\n",
    "\n",
    "    if D_vn <= 1.5e-3:\n",
    "        result['pass'].append('D_вн')\n",
    "    if L_zar > L_max - L1 - L2 - L3:\n",
    "        result['pass'].append(f'L_з на {(L_zar - (L_max - L1 - L2 - L3))*1e3:.1f} мм')\n",
    "    if kappa_vn > kappa_pred:\n",
    "        result['pass'].append('к_вн')\n",
    "    if kappa_nar > kappa_pred:\n",
    "        result['pass'].append('к_нар')\n",
    "    if eps_s <= 0.5:\n",
    "        result['pass'].append('eps_s')\n",
    "    if Sh >= 0.75:\n",
    "        result['pass'].append('Sh')\n",
    "\n",
    "    return result"
   ]
  },
  {
   "cell_type": "code",
   "execution_count": 29,
   "metadata": {},
   "outputs": [],
   "source": [
    "results = []\n",
    "for m in range(3,13,2):\n",
    "    results.append(results_for_one_m(m))"
   ]
  },
  {
   "cell_type": "code",
   "execution_count": 30,
   "metadata": {},
   "outputs": [
    {
     "data": {
      "text/html": [
       "<div>\n",
       "<style scoped>\n",
       "    .dataframe tbody tr th:only-of-type {\n",
       "        vertical-align: middle;\n",
       "    }\n",
       "\n",
       "    .dataframe tbody tr th {\n",
       "        vertical-align: top;\n",
       "    }\n",
       "\n",
       "    .dataframe thead th {\n",
       "        text-align: right;\n",
       "    }\n",
       "</style>\n",
       "<table border=\"1\" class=\"dataframe\">\n",
       "  <thead>\n",
       "    <tr style=\"text-align: right;\">\n",
       "      <th></th>\n",
       "      <th>3</th>\n",
       "      <th>5</th>\n",
       "      <th>7</th>\n",
       "      <th>9</th>\n",
       "      <th>11</th>\n",
       "    </tr>\n",
       "  </thead>\n",
       "  <tbody>\n",
       "    <tr>\n",
       "      <th>n</th>\n",
       "      <td>7</td>\n",
       "      <td>19</td>\n",
       "      <td>37</td>\n",
       "      <td>61</td>\n",
       "      <td>91</td>\n",
       "    </tr>\n",
       "    <tr>\n",
       "      <th>D_н</th>\n",
       "      <td>13.4</td>\n",
       "      <td>8.0</td>\n",
       "      <td>5.7</td>\n",
       "      <td>4.5</td>\n",
       "      <td>3.7</td>\n",
       "    </tr>\n",
       "    <tr>\n",
       "      <th>D_вн</th>\n",
       "      <td>9.2</td>\n",
       "      <td>3.8</td>\n",
       "      <td>1.5</td>\n",
       "      <td>0.2</td>\n",
       "      <td>-0.6</td>\n",
       "    </tr>\n",
       "    <tr>\n",
       "      <th>L_з</th>\n",
       "      <td>76.0</td>\n",
       "      <td>53.0</td>\n",
       "      <td>45.0</td>\n",
       "      <td>42.0</td>\n",
       "      <td>43.0</td>\n",
       "    </tr>\n",
       "    <tr>\n",
       "      <th>к_вн</th>\n",
       "      <td>33.1</td>\n",
       "      <td>56.04</td>\n",
       "      <td>119.03</td>\n",
       "      <td>745.31</td>\n",
       "      <td>-291.88</td>\n",
       "    </tr>\n",
       "    <tr>\n",
       "      <th>к_нар</th>\n",
       "      <td>54.28</td>\n",
       "      <td>58.83</td>\n",
       "      <td>67.71</td>\n",
       "      <td>80.84</td>\n",
       "      <td>100.88</td>\n",
       "    </tr>\n",
       "    <tr>\n",
       "      <th>eps_s</th>\n",
       "      <td>0.376</td>\n",
       "      <td>0.536</td>\n",
       "      <td>0.638</td>\n",
       "      <td>0.682</td>\n",
       "      <td>0.665</td>\n",
       "    </tr>\n",
       "    <tr>\n",
       "      <th>Sh</th>\n",
       "      <td>0.118</td>\n",
       "      <td>0.158</td>\n",
       "      <td>0.203</td>\n",
       "      <td>0.23</td>\n",
       "      <td>0.219</td>\n",
       "    </tr>\n",
       "    <tr>\n",
       "      <th>не подходит по</th>\n",
       "      <td>[L_з на 39.1 мм, eps_s]</td>\n",
       "      <td>[L_з на 16.5 мм]</td>\n",
       "      <td>[L_з на 8.0 мм]</td>\n",
       "      <td>[D_вн, L_з на 5.1 мм, к_вн]</td>\n",
       "      <td>[D_вн, L_з на 6.2 мм]</td>\n",
       "    </tr>\n",
       "  </tbody>\n",
       "</table>\n",
       "</div>"
      ],
      "text/plain": [
       "                                     3                 5                7   \\\n",
       "n                                     7                19               37   \n",
       "D_н                                13.4               8.0              5.7   \n",
       "D_вн                                9.2               3.8              1.5   \n",
       "L_з                                76.0              53.0             45.0   \n",
       "к_вн                               33.1             56.04           119.03   \n",
       "к_нар                             54.28             58.83            67.71   \n",
       "eps_s                             0.376             0.536            0.638   \n",
       "Sh                                0.118             0.158            0.203   \n",
       "не подходит по  [L_з на 39.1 мм, eps_s]  [L_з на 16.5 мм]  [L_з на 8.0 мм]   \n",
       "\n",
       "                                         9                      11  \n",
       "n                                        61                     91  \n",
       "D_н                                     4.5                    3.7  \n",
       "D_вн                                    0.2                   -0.6  \n",
       "L_з                                    42.0                   43.0  \n",
       "к_вн                                 745.31                -291.88  \n",
       "к_нар                                 80.84                 100.88  \n",
       "eps_s                                 0.682                  0.665  \n",
       "Sh                                     0.23                  0.219  \n",
       "не подходит по  [D_вн, L_з на 5.1 мм, к_вн]  [D_вн, L_з на 6.2 мм]  "
      ]
     },
     "execution_count": 30,
     "metadata": {},
     "output_type": "execute_result"
    }
   ],
   "source": [
    "df_dict = {}\n",
    "for data in results:\n",
    "    df_dict[data['m']] = list(data.values())[1:]\n",
    "df = DataFrame(df_dict,index = ['n','D_н','D_вн','L_з','к_вн','к_нар','eps_s','Sh','не подходит по'])\n",
    "\n",
    "df"
   ]
  },
  {
   "cell_type": "code",
   "execution_count": 31,
   "metadata": {},
   "outputs": [],
   "source": [
    "itog = results[-3]\n",
    "L_zar = itog['L_zar']/1e3\n",
    "D_nar = itog['D_nar']/1e3\n",
    "D_vn = itog['D_vn']/1e3\n",
    "n_zar = itog['n']"
   ]
  },
  {
   "cell_type": "code",
   "execution_count": 32,
   "metadata": {},
   "outputs": [],
   "source": [
    "sigma_t = 300\n",
    "nu_t = 0.7\n",
    "\n",
    "# тепловые потери\n",
    "# F_oxl = 1.2 * np.pi * D_km * L_zar + n_zar * np.pi * L_zar * (D_vn + D_nar) + \\\n",
    "#         np.pi * n_zar / 2 * (D_nar**2 - D_vn**2)\n",
    "# Q_zh = propel.k / (propel.k - 1) * propel.R * propel.T0\n",
    "\n",
    "# def chi_teplf(p0):\n",
    "#      chi_tepl1 = sigma_t * nu_t * F_oxl * p0 / (Q_zh * propel.R * G_p)\n",
    "#      chi_tepl2 = propel.k / (propel.k - 1) * p0 / (propel.rho * Q_zh)\n",
    "#      return 1 - chi_tepl1 - chi_tepl2\n",
    "# print(chi_teplf(p1_max))"
   ]
  },
  {
   "cell_type": "markdown",
   "metadata": {},
   "source": [
    "#### Расчет воспламенителя"
   ]
  },
  {
   "cell_type": "code",
   "execution_count": 46,
   "metadata": {},
   "outputs": [],
   "source": [
    "class Vosplamenitel:\n",
    "    def __init__(self, F_kr, F_oxl, W_0, e_0 = 2e-3, m = 3) -> None:\n",
    "        self.R = 314\n",
    "        self.Q = 3050e3\n",
    "        self.u = 0.05\n",
    "        self.k = 1.25\n",
    "        self.rho = 1700\n",
    "        self.m = m\n",
    "\n",
    "        self.t_v = e_0 / self.u\n",
    "        self.T_v = ((self.k - 1) / self.k) * (self.Q / self.R)\n",
    "        \n",
    "        self.p_vsp_50 = self.p_vsp(T_min)\n",
    "        self.p_max = 1.1 * self.p_vsp_50\n",
    "\n",
    "        b21 = (self.k - 1) / W_0  *  (propel.nu_t * propel.sigma_t * F_oxl) / self.R\n",
    "        b22 = self.k / W_0 * A(self.k) * F_kr * np.sqrt(self.R * self.T_v)\n",
    "        self.b2 = b21 + b22\n",
    "        \n",
    "        S0_v1 = self.p_max * self.b2 * ((self.m / (self.t_v * self.b2)) ** (-self.m / (self.t_v * self.b2 - self.m)))\n",
    "        S0_v2 = (self.k - 1) * self.u * self.rho * self.Q\n",
    "        self.S0_v = S0_v1 / S0_v2 * W_0\n",
    "        self.b1 = ((self.k-1) / W_0) * self.rho * self.S0_v * self.u * self.Q\n",
    "\n",
    "        self.omega = e_0 * self.rho * self.S0_v * ((1 - np.exp(- self.m)) / self.m)\n",
    "\n",
    "        self.__t_vs = np.linspace(0,0.1,2000)\n",
    "        self.__p_vs = np.array([self.p_v(t) for t in self.__t_vs])\n",
    "\n",
    "        self.t_vsp = self.__t_vs[self.__p_vs >= self.p_vsp_50][0]\n",
    "\n",
    "    def p_vsp(self,T_n):\n",
    "        \"\"\"Давление вспышки в зависимости от начальной температуры\n",
    "\n",
    "        Args:\n",
    "            T_n (float): начальная температура, К\n",
    "\n",
    "        Returns:\n",
    "            p_vsp: давление вспышки, Па\n",
    "        \"\"\"\n",
    "        return propel.c_t * propel.rho / propel.sigma_t * propel.u(0.5e6, T_n) * self.R * self.T_v * (propel.T_s - T_n) / (self.T_v - propel.T_s)\n",
    "\n",
    "    def p_v(self,t):\n",
    "        \"\"\"Зависимость давления от времени при автономном горения воспламенителя\n",
    "\n",
    "        Args:\n",
    "            t (float): время, с\n",
    "\n",
    "        Returns:\n",
    "            p: давление, Па\n",
    "        \"\"\"\n",
    "        p1 = p_atm + self.b1 / ((self.m / self.t_v) - self.b2)\n",
    "        p2 = self.b1 / ((self.m / self.t_v) - self.b2)\n",
    "        return p1 * np.exp(- self.b2 * t) - p2 * np.exp(- self.m * t / self.t_v)\n",
    "\n",
    "    def S(self,t):\n",
    "        \"\"\"Закон горения воспламенителя\n",
    "\n",
    "        Args:\n",
    "            t (float): время, с\n",
    "\n",
    "        Returns:\n",
    "            S: площадь горения, м2\n",
    "        \"\"\"\n",
    "        return self.S0_v * np.exp(-self.m * t / self.t_v)\n",
    "\n",
    "    def get_results(self, figure_filename = 'График pW0.svg'):\n",
    "        \"\"\"Получение результатов расчета воспламенителя\n",
    "\n",
    "        Args:\n",
    "            figure_filename (str, optional): название картинки. Defaults to 'График pW0.svg'.\n",
    "        \"\"\"\n",
    "        print(f'Температура продуктов сгорания воспламенителя Tв = {self.T_v:.0f} К\\n',\n",
    "              f'Давление вспышки основного заряда при T_min p_vsp(T_min) = {self.p_vsp_50/1e6:.3f} МПа\\n',\n",
    "              f'Максимальное давление воспламенителя p_max = {self.p_max/1e6:.3f} МПа\\n',\n",
    "              f'Начальная площадь поверхности горения S0в = {self.S0_v:.5f} м2\\n',\n",
    "              f'Масса навески воспламенителя omega_в = {self.omega*1e3:.0f} г\\n',\n",
    "              f'Время воспламенения основного заряда t_v = {self.t_vsp*1e3:.1f} мс')\n",
    "\n",
    "        plt.figure(figsize=(9, 6))\n",
    "        plt.plot(self.__t_vs[self.__p_vs >= p_atm], self.__p_vs[self.__p_vs >= p_atm]/1e6)\n",
    "        plt.axhline(self.p_vsp_50/1e6, linestyle = '--', color = 'tab:red', label = '$\\mathit{p}_{всп}$ = '+f'{self.p_vsp_50/1e6:.3f} МПа')\n",
    "\n",
    "        plt.legend(loc = 'upper right')\n",
    "        plt.grid()\n",
    "        plt.xlabel('$\\mathit{t}, с$')\n",
    "        plt.ylabel('$\\mathit{p}, МПа$')\n",
    "        if figure_filename:\n",
    "            plt.savefig(figure_filename, dpi=300, bbox_inches='tight')\n",
    "\n",
    "        plt.show()"
   ]
  },
  {
   "cell_type": "code",
   "execution_count": 47,
   "metadata": {},
   "outputs": [
    {
     "name": "stdout",
     "output_type": "stream",
     "text": [
      "Температура продуктов сгорания воспламенителя Tв = 1943 К\n",
      " Давление вспышки основного заряда при T_min p_vsp(T_min) = 2.517 МПа\n",
      " Максимальное давление воспламенителя p_max = 2.768 МПа\n",
      " Начальная площадь поверхности горения S0в = 0.00345 м2\n",
      " Масса навески воспламенителя omega_в = 4 г\n",
      " Время воспламенения основного заряда t_v = 0.6 мс\n"
     ]
    },
    {
     "data": {
      "image/svg+xml": "<?xml version=\"1.0\" encoding=\"utf-8\" standalone=\"no\"?>\n<!DOCTYPE svg PUBLIC \"-//W3C//DTD SVG 1.1//EN\"\n  \"http://www.w3.org/Graphics/SVG/1.1/DTD/svg11.dtd\">\n<svg xmlns:xlink=\"http://www.w3.org/1999/xlink\" width=\"557.815937pt\" height=\"376.991875pt\" viewBox=\"0 0 557.815937 376.991875\" xmlns=\"http://www.w3.org/2000/svg\" version=\"1.1\">\n <metadata>\n  <rdf:RDF xmlns:dc=\"http://purl.org/dc/elements/1.1/\" xmlns:cc=\"http://creativecommons.org/ns#\" xmlns:rdf=\"http://www.w3.org/1999/02/22-rdf-syntax-ns#\">\n   <cc:Work>\n    <dc:type rdf:resource=\"http://purl.org/dc/dcmitype/StillImage\"/>\n    <dc:date>2022-11-13T21:39:02.578283</dc:date>\n    <dc:format>image/svg+xml</dc:format>\n    <dc:creator>\n     <cc:Agent>\n      <dc:title>Matplotlib v3.5.2, https://matplotlib.org/</dc:title>\n     </cc:Agent>\n    </dc:creator>\n   </cc:Work>\n  </rdf:RDF>\n </metadata>\n <defs>\n  <style type=\"text/css\">*{stroke-linejoin: round; stroke-linecap: butt}</style>\n </defs>\n <g id=\"figure_1\">\n  <g id=\"patch_1\">\n   <path d=\"M 0 376.991875 \nL 557.815937 376.991875 \nL 557.815937 0 \nL 0 0 \nL 0 376.991875 \nz\n\" style=\"fill: none\"/>\n  </g>\n  <g id=\"axes_1\">\n   <g id=\"patch_2\">\n    <path d=\"M 48.415938 333.36 \nL 550.615938 333.36 \nL 550.615938 7.2 \nL 48.415938 7.2 \nz\n\" style=\"fill: #ffffff\"/>\n   </g>\n   <g id=\"matplotlib.axis_1\">\n    <g id=\"xtick_1\">\n     <g id=\"line2d_1\">\n      <path d=\"M 71.24321 333.36 \nL 71.24321 7.2 \n\" clip-path=\"url(#pe5f12a123b)\" style=\"fill: none; stroke: #b0b0b0; stroke-width: 0.8; stroke-linecap: square\"/>\n     </g>\n     <g id=\"line2d_2\">\n      <defs>\n       <path id=\"m17449585ef\" d=\"M 0 0 \nL 0 3.5 \n\" style=\"stroke: #000000; stroke-width: 0.8\"/>\n      </defs>\n      <g>\n       <use xlink:href=\"#m17449585ef\" x=\"71.24321\" y=\"333.36\" style=\"stroke: #000000; stroke-width: 0.8\"/>\n      </g>\n     </g>\n     <g id=\"text_1\">\n      <!-- 0.00 -->\n      <g transform=\"translate(58.99321 350.08125)scale(0.14 -0.14)\">\n       <defs>\n        <path id=\"TimesNewRomanPSMT-30\" d=\"M 231 2094 \nQ 231 2819 450 3342 \nQ 669 3866 1031 4122 \nQ 1313 4325 1613 4325 \nQ 2100 4325 2488 3828 \nQ 2972 3213 2972 2159 \nQ 2972 1422 2759 906 \nQ 2547 391 2217 158 \nQ 1888 -75 1581 -75 \nQ 975 -75 572 641 \nQ 231 1244 231 2094 \nz\nM 844 2016 \nQ 844 1141 1059 588 \nQ 1238 122 1591 122 \nQ 1759 122 1940 273 \nQ 2122 425 2216 781 \nQ 2359 1319 2359 2297 \nQ 2359 3022 2209 3506 \nQ 2097 3866 1919 4016 \nQ 1791 4119 1609 4119 \nQ 1397 4119 1231 3928 \nQ 1006 3669 925 3112 \nQ 844 2556 844 2016 \nz\n\" transform=\"scale(0.015625)\"/>\n        <path id=\"TimesNewRomanPSMT-2e\" d=\"M 800 606 \nQ 947 606 1047 504 \nQ 1147 403 1147 259 \nQ 1147 116 1045 14 \nQ 944 -88 800 -88 \nQ 656 -88 554 14 \nQ 453 116 453 259 \nQ 453 406 554 506 \nQ 656 606 800 606 \nz\n\" transform=\"scale(0.015625)\"/>\n       </defs>\n       <use xlink:href=\"#TimesNewRomanPSMT-30\"/>\n       <use xlink:href=\"#TimesNewRomanPSMT-2e\" x=\"50\"/>\n       <use xlink:href=\"#TimesNewRomanPSMT-30\" x=\"75\"/>\n       <use xlink:href=\"#TimesNewRomanPSMT-30\" x=\"125\"/>\n      </g>\n     </g>\n    </g>\n    <g id=\"xtick_2\">\n     <g id=\"line2d_3\">\n      <path d=\"M 171.422613 333.36 \nL 171.422613 7.2 \n\" clip-path=\"url(#pe5f12a123b)\" style=\"fill: none; stroke: #b0b0b0; stroke-width: 0.8; stroke-linecap: square\"/>\n     </g>\n     <g id=\"line2d_4\">\n      <g>\n       <use xlink:href=\"#m17449585ef\" x=\"171.422613\" y=\"333.36\" style=\"stroke: #000000; stroke-width: 0.8\"/>\n      </g>\n     </g>\n     <g id=\"text_2\">\n      <!-- 0.01 -->\n      <g transform=\"translate(159.172613 350.08125)scale(0.14 -0.14)\">\n       <defs>\n        <path id=\"TimesNewRomanPSMT-31\" d=\"M 750 3822 \nL 1781 4325 \nL 1884 4325 \nL 1884 747 \nQ 1884 391 1914 303 \nQ 1944 216 2037 169 \nQ 2131 122 2419 116 \nL 2419 0 \nL 825 0 \nL 825 116 \nQ 1125 122 1212 167 \nQ 1300 213 1334 289 \nQ 1369 366 1369 747 \nL 1369 3034 \nQ 1369 3497 1338 3628 \nQ 1316 3728 1258 3775 \nQ 1200 3822 1119 3822 \nQ 1003 3822 797 3725 \nL 750 3822 \nz\n\" transform=\"scale(0.015625)\"/>\n       </defs>\n       <use xlink:href=\"#TimesNewRomanPSMT-30\"/>\n       <use xlink:href=\"#TimesNewRomanPSMT-2e\" x=\"50\"/>\n       <use xlink:href=\"#TimesNewRomanPSMT-30\" x=\"75\"/>\n       <use xlink:href=\"#TimesNewRomanPSMT-31\" x=\"125\"/>\n      </g>\n     </g>\n    </g>\n    <g id=\"xtick_3\">\n     <g id=\"line2d_5\">\n      <path d=\"M 271.602017 333.36 \nL 271.602017 7.2 \n\" clip-path=\"url(#pe5f12a123b)\" style=\"fill: none; stroke: #b0b0b0; stroke-width: 0.8; stroke-linecap: square\"/>\n     </g>\n     <g id=\"line2d_6\">\n      <g>\n       <use xlink:href=\"#m17449585ef\" x=\"271.602017\" y=\"333.36\" style=\"stroke: #000000; stroke-width: 0.8\"/>\n      </g>\n     </g>\n     <g id=\"text_3\">\n      <!-- 0.02 -->\n      <g transform=\"translate(259.352017 350.08125)scale(0.14 -0.14)\">\n       <defs>\n        <path id=\"TimesNewRomanPSMT-32\" d=\"M 2934 816 \nL 2638 0 \nL 138 0 \nL 138 116 \nQ 1241 1122 1691 1759 \nQ 2141 2397 2141 2925 \nQ 2141 3328 1894 3587 \nQ 1647 3847 1303 3847 \nQ 991 3847 742 3664 \nQ 494 3481 375 3128 \nL 259 3128 \nQ 338 3706 661 4015 \nQ 984 4325 1469 4325 \nQ 1984 4325 2329 3994 \nQ 2675 3663 2675 3213 \nQ 2675 2891 2525 2569 \nQ 2294 2063 1775 1497 \nQ 997 647 803 472 \nL 1909 472 \nQ 2247 472 2383 497 \nQ 2519 522 2628 598 \nQ 2738 675 2819 816 \nL 2934 816 \nz\n\" transform=\"scale(0.015625)\"/>\n       </defs>\n       <use xlink:href=\"#TimesNewRomanPSMT-30\"/>\n       <use xlink:href=\"#TimesNewRomanPSMT-2e\" x=\"50\"/>\n       <use xlink:href=\"#TimesNewRomanPSMT-30\" x=\"75\"/>\n       <use xlink:href=\"#TimesNewRomanPSMT-32\" x=\"125\"/>\n      </g>\n     </g>\n    </g>\n    <g id=\"xtick_4\">\n     <g id=\"line2d_7\">\n      <path d=\"M 371.78142 333.36 \nL 371.78142 7.2 \n\" clip-path=\"url(#pe5f12a123b)\" style=\"fill: none; stroke: #b0b0b0; stroke-width: 0.8; stroke-linecap: square\"/>\n     </g>\n     <g id=\"line2d_8\">\n      <g>\n       <use xlink:href=\"#m17449585ef\" x=\"371.78142\" y=\"333.36\" style=\"stroke: #000000; stroke-width: 0.8\"/>\n      </g>\n     </g>\n     <g id=\"text_4\">\n      <!-- 0.03 -->\n      <g transform=\"translate(359.53142 350.08125)scale(0.14 -0.14)\">\n       <defs>\n        <path id=\"TimesNewRomanPSMT-33\" d=\"M 325 3431 \nQ 506 3859 782 4092 \nQ 1059 4325 1472 4325 \nQ 1981 4325 2253 3994 \nQ 2459 3747 2459 3466 \nQ 2459 3003 1878 2509 \nQ 2269 2356 2469 2072 \nQ 2669 1788 2669 1403 \nQ 2669 853 2319 450 \nQ 1863 -75 997 -75 \nQ 569 -75 414 31 \nQ 259 138 259 259 \nQ 259 350 332 419 \nQ 406 488 509 488 \nQ 588 488 669 463 \nQ 722 447 909 348 \nQ 1097 250 1169 231 \nQ 1284 197 1416 197 \nQ 1734 197 1970 444 \nQ 2206 691 2206 1028 \nQ 2206 1275 2097 1509 \nQ 2016 1684 1919 1775 \nQ 1784 1900 1550 2001 \nQ 1316 2103 1072 2103 \nL 972 2103 \nL 972 2197 \nQ 1219 2228 1467 2375 \nQ 1716 2522 1828 2728 \nQ 1941 2934 1941 3181 \nQ 1941 3503 1739 3701 \nQ 1538 3900 1238 3900 \nQ 753 3900 428 3381 \nL 325 3431 \nz\n\" transform=\"scale(0.015625)\"/>\n       </defs>\n       <use xlink:href=\"#TimesNewRomanPSMT-30\"/>\n       <use xlink:href=\"#TimesNewRomanPSMT-2e\" x=\"50\"/>\n       <use xlink:href=\"#TimesNewRomanPSMT-30\" x=\"75\"/>\n       <use xlink:href=\"#TimesNewRomanPSMT-33\" x=\"125\"/>\n      </g>\n     </g>\n    </g>\n    <g id=\"xtick_5\">\n     <g id=\"line2d_9\">\n      <path d=\"M 471.960823 333.36 \nL 471.960823 7.2 \n\" clip-path=\"url(#pe5f12a123b)\" style=\"fill: none; stroke: #b0b0b0; stroke-width: 0.8; stroke-linecap: square\"/>\n     </g>\n     <g id=\"line2d_10\">\n      <g>\n       <use xlink:href=\"#m17449585ef\" x=\"471.960823\" y=\"333.36\" style=\"stroke: #000000; stroke-width: 0.8\"/>\n      </g>\n     </g>\n     <g id=\"text_5\">\n      <!-- 0.04 -->\n      <g transform=\"translate(459.710823 350.08125)scale(0.14 -0.14)\">\n       <defs>\n        <path id=\"TimesNewRomanPSMT-34\" d=\"M 2978 1563 \nL 2978 1119 \nL 2409 1119 \nL 2409 0 \nL 1894 0 \nL 1894 1119 \nL 100 1119 \nL 100 1519 \nL 2066 4325 \nL 2409 4325 \nL 2409 1563 \nL 2978 1563 \nz\nM 1894 1563 \nL 1894 3666 \nL 406 1563 \nL 1894 1563 \nz\n\" transform=\"scale(0.015625)\"/>\n       </defs>\n       <use xlink:href=\"#TimesNewRomanPSMT-30\"/>\n       <use xlink:href=\"#TimesNewRomanPSMT-2e\" x=\"50\"/>\n       <use xlink:href=\"#TimesNewRomanPSMT-30\" x=\"75\"/>\n       <use xlink:href=\"#TimesNewRomanPSMT-34\" x=\"125\"/>\n      </g>\n     </g>\n    </g>\n    <g id=\"text_6\">\n     <!-- $\\mathit{t}, с$ -->\n     <g transform=\"translate(291.605938 366.797188)scale(0.14 -0.14)\">\n      <defs>\n       <path id=\"STIXGeneral-Italic-74\" d=\"M 1894 2739 \nL 1862 2534 \nL 1325 2534 \nL 768 435 \nQ 755 384 755 346 \nQ 755 243 851 243 \nQ 928 243 1030 342 \nQ 1133 442 1370 749 \nL 1453 704 \nQ 1158 256 969 93 \nQ 781 -70 538 -70 \nQ 243 -70 243 166 \nQ 243 230 346 640 \nL 845 2534 \nL 365 2534 \nL 358 2573 \nQ 358 2688 570 2733 \nQ 730 2771 992 2979 \nQ 1254 3187 1421 3437 \nQ 1459 3494 1510 3494 \nQ 1568 3494 1568 3443 \nQ 1568 3411 1562 3398 \nL 1382 2739 \nL 1894 2739 \nz\n\" transform=\"scale(0.015625)\"/>\n       <path id=\"TimesNewRomanPSMT-2c\" d=\"M 344 -1066 \nL 344 -928 \nQ 666 -822 842 -598 \nQ 1019 -375 1019 -125 \nQ 1019 -66 991 -25 \nQ 969 3 947 3 \nQ 913 3 797 -59 \nQ 741 -88 678 -88 \nQ 525 -88 434 3 \nQ 344 94 344 253 \nQ 344 406 461 515 \nQ 578 625 747 625 \nQ 953 625 1114 445 \nQ 1275 266 1275 -31 \nQ 1275 -353 1051 -629 \nQ 828 -906 344 -1066 \nz\n\" transform=\"scale(0.015625)\"/>\n       <path id=\"TimesNewRomanPSMT-441\" d=\"M 2631 1088 \nQ 2516 522 2178 217 \nQ 1841 -88 1431 -88 \nQ 944 -88 581 321 \nQ 219 731 219 1428 \nQ 219 2103 620 2525 \nQ 1022 2947 1584 2947 \nQ 2006 2947 2278 2723 \nQ 2550 2500 2550 2259 \nQ 2550 2141 2473 2067 \nQ 2397 1994 2259 1994 \nQ 2075 1994 1981 2113 \nQ 1928 2178 1911 2362 \nQ 1894 2547 1784 2644 \nQ 1675 2738 1481 2738 \nQ 1169 2738 978 2506 \nQ 725 2200 725 1697 \nQ 725 1184 976 792 \nQ 1228 400 1656 400 \nQ 1963 400 2206 609 \nQ 2378 753 2541 1131 \nL 2631 1088 \nz\n\" transform=\"scale(0.015625)\"/>\n      </defs>\n      <use xlink:href=\"#STIXGeneral-Italic-74\" transform=\"translate(0 0.40625)\"/>\n      <use xlink:href=\"#TimesNewRomanPSMT-2c\" transform=\"translate(27.799988 0.40625)\"/>\n      <use xlink:href=\"#TimesNewRomanPSMT-441\" transform=\"translate(68.356628 0.40625)\"/>\n     </g>\n    </g>\n   </g>\n   <g id=\"matplotlib.axis_2\">\n    <g id=\"ytick_1\">\n     <g id=\"line2d_11\">\n      <path d=\"M 48.415938 329.789717 \nL 550.615938 329.789717 \n\" clip-path=\"url(#pe5f12a123b)\" style=\"fill: none; stroke: #b0b0b0; stroke-width: 0.8; stroke-linecap: square\"/>\n     </g>\n     <g id=\"line2d_12\">\n      <defs>\n       <path id=\"mdd3d8e3352\" d=\"M 0 0 \nL -3.5 0 \n\" style=\"stroke: #000000; stroke-width: 0.8\"/>\n      </defs>\n      <g>\n       <use xlink:href=\"#mdd3d8e3352\" x=\"48.415938\" y=\"329.789717\" style=\"stroke: #000000; stroke-width: 0.8\"/>\n      </g>\n     </g>\n     <g id=\"text_7\">\n      <!-- 0.0 -->\n      <g transform=\"translate(23.915938 334.650342)scale(0.14 -0.14)\">\n       <use xlink:href=\"#TimesNewRomanPSMT-30\"/>\n       <use xlink:href=\"#TimesNewRomanPSMT-2e\" x=\"50\"/>\n       <use xlink:href=\"#TimesNewRomanPSMT-30\" x=\"75\"/>\n      </g>\n     </g>\n    </g>\n    <g id=\"ytick_2\">\n     <g id=\"line2d_13\">\n      <path d=\"M 48.415938 274.249764 \nL 550.615938 274.249764 \n\" clip-path=\"url(#pe5f12a123b)\" style=\"fill: none; stroke: #b0b0b0; stroke-width: 0.8; stroke-linecap: square\"/>\n     </g>\n     <g id=\"line2d_14\">\n      <g>\n       <use xlink:href=\"#mdd3d8e3352\" x=\"48.415938\" y=\"274.249764\" style=\"stroke: #000000; stroke-width: 0.8\"/>\n      </g>\n     </g>\n     <g id=\"text_8\">\n      <!-- 0.5 -->\n      <g transform=\"translate(23.915938 279.110389)scale(0.14 -0.14)\">\n       <defs>\n        <path id=\"TimesNewRomanPSMT-35\" d=\"M 2778 4238 \nL 2534 3706 \nL 1259 3706 \nL 981 3138 \nQ 1809 3016 2294 2522 \nQ 2709 2097 2709 1522 \nQ 2709 1188 2573 903 \nQ 2438 619 2231 419 \nQ 2025 219 1772 97 \nQ 1413 -75 1034 -75 \nQ 653 -75 479 54 \nQ 306 184 306 341 \nQ 306 428 378 495 \nQ 450 563 559 563 \nQ 641 563 702 538 \nQ 763 513 909 409 \nQ 1144 247 1384 247 \nQ 1750 247 2026 523 \nQ 2303 800 2303 1197 \nQ 2303 1581 2056 1914 \nQ 1809 2247 1375 2428 \nQ 1034 2569 447 2591 \nL 1259 4238 \nL 2778 4238 \nz\n\" transform=\"scale(0.015625)\"/>\n       </defs>\n       <use xlink:href=\"#TimesNewRomanPSMT-30\"/>\n       <use xlink:href=\"#TimesNewRomanPSMT-2e\" x=\"50\"/>\n       <use xlink:href=\"#TimesNewRomanPSMT-35\" x=\"75\"/>\n      </g>\n     </g>\n    </g>\n    <g id=\"ytick_3\">\n     <g id=\"line2d_15\">\n      <path d=\"M 48.415938 218.709811 \nL 550.615938 218.709811 \n\" clip-path=\"url(#pe5f12a123b)\" style=\"fill: none; stroke: #b0b0b0; stroke-width: 0.8; stroke-linecap: square\"/>\n     </g>\n     <g id=\"line2d_16\">\n      <g>\n       <use xlink:href=\"#mdd3d8e3352\" x=\"48.415938\" y=\"218.709811\" style=\"stroke: #000000; stroke-width: 0.8\"/>\n      </g>\n     </g>\n     <g id=\"text_9\">\n      <!-- 1.0 -->\n      <g transform=\"translate(23.915938 223.570436)scale(0.14 -0.14)\">\n       <use xlink:href=\"#TimesNewRomanPSMT-31\"/>\n       <use xlink:href=\"#TimesNewRomanPSMT-2e\" x=\"50\"/>\n       <use xlink:href=\"#TimesNewRomanPSMT-30\" x=\"75\"/>\n      </g>\n     </g>\n    </g>\n    <g id=\"ytick_4\">\n     <g id=\"line2d_17\">\n      <path d=\"M 48.415938 163.169858 \nL 550.615938 163.169858 \n\" clip-path=\"url(#pe5f12a123b)\" style=\"fill: none; stroke: #b0b0b0; stroke-width: 0.8; stroke-linecap: square\"/>\n     </g>\n     <g id=\"line2d_18\">\n      <g>\n       <use xlink:href=\"#mdd3d8e3352\" x=\"48.415938\" y=\"163.169858\" style=\"stroke: #000000; stroke-width: 0.8\"/>\n      </g>\n     </g>\n     <g id=\"text_10\">\n      <!-- 1.5 -->\n      <g transform=\"translate(23.915938 168.030483)scale(0.14 -0.14)\">\n       <use xlink:href=\"#TimesNewRomanPSMT-31\"/>\n       <use xlink:href=\"#TimesNewRomanPSMT-2e\" x=\"50\"/>\n       <use xlink:href=\"#TimesNewRomanPSMT-35\" x=\"75\"/>\n      </g>\n     </g>\n    </g>\n    <g id=\"ytick_5\">\n     <g id=\"line2d_19\">\n      <path d=\"M 48.415938 107.629905 \nL 550.615938 107.629905 \n\" clip-path=\"url(#pe5f12a123b)\" style=\"fill: none; stroke: #b0b0b0; stroke-width: 0.8; stroke-linecap: square\"/>\n     </g>\n     <g id=\"line2d_20\">\n      <g>\n       <use xlink:href=\"#mdd3d8e3352\" x=\"48.415938\" y=\"107.629905\" style=\"stroke: #000000; stroke-width: 0.8\"/>\n      </g>\n     </g>\n     <g id=\"text_11\">\n      <!-- 2.0 -->\n      <g transform=\"translate(23.915938 112.49053)scale(0.14 -0.14)\">\n       <use xlink:href=\"#TimesNewRomanPSMT-32\"/>\n       <use xlink:href=\"#TimesNewRomanPSMT-2e\" x=\"50\"/>\n       <use xlink:href=\"#TimesNewRomanPSMT-30\" x=\"75\"/>\n      </g>\n     </g>\n    </g>\n    <g id=\"ytick_6\">\n     <g id=\"line2d_21\">\n      <path d=\"M 48.415938 52.089952 \nL 550.615938 52.089952 \n\" clip-path=\"url(#pe5f12a123b)\" style=\"fill: none; stroke: #b0b0b0; stroke-width: 0.8; stroke-linecap: square\"/>\n     </g>\n     <g id=\"line2d_22\">\n      <g>\n       <use xlink:href=\"#mdd3d8e3352\" x=\"48.415938\" y=\"52.089952\" style=\"stroke: #000000; stroke-width: 0.8\"/>\n      </g>\n     </g>\n     <g id=\"text_12\">\n      <!-- 2.5 -->\n      <g transform=\"translate(23.915938 56.950577)scale(0.14 -0.14)\">\n       <use xlink:href=\"#TimesNewRomanPSMT-32\"/>\n       <use xlink:href=\"#TimesNewRomanPSMT-2e\" x=\"50\"/>\n       <use xlink:href=\"#TimesNewRomanPSMT-35\" x=\"75\"/>\n      </g>\n     </g>\n    </g>\n    <g id=\"text_13\">\n     <!-- $\\mathit{p}, МПа$ -->\n     <g transform=\"translate(16.92125 191.07)rotate(-90)scale(0.14 -0.14)\">\n      <defs>\n       <path id=\"STIXGeneral-Italic-70\" d=\"M 1376 2739 \nL 1190 2099 \nQ 1670 2822 2285 2822 \nQ 2637 2822 2829 2611 \nQ 3021 2400 3021 2022 \nQ 3021 1235 2422 582 \nQ 1824 -70 1120 -70 \nQ 890 -70 678 38 \nQ 422 -1018 422 -1024 \nQ 422 -1126 508 -1168 \nQ 595 -1210 819 -1210 \nL 819 -1312 \nL -480 -1312 \nL -480 -1210 \nQ -275 -1203 -188 -1120 \nQ -102 -1037 -45 -806 \nL 691 1958 \nQ 794 2330 794 2413 \nQ 794 2586 512 2586 \nL 371 2586 \nL 358 2682 \nL 1357 2822 \nQ 1389 2822 1389 2797 \nQ 1382 2765 1376 2739 \nz\nM 2445 2003 \nQ 2445 2285 2352 2416 \nQ 2259 2547 2048 2547 \nQ 1798 2547 1548 2329 \nQ 1299 2112 1184 1818 \nQ 1043 1453 905 953 \nQ 768 454 768 294 \nQ 768 186 854 118 \nQ 941 51 1075 51 \nQ 1574 51 2003 659 \nQ 2445 1274 2445 2003 \nz\n\" transform=\"scale(0.015625)\"/>\n       <path id=\"TimesNewRomanPSMT-41c\" d=\"M 2619 0 \nL 981 3566 \nL 981 734 \nQ 981 344 1066 247 \nQ 1181 116 1431 116 \nL 1581 116 \nL 1581 0 \nL 106 0 \nL 106 116 \nL 256 116 \nQ 525 116 638 278 \nQ 706 378 706 734 \nL 706 3503 \nQ 706 3784 644 3909 \nQ 600 4000 483 4061 \nQ 366 4122 106 4122 \nL 106 4238 \nL 1306 4238 \nL 2844 922 \nL 4356 4238 \nL 5556 4238 \nL 5556 4122 \nL 5409 4122 \nQ 5138 4122 5025 3959 \nQ 4956 3859 4956 3503 \nL 4956 734 \nQ 4956 344 5044 247 \nQ 5159 116 5409 116 \nL 5556 116 \nL 5556 0 \nL 3756 0 \nL 3756 116 \nL 3906 116 \nQ 4178 116 4288 278 \nQ 4356 378 4356 734 \nL 4356 3566 \nL 2722 0 \nL 2619 0 \nz\n\" transform=\"scale(0.015625)\"/>\n       <path id=\"TimesNewRomanPSMT-41f\" d=\"M 3294 4006 \nL 1328 4006 \nL 1328 772 \nQ 1328 353 1436 240 \nQ 1544 128 1941 116 \nL 1941 0 \nL 116 0 \nL 116 116 \nQ 509 128 618 240 \nQ 728 353 728 772 \nL 728 3466 \nQ 728 3884 618 3996 \nQ 509 4109 116 4122 \nL 116 4238 \nL 4506 4238 \nL 4506 4122 \nQ 4113 4109 4003 3996 \nQ 3894 3884 3894 3466 \nL 3894 772 \nQ 3894 353 4003 240 \nQ 4113 128 4506 116 \nL 4506 0 \nL 2684 0 \nL 2684 116 \nQ 3075 128 3184 239 \nQ 3294 350 3294 772 \nL 3294 4006 \nz\n\" transform=\"scale(0.015625)\"/>\n       <path id=\"TimesNewRomanPSMT-430\" d=\"M 1822 413 \nQ 1381 72 1269 19 \nQ 1100 -59 909 -59 \nQ 613 -59 420 144 \nQ 228 347 228 678 \nQ 228 888 322 1041 \nQ 450 1253 767 1440 \nQ 1084 1628 1822 1897 \nL 1822 2009 \nQ 1822 2438 1686 2597 \nQ 1550 2756 1291 2756 \nQ 1094 2756 978 2650 \nQ 859 2544 859 2406 \nL 866 2225 \nQ 866 2081 792 2003 \nQ 719 1925 600 1925 \nQ 484 1925 411 2006 \nQ 338 2088 338 2228 \nQ 338 2497 613 2722 \nQ 888 2947 1384 2947 \nQ 1766 2947 2009 2819 \nQ 2194 2722 2281 2516 \nQ 2338 2381 2338 1966 \nL 2338 994 \nQ 2338 584 2353 492 \nQ 2369 400 2405 369 \nQ 2441 338 2488 338 \nQ 2538 338 2575 359 \nQ 2641 400 2828 588 \nL 2828 413 \nQ 2478 -56 2159 -56 \nQ 2006 -56 1915 50 \nQ 1825 156 1822 413 \nz\nM 1822 616 \nL 1822 1706 \nQ 1350 1519 1213 1441 \nQ 966 1303 859 1153 \nQ 753 1003 753 825 \nQ 753 600 887 451 \nQ 1022 303 1197 303 \nQ 1434 303 1822 616 \nz\n\" transform=\"scale(0.015625)\"/>\n      </defs>\n      <use xlink:href=\"#STIXGeneral-Italic-70\" transform=\"translate(0 0.78125)\"/>\n      <use xlink:href=\"#TimesNewRomanPSMT-2c\" transform=\"translate(50.399994 0.78125)\"/>\n      <use xlink:href=\"#TimesNewRomanPSMT-41c\" transform=\"translate(90.956635 0.78125)\"/>\n      <use xlink:href=\"#TimesNewRomanPSMT-41f\" transform=\"translate(179.87265 0.78125)\"/>\n      <use xlink:href=\"#TimesNewRomanPSMT-430\" transform=\"translate(252.089447 0.78125)\"/>\n     </g>\n    </g>\n   </g>\n   <g id=\"line2d_23\">\n    <path d=\"M 71.24321 318.534545 \nL 72.245505 229.886018 \nL 73.247801 166.180989 \nL 74.250096 120.588797 \nL 75.252391 88.14796 \nL 76.254686 65.254695 \nL 77.256981 49.291394 \nL 78.259276 38.356767 \nL 79.261572 31.069832 \nL 80.263867 26.427534 \nL 80.765014 24.861942 \nL 81.266162 23.701332 \nL 81.76731 22.885224 \nL 82.268457 22.362077 \nL 82.769605 22.087965 \nL 83.270752 22.025455 \nL 83.7719 22.142644 \nL 84.273048 22.412348 \nL 85.275343 23.320055 \nL 86.277638 24.601375 \nL 87.781081 26.998312 \nL 89.785671 30.728088 \nL 93.293704 37.897415 \nL 104.318951 60.761103 \nL 110.332722 72.597767 \nL 116.346493 83.919358 \nL 122.360264 94.743412 \nL 128.374035 105.091077 \nL 134.387807 114.983215 \nL 140.401578 124.439865 \nL 146.415349 133.480194 \nL 152.42912 142.122532 \nL 158.442891 150.3844 \nL 164.456662 158.282546 \nL 170.470433 165.832985 \nL 176.484204 173.051022 \nL 182.999123 180.512414 \nL 189.514041 187.618614 \nL 196.02896 194.386531 \nL 202.543879 200.832267 \nL 209.058797 206.97116 \nL 215.573716 212.817817 \nL 222.589782 218.80334 \nL 229.605849 224.482579 \nL 236.621915 229.871208 \nL 243.637981 234.984098 \nL 250.654047 239.835358 \nL 258.171261 244.758004 \nL 265.688475 249.411264 \nL 273.205689 253.80988 \nL 281.22405 258.236749 \nL 289.242412 262.405692 \nL 297.260773 266.331737 \nL 305.780282 270.25283 \nL 314.299791 273.931638 \nL 323.320448 277.579385 \nL 332.341105 280.98892 \nL 341.862909 284.346617 \nL 351.384713 287.47329 \nL 361.407665 290.532401 \nL 371.931764 293.506749 \nL 382.957011 296.381324 \nL 393.982258 299.028156 \nL 405.508653 301.571359 \nL 417.536195 304.001241 \nL 430.064885 306.310143 \nL 443.59587 308.572135 \nL 457.628002 310.688011 \nL 472.161282 312.657285 \nL 487.696858 314.538412 \nL 504.234728 316.314487 \nL 521.774894 317.972736 \nL 527.788665 318.492968 \nL 527.788665 318.492968 \n\" clip-path=\"url(#pe5f12a123b)\" style=\"fill: none; stroke: #1f77b4; stroke-width: 1.5; stroke-linecap: square\"/>\n   </g>\n   <g id=\"line2d_24\">\n    <path d=\"M 48.415938 50.224609 \nL 550.615938 50.224609 \n\" clip-path=\"url(#pe5f12a123b)\" style=\"fill: none; stroke-dasharray: 5.55,2.4; stroke-dashoffset: 0; stroke: #d62728; stroke-width: 1.5\"/>\n   </g>\n   <g id=\"patch_3\">\n    <path d=\"M 48.415938 333.36 \nL 48.415938 7.2 \n\" style=\"fill: none; stroke: #000000; stroke-width: 0.8; stroke-linejoin: miter; stroke-linecap: square\"/>\n   </g>\n   <g id=\"patch_4\">\n    <path d=\"M 550.615938 333.36 \nL 550.615938 7.2 \n\" style=\"fill: none; stroke: #000000; stroke-width: 0.8; stroke-linejoin: miter; stroke-linecap: square\"/>\n   </g>\n   <g id=\"patch_5\">\n    <path d=\"M 48.415937 333.36 \nL 550.615938 333.36 \n\" style=\"fill: none; stroke: #000000; stroke-width: 0.8; stroke-linejoin: miter; stroke-linecap: square\"/>\n   </g>\n   <g id=\"patch_6\">\n    <path d=\"M 48.415937 7.2 \nL 550.615938 7.2 \n\" style=\"fill: none; stroke: #000000; stroke-width: 0.8; stroke-linejoin: miter; stroke-linecap: square\"/>\n   </g>\n   <g id=\"legend_1\">\n    <g id=\"patch_7\">\n     <path d=\"M 395.355938 38.98 \nL 540.815938 38.98 \nQ 543.615938 38.98 543.615938 36.18 \nL 543.615938 17 \nQ 543.615938 14.2 540.815938 14.2 \nL 395.355938 14.2 \nQ 392.555938 14.2 392.555938 17 \nL 392.555938 36.18 \nQ 392.555938 38.98 395.355938 38.98 \nz\n\" style=\"fill: #ffffff; opacity: 0.8; stroke: #cccccc; stroke-linejoin: miter\"/>\n    </g>\n    <g id=\"line2d_25\">\n     <path d=\"M 398.155938 24.7 \nL 412.155938 24.7 \nL 426.155938 24.7 \n\" style=\"fill: none; stroke-dasharray: 5.55,2.4; stroke-dashoffset: 0; stroke: #d62728; stroke-width: 1.5\"/>\n    </g>\n    <g id=\"text_14\">\n     <!-- $\\mathit{p}_{всп}$ = 2.517 МПа -->\n     <g transform=\"translate(437.355938 29.6)scale(0.14 -0.14)\">\n      <defs>\n       <path id=\"TimesNewRomanPSMT-432\" d=\"M 2016 1513 \nQ 2800 1350 2800 778 \nQ 2800 388 2473 194 \nQ 2147 0 1563 0 \nL 150 0 \nL 150 116 \nQ 428 116 501 220 \nQ 575 325 575 672 \nL 575 2191 \nQ 575 2528 542 2587 \nQ 509 2647 439 2695 \nQ 369 2744 150 2744 \nL 150 2863 \nL 1469 2863 \nQ 1850 2863 2086 2803 \nQ 2322 2744 2473 2569 \nQ 2625 2394 2625 2144 \nQ 2625 1656 2016 1513 \nz\nM 1094 1584 \nQ 1231 1581 1259 1581 \nQ 1688 1581 1878 1745 \nQ 2069 1909 2069 2144 \nQ 2069 2416 1875 2537 \nQ 1681 2659 1256 2659 \nL 1094 2659 \nL 1094 1584 \nz\nM 1094 253 \nQ 1250 203 1466 203 \nQ 1838 203 2019 365 \nQ 2200 528 2200 784 \nQ 2200 1072 1965 1225 \nQ 1731 1378 1316 1378 \nQ 1213 1378 1094 1372 \nL 1094 253 \nz\n\" transform=\"scale(0.015625)\"/>\n       <path id=\"TimesNewRomanPSMT-43f\" d=\"M 2331 2659 \nL 1094 2659 \nL 1094 672 \nQ 1094 341 1128 277 \nQ 1163 213 1236 164 \nQ 1309 116 1528 116 \nL 1528 0 \nL 144 0 \nL 144 116 \nQ 422 116 500 217 \nQ 578 319 578 672 \nL 578 2191 \nQ 578 2525 543 2586 \nQ 509 2647 437 2695 \nQ 366 2744 144 2744 \nL 144 2863 \nL 3281 2863 \nL 3281 2744 \nQ 3072 2744 3000 2701 \nQ 2928 2659 2887 2596 \nQ 2847 2534 2847 2191 \nL 2847 672 \nQ 2847 341 2881 277 \nQ 2916 213 2989 164 \nQ 3063 116 3281 116 \nL 3281 0 \nL 1897 0 \nL 1897 116 \nQ 2156 116 2243 211 \nQ 2331 306 2331 672 \nL 2331 2659 \nz\n\" transform=\"scale(0.015625)\"/>\n       <path id=\"TimesNewRomanPSMT-20\" transform=\"scale(0.015625)\"/>\n       <path id=\"TimesNewRomanPSMT-3d\" d=\"M 116 2759 \nL 3488 2759 \nL 3488 2503 \nL 116 2503 \nL 116 2759 \nz\nM 116 1741 \nL 3488 1741 \nL 3488 1484 \nL 116 1484 \nL 116 1741 \nz\n\" transform=\"scale(0.015625)\"/>\n       <path id=\"TimesNewRomanPSMT-37\" d=\"M 644 4238 \nL 2916 4238 \nL 2916 4119 \nL 1503 -88 \nL 1153 -88 \nL 2419 3728 \nL 1253 3728 \nQ 900 3728 750 3644 \nQ 488 3500 328 3200 \nL 238 3234 \nL 644 4238 \nz\n\" transform=\"scale(0.015625)\"/>\n      </defs>\n      <use xlink:href=\"#STIXGeneral-Italic-70\" transform=\"translate(0 0.421875)\"/>\n      <use xlink:href=\"#TimesNewRomanPSMT-432\" transform=\"translate(50.399994 -25.340625)scale(0.7)\"/>\n      <use xlink:href=\"#TimesNewRomanPSMT-441\" transform=\"translate(83.451752 -25.340625)scale(0.7)\"/>\n      <use xlink:href=\"#TimesNewRomanPSMT-43f\" transform=\"translate(114.521088 -25.340625)scale(0.7)\"/>\n      <use xlink:href=\"#TimesNewRomanPSMT-20\" transform=\"translate(156.275775 0.421875)\"/>\n      <use xlink:href=\"#TimesNewRomanPSMT-3d\" transform=\"translate(181.275775 0.421875)\"/>\n      <use xlink:href=\"#TimesNewRomanPSMT-20\" transform=\"translate(237.67226 0.421875)\"/>\n      <use xlink:href=\"#TimesNewRomanPSMT-32\" transform=\"translate(262.67226 0.421875)\"/>\n      <use xlink:href=\"#TimesNewRomanPSMT-2e\" transform=\"translate(312.67226 0.421875)\"/>\n      <use xlink:href=\"#TimesNewRomanPSMT-35\" transform=\"translate(337.67226 0.421875)\"/>\n      <use xlink:href=\"#TimesNewRomanPSMT-31\" transform=\"translate(387.67226 0.421875)\"/>\n      <use xlink:href=\"#TimesNewRomanPSMT-37\" transform=\"translate(437.67226 0.421875)\"/>\n      <use xlink:href=\"#TimesNewRomanPSMT-20\" transform=\"translate(487.67226 0.421875)\"/>\n      <use xlink:href=\"#TimesNewRomanPSMT-41c\" transform=\"translate(512.67226 0.421875)\"/>\n      <use xlink:href=\"#TimesNewRomanPSMT-41f\" transform=\"translate(601.588275 0.421875)\"/>\n      <use xlink:href=\"#TimesNewRomanPSMT-430\" transform=\"translate(673.805072 0.421875)\"/>\n     </g>\n    </g>\n   </g>\n  </g>\n </g>\n <defs>\n  <clipPath id=\"pe5f12a123b\">\n   <rect x=\"48.415938\" y=\"7.2\" width=\"502.2\" height=\"326.16\"/>\n  </clipPath>\n </defs>\n</svg>\n",
      "text/plain": [
       "<Figure size 648x432 with 1 Axes>"
      ]
     },
     "metadata": {
      "needs_background": "light"
     },
     "output_type": "display_data"
    }
   ],
   "source": [
    "W_0 = np.pi / 4 * (D_km**2) * L_zar - omega_t / propel.rho\n",
    "F_oxl = 1.2 * np.pi * D_km * L_zar + n_zar * np.pi * L_zar * (D_vn + D_nar) + \\\n",
    "        np.pi * n_zar / 2 * (D_nar**2 - D_vn**2)\n",
    "\n",
    "vospl = Vosplamenitel(F_kr,F_oxl,W_0)\n",
    "vospl.get_results()"
   ]
  },
  {
   "cell_type": "markdown",
   "metadata": {},
   "source": [
    "#### ОЗВБ"
   ]
  },
  {
   "cell_type": "code",
   "execution_count": 35,
   "metadata": {},
   "outputs": [],
   "source": [
    "mu_c = 0.95\n",
    "e_max = e_0\n",
    "Q_t = propel.k / (propel.k - 1) * propel.R * propel.T0\n",
    "\n",
    "def S_zar(e):\n",
    "    return n_zar * (np.pi * (D_vn + 2 * e)*(L_zar - 2 * e) + np.pi * (D_nar - 2 * e) * (L_zar - 2 * e) + \\\n",
    "        2 * np.pi * 0.25 * (((D_nar - 2 * e) ** 2) - ((D_vn + 2 * e) ** 2)))"
   ]
  },
  {
   "cell_type": "code",
   "execution_count": 41,
   "metadata": {},
   "outputs": [],
   "source": [
    "def sys_int(t, Y, T0, p_vsp):\n",
    "\n",
    "    p, W, omega_g, omega_vg, e_t = Y\n",
    "    U = np.zeros(5)\n",
    "\n",
    "    Hev_v = 1 if t <= vospl.t_v else 0\n",
    "    Hev_p = 1 if p > p_vsp or abs(e_t) > 0 else 0\n",
    "    Hev_e = 1 if 0 <= abs(e_t) <= e_max else 0\n",
    "\n",
    "    u_g = propel.u(p,T0)\n",
    "    S_g = S_zar(abs(e_t))\n",
    "\n",
    "    #domega_v/dt\n",
    "    U[3] = vospl.S(t) * vospl.u * vospl.rho * Hev_v\n",
    "\n",
    "    #dp/dt\n",
    "    p1 = (propel.k - 1) * vospl.Q / (propel.rho * S_g * u_g) * U[3] + (propel.k - 1) * Q_t * Hev_e\n",
    "    p2 = propel.k * (mu_c * A(propel.k) * F_kr * p / (propel.rho * S_g * u_g)) ** 2\n",
    "    p3 = (propel.k - 1) * sigma_t * propel.nu_t * F_oxl * p / (propel.R * propel.rho * S_g * u_g)\n",
    "    p4 = propel.k * p / (vospl.rho * propel.rho * S_g * u_g) * U[3]\n",
    "    p5 = propel.k * p / propel.rho * Hev_e\n",
    "    U[0] = (p1 - p2 - p3 - p4 - p5) * propel.rho * S_g * u_g / W\n",
    "\n",
    "    #de/dt\n",
    "    U[4] = 2.5 * u_g * Hev_p * Hev_e\n",
    "\n",
    "    #domega_t/dt\n",
    "    U[2] = S_g * propel.rho * U[4]\n",
    "\n",
    "    #dW/dt\n",
    "    U[1] = 1 / propel.rho * U[2] + 1 / vospl.rho * U[3]\n",
    "\n",
    "    return U\n",
    "\n",
    "def res_int(T0):\n",
    "\n",
    "    stop = lambda p: p * pi(1,propel.k) <= 2 * p_atm\n",
    "    # stop = lambda p: p <= p_atm\n",
    "\n",
    "    Y_0 = [0, p_atm, W_0, 0, 0, 0]\n",
    "\n",
    "    result = dict()\n",
    "    keys = ['t','p','W','omega_g','omega_gv','e_t']\n",
    "    for key, val in zip(keys,Y_0):\n",
    "        result[key] = np.array([val])\n",
    "\n",
    "    r = ode(sys_int).set_integrator('vode', method = 'adams')     #'vode', method = 'adams'\n",
    "    r.set_initial_value(Y_0[1:])\n",
    "    r.set_f_params(T0, vospl.p_vsp(T0))\n",
    "\n",
    "    while r.successful() and (not stop(result['p'][-1]) or result['t'][-1] < 0.005):\n",
    "        dt = 5e-6\n",
    "        result['t'] = np.append(result['t'], result['t'][-1] + dt)\n",
    "        Y_tek = r.integrate(r.t+dt)\n",
    "        for key, val in zip(keys[1:],Y_tek):\n",
    "            if key != 'p':\n",
    "                result[key] = np.append(result[key], val)\n",
    "            else:\n",
    "                result[key] = np.append(result[key], val * 1.4)\n",
    "\n",
    "    return result"
   ]
  },
  {
   "cell_type": "code",
   "execution_count": 42,
   "metadata": {},
   "outputs": [],
   "source": [
    "res18 = res_int(T_nom)\n",
    "res50 = res_int(T_max)\n",
    "res_50 = res_int(T_min)"
   ]
  },
  {
   "cell_type": "code",
   "execution_count": 43,
   "metadata": {},
   "outputs": [
    {
     "data": {
      "image/svg+xml": "<?xml version=\"1.0\" encoding=\"utf-8\" standalone=\"no\"?>\n<!DOCTYPE svg PUBLIC \"-//W3C//DTD SVG 1.1//EN\"\n  \"http://www.w3.org/Graphics/SVG/1.1/DTD/svg11.dtd\">\n<svg xmlns:xlink=\"http://www.w3.org/1999/xlink\" width=\"617.115937pt\" height=\"431.351875pt\" viewBox=\"0 0 617.115937 431.351875\" xmlns=\"http://www.w3.org/2000/svg\" version=\"1.1\">\n <metadata>\n  <rdf:RDF xmlns:dc=\"http://purl.org/dc/elements/1.1/\" xmlns:cc=\"http://creativecommons.org/ns#\" xmlns:rdf=\"http://www.w3.org/1999/02/22-rdf-syntax-ns#\">\n   <cc:Work>\n    <dc:type rdf:resource=\"http://purl.org/dc/dcmitype/StillImage\"/>\n    <dc:date>2022-11-13T21:36:52.408049</dc:date>\n    <dc:format>image/svg+xml</dc:format>\n    <dc:creator>\n     <cc:Agent>\n      <dc:title>Matplotlib v3.5.2, https://matplotlib.org/</dc:title>\n     </cc:Agent>\n    </dc:creator>\n   </cc:Work>\n  </rdf:RDF>\n </metadata>\n <defs>\n  <style type=\"text/css\">*{stroke-linejoin: round; stroke-linecap: butt}</style>\n </defs>\n <g id=\"figure_1\">\n  <g id=\"patch_1\">\n   <path d=\"M 0 431.351875 \nL 617.115937 431.351875 \nL 617.115937 0 \nL 0 0 \nL 0 431.351875 \nz\n\" style=\"fill: none\"/>\n  </g>\n  <g id=\"axes_1\">\n   <g id=\"patch_2\">\n    <path d=\"M 51.915937 387.72 \nL 609.915938 387.72 \nL 609.915938 7.2 \nL 51.915937 7.2 \nz\n\" style=\"fill: #ffffff\"/>\n   </g>\n   <g id=\"matplotlib.axis_1\">\n    <g id=\"xtick_1\">\n     <g id=\"line2d_1\">\n      <path d=\"M 51.915937 387.72 \nL 51.915937 7.2 \n\" clip-path=\"url(#pbdd8e19eec)\" style=\"fill: none; stroke: #b0b0b0; stroke-width: 0.8; stroke-linecap: square\"/>\n     </g>\n     <g id=\"line2d_2\">\n      <defs>\n       <path id=\"m8df26f8600\" d=\"M 0 0 \nL 0 3.5 \n\" style=\"stroke: #000000; stroke-width: 0.8\"/>\n      </defs>\n      <g>\n       <use xlink:href=\"#m8df26f8600\" x=\"51.915937\" y=\"387.72\" style=\"stroke: #000000; stroke-width: 0.8\"/>\n      </g>\n     </g>\n     <g id=\"text_1\">\n      <!-- 0.00 -->\n      <g transform=\"translate(39.665937 404.44125)scale(0.14 -0.14)\">\n       <defs>\n        <path id=\"TimesNewRomanPSMT-30\" d=\"M 231 2094 \nQ 231 2819 450 3342 \nQ 669 3866 1031 4122 \nQ 1313 4325 1613 4325 \nQ 2100 4325 2488 3828 \nQ 2972 3213 2972 2159 \nQ 2972 1422 2759 906 \nQ 2547 391 2217 158 \nQ 1888 -75 1581 -75 \nQ 975 -75 572 641 \nQ 231 1244 231 2094 \nz\nM 844 2016 \nQ 844 1141 1059 588 \nQ 1238 122 1591 122 \nQ 1759 122 1940 273 \nQ 2122 425 2216 781 \nQ 2359 1319 2359 2297 \nQ 2359 3022 2209 3506 \nQ 2097 3866 1919 4016 \nQ 1791 4119 1609 4119 \nQ 1397 4119 1231 3928 \nQ 1006 3669 925 3112 \nQ 844 2556 844 2016 \nz\n\" transform=\"scale(0.015625)\"/>\n        <path id=\"TimesNewRomanPSMT-2e\" d=\"M 800 606 \nQ 947 606 1047 504 \nQ 1147 403 1147 259 \nQ 1147 116 1045 14 \nQ 944 -88 800 -88 \nQ 656 -88 554 14 \nQ 453 116 453 259 \nQ 453 406 554 506 \nQ 656 606 800 606 \nz\n\" transform=\"scale(0.015625)\"/>\n       </defs>\n       <use xlink:href=\"#TimesNewRomanPSMT-30\"/>\n       <use xlink:href=\"#TimesNewRomanPSMT-2e\" x=\"50\"/>\n       <use xlink:href=\"#TimesNewRomanPSMT-30\" x=\"75\"/>\n       <use xlink:href=\"#TimesNewRomanPSMT-30\" x=\"125\"/>\n      </g>\n     </g>\n    </g>\n    <g id=\"xtick_2\">\n     <g id=\"line2d_3\">\n      <path d=\"M 170.261015 387.72 \nL 170.261015 7.2 \n\" clip-path=\"url(#pbdd8e19eec)\" style=\"fill: none; stroke: #b0b0b0; stroke-width: 0.8; stroke-linecap: square\"/>\n     </g>\n     <g id=\"line2d_4\">\n      <g>\n       <use xlink:href=\"#m8df26f8600\" x=\"170.261015\" y=\"387.72\" style=\"stroke: #000000; stroke-width: 0.8\"/>\n      </g>\n     </g>\n     <g id=\"text_2\">\n      <!-- 0.01 -->\n      <g transform=\"translate(158.011015 404.44125)scale(0.14 -0.14)\">\n       <defs>\n        <path id=\"TimesNewRomanPSMT-31\" d=\"M 750 3822 \nL 1781 4325 \nL 1884 4325 \nL 1884 747 \nQ 1884 391 1914 303 \nQ 1944 216 2037 169 \nQ 2131 122 2419 116 \nL 2419 0 \nL 825 0 \nL 825 116 \nQ 1125 122 1212 167 \nQ 1300 213 1334 289 \nQ 1369 366 1369 747 \nL 1369 3034 \nQ 1369 3497 1338 3628 \nQ 1316 3728 1258 3775 \nQ 1200 3822 1119 3822 \nQ 1003 3822 797 3725 \nL 750 3822 \nz\n\" transform=\"scale(0.015625)\"/>\n       </defs>\n       <use xlink:href=\"#TimesNewRomanPSMT-30\"/>\n       <use xlink:href=\"#TimesNewRomanPSMT-2e\" x=\"50\"/>\n       <use xlink:href=\"#TimesNewRomanPSMT-30\" x=\"75\"/>\n       <use xlink:href=\"#TimesNewRomanPSMT-31\" x=\"125\"/>\n      </g>\n     </g>\n    </g>\n    <g id=\"xtick_3\">\n     <g id=\"line2d_5\">\n      <path d=\"M 288.606093 387.72 \nL 288.606093 7.2 \n\" clip-path=\"url(#pbdd8e19eec)\" style=\"fill: none; stroke: #b0b0b0; stroke-width: 0.8; stroke-linecap: square\"/>\n     </g>\n     <g id=\"line2d_6\">\n      <g>\n       <use xlink:href=\"#m8df26f8600\" x=\"288.606093\" y=\"387.72\" style=\"stroke: #000000; stroke-width: 0.8\"/>\n      </g>\n     </g>\n     <g id=\"text_3\">\n      <!-- 0.02 -->\n      <g transform=\"translate(276.356093 404.44125)scale(0.14 -0.14)\">\n       <defs>\n        <path id=\"TimesNewRomanPSMT-32\" d=\"M 2934 816 \nL 2638 0 \nL 138 0 \nL 138 116 \nQ 1241 1122 1691 1759 \nQ 2141 2397 2141 2925 \nQ 2141 3328 1894 3587 \nQ 1647 3847 1303 3847 \nQ 991 3847 742 3664 \nQ 494 3481 375 3128 \nL 259 3128 \nQ 338 3706 661 4015 \nQ 984 4325 1469 4325 \nQ 1984 4325 2329 3994 \nQ 2675 3663 2675 3213 \nQ 2675 2891 2525 2569 \nQ 2294 2063 1775 1497 \nQ 997 647 803 472 \nL 1909 472 \nQ 2247 472 2383 497 \nQ 2519 522 2628 598 \nQ 2738 675 2819 816 \nL 2934 816 \nz\n\" transform=\"scale(0.015625)\"/>\n       </defs>\n       <use xlink:href=\"#TimesNewRomanPSMT-30\"/>\n       <use xlink:href=\"#TimesNewRomanPSMT-2e\" x=\"50\"/>\n       <use xlink:href=\"#TimesNewRomanPSMT-30\" x=\"75\"/>\n       <use xlink:href=\"#TimesNewRomanPSMT-32\" x=\"125\"/>\n      </g>\n     </g>\n    </g>\n    <g id=\"xtick_4\">\n     <g id=\"line2d_7\">\n      <path d=\"M 406.951171 387.72 \nL 406.951171 7.2 \n\" clip-path=\"url(#pbdd8e19eec)\" style=\"fill: none; stroke: #b0b0b0; stroke-width: 0.8; stroke-linecap: square\"/>\n     </g>\n     <g id=\"line2d_8\">\n      <g>\n       <use xlink:href=\"#m8df26f8600\" x=\"406.951171\" y=\"387.72\" style=\"stroke: #000000; stroke-width: 0.8\"/>\n      </g>\n     </g>\n     <g id=\"text_4\">\n      <!-- 0.03 -->\n      <g transform=\"translate(394.701171 404.44125)scale(0.14 -0.14)\">\n       <defs>\n        <path id=\"TimesNewRomanPSMT-33\" d=\"M 325 3431 \nQ 506 3859 782 4092 \nQ 1059 4325 1472 4325 \nQ 1981 4325 2253 3994 \nQ 2459 3747 2459 3466 \nQ 2459 3003 1878 2509 \nQ 2269 2356 2469 2072 \nQ 2669 1788 2669 1403 \nQ 2669 853 2319 450 \nQ 1863 -75 997 -75 \nQ 569 -75 414 31 \nQ 259 138 259 259 \nQ 259 350 332 419 \nQ 406 488 509 488 \nQ 588 488 669 463 \nQ 722 447 909 348 \nQ 1097 250 1169 231 \nQ 1284 197 1416 197 \nQ 1734 197 1970 444 \nQ 2206 691 2206 1028 \nQ 2206 1275 2097 1509 \nQ 2016 1684 1919 1775 \nQ 1784 1900 1550 2001 \nQ 1316 2103 1072 2103 \nL 972 2103 \nL 972 2197 \nQ 1219 2228 1467 2375 \nQ 1716 2522 1828 2728 \nQ 1941 2934 1941 3181 \nQ 1941 3503 1739 3701 \nQ 1538 3900 1238 3900 \nQ 753 3900 428 3381 \nL 325 3431 \nz\n\" transform=\"scale(0.015625)\"/>\n       </defs>\n       <use xlink:href=\"#TimesNewRomanPSMT-30\"/>\n       <use xlink:href=\"#TimesNewRomanPSMT-2e\" x=\"50\"/>\n       <use xlink:href=\"#TimesNewRomanPSMT-30\" x=\"75\"/>\n       <use xlink:href=\"#TimesNewRomanPSMT-33\" x=\"125\"/>\n      </g>\n     </g>\n    </g>\n    <g id=\"xtick_5\">\n     <g id=\"line2d_9\">\n      <path d=\"M 525.296248 387.72 \nL 525.296248 7.2 \n\" clip-path=\"url(#pbdd8e19eec)\" style=\"fill: none; stroke: #b0b0b0; stroke-width: 0.8; stroke-linecap: square\"/>\n     </g>\n     <g id=\"line2d_10\">\n      <g>\n       <use xlink:href=\"#m8df26f8600\" x=\"525.296248\" y=\"387.72\" style=\"stroke: #000000; stroke-width: 0.8\"/>\n      </g>\n     </g>\n     <g id=\"text_5\">\n      <!-- 0.04 -->\n      <g transform=\"translate(513.046248 404.44125)scale(0.14 -0.14)\">\n       <defs>\n        <path id=\"TimesNewRomanPSMT-34\" d=\"M 2978 1563 \nL 2978 1119 \nL 2409 1119 \nL 2409 0 \nL 1894 0 \nL 1894 1119 \nL 100 1119 \nL 100 1519 \nL 2066 4325 \nL 2409 4325 \nL 2409 1563 \nL 2978 1563 \nz\nM 1894 1563 \nL 1894 3666 \nL 406 1563 \nL 1894 1563 \nz\n\" transform=\"scale(0.015625)\"/>\n       </defs>\n       <use xlink:href=\"#TimesNewRomanPSMT-30\"/>\n       <use xlink:href=\"#TimesNewRomanPSMT-2e\" x=\"50\"/>\n       <use xlink:href=\"#TimesNewRomanPSMT-30\" x=\"75\"/>\n       <use xlink:href=\"#TimesNewRomanPSMT-34\" x=\"125\"/>\n      </g>\n     </g>\n    </g>\n    <g id=\"text_6\">\n     <!-- $\\mathit{t}$, с -->\n     <g transform=\"translate(322.305937 421.157187)scale(0.14 -0.14)\">\n      <defs>\n       <path id=\"STIXGeneral-Italic-74\" d=\"M 1894 2739 \nL 1862 2534 \nL 1325 2534 \nL 768 435 \nQ 755 384 755 346 \nQ 755 243 851 243 \nQ 928 243 1030 342 \nQ 1133 442 1370 749 \nL 1453 704 \nQ 1158 256 969 93 \nQ 781 -70 538 -70 \nQ 243 -70 243 166 \nQ 243 230 346 640 \nL 845 2534 \nL 365 2534 \nL 358 2573 \nQ 358 2688 570 2733 \nQ 730 2771 992 2979 \nQ 1254 3187 1421 3437 \nQ 1459 3494 1510 3494 \nQ 1568 3494 1568 3443 \nQ 1568 3411 1562 3398 \nL 1382 2739 \nL 1894 2739 \nz\n\" transform=\"scale(0.015625)\"/>\n       <path id=\"TimesNewRomanPSMT-2c\" d=\"M 344 -1066 \nL 344 -928 \nQ 666 -822 842 -598 \nQ 1019 -375 1019 -125 \nQ 1019 -66 991 -25 \nQ 969 3 947 3 \nQ 913 3 797 -59 \nQ 741 -88 678 -88 \nQ 525 -88 434 3 \nQ 344 94 344 253 \nQ 344 406 461 515 \nQ 578 625 747 625 \nQ 953 625 1114 445 \nQ 1275 266 1275 -31 \nQ 1275 -353 1051 -629 \nQ 828 -906 344 -1066 \nz\n\" transform=\"scale(0.015625)\"/>\n       <path id=\"TimesNewRomanPSMT-20\" transform=\"scale(0.015625)\"/>\n       <path id=\"TimesNewRomanPSMT-441\" d=\"M 2631 1088 \nQ 2516 522 2178 217 \nQ 1841 -88 1431 -88 \nQ 944 -88 581 321 \nQ 219 731 219 1428 \nQ 219 2103 620 2525 \nQ 1022 2947 1584 2947 \nQ 2006 2947 2278 2723 \nQ 2550 2500 2550 2259 \nQ 2550 2141 2473 2067 \nQ 2397 1994 2259 1994 \nQ 2075 1994 1981 2113 \nQ 1928 2178 1911 2362 \nQ 1894 2547 1784 2644 \nQ 1675 2738 1481 2738 \nQ 1169 2738 978 2506 \nQ 725 2200 725 1697 \nQ 725 1184 976 792 \nQ 1228 400 1656 400 \nQ 1963 400 2206 609 \nQ 2378 753 2541 1131 \nL 2631 1088 \nz\n\" transform=\"scale(0.015625)\"/>\n      </defs>\n      <use xlink:href=\"#STIXGeneral-Italic-74\" transform=\"translate(0 0.40625)\"/>\n      <use xlink:href=\"#TimesNewRomanPSMT-2c\" transform=\"translate(27.799988 0.40625)\"/>\n      <use xlink:href=\"#TimesNewRomanPSMT-20\" transform=\"translate(52.799988 0.40625)\"/>\n      <use xlink:href=\"#TimesNewRomanPSMT-441\" transform=\"translate(77.799988 0.40625)\"/>\n     </g>\n    </g>\n   </g>\n   <g id=\"matplotlib.axis_2\">\n    <g id=\"ytick_1\">\n     <g id=\"line2d_11\">\n      <path d=\"M 51.915937 370.670825 \nL 609.915938 370.670825 \n\" clip-path=\"url(#pbdd8e19eec)\" style=\"fill: none; stroke: #b0b0b0; stroke-width: 0.8; stroke-linecap: square\"/>\n     </g>\n     <g id=\"line2d_12\">\n      <defs>\n       <path id=\"m7cb6a990e3\" d=\"M 0 0 \nL -3.5 0 \n\" style=\"stroke: #000000; stroke-width: 0.8\"/>\n      </defs>\n      <g>\n       <use xlink:href=\"#m7cb6a990e3\" x=\"51.915937\" y=\"370.670825\" style=\"stroke: #000000; stroke-width: 0.8\"/>\n      </g>\n     </g>\n     <g id=\"text_7\">\n      <!-- 0 -->\n      <g transform=\"translate(37.915937 375.53145)scale(0.14 -0.14)\">\n       <use xlink:href=\"#TimesNewRomanPSMT-30\"/>\n      </g>\n     </g>\n    </g>\n    <g id=\"ytick_2\">\n     <g id=\"line2d_13\">\n      <path d=\"M 51.915937 321.879643 \nL 609.915938 321.879643 \n\" clip-path=\"url(#pbdd8e19eec)\" style=\"fill: none; stroke: #b0b0b0; stroke-width: 0.8; stroke-linecap: square\"/>\n     </g>\n     <g id=\"line2d_14\">\n      <g>\n       <use xlink:href=\"#m7cb6a990e3\" x=\"51.915937\" y=\"321.879643\" style=\"stroke: #000000; stroke-width: 0.8\"/>\n      </g>\n     </g>\n     <g id=\"text_8\">\n      <!-- 20 -->\n      <g transform=\"translate(30.915937 326.740268)scale(0.14 -0.14)\">\n       <use xlink:href=\"#TimesNewRomanPSMT-32\"/>\n       <use xlink:href=\"#TimesNewRomanPSMT-30\" x=\"50\"/>\n      </g>\n     </g>\n    </g>\n    <g id=\"ytick_3\">\n     <g id=\"line2d_15\">\n      <path d=\"M 51.915937 273.088461 \nL 609.915938 273.088461 \n\" clip-path=\"url(#pbdd8e19eec)\" style=\"fill: none; stroke: #b0b0b0; stroke-width: 0.8; stroke-linecap: square\"/>\n     </g>\n     <g id=\"line2d_16\">\n      <g>\n       <use xlink:href=\"#m7cb6a990e3\" x=\"51.915937\" y=\"273.088461\" style=\"stroke: #000000; stroke-width: 0.8\"/>\n      </g>\n     </g>\n     <g id=\"text_9\">\n      <!-- 40 -->\n      <g transform=\"translate(30.915937 277.949086)scale(0.14 -0.14)\">\n       <use xlink:href=\"#TimesNewRomanPSMT-34\"/>\n       <use xlink:href=\"#TimesNewRomanPSMT-30\" x=\"50\"/>\n      </g>\n     </g>\n    </g>\n    <g id=\"ytick_4\">\n     <g id=\"line2d_17\">\n      <path d=\"M 51.915937 224.297279 \nL 609.915938 224.297279 \n\" clip-path=\"url(#pbdd8e19eec)\" style=\"fill: none; stroke: #b0b0b0; stroke-width: 0.8; stroke-linecap: square\"/>\n     </g>\n     <g id=\"line2d_18\">\n      <g>\n       <use xlink:href=\"#m7cb6a990e3\" x=\"51.915937\" y=\"224.297279\" style=\"stroke: #000000; stroke-width: 0.8\"/>\n      </g>\n     </g>\n     <g id=\"text_10\">\n      <!-- 60 -->\n      <g transform=\"translate(30.915937 229.157904)scale(0.14 -0.14)\">\n       <defs>\n        <path id=\"TimesNewRomanPSMT-36\" d=\"M 2869 4325 \nL 2869 4209 \nQ 2456 4169 2195 4045 \nQ 1934 3922 1679 3669 \nQ 1425 3416 1258 3105 \nQ 1091 2794 978 2366 \nQ 1428 2675 1881 2675 \nQ 2316 2675 2634 2325 \nQ 2953 1975 2953 1425 \nQ 2953 894 2631 456 \nQ 2244 -75 1606 -75 \nQ 1172 -75 869 213 \nQ 275 772 275 1663 \nQ 275 2231 503 2743 \nQ 731 3256 1154 3653 \nQ 1578 4050 1965 4187 \nQ 2353 4325 2688 4325 \nL 2869 4325 \nz\nM 925 2138 \nQ 869 1716 869 1456 \nQ 869 1156 980 804 \nQ 1091 453 1309 247 \nQ 1469 100 1697 100 \nQ 1969 100 2183 356 \nQ 2397 613 2397 1088 \nQ 2397 1622 2184 2012 \nQ 1972 2403 1581 2403 \nQ 1463 2403 1327 2353 \nQ 1191 2303 925 2138 \nz\n\" transform=\"scale(0.015625)\"/>\n       </defs>\n       <use xlink:href=\"#TimesNewRomanPSMT-36\"/>\n       <use xlink:href=\"#TimesNewRomanPSMT-30\" x=\"50\"/>\n      </g>\n     </g>\n    </g>\n    <g id=\"ytick_5\">\n     <g id=\"line2d_19\">\n      <path d=\"M 51.915937 175.506097 \nL 609.915938 175.506097 \n\" clip-path=\"url(#pbdd8e19eec)\" style=\"fill: none; stroke: #b0b0b0; stroke-width: 0.8; stroke-linecap: square\"/>\n     </g>\n     <g id=\"line2d_20\">\n      <g>\n       <use xlink:href=\"#m7cb6a990e3\" x=\"51.915937\" y=\"175.506097\" style=\"stroke: #000000; stroke-width: 0.8\"/>\n      </g>\n     </g>\n     <g id=\"text_11\">\n      <!-- 80 -->\n      <g transform=\"translate(30.915937 180.366722)scale(0.14 -0.14)\">\n       <defs>\n        <path id=\"TimesNewRomanPSMT-38\" d=\"M 1228 2134 \nQ 725 2547 579 2797 \nQ 434 3047 434 3316 \nQ 434 3728 753 4026 \nQ 1072 4325 1600 4325 \nQ 2113 4325 2425 4047 \nQ 2738 3769 2738 3413 \nQ 2738 3175 2569 2928 \nQ 2400 2681 1866 2347 \nQ 2416 1922 2594 1678 \nQ 2831 1359 2831 1006 \nQ 2831 559 2490 242 \nQ 2150 -75 1597 -75 \nQ 994 -75 656 303 \nQ 388 606 388 966 \nQ 388 1247 577 1523 \nQ 766 1800 1228 2134 \nz\nM 1719 2469 \nQ 2094 2806 2194 3001 \nQ 2294 3197 2294 3444 \nQ 2294 3772 2109 3958 \nQ 1925 4144 1606 4144 \nQ 1288 4144 1088 3959 \nQ 888 3775 888 3528 \nQ 888 3366 970 3203 \nQ 1053 3041 1206 2894 \nL 1719 2469 \nz\nM 1375 2016 \nQ 1116 1797 991 1539 \nQ 866 1281 866 981 \nQ 866 578 1086 336 \nQ 1306 94 1647 94 \nQ 1984 94 2187 284 \nQ 2391 475 2391 747 \nQ 2391 972 2272 1150 \nQ 2050 1481 1375 2016 \nz\n\" transform=\"scale(0.015625)\"/>\n       </defs>\n       <use xlink:href=\"#TimesNewRomanPSMT-38\"/>\n       <use xlink:href=\"#TimesNewRomanPSMT-30\" x=\"50\"/>\n      </g>\n     </g>\n    </g>\n    <g id=\"ytick_6\">\n     <g id=\"line2d_21\">\n      <path d=\"M 51.915937 126.714915 \nL 609.915938 126.714915 \n\" clip-path=\"url(#pbdd8e19eec)\" style=\"fill: none; stroke: #b0b0b0; stroke-width: 0.8; stroke-linecap: square\"/>\n     </g>\n     <g id=\"line2d_22\">\n      <g>\n       <use xlink:href=\"#m7cb6a990e3\" x=\"51.915937\" y=\"126.714915\" style=\"stroke: #000000; stroke-width: 0.8\"/>\n      </g>\n     </g>\n     <g id=\"text_12\">\n      <!-- 100 -->\n      <g transform=\"translate(23.915937 131.57554)scale(0.14 -0.14)\">\n       <use xlink:href=\"#TimesNewRomanPSMT-31\"/>\n       <use xlink:href=\"#TimesNewRomanPSMT-30\" x=\"50\"/>\n       <use xlink:href=\"#TimesNewRomanPSMT-30\" x=\"100\"/>\n      </g>\n     </g>\n    </g>\n    <g id=\"ytick_7\">\n     <g id=\"line2d_23\">\n      <path d=\"M 51.915937 77.923732 \nL 609.915938 77.923732 \n\" clip-path=\"url(#pbdd8e19eec)\" style=\"fill: none; stroke: #b0b0b0; stroke-width: 0.8; stroke-linecap: square\"/>\n     </g>\n     <g id=\"line2d_24\">\n      <g>\n       <use xlink:href=\"#m7cb6a990e3\" x=\"51.915937\" y=\"77.923732\" style=\"stroke: #000000; stroke-width: 0.8\"/>\n      </g>\n     </g>\n     <g id=\"text_13\">\n      <!-- 120 -->\n      <g transform=\"translate(23.915937 82.784357)scale(0.14 -0.14)\">\n       <use xlink:href=\"#TimesNewRomanPSMT-31\"/>\n       <use xlink:href=\"#TimesNewRomanPSMT-32\" x=\"50\"/>\n       <use xlink:href=\"#TimesNewRomanPSMT-30\" x=\"100\"/>\n      </g>\n     </g>\n    </g>\n    <g id=\"ytick_8\">\n     <g id=\"line2d_25\">\n      <path d=\"M 51.915937 29.13255 \nL 609.915938 29.13255 \n\" clip-path=\"url(#pbdd8e19eec)\" style=\"fill: none; stroke: #b0b0b0; stroke-width: 0.8; stroke-linecap: square\"/>\n     </g>\n     <g id=\"line2d_26\">\n      <g>\n       <use xlink:href=\"#m7cb6a990e3\" x=\"51.915937\" y=\"29.13255\" style=\"stroke: #000000; stroke-width: 0.8\"/>\n      </g>\n     </g>\n     <g id=\"text_14\">\n      <!-- 140 -->\n      <g transform=\"translate(23.915937 33.993175)scale(0.14 -0.14)\">\n       <use xlink:href=\"#TimesNewRomanPSMT-31\"/>\n       <use xlink:href=\"#TimesNewRomanPSMT-34\" x=\"50\"/>\n       <use xlink:href=\"#TimesNewRomanPSMT-30\" x=\"100\"/>\n      </g>\n     </g>\n    </g>\n    <g id=\"text_15\">\n     <!-- $\\mathit{p}$, МПа -->\n     <g transform=\"translate(16.92125 218.88)rotate(-90)scale(0.14 -0.14)\">\n      <defs>\n       <path id=\"STIXGeneral-Italic-70\" d=\"M 1376 2739 \nL 1190 2099 \nQ 1670 2822 2285 2822 \nQ 2637 2822 2829 2611 \nQ 3021 2400 3021 2022 \nQ 3021 1235 2422 582 \nQ 1824 -70 1120 -70 \nQ 890 -70 678 38 \nQ 422 -1018 422 -1024 \nQ 422 -1126 508 -1168 \nQ 595 -1210 819 -1210 \nL 819 -1312 \nL -480 -1312 \nL -480 -1210 \nQ -275 -1203 -188 -1120 \nQ -102 -1037 -45 -806 \nL 691 1958 \nQ 794 2330 794 2413 \nQ 794 2586 512 2586 \nL 371 2586 \nL 358 2682 \nL 1357 2822 \nQ 1389 2822 1389 2797 \nQ 1382 2765 1376 2739 \nz\nM 2445 2003 \nQ 2445 2285 2352 2416 \nQ 2259 2547 2048 2547 \nQ 1798 2547 1548 2329 \nQ 1299 2112 1184 1818 \nQ 1043 1453 905 953 \nQ 768 454 768 294 \nQ 768 186 854 118 \nQ 941 51 1075 51 \nQ 1574 51 2003 659 \nQ 2445 1274 2445 2003 \nz\n\" transform=\"scale(0.015625)\"/>\n       <path id=\"TimesNewRomanPSMT-41c\" d=\"M 2619 0 \nL 981 3566 \nL 981 734 \nQ 981 344 1066 247 \nQ 1181 116 1431 116 \nL 1581 116 \nL 1581 0 \nL 106 0 \nL 106 116 \nL 256 116 \nQ 525 116 638 278 \nQ 706 378 706 734 \nL 706 3503 \nQ 706 3784 644 3909 \nQ 600 4000 483 4061 \nQ 366 4122 106 4122 \nL 106 4238 \nL 1306 4238 \nL 2844 922 \nL 4356 4238 \nL 5556 4238 \nL 5556 4122 \nL 5409 4122 \nQ 5138 4122 5025 3959 \nQ 4956 3859 4956 3503 \nL 4956 734 \nQ 4956 344 5044 247 \nQ 5159 116 5409 116 \nL 5556 116 \nL 5556 0 \nL 3756 0 \nL 3756 116 \nL 3906 116 \nQ 4178 116 4288 278 \nQ 4356 378 4356 734 \nL 4356 3566 \nL 2722 0 \nL 2619 0 \nz\n\" transform=\"scale(0.015625)\"/>\n       <path id=\"TimesNewRomanPSMT-41f\" d=\"M 3294 4006 \nL 1328 4006 \nL 1328 772 \nQ 1328 353 1436 240 \nQ 1544 128 1941 116 \nL 1941 0 \nL 116 0 \nL 116 116 \nQ 509 128 618 240 \nQ 728 353 728 772 \nL 728 3466 \nQ 728 3884 618 3996 \nQ 509 4109 116 4122 \nL 116 4238 \nL 4506 4238 \nL 4506 4122 \nQ 4113 4109 4003 3996 \nQ 3894 3884 3894 3466 \nL 3894 772 \nQ 3894 353 4003 240 \nQ 4113 128 4506 116 \nL 4506 0 \nL 2684 0 \nL 2684 116 \nQ 3075 128 3184 239 \nQ 3294 350 3294 772 \nL 3294 4006 \nz\n\" transform=\"scale(0.015625)\"/>\n       <path id=\"TimesNewRomanPSMT-430\" d=\"M 1822 413 \nQ 1381 72 1269 19 \nQ 1100 -59 909 -59 \nQ 613 -59 420 144 \nQ 228 347 228 678 \nQ 228 888 322 1041 \nQ 450 1253 767 1440 \nQ 1084 1628 1822 1897 \nL 1822 2009 \nQ 1822 2438 1686 2597 \nQ 1550 2756 1291 2756 \nQ 1094 2756 978 2650 \nQ 859 2544 859 2406 \nL 866 2225 \nQ 866 2081 792 2003 \nQ 719 1925 600 1925 \nQ 484 1925 411 2006 \nQ 338 2088 338 2228 \nQ 338 2497 613 2722 \nQ 888 2947 1384 2947 \nQ 1766 2947 2009 2819 \nQ 2194 2722 2281 2516 \nQ 2338 2381 2338 1966 \nL 2338 994 \nQ 2338 584 2353 492 \nQ 2369 400 2405 369 \nQ 2441 338 2488 338 \nQ 2538 338 2575 359 \nQ 2641 400 2828 588 \nL 2828 413 \nQ 2478 -56 2159 -56 \nQ 2006 -56 1915 50 \nQ 1825 156 1822 413 \nz\nM 1822 616 \nL 1822 1706 \nQ 1350 1519 1213 1441 \nQ 966 1303 859 1153 \nQ 753 1003 753 825 \nQ 753 600 887 451 \nQ 1022 303 1197 303 \nQ 1434 303 1822 616 \nz\n\" transform=\"scale(0.015625)\"/>\n      </defs>\n      <use xlink:href=\"#STIXGeneral-Italic-70\" transform=\"translate(0 0.78125)\"/>\n      <use xlink:href=\"#TimesNewRomanPSMT-2c\" transform=\"translate(50.399994 0.78125)\"/>\n      <use xlink:href=\"#TimesNewRomanPSMT-20\" transform=\"translate(75.399994 0.78125)\"/>\n      <use xlink:href=\"#TimesNewRomanPSMT-41c\" transform=\"translate(100.399994 0.78125)\"/>\n      <use xlink:href=\"#TimesNewRomanPSMT-41f\" transform=\"translate(189.31601 0.78125)\"/>\n      <use xlink:href=\"#TimesNewRomanPSMT-430\" transform=\"translate(261.532806 0.78125)\"/>\n     </g>\n    </g>\n   </g>\n   <g id=\"line2d_27\">\n    <path d=\"M 51.915937 370.423636 \nL 52.685181 364.109259 \nL 53.336078 356.056363 \nL 54.164494 342.623423 \nL 55.2296 321.246063 \nL 56.945603 281.445253 \nL 59.490022 223.055919 \nL 60.969336 194.120913 \nL 62.271132 172.667548 \nL 63.513755 155.641374 \nL 64.697206 142.290879 \nL 65.880657 131.39412 \nL 67.004935 122.993918 \nL 68.129213 116.203536 \nL 69.253491 110.764972 \nL 70.318597 106.655449 \nL 71.383703 103.393563 \nL 72.448808 100.840504 \nL 73.454742 98.974608 \nL 74.460675 97.553763 \nL 75.466608 96.50842 \nL 76.472541 95.779976 \nL 77.478474 95.319406 \nL 78.54358 95.077638 \nL 79.667858 95.053093 \nL 80.910482 95.254234 \nL 82.330622 95.723676 \nL 83.928281 96.495093 \nL 85.821802 97.666942 \nL 88.129531 99.374441 \nL 90.969813 101.768465 \nL 94.697683 105.219387 \nL 100.200729 110.648094 \nL 127.183407 137.656516 \nL 136.000115 145.992166 \nL 144.639306 153.857893 \nL 153.278497 161.424797 \nL 161.97686 168.747703 \nL 170.734396 175.829318 \nL 179.551104 182.673212 \nL 188.486157 189.328707 \nL 190.793886 191.003043 \nL 190.853059 191.20984 \nL 192.450717 210.137227 \nL 194.048376 226.498906 \nL 195.705207 241.196563 \nL 197.362038 253.951201 \nL 199.078042 265.43701 \nL 200.794045 275.440879 \nL 202.569221 284.47084 \nL 204.344398 292.362931 \nL 206.178746 299.502618 \nL 208.013095 305.762932 \nL 209.906616 311.438423 \nL 211.800137 316.43018 \nL 213.752831 320.964694 \nL 215.764698 325.078273 \nL 217.835736 328.805547 \nL 219.965948 332.179301 \nL 222.155332 335.230354 \nL 224.403888 337.987506 \nL 226.77079 340.537311 \nL 229.256036 342.882589 \nL 231.859628 345.029328 \nL 234.581565 346.985925 \nL 237.481019 348.797007 \nL 240.617164 350.489718 \nL 243.989999 352.053025 \nL 247.658696 353.50376 \nL 251.682429 354.850618 \nL 256.120369 356.097187 \nL 261.090862 357.257136 \nL 266.712254 358.334662 \nL 273.16206 359.33775 \nL 280.676973 360.2739 \nL 289.612026 361.154401 \nL 300.440601 361.990105 \nL 314.050285 362.807859 \nL 331.683701 363.633678 \nL 355.234372 364.502201 \nL 386.65499 365.427782 \nL 426.418936 366.369586 \nL 473.579449 367.259082 \nL 530.325914 368.316948 \nL 543.107183 368.905608 \nL 559.024595 369.407048 \nL 577.013047 369.780623 \nL 577.013047 369.780623 \n\" clip-path=\"url(#pbdd8e19eec)\" style=\"fill: none; stroke: #2ca02c; stroke-width: 1.5; stroke-linecap: square\"/>\n   </g>\n   <g id=\"line2d_28\">\n    <path d=\"M 51.915937 77.923732 \nL 609.915938 77.923732 \n\" clip-path=\"url(#pbdd8e19eec)\" style=\"fill: none; stroke-dasharray: 5.55,2.4; stroke-dashoffset: 0; stroke: #ffa500; stroke-width: 1.5\"/>\n   </g>\n   <g id=\"line2d_29\">\n    <path d=\"M 51.915937 243.787611 \nL 609.915938 243.787611 \n\" clip-path=\"url(#pbdd8e19eec)\" style=\"fill: none; stroke-dasharray: 5.55,2.4; stroke-dashoffset: 0; stroke: #ffa500; stroke-width: 1.5\"/>\n   </g>\n   <g id=\"line2d_30\">\n    <path d=\"M 51.915937 152.012152 \nL 609.915938 152.012152 \n\" clip-path=\"url(#pbdd8e19eec)\" style=\"fill: none; stroke-dasharray: 5.55,2.4; stroke-dashoffset: 0; stroke: #ffa500; stroke-width: 1.5\"/>\n   </g>\n   <g id=\"line2d_31\">\n    <path d=\"M 51.915937 370.423636 \nL 52.626008 364.393358 \nL 53.217733 356.635813 \nL 53.927804 344.219771 \nL 54.815392 324.561824 \nL 56.058015 291.391572 \nL 60.850991 157.35725 \nL 62.211959 127.948016 \nL 63.454583 105.547625 \nL 64.697206 87.087168 \nL 65.880657 72.7475 \nL 67.004935 61.651841 \nL 68.129213 52.652432 \nL 69.253491 45.422393 \nL 70.318597 39.944758 \nL 71.383703 35.58766 \nL 72.389636 32.339982 \nL 73.395569 29.804266 \nL 74.34233 27.970763 \nL 75.28909 26.594965 \nL 76.235851 25.611424 \nL 77.123439 24.995849 \nL 78.011027 24.636595 \nL 78.957788 24.497735 \nL 79.963721 24.588278 \nL 81.028827 24.912537 \nL 82.212277 25.50568 \nL 83.573246 26.439749 \nL 85.170904 27.815275 \nL 87.064426 29.751629 \nL 89.372155 32.447659 \nL 92.212436 36.123804 \nL 95.940306 41.33226 \nL 101.443353 49.440274 \nL 124.165607 83.285648 \nL 132.035555 94.430371 \nL 139.550468 104.691808 \nL 146.947035 114.420097 \nL 154.343602 123.781331 \nL 159.432441 130.01158 \nL 159.669131 133.711672 \nL 161.266789 158.758032 \nL 162.864448 180.409393 \nL 164.521279 199.859127 \nL 166.17811 216.738066 \nL 167.894114 231.938431 \nL 169.610117 245.178137 \nL 171.326121 256.756813 \nL 173.101297 267.249145 \nL 174.876473 276.453657 \nL 176.710822 284.810632 \nL 178.545171 292.163623 \nL 180.438692 298.851786 \nL 182.332213 304.753022 \nL 184.284907 310.130215 \nL 186.296773 315.022881 \nL 188.367812 319.469097 \nL 190.438851 323.399702 \nL 192.569062 326.979009 \nL 194.758446 330.235069 \nL 197.066175 333.267576 \nL 199.433077 336.011416 \nL 201.918323 338.549797 \nL 204.521915 340.886749 \nL 207.243852 343.029018 \nL 210.143306 345.023495 \nL 213.220278 346.86575 \nL 216.474768 348.555784 \nL 220.02512 350.146356 \nL 223.871335 351.622804 \nL 228.072586 352.995532 \nL 232.747216 354.284867 \nL 237.9544 355.486134 \nL 243.871654 356.616621 \nL 250.617323 357.673083 \nL 258.487271 358.673559 \nL 267.777359 359.623843 \nL 279.079314 360.548143 \nL 293.162378 361.46674 \nL 311.15083 362.406573 \nL 334.523983 363.394633 \nL 364.52446 364.431766 \nL 401.270607 365.473499 \nL 443.99318 366.457694 \nL 492.573834 367.349935 \nL 528.669083 368.047523 \nL 541.272834 368.673673 \nL 556.776039 369.212307 \nL 576.480494 369.664413 \nL 583.344509 369.780669 \nL 583.344509 369.780669 \n\" clip-path=\"url(#pbdd8e19eec)\" style=\"fill: none; stroke: #d62728; stroke-width: 1.5; stroke-linecap: square\"/>\n   </g>\n   <g id=\"line2d_32\">\n    <path d=\"M 51.915937 370.423636 \nL 52.862698 363.022757 \nL 53.631941 354.41861 \nL 54.697047 339.721015 \nL 56.590568 309.734063 \nL 58.779952 276.106466 \nL 60.259265 256.754885 \nL 61.561061 242.515874 \nL 62.803685 231.303546 \nL 63.987135 222.582352 \nL 65.111414 215.839835 \nL 66.235692 210.380037 \nL 67.35997 205.999167 \nL 68.484248 202.514988 \nL 69.549354 199.898465 \nL 70.61446 197.831726 \nL 71.679565 196.219169 \nL 72.803844 194.92172 \nL 73.928122 193.964319 \nL 75.111573 193.25474 \nL 76.354196 192.775161 \nL 77.715164 192.498194 \nL 79.194478 192.427776 \nL 80.910482 192.575877 \nL 82.922348 192.981012 \nL 85.407594 193.722361 \nL 88.543739 194.903365 \nL 92.863334 196.785265 \nL 99.904867 200.128366 \nL 125.467403 212.411291 \nL 137.952809 218.087296 \nL 150.379042 223.4895 \nL 162.864448 228.676651 \nL 175.645716 233.747563 \nL 188.841192 238.741401 \nL 202.332531 243.606571 \nL 216.178905 248.360682 \nL 230.321142 252.978846 \nL 244.818414 257.478508 \nL 259.729894 261.873231 \nL 275.055582 266.157596 \nL 280.440283 267.661749 \nL 282.037941 278.425429 \nL 283.6356 287.744037 \nL 285.292431 296.126894 \nL 286.949262 303.411511 \nL 288.665265 309.980082 \nL 290.440442 315.892503 \nL 292.215618 321.046007 \nL 294.049966 325.696273 \nL 295.943488 329.886353 \nL 297.837009 333.550123 \nL 299.789703 336.859706 \nL 301.801569 339.84575 \nL 303.93178 342.608891 \nL 306.121164 345.086175 \nL 308.428893 347.360527 \nL 310.854968 349.436705 \nL 313.399387 351.322387 \nL 316.121323 353.062441 \nL 319.020778 354.653351 \nL 322.156922 356.121614 \nL 325.58893 357.481626 \nL 329.375972 358.739539 \nL 333.577222 359.896499 \nL 338.311026 360.963438 \nL 343.695727 361.941781 \nL 349.849671 362.828732 \nL 357.06872 363.639131 \nL 365.707911 364.378672 \nL 376.358968 365.058591 \nL 389.909479 365.690791 \nL 408.016276 366.300668 \nL 433.578813 366.924106 \nL 470.916685 367.59688 \nL 522.633484 368.296456 \nL 527.603977 368.465104 \nL 539.379313 369.030365 \nL 554.23162 369.51066 \nL 566.421163 369.7809 \nL 566.421163 369.7809 \n\" clip-path=\"url(#pbdd8e19eec)\" style=\"fill: none; stroke: #1f77b4; stroke-width: 1.5; stroke-linecap: square\"/>\n   </g>\n   <g id=\"line2d_33\">\n    <path d=\"M 295.71035 387.72 \nL 295.71035 7.2 \n\" clip-path=\"url(#pbdd8e19eec)\" style=\"fill: none; stroke-dasharray: 5.55,2.4; stroke-dashoffset: 0; stroke: #808080; stroke-width: 1.5\"/>\n   </g>\n   <g id=\"patch_3\">\n    <path d=\"M 51.915937 387.72 \nL 51.915937 7.2 \n\" style=\"fill: none; stroke: #000000; stroke-width: 0.8; stroke-linejoin: miter; stroke-linecap: square\"/>\n   </g>\n   <g id=\"patch_4\">\n    <path d=\"M 609.915938 387.72 \nL 609.915938 7.2 \n\" style=\"fill: none; stroke: #000000; stroke-width: 0.8; stroke-linejoin: miter; stroke-linecap: square\"/>\n   </g>\n   <g id=\"patch_5\">\n    <path d=\"M 51.915937 387.72 \nL 609.915937 387.72 \n\" style=\"fill: none; stroke: #000000; stroke-width: 0.8; stroke-linejoin: miter; stroke-linecap: square\"/>\n   </g>\n   <g id=\"patch_6\">\n    <path d=\"M 51.915937 7.2 \nL 609.915937 7.2 \n\" style=\"fill: none; stroke: #000000; stroke-width: 0.8; stroke-linejoin: miter; stroke-linecap: square\"/>\n   </g>\n   <g id=\"legend_1\">\n    <g id=\"patch_7\">\n     <path d=\"M 61.715937 380.72 \nL 162.235937 380.72 \nQ 165.035937 380.72 165.035937 377.92 \nL 165.035937 299.355937 \nQ 165.035937 296.555937 162.235937 296.555937 \nL 61.715937 296.555937 \nQ 58.915937 296.555937 58.915937 299.355937 \nL 58.915937 377.92 \nQ 58.915937 380.72 61.715937 380.72 \nz\n\" style=\"fill: #ffffff; opacity: 0.8; stroke: #cccccc; stroke-linejoin: miter\"/>\n    </g>\n    <g id=\"line2d_34\">\n     <path d=\"M 64.515937 307.055937 \nL 78.515937 307.055937 \nL 92.515937 307.055937 \n\" style=\"fill: none; stroke: #2ca02c; stroke-width: 1.5; stroke-linecap: square\"/>\n    </g>\n    <g id=\"text_16\">\n     <!-- $\\mathit{t}$ = +18°C -->\n     <g transform=\"translate(103.715937 311.955937)scale(0.14 -0.14)\">\n      <defs>\n       <path id=\"TimesNewRomanPSMT-3d\" d=\"M 116 2759 \nL 3488 2759 \nL 3488 2503 \nL 116 2503 \nL 116 2759 \nz\nM 116 1741 \nL 3488 1741 \nL 3488 1484 \nL 116 1484 \nL 116 1741 \nz\n\" transform=\"scale(0.015625)\"/>\n       <path id=\"TimesNewRomanPSMT-2b\" d=\"M 1672 441 \nL 1672 2000 \nL 116 2000 \nL 116 2256 \nL 1672 2256 \nL 1672 3809 \nL 1922 3809 \nL 1922 2256 \nL 3484 2256 \nL 3484 2000 \nL 1922 2000 \nL 1922 441 \nL 1672 441 \nz\n\" transform=\"scale(0.015625)\"/>\n       <path id=\"TimesNewRomanPSMT-b0\" d=\"M 1266 4331 \nQ 1669 4331 1948 4050 \nQ 2228 3769 2228 3369 \nQ 2228 2972 1947 2690 \nQ 1666 2409 1266 2409 \nQ 869 2409 587 2690 \nQ 306 2972 306 3369 \nQ 306 3769 586 4050 \nQ 866 4331 1266 4331 \nz\nM 1266 4069 \nQ 975 4069 772 3866 \nQ 569 3663 569 3372 \nQ 569 3084 772 2879 \nQ 975 2675 1266 2675 \nQ 1553 2675 1758 2879 \nQ 1963 3084 1963 3372 \nQ 1963 3663 1759 3866 \nQ 1556 4069 1266 4069 \nz\n\" transform=\"scale(0.015625)\"/>\n       <path id=\"TimesNewRomanPSMT-43\" d=\"M 3853 4334 \nL 3950 2894 \nL 3853 2894 \nQ 3659 3541 3300 3825 \nQ 2941 4109 2438 4109 \nQ 2016 4109 1675 3895 \nQ 1334 3681 1139 3212 \nQ 944 2744 944 2047 \nQ 944 1472 1128 1050 \nQ 1313 628 1683 403 \nQ 2053 178 2528 178 \nQ 2941 178 3256 354 \nQ 3572 531 3950 1056 \nL 4047 994 \nQ 3728 428 3303 165 \nQ 2878 -97 2294 -97 \nQ 1241 -97 663 684 \nQ 231 1266 231 2053 \nQ 231 2688 515 3219 \nQ 800 3750 1298 4042 \nQ 1797 4334 2388 4334 \nQ 2847 4334 3294 4109 \nQ 3425 4041 3481 4041 \nQ 3566 4041 3628 4100 \nQ 3709 4184 3744 4334 \nL 3853 4334 \nz\n\" transform=\"scale(0.015625)\"/>\n      </defs>\n      <use xlink:href=\"#STIXGeneral-Italic-74\" transform=\"translate(0 0.28125)\"/>\n      <use xlink:href=\"#TimesNewRomanPSMT-20\" transform=\"translate(27.799988 0.28125)\"/>\n      <use xlink:href=\"#TimesNewRomanPSMT-3d\" transform=\"translate(52.799988 0.28125)\"/>\n      <use xlink:href=\"#TimesNewRomanPSMT-20\" transform=\"translate(109.196472 0.28125)\"/>\n      <use xlink:href=\"#TimesNewRomanPSMT-2b\" transform=\"translate(134.196472 0.28125)\"/>\n      <use xlink:href=\"#TimesNewRomanPSMT-31\" transform=\"translate(190.592957 0.28125)\"/>\n      <use xlink:href=\"#TimesNewRomanPSMT-38\" transform=\"translate(240.592957 0.28125)\"/>\n      <use xlink:href=\"#TimesNewRomanPSMT-b0\" transform=\"translate(290.592957 0.28125)\"/>\n      <use xlink:href=\"#TimesNewRomanPSMT-43\" transform=\"translate(330.583191 0.28125)\"/>\n     </g>\n    </g>\n    <g id=\"line2d_35\">\n     <path d=\"M 64.515937 326.850625 \nL 78.515937 326.850625 \nL 92.515937 326.850625 \n\" style=\"fill: none; stroke: #d62728; stroke-width: 1.5; stroke-linecap: square\"/>\n    </g>\n    <g id=\"text_17\">\n     <!-- $\\mathit{t}$ = +50°C -->\n     <g transform=\"translate(103.715937 331.750625)scale(0.14 -0.14)\">\n      <defs>\n       <path id=\"TimesNewRomanPSMT-35\" d=\"M 2778 4238 \nL 2534 3706 \nL 1259 3706 \nL 981 3138 \nQ 1809 3016 2294 2522 \nQ 2709 2097 2709 1522 \nQ 2709 1188 2573 903 \nQ 2438 619 2231 419 \nQ 2025 219 1772 97 \nQ 1413 -75 1034 -75 \nQ 653 -75 479 54 \nQ 306 184 306 341 \nQ 306 428 378 495 \nQ 450 563 559 563 \nQ 641 563 702 538 \nQ 763 513 909 409 \nQ 1144 247 1384 247 \nQ 1750 247 2026 523 \nQ 2303 800 2303 1197 \nQ 2303 1581 2056 1914 \nQ 1809 2247 1375 2428 \nQ 1034 2569 447 2591 \nL 1259 4238 \nL 2778 4238 \nz\n\" transform=\"scale(0.015625)\"/>\n      </defs>\n      <use xlink:href=\"#STIXGeneral-Italic-74\" transform=\"translate(0 0.28125)\"/>\n      <use xlink:href=\"#TimesNewRomanPSMT-20\" transform=\"translate(27.799988 0.28125)\"/>\n      <use xlink:href=\"#TimesNewRomanPSMT-3d\" transform=\"translate(52.799988 0.28125)\"/>\n      <use xlink:href=\"#TimesNewRomanPSMT-20\" transform=\"translate(109.196472 0.28125)\"/>\n      <use xlink:href=\"#TimesNewRomanPSMT-2b\" transform=\"translate(134.196472 0.28125)\"/>\n      <use xlink:href=\"#TimesNewRomanPSMT-35\" transform=\"translate(190.592957 0.28125)\"/>\n      <use xlink:href=\"#TimesNewRomanPSMT-30\" transform=\"translate(240.592957 0.28125)\"/>\n      <use xlink:href=\"#TimesNewRomanPSMT-b0\" transform=\"translate(290.592957 0.28125)\"/>\n      <use xlink:href=\"#TimesNewRomanPSMT-43\" transform=\"translate(330.583191 0.28125)\"/>\n     </g>\n    </g>\n    <g id=\"line2d_36\">\n     <path d=\"M 64.515937 346.645312 \nL 78.515937 346.645312 \nL 92.515937 346.645312 \n\" style=\"fill: none; stroke: #1f77b4; stroke-width: 1.5; stroke-linecap: square\"/>\n    </g>\n    <g id=\"text_18\">\n     <!-- $\\mathit{t}$ = $-$50°C -->\n     <g transform=\"translate(103.715937 351.545312)scale(0.14 -0.14)\">\n      <defs>\n       <path id=\"TimesNewRomanPSMT-2212\" d=\"M 3484 2000 \nL 116 2000 \nL 116 2256 \nL 3484 2256 \nL 3484 2000 \nz\n\" transform=\"scale(0.015625)\"/>\n      </defs>\n      <use xlink:href=\"#STIXGeneral-Italic-74\" transform=\"translate(0 0.28125)\"/>\n      <use xlink:href=\"#TimesNewRomanPSMT-20\" transform=\"translate(27.799988 0.28125)\"/>\n      <use xlink:href=\"#TimesNewRomanPSMT-3d\" transform=\"translate(52.799988 0.28125)\"/>\n      <use xlink:href=\"#TimesNewRomanPSMT-20\" transform=\"translate(109.196472 0.28125)\"/>\n      <use xlink:href=\"#TimesNewRomanPSMT-2212\" transform=\"translate(134.196472 0.28125)\"/>\n      <use xlink:href=\"#TimesNewRomanPSMT-35\" transform=\"translate(190.592957 0.28125)\"/>\n      <use xlink:href=\"#TimesNewRomanPSMT-30\" transform=\"translate(240.592957 0.28125)\"/>\n      <use xlink:href=\"#TimesNewRomanPSMT-b0\" transform=\"translate(290.592957 0.28125)\"/>\n      <use xlink:href=\"#TimesNewRomanPSMT-43\" transform=\"translate(330.583191 0.28125)\"/>\n     </g>\n    </g>\n    <g id=\"line2d_37\">\n     <path d=\"M 64.515937 366.44 \nL 78.515937 366.44 \nL 92.515937 366.44 \n\" style=\"fill: none; stroke-dasharray: 5.55,2.4; stroke-dashoffset: 0; stroke: #808080; stroke-width: 1.5\"/>\n    </g>\n    <g id=\"text_19\">\n     <!-- $\\mathit{t}_{всп}$ + $\\mathit{t}_г$ -->\n     <g transform=\"translate(103.715937 371.34)scale(0.14 -0.14)\">\n      <defs>\n       <path id=\"TimesNewRomanPSMT-432\" d=\"M 2016 1513 \nQ 2800 1350 2800 778 \nQ 2800 388 2473 194 \nQ 2147 0 1563 0 \nL 150 0 \nL 150 116 \nQ 428 116 501 220 \nQ 575 325 575 672 \nL 575 2191 \nQ 575 2528 542 2587 \nQ 509 2647 439 2695 \nQ 369 2744 150 2744 \nL 150 2863 \nL 1469 2863 \nQ 1850 2863 2086 2803 \nQ 2322 2744 2473 2569 \nQ 2625 2394 2625 2144 \nQ 2625 1656 2016 1513 \nz\nM 1094 1584 \nQ 1231 1581 1259 1581 \nQ 1688 1581 1878 1745 \nQ 2069 1909 2069 2144 \nQ 2069 2416 1875 2537 \nQ 1681 2659 1256 2659 \nL 1094 2659 \nL 1094 1584 \nz\nM 1094 253 \nQ 1250 203 1466 203 \nQ 1838 203 2019 365 \nQ 2200 528 2200 784 \nQ 2200 1072 1965 1225 \nQ 1731 1378 1316 1378 \nQ 1213 1378 1094 1372 \nL 1094 253 \nz\n\" transform=\"scale(0.015625)\"/>\n       <path id=\"TimesNewRomanPSMT-43f\" d=\"M 2331 2659 \nL 1094 2659 \nL 1094 672 \nQ 1094 341 1128 277 \nQ 1163 213 1236 164 \nQ 1309 116 1528 116 \nL 1528 0 \nL 144 0 \nL 144 116 \nQ 422 116 500 217 \nQ 578 319 578 672 \nL 578 2191 \nQ 578 2525 543 2586 \nQ 509 2647 437 2695 \nQ 366 2744 144 2744 \nL 144 2863 \nL 3281 2863 \nL 3281 2744 \nQ 3072 2744 3000 2701 \nQ 2928 2659 2887 2596 \nQ 2847 2534 2847 2191 \nL 2847 672 \nQ 2847 341 2881 277 \nQ 2916 213 2989 164 \nQ 3063 116 3281 116 \nL 3281 0 \nL 1897 0 \nL 1897 116 \nQ 2156 116 2243 211 \nQ 2331 306 2331 672 \nL 2331 2659 \nz\n\" transform=\"scale(0.015625)\"/>\n       <path id=\"TimesNewRomanPSMT-433\" d=\"M 2469 2863 \nL 2584 2081 \nL 2447 2081 \nQ 2328 2469 2208 2564 \nQ 2088 2659 1700 2659 \nL 1094 2659 \nL 1094 672 \nQ 1094 341 1128 277 \nQ 1163 213 1236 164 \nQ 1309 116 1528 116 \nL 1528 0 \nL 97 0 \nL 97 116 \nQ 403 122 490 211 \nQ 578 300 578 672 \nL 578 2191 \nQ 578 2494 543 2580 \nQ 509 2666 423 2703 \nQ 338 2741 97 2744 \nL 97 2863 \nL 2469 2863 \nz\n\" transform=\"scale(0.015625)\"/>\n      </defs>\n      <use xlink:href=\"#STIXGeneral-Italic-74\" transform=\"translate(0 0.484375)\"/>\n      <use xlink:href=\"#TimesNewRomanPSMT-432\" transform=\"translate(27.799988 -25.278125)scale(0.7)\"/>\n      <use xlink:href=\"#TimesNewRomanPSMT-441\" transform=\"translate(60.851746 -25.278125)scale(0.7)\"/>\n      <use xlink:href=\"#TimesNewRomanPSMT-43f\" transform=\"translate(91.921082 -25.278125)scale(0.7)\"/>\n      <use xlink:href=\"#TimesNewRomanPSMT-20\" transform=\"translate(133.675769 0.484375)\"/>\n      <use xlink:href=\"#TimesNewRomanPSMT-2b\" transform=\"translate(158.675769 0.484375)\"/>\n      <use xlink:href=\"#TimesNewRomanPSMT-20\" transform=\"translate(215.072253 0.484375)\"/>\n      <use xlink:href=\"#STIXGeneral-Italic-74\" transform=\"translate(240.072253 0.484375)\"/>\n      <use xlink:href=\"#TimesNewRomanPSMT-433\" transform=\"translate(267.872241 -25.278125)scale(0.7)\"/>\n     </g>\n    </g>\n   </g>\n  </g>\n </g>\n <defs>\n  <clipPath id=\"pbdd8e19eec\">\n   <rect x=\"51.915937\" y=\"7.2\" width=\"558\" height=\"380.52\"/>\n  </clipPath>\n </defs>\n</svg>\n",
      "text/plain": [
       "<Figure size 720x504 with 1 Axes>"
      ]
     },
     "metadata": {
      "needs_background": "light"
     },
     "output_type": "display_data"
    }
   ],
   "source": [
    "plt.figure(figsize = (10,7))\n",
    "plt.plot(res18['t'],res18['p']/1e6, c = 'tab:green', label = '$\\mathit{t}$ = +18°C')\n",
    "plt.axhline(p1_max/1e6,ls = '--',c = 'orange')\n",
    "plt.axhline(p1_min/1e6,ls = '--',c = 'orange')\n",
    "plt.axhline(p1N/1e6,ls = '--',c = 'orange')\n",
    "plt.plot(res50['t'],res50['p']/1e6, c = 'tab:red', label = '$\\mathit{t}$ = +50°C')\n",
    "plt.plot(res_50['t'],res_50['p']/1e6, c = 'tab:blue', label = '$\\mathit{t}$ = $-$50°C')\n",
    "plt.axvline(t_g + vospl.t_vsp,ls = '--',c = 'grey', label = '$\\mathit{t}_{всп}$ + $\\mathit{t}_г$')\n",
    "\n",
    "plt.xlim(0)\n",
    "# plt.ylim(top = 18.5)\n",
    "plt.xlabel('$\\mathit{t}$, с')\n",
    "plt.ylabel('$\\mathit{p}$, МПа')\n",
    "plt.legend()\n",
    "plt.grid()\n",
    "# plt.savefig('Инд p.svg', dpi=500, bbox_inches='tight')\n",
    "plt.show()"
   ]
  },
  {
   "cell_type": "code",
   "execution_count": 44,
   "metadata": {},
   "outputs": [
    {
     "data": {
      "text/plain": [
       "(215.30015915243686, 240.28790939131883, 271.2732815620375, 140)"
      ]
     },
     "execution_count": 44,
     "metadata": {},
     "output_type": "execute_result"
    }
   ],
   "source": [
    "G_ts = lambda res, T_0: np.array([S_zar(abs(e_t)) * propel.rho * propel.u(p,T_0) for e_t, p in zip(res['e_t'],res['p'])])\n",
    "Ps = lambda res, T_0: 1.365*np.array([G_t * V_a + np.pi * zeta * D_kr**2 / 4 * (p * pi(lambda_a,propel.k) - p_atm) for G_t, p in zip(G_ts(res,T_0),res['p'])])\n",
    "\n",
    "I_sumf = lambda res, T_0: simps(Ps(res,T_0),res['t'])\n",
    "\n",
    "# Импульсы\n",
    "I_sumf(res_50,T_min), I_sumf(res18,T_nom), I_sumf(res_50,T_max), I_kor"
   ]
  },
  {
   "cell_type": "code",
   "execution_count": 45,
   "metadata": {},
   "outputs": [
    {
     "data": {
      "image/svg+xml": "<?xml version=\"1.0\" encoding=\"utf-8\" standalone=\"no\"?>\n<!DOCTYPE svg PUBLIC \"-//W3C//DTD SVG 1.1//EN\"\n  \"http://www.w3.org/Graphics/SVG/1.1/DTD/svg11.dtd\">\n<svg xmlns:xlink=\"http://www.w3.org/1999/xlink\" width=\"610.115937pt\" height=\"431.351875pt\" viewBox=\"0 0 610.115937 431.351875\" xmlns=\"http://www.w3.org/2000/svg\" version=\"1.1\">\n <metadata>\n  <rdf:RDF xmlns:dc=\"http://purl.org/dc/elements/1.1/\" xmlns:cc=\"http://creativecommons.org/ns#\" xmlns:rdf=\"http://www.w3.org/1999/02/22-rdf-syntax-ns#\">\n   <cc:Work>\n    <dc:type rdf:resource=\"http://purl.org/dc/dcmitype/StillImage\"/>\n    <dc:date>2022-11-13T21:37:08.247277</dc:date>\n    <dc:format>image/svg+xml</dc:format>\n    <dc:creator>\n     <cc:Agent>\n      <dc:title>Matplotlib v3.5.2, https://matplotlib.org/</dc:title>\n     </cc:Agent>\n    </dc:creator>\n   </cc:Work>\n  </rdf:RDF>\n </metadata>\n <defs>\n  <style type=\"text/css\">*{stroke-linejoin: round; stroke-linecap: butt}</style>\n </defs>\n <g id=\"figure_1\">\n  <g id=\"patch_1\">\n   <path d=\"M 0 431.351875 \nL 610.115937 431.351875 \nL 610.115937 0 \nL 0 0 \nL 0 431.351875 \nz\n\" style=\"fill: none\"/>\n  </g>\n  <g id=\"axes_1\">\n   <g id=\"patch_2\">\n    <path d=\"M 44.915937 387.72 \nL 602.915938 387.72 \nL 602.915938 7.2 \nL 44.915937 7.2 \nz\n\" style=\"fill: #ffffff\"/>\n   </g>\n   <g id=\"matplotlib.axis_1\">\n    <g id=\"xtick_1\">\n     <g id=\"line2d_1\">\n      <path d=\"M 44.915937 387.72 \nL 44.915937 7.2 \n\" clip-path=\"url(#pf4877e5170)\" style=\"fill: none; stroke: #b0b0b0; stroke-width: 0.8; stroke-linecap: square\"/>\n     </g>\n     <g id=\"line2d_2\">\n      <defs>\n       <path id=\"mc04094f6ea\" d=\"M 0 0 \nL 0 3.5 \n\" style=\"stroke: #000000; stroke-width: 0.8\"/>\n      </defs>\n      <g>\n       <use xlink:href=\"#mc04094f6ea\" x=\"44.915937\" y=\"387.72\" style=\"stroke: #000000; stroke-width: 0.8\"/>\n      </g>\n     </g>\n     <g id=\"text_1\">\n      <!-- 0.00 -->\n      <g transform=\"translate(32.665937 404.44125)scale(0.14 -0.14)\">\n       <defs>\n        <path id=\"TimesNewRomanPSMT-30\" d=\"M 231 2094 \nQ 231 2819 450 3342 \nQ 669 3866 1031 4122 \nQ 1313 4325 1613 4325 \nQ 2100 4325 2488 3828 \nQ 2972 3213 2972 2159 \nQ 2972 1422 2759 906 \nQ 2547 391 2217 158 \nQ 1888 -75 1581 -75 \nQ 975 -75 572 641 \nQ 231 1244 231 2094 \nz\nM 844 2016 \nQ 844 1141 1059 588 \nQ 1238 122 1591 122 \nQ 1759 122 1940 273 \nQ 2122 425 2216 781 \nQ 2359 1319 2359 2297 \nQ 2359 3022 2209 3506 \nQ 2097 3866 1919 4016 \nQ 1791 4119 1609 4119 \nQ 1397 4119 1231 3928 \nQ 1006 3669 925 3112 \nQ 844 2556 844 2016 \nz\n\" transform=\"scale(0.015625)\"/>\n        <path id=\"TimesNewRomanPSMT-2e\" d=\"M 800 606 \nQ 947 606 1047 504 \nQ 1147 403 1147 259 \nQ 1147 116 1045 14 \nQ 944 -88 800 -88 \nQ 656 -88 554 14 \nQ 453 116 453 259 \nQ 453 406 554 506 \nQ 656 606 800 606 \nz\n\" transform=\"scale(0.015625)\"/>\n       </defs>\n       <use xlink:href=\"#TimesNewRomanPSMT-30\"/>\n       <use xlink:href=\"#TimesNewRomanPSMT-2e\" x=\"50\"/>\n       <use xlink:href=\"#TimesNewRomanPSMT-30\" x=\"75\"/>\n       <use xlink:href=\"#TimesNewRomanPSMT-30\" x=\"125\"/>\n      </g>\n     </g>\n    </g>\n    <g id=\"xtick_2\">\n     <g id=\"line2d_3\">\n      <path d=\"M 163.261015 387.72 \nL 163.261015 7.2 \n\" clip-path=\"url(#pf4877e5170)\" style=\"fill: none; stroke: #b0b0b0; stroke-width: 0.8; stroke-linecap: square\"/>\n     </g>\n     <g id=\"line2d_4\">\n      <g>\n       <use xlink:href=\"#mc04094f6ea\" x=\"163.261015\" y=\"387.72\" style=\"stroke: #000000; stroke-width: 0.8\"/>\n      </g>\n     </g>\n     <g id=\"text_2\">\n      <!-- 0.01 -->\n      <g transform=\"translate(151.011015 404.44125)scale(0.14 -0.14)\">\n       <defs>\n        <path id=\"TimesNewRomanPSMT-31\" d=\"M 750 3822 \nL 1781 4325 \nL 1884 4325 \nL 1884 747 \nQ 1884 391 1914 303 \nQ 1944 216 2037 169 \nQ 2131 122 2419 116 \nL 2419 0 \nL 825 0 \nL 825 116 \nQ 1125 122 1212 167 \nQ 1300 213 1334 289 \nQ 1369 366 1369 747 \nL 1369 3034 \nQ 1369 3497 1338 3628 \nQ 1316 3728 1258 3775 \nQ 1200 3822 1119 3822 \nQ 1003 3822 797 3725 \nL 750 3822 \nz\n\" transform=\"scale(0.015625)\"/>\n       </defs>\n       <use xlink:href=\"#TimesNewRomanPSMT-30\"/>\n       <use xlink:href=\"#TimesNewRomanPSMT-2e\" x=\"50\"/>\n       <use xlink:href=\"#TimesNewRomanPSMT-30\" x=\"75\"/>\n       <use xlink:href=\"#TimesNewRomanPSMT-31\" x=\"125\"/>\n      </g>\n     </g>\n    </g>\n    <g id=\"xtick_3\">\n     <g id=\"line2d_5\">\n      <path d=\"M 281.606093 387.72 \nL 281.606093 7.2 \n\" clip-path=\"url(#pf4877e5170)\" style=\"fill: none; stroke: #b0b0b0; stroke-width: 0.8; stroke-linecap: square\"/>\n     </g>\n     <g id=\"line2d_6\">\n      <g>\n       <use xlink:href=\"#mc04094f6ea\" x=\"281.606093\" y=\"387.72\" style=\"stroke: #000000; stroke-width: 0.8\"/>\n      </g>\n     </g>\n     <g id=\"text_3\">\n      <!-- 0.02 -->\n      <g transform=\"translate(269.356093 404.44125)scale(0.14 -0.14)\">\n       <defs>\n        <path id=\"TimesNewRomanPSMT-32\" d=\"M 2934 816 \nL 2638 0 \nL 138 0 \nL 138 116 \nQ 1241 1122 1691 1759 \nQ 2141 2397 2141 2925 \nQ 2141 3328 1894 3587 \nQ 1647 3847 1303 3847 \nQ 991 3847 742 3664 \nQ 494 3481 375 3128 \nL 259 3128 \nQ 338 3706 661 4015 \nQ 984 4325 1469 4325 \nQ 1984 4325 2329 3994 \nQ 2675 3663 2675 3213 \nQ 2675 2891 2525 2569 \nQ 2294 2063 1775 1497 \nQ 997 647 803 472 \nL 1909 472 \nQ 2247 472 2383 497 \nQ 2519 522 2628 598 \nQ 2738 675 2819 816 \nL 2934 816 \nz\n\" transform=\"scale(0.015625)\"/>\n       </defs>\n       <use xlink:href=\"#TimesNewRomanPSMT-30\"/>\n       <use xlink:href=\"#TimesNewRomanPSMT-2e\" x=\"50\"/>\n       <use xlink:href=\"#TimesNewRomanPSMT-30\" x=\"75\"/>\n       <use xlink:href=\"#TimesNewRomanPSMT-32\" x=\"125\"/>\n      </g>\n     </g>\n    </g>\n    <g id=\"xtick_4\">\n     <g id=\"line2d_7\">\n      <path d=\"M 399.951171 387.72 \nL 399.951171 7.2 \n\" clip-path=\"url(#pf4877e5170)\" style=\"fill: none; stroke: #b0b0b0; stroke-width: 0.8; stroke-linecap: square\"/>\n     </g>\n     <g id=\"line2d_8\">\n      <g>\n       <use xlink:href=\"#mc04094f6ea\" x=\"399.951171\" y=\"387.72\" style=\"stroke: #000000; stroke-width: 0.8\"/>\n      </g>\n     </g>\n     <g id=\"text_4\">\n      <!-- 0.03 -->\n      <g transform=\"translate(387.701171 404.44125)scale(0.14 -0.14)\">\n       <defs>\n        <path id=\"TimesNewRomanPSMT-33\" d=\"M 325 3431 \nQ 506 3859 782 4092 \nQ 1059 4325 1472 4325 \nQ 1981 4325 2253 3994 \nQ 2459 3747 2459 3466 \nQ 2459 3003 1878 2509 \nQ 2269 2356 2469 2072 \nQ 2669 1788 2669 1403 \nQ 2669 853 2319 450 \nQ 1863 -75 997 -75 \nQ 569 -75 414 31 \nQ 259 138 259 259 \nQ 259 350 332 419 \nQ 406 488 509 488 \nQ 588 488 669 463 \nQ 722 447 909 348 \nQ 1097 250 1169 231 \nQ 1284 197 1416 197 \nQ 1734 197 1970 444 \nQ 2206 691 2206 1028 \nQ 2206 1275 2097 1509 \nQ 2016 1684 1919 1775 \nQ 1784 1900 1550 2001 \nQ 1316 2103 1072 2103 \nL 972 2103 \nL 972 2197 \nQ 1219 2228 1467 2375 \nQ 1716 2522 1828 2728 \nQ 1941 2934 1941 3181 \nQ 1941 3503 1739 3701 \nQ 1538 3900 1238 3900 \nQ 753 3900 428 3381 \nL 325 3431 \nz\n\" transform=\"scale(0.015625)\"/>\n       </defs>\n       <use xlink:href=\"#TimesNewRomanPSMT-30\"/>\n       <use xlink:href=\"#TimesNewRomanPSMT-2e\" x=\"50\"/>\n       <use xlink:href=\"#TimesNewRomanPSMT-30\" x=\"75\"/>\n       <use xlink:href=\"#TimesNewRomanPSMT-33\" x=\"125\"/>\n      </g>\n     </g>\n    </g>\n    <g id=\"xtick_5\">\n     <g id=\"line2d_9\">\n      <path d=\"M 518.296248 387.72 \nL 518.296248 7.2 \n\" clip-path=\"url(#pf4877e5170)\" style=\"fill: none; stroke: #b0b0b0; stroke-width: 0.8; stroke-linecap: square\"/>\n     </g>\n     <g id=\"line2d_10\">\n      <g>\n       <use xlink:href=\"#mc04094f6ea\" x=\"518.296248\" y=\"387.72\" style=\"stroke: #000000; stroke-width: 0.8\"/>\n      </g>\n     </g>\n     <g id=\"text_5\">\n      <!-- 0.04 -->\n      <g transform=\"translate(506.046248 404.44125)scale(0.14 -0.14)\">\n       <defs>\n        <path id=\"TimesNewRomanPSMT-34\" d=\"M 2978 1563 \nL 2978 1119 \nL 2409 1119 \nL 2409 0 \nL 1894 0 \nL 1894 1119 \nL 100 1119 \nL 100 1519 \nL 2066 4325 \nL 2409 4325 \nL 2409 1563 \nL 2978 1563 \nz\nM 1894 1563 \nL 1894 3666 \nL 406 1563 \nL 1894 1563 \nz\n\" transform=\"scale(0.015625)\"/>\n       </defs>\n       <use xlink:href=\"#TimesNewRomanPSMT-30\"/>\n       <use xlink:href=\"#TimesNewRomanPSMT-2e\" x=\"50\"/>\n       <use xlink:href=\"#TimesNewRomanPSMT-30\" x=\"75\"/>\n       <use xlink:href=\"#TimesNewRomanPSMT-34\" x=\"125\"/>\n      </g>\n     </g>\n    </g>\n    <g id=\"text_6\">\n     <!-- $\\mathit{t}$, с -->\n     <g transform=\"translate(315.305937 421.157188)scale(0.14 -0.14)\">\n      <defs>\n       <path id=\"STIXGeneral-Italic-74\" d=\"M 1894 2739 \nL 1862 2534 \nL 1325 2534 \nL 768 435 \nQ 755 384 755 346 \nQ 755 243 851 243 \nQ 928 243 1030 342 \nQ 1133 442 1370 749 \nL 1453 704 \nQ 1158 256 969 93 \nQ 781 -70 538 -70 \nQ 243 -70 243 166 \nQ 243 230 346 640 \nL 845 2534 \nL 365 2534 \nL 358 2573 \nQ 358 2688 570 2733 \nQ 730 2771 992 2979 \nQ 1254 3187 1421 3437 \nQ 1459 3494 1510 3494 \nQ 1568 3494 1568 3443 \nQ 1568 3411 1562 3398 \nL 1382 2739 \nL 1894 2739 \nz\n\" transform=\"scale(0.015625)\"/>\n       <path id=\"TimesNewRomanPSMT-2c\" d=\"M 344 -1066 \nL 344 -928 \nQ 666 -822 842 -598 \nQ 1019 -375 1019 -125 \nQ 1019 -66 991 -25 \nQ 969 3 947 3 \nQ 913 3 797 -59 \nQ 741 -88 678 -88 \nQ 525 -88 434 3 \nQ 344 94 344 253 \nQ 344 406 461 515 \nQ 578 625 747 625 \nQ 953 625 1114 445 \nQ 1275 266 1275 -31 \nQ 1275 -353 1051 -629 \nQ 828 -906 344 -1066 \nz\n\" transform=\"scale(0.015625)\"/>\n       <path id=\"TimesNewRomanPSMT-20\" transform=\"scale(0.015625)\"/>\n       <path id=\"TimesNewRomanPSMT-441\" d=\"M 2631 1088 \nQ 2516 522 2178 217 \nQ 1841 -88 1431 -88 \nQ 944 -88 581 321 \nQ 219 731 219 1428 \nQ 219 2103 620 2525 \nQ 1022 2947 1584 2947 \nQ 2006 2947 2278 2723 \nQ 2550 2500 2550 2259 \nQ 2550 2141 2473 2067 \nQ 2397 1994 2259 1994 \nQ 2075 1994 1981 2113 \nQ 1928 2178 1911 2362 \nQ 1894 2547 1784 2644 \nQ 1675 2738 1481 2738 \nQ 1169 2738 978 2506 \nQ 725 2200 725 1697 \nQ 725 1184 976 792 \nQ 1228 400 1656 400 \nQ 1963 400 2206 609 \nQ 2378 753 2541 1131 \nL 2631 1088 \nz\n\" transform=\"scale(0.015625)\"/>\n      </defs>\n      <use xlink:href=\"#STIXGeneral-Italic-74\" transform=\"translate(0 0.40625)\"/>\n      <use xlink:href=\"#TimesNewRomanPSMT-2c\" transform=\"translate(27.799988 0.40625)\"/>\n      <use xlink:href=\"#TimesNewRomanPSMT-20\" transform=\"translate(52.799988 0.40625)\"/>\n      <use xlink:href=\"#TimesNewRomanPSMT-441\" transform=\"translate(77.799988 0.40625)\"/>\n     </g>\n    </g>\n   </g>\n   <g id=\"matplotlib.axis_2\">\n    <g id=\"ytick_1\">\n     <g id=\"line2d_11\">\n      <path d=\"M 44.915937 371.823367 \nL 602.915938 371.823367 \n\" clip-path=\"url(#pf4877e5170)\" style=\"fill: none; stroke: #b0b0b0; stroke-width: 0.8; stroke-linecap: square\"/>\n     </g>\n     <g id=\"line2d_12\">\n      <defs>\n       <path id=\"m14046bd74b\" d=\"M 0 0 \nL -3.5 0 \n\" style=\"stroke: #000000; stroke-width: 0.8\"/>\n      </defs>\n      <g>\n       <use xlink:href=\"#m14046bd74b\" x=\"44.915937\" y=\"371.823367\" style=\"stroke: #000000; stroke-width: 0.8\"/>\n      </g>\n     </g>\n     <g id=\"text_7\">\n      <!-- 0 -->\n      <g transform=\"translate(30.915937 376.683992)scale(0.14 -0.14)\">\n       <use xlink:href=\"#TimesNewRomanPSMT-30\"/>\n      </g>\n     </g>\n    </g>\n    <g id=\"ytick_2\">\n     <g id=\"line2d_13\">\n      <path d=\"M 44.915937 303.682478 \nL 602.915938 303.682478 \n\" clip-path=\"url(#pf4877e5170)\" style=\"fill: none; stroke: #b0b0b0; stroke-width: 0.8; stroke-linecap: square\"/>\n     </g>\n     <g id=\"line2d_14\">\n      <g>\n       <use xlink:href=\"#m14046bd74b\" x=\"44.915937\" y=\"303.682478\" style=\"stroke: #000000; stroke-width: 0.8\"/>\n      </g>\n     </g>\n     <g id=\"text_8\">\n      <!-- 5 -->\n      <g transform=\"translate(30.915937 308.543103)scale(0.14 -0.14)\">\n       <defs>\n        <path id=\"TimesNewRomanPSMT-35\" d=\"M 2778 4238 \nL 2534 3706 \nL 1259 3706 \nL 981 3138 \nQ 1809 3016 2294 2522 \nQ 2709 2097 2709 1522 \nQ 2709 1188 2573 903 \nQ 2438 619 2231 419 \nQ 2025 219 1772 97 \nQ 1413 -75 1034 -75 \nQ 653 -75 479 54 \nQ 306 184 306 341 \nQ 306 428 378 495 \nQ 450 563 559 563 \nQ 641 563 702 538 \nQ 763 513 909 409 \nQ 1144 247 1384 247 \nQ 1750 247 2026 523 \nQ 2303 800 2303 1197 \nQ 2303 1581 2056 1914 \nQ 1809 2247 1375 2428 \nQ 1034 2569 447 2591 \nL 1259 4238 \nL 2778 4238 \nz\n\" transform=\"scale(0.015625)\"/>\n       </defs>\n       <use xlink:href=\"#TimesNewRomanPSMT-35\"/>\n      </g>\n     </g>\n    </g>\n    <g id=\"ytick_3\">\n     <g id=\"line2d_15\">\n      <path d=\"M 44.915937 235.541588 \nL 602.915938 235.541588 \n\" clip-path=\"url(#pf4877e5170)\" style=\"fill: none; stroke: #b0b0b0; stroke-width: 0.8; stroke-linecap: square\"/>\n     </g>\n     <g id=\"line2d_16\">\n      <g>\n       <use xlink:href=\"#m14046bd74b\" x=\"44.915937\" y=\"235.541588\" style=\"stroke: #000000; stroke-width: 0.8\"/>\n      </g>\n     </g>\n     <g id=\"text_9\">\n      <!-- 10 -->\n      <g transform=\"translate(23.915937 240.402213)scale(0.14 -0.14)\">\n       <use xlink:href=\"#TimesNewRomanPSMT-31\"/>\n       <use xlink:href=\"#TimesNewRomanPSMT-30\" x=\"50\"/>\n      </g>\n     </g>\n    </g>\n    <g id=\"ytick_4\">\n     <g id=\"line2d_17\">\n      <path d=\"M 44.915937 167.400698 \nL 602.915938 167.400698 \n\" clip-path=\"url(#pf4877e5170)\" style=\"fill: none; stroke: #b0b0b0; stroke-width: 0.8; stroke-linecap: square\"/>\n     </g>\n     <g id=\"line2d_18\">\n      <g>\n       <use xlink:href=\"#m14046bd74b\" x=\"44.915937\" y=\"167.400698\" style=\"stroke: #000000; stroke-width: 0.8\"/>\n      </g>\n     </g>\n     <g id=\"text_10\">\n      <!-- 15 -->\n      <g transform=\"translate(23.915937 172.261323)scale(0.14 -0.14)\">\n       <use xlink:href=\"#TimesNewRomanPSMT-31\"/>\n       <use xlink:href=\"#TimesNewRomanPSMT-35\" x=\"50\"/>\n      </g>\n     </g>\n    </g>\n    <g id=\"ytick_5\">\n     <g id=\"line2d_19\">\n      <path d=\"M 44.915937 99.259809 \nL 602.915938 99.259809 \n\" clip-path=\"url(#pf4877e5170)\" style=\"fill: none; stroke: #b0b0b0; stroke-width: 0.8; stroke-linecap: square\"/>\n     </g>\n     <g id=\"line2d_20\">\n      <g>\n       <use xlink:href=\"#m14046bd74b\" x=\"44.915937\" y=\"99.259809\" style=\"stroke: #000000; stroke-width: 0.8\"/>\n      </g>\n     </g>\n     <g id=\"text_11\">\n      <!-- 20 -->\n      <g transform=\"translate(23.915937 104.120434)scale(0.14 -0.14)\">\n       <use xlink:href=\"#TimesNewRomanPSMT-32\"/>\n       <use xlink:href=\"#TimesNewRomanPSMT-30\" x=\"50\"/>\n      </g>\n     </g>\n    </g>\n    <g id=\"ytick_6\">\n     <g id=\"line2d_21\">\n      <path d=\"M 44.915937 31.118919 \nL 602.915938 31.118919 \n\" clip-path=\"url(#pf4877e5170)\" style=\"fill: none; stroke: #b0b0b0; stroke-width: 0.8; stroke-linecap: square\"/>\n     </g>\n     <g id=\"line2d_22\">\n      <g>\n       <use xlink:href=\"#m14046bd74b\" x=\"44.915937\" y=\"31.118919\" style=\"stroke: #000000; stroke-width: 0.8\"/>\n      </g>\n     </g>\n     <g id=\"text_12\">\n      <!-- 25 -->\n      <g transform=\"translate(23.915937 35.979544)scale(0.14 -0.14)\">\n       <use xlink:href=\"#TimesNewRomanPSMT-32\"/>\n       <use xlink:href=\"#TimesNewRomanPSMT-35\" x=\"50\"/>\n      </g>\n     </g>\n    </g>\n    <g id=\"text_13\">\n     <!-- $\\mathit{P}$, кН -->\n     <g transform=\"translate(16.92125 213.7)rotate(-90)scale(0.14 -0.14)\">\n      <defs>\n       <path id=\"STIXGeneral-Italic-50\" d=\"M 934 4179 \nL 2477 4179 \nQ 3872 4179 3872 3232 \nQ 3872 2976 3753 2729 \nQ 3635 2483 3437 2317 \nQ 2995 1952 2125 1952 \nQ 1773 1952 1549 2003 \nL 1210 768 \nQ 1120 422 1120 365 \nQ 1120 250 1216 189 \nQ 1312 128 1562 102 \nL 1562 0 \nL 0 0 \nL 0 102 \nQ 275 141 361 227 \nQ 448 314 538 627 \nL 1280 3277 \nQ 1389 3667 1389 3808 \nQ 1389 3936 1299 3990 \nQ 1210 4045 934 4077 \nL 934 4179 \nz\nM 2048 3789 \nL 1606 2221 \nQ 1792 2189 1939 2189 \nQ 2496 2189 2758 2342 \nQ 3213 2598 3213 3200 \nQ 3213 3987 2381 3987 \nQ 2099 3987 2048 3789 \nz\n\" transform=\"scale(0.015625)\"/>\n       <path id=\"TimesNewRomanPSMT-43a\" d=\"M 3072 0 \nL 2228 0 \nQ 1834 572 1516 1172 \nQ 1441 1309 1380 1376 \nQ 1319 1444 1213 1444 \nQ 1175 1444 1094 1438 \nL 1094 672 \nQ 1094 363 1130 277 \nQ 1166 191 1259 153 \nQ 1353 116 1575 116 \nL 1575 0 \nL 144 0 \nL 144 116 \nQ 422 116 500 217 \nQ 578 319 578 672 \nL 578 2191 \nQ 578 2525 543 2586 \nQ 509 2647 437 2695 \nQ 366 2744 144 2744 \nL 144 2863 \nL 1575 2863 \nL 1575 2744 \nQ 1316 2744 1255 2706 \nQ 1194 2669 1144 2614 \nQ 1094 2559 1094 2191 \nL 1094 1628 \nQ 1166 1622 1191 1622 \nQ 1381 1622 1548 1730 \nQ 1716 1838 1847 2188 \nQ 1969 2519 2048 2634 \nQ 2128 2750 2270 2823 \nQ 2413 2897 2569 2897 \nQ 2738 2897 2838 2815 \nQ 2938 2734 2938 2603 \nQ 2938 2494 2866 2417 \nQ 2794 2341 2666 2341 \nQ 2597 2341 2494 2378 \nQ 2363 2425 2294 2425 \nQ 2150 2425 2056 2178 \nQ 1950 1894 1900 1811 \nQ 1850 1728 1709 1591 \nQ 1806 1563 1920 1447 \nQ 2034 1331 2344 788 \nQ 2591 353 2714 237 \nQ 2838 122 3072 116 \nL 3072 0 \nz\n\" transform=\"scale(0.015625)\"/>\n       <path id=\"TimesNewRomanPSMT-41d\" d=\"M 1316 2272 \nL 3284 2272 \nL 3284 3484 \nQ 3284 3809 3244 3913 \nQ 3213 3991 3113 4047 \nQ 2978 4122 2828 4122 \nL 2678 4122 \nL 2678 4238 \nL 4491 4238 \nL 4491 4122 \nL 4341 4122 \nQ 4191 4122 4056 4050 \nQ 3956 4000 3920 3898 \nQ 3884 3797 3884 3484 \nL 3884 750 \nQ 3884 428 3925 325 \nQ 3956 247 4053 191 \nQ 4191 116 4341 116 \nL 4491 116 \nL 4491 0 \nL 2678 0 \nL 2678 116 \nL 2828 116 \nQ 3088 116 3206 269 \nQ 3284 369 3284 750 \nL 3284 2041 \nL 1316 2041 \nL 1316 750 \nQ 1316 428 1356 325 \nQ 1388 247 1488 191 \nQ 1622 116 1772 116 \nL 1925 116 \nL 1925 0 \nL 109 0 \nL 109 116 \nL 259 116 \nQ 522 116 641 269 \nQ 716 369 716 750 \nL 716 3484 \nQ 716 3809 675 3913 \nQ 644 3991 547 4047 \nQ 409 4122 259 4122 \nL 109 4122 \nL 109 4238 \nL 1925 4238 \nL 1925 4122 \nL 1772 4122 \nQ 1622 4122 1488 4050 \nQ 1391 4000 1353 3898 \nQ 1316 3797 1316 3484 \nL 1316 2272 \nz\n\" transform=\"scale(0.015625)\"/>\n      </defs>\n      <use xlink:href=\"#STIXGeneral-Italic-50\" transform=\"translate(0 0.78125)\"/>\n      <use xlink:href=\"#TimesNewRomanPSMT-2c\" transform=\"translate(61.099991 0.78125)\"/>\n      <use xlink:href=\"#TimesNewRomanPSMT-20\" transform=\"translate(86.099991 0.78125)\"/>\n      <use xlink:href=\"#TimesNewRomanPSMT-43a\" transform=\"translate(111.099991 0.78125)\"/>\n      <use xlink:href=\"#TimesNewRomanPSMT-41d\" transform=\"translate(159.683975 0.78125)\"/>\n     </g>\n    </g>\n   </g>\n   <g id=\"line2d_23\">\n    <path d=\"M 44.915937 370.122453 \nL 45.270973 361.558935 \nL 46.868631 325.04947 \nL 51.661607 210.021067 \nL 53.022575 184.709463 \nL 54.265199 165.488493 \nL 55.448649 150.412232 \nL 56.6321 138.136503 \nL 57.756378 128.714167 \nL 58.880657 121.140485 \nL 59.945762 115.398496 \nL 61.010868 110.82159 \nL 62.075974 107.215868 \nL 63.081907 104.553739 \nL 64.08784 102.494373 \nL 65.093773 100.939698 \nL 66.040534 99.863609 \nL 66.987294 99.10403 \nL 67.934055 98.612711 \nL 68.939988 98.338658 \nL 70.005094 98.282632 \nL 71.188545 98.454942 \nL 72.490341 98.877638 \nL 73.969654 99.595153 \nL 75.74483 100.714942 \nL 77.875042 102.335777 \nL 80.537806 104.65833 \nL 84.028986 108.020369 \nL 89.117824 113.260901 \nL 115.508776 140.866096 \nL 123.852104 149.073334 \nL 132.077087 156.852301 \nL 140.30207 164.323872 \nL 148.527053 171.495954 \nL 156.811208 178.427212 \nL 165.213709 185.169146 \nL 173.734555 191.721308 \nL 182.373745 198.085046 \nL 183.853059 199.26011 \nL 185.628235 214.182057 \nL 187.403411 227.280457 \nL 189.23776 239.19147 \nL 191.072108 249.697129 \nL 192.96563 259.283635 \nL 194.918323 268.024658 \nL 196.871017 275.768844 \nL 198.882884 282.851809 \nL 200.953922 289.325165 \nL 203.024961 295.082498 \nL 205.155173 300.358385 \nL 207.344557 305.189488 \nL 209.593113 309.6103 \nL 211.900842 313.653153 \nL 214.267744 317.34827 \nL 216.693818 320.723823 \nL 219.179064 323.806018 \nL 221.782656 326.680867 \nL 224.504593 329.350496 \nL 227.344875 331.819624 \nL 230.303502 334.095093 \nL 233.439646 336.223047 \nL 236.753308 338.199506 \nL 240.303661 340.053173 \nL 244.090703 341.775918 \nL 248.173608 343.38638 \nL 252.611549 344.895478 \nL 257.463697 346.309103 \nL 262.848398 347.643956 \nL 268.883997 348.907566 \nL 275.748012 350.112227 \nL 283.677132 351.270897 \nL 292.96722 352.395938 \nL 304.091658 353.511138 \nL 317.760514 354.649365 \nL 335.038895 355.855246 \nL 357.228598 357.171304 \nL 385.513071 358.617556 \nL 419.773971 360.141053 \nL 458.827847 361.651552 \nL 501.78711 363.087694 \nL 519.420527 363.738986 \nL 528.237235 364.857189 \nL 538.237394 365.896692 \nL 549.657694 366.854999 \nL 562.85317 367.733246 \nL 570.013047 368.129681 \nL 570.013047 368.129681 \n\" clip-path=\"url(#pf4877e5170)\" style=\"fill: none; stroke: #2ca02c; stroke-width: 1.5; stroke-linecap: square\"/>\n   </g>\n   <g id=\"line2d_24\">\n    <path d=\"M 44.915937 275.995948 \nL 602.915938 275.995948 \n\" clip-path=\"url(#pf4877e5170)\" style=\"fill: none; stroke-dasharray: 5.55,2.4; stroke-dashoffset: 0; stroke: #808080; stroke-width: 1.5\"/>\n   </g>\n   <g id=\"line2d_25\">\n    <path d=\"M 44.915937 369.938786 \nL 45.270973 360.316057 \nL 46.572769 325.782951 \nL 48.2296 274.717992 \nL 51.069882 187.423235 \nL 52.549195 149.084134 \nL 53.850991 120.829641 \nL 55.093614 98.573011 \nL 56.277065 81.275024 \nL 57.401343 67.928132 \nL 58.525621 57.157407 \nL 59.590727 48.96649 \nL 60.655833 42.422051 \nL 61.720939 37.257019 \nL 62.726872 33.43912 \nL 63.732805 30.484346 \nL 64.679565 28.368001 \nL 65.567154 26.88063 \nL 66.454742 25.804209 \nL 67.34233 25.08058 \nL 68.170745 24.67957 \nL 69.058333 24.503612 \nL 69.945921 24.554368 \nL 70.951855 24.846627 \nL 72.076133 25.423032 \nL 73.377929 26.363538 \nL 74.857242 27.720199 \nL 76.632418 29.664583 \nL 78.76263 32.339715 \nL 81.484567 36.138602 \nL 85.034919 41.500178 \nL 90.41962 50.078833 \nL 109.354832 80.526365 \nL 116.7514 91.859311 \nL 123.792932 102.247603 \nL 130.716119 112.069766 \nL 137.639306 121.505906 \nL 144.50332 130.48833 \nL 151.426507 139.182971 \nL 152.432441 140.416508 \nL 152.728303 143.738241 \nL 154.503479 163.467311 \nL 156.278656 180.790025 \nL 158.113004 196.546813 \nL 159.947353 210.448512 \nL 161.840874 223.137738 \nL 163.793568 234.711553 \nL 165.746262 244.968898 \nL 167.758128 254.353667 \nL 169.769994 262.702598 \nL 171.841033 270.361954 \nL 173.971245 277.38309 \nL 176.101456 283.650269 \nL 178.29084 289.408782 \nL 180.539397 294.695716 \nL 182.787953 299.428516 \nL 185.095682 303.782697 \nL 187.462584 307.785482 \nL 189.888658 311.462663 \nL 192.433077 314.914574 \nL 195.036669 318.072253 \nL 197.758605 321.020388 \nL 200.539715 323.707882 \nL 203.439169 326.205875 \nL 206.516141 328.562548 \nL 209.770631 330.770457 \nL 213.202638 332.826355 \nL 216.871335 334.75995 \nL 220.776723 336.563851 \nL 224.977973 338.257814 \nL 229.534259 339.854008 \nL 234.563925 341.376223 \nL 240.126143 342.821753 \nL 246.33926 344.200909 \nL 253.321619 345.519061 \nL 261.369085 346.806457 \nL 270.777518 348.078796 \nL 281.961128 349.358426 \nL 295.51164 350.676794 \nL 312.257468 352.074441 \nL 333.204547 353.591267 \nL 359.003774 355.229449 \nL 389.536804 356.940277 \nL 423.916049 358.640765 \nL 461.549784 360.276788 \nL 502.142145 361.816412 \nL 519.361354 362.532015 \nL 528.059717 363.737398 \nL 537.823186 364.861685 \nL 548.888451 365.906601 \nL 561.492202 366.868066 \nL 576.048646 367.74951 \nL 576.344509 367.765337 \nL 576.344509 367.765337 \n\" clip-path=\"url(#pf4877e5170)\" style=\"fill: none; stroke: #d62728; stroke-width: 1.5; stroke-linecap: square\"/>\n   </g>\n   <g id=\"line2d_26\">\n    <path d=\"M 44.915937 370.423636 \nL 45.270973 363.490513 \nL 50.300639 280.497689 \nL 51.720779 261.680501 \nL 53.022575 247.34087 \nL 54.206026 236.616184 \nL 55.389477 227.867577 \nL 56.513755 221.144748 \nL 57.638033 215.73434 \nL 58.762312 211.421134 \nL 59.827417 208.173863 \nL 60.892523 205.60028 \nL 61.957629 203.58174 \nL 63.022734 202.01924 \nL 64.08784 200.830436 \nL 65.212118 199.906691 \nL 66.395569 199.231793 \nL 67.638192 198.78645 \nL 68.999161 198.543428 \nL 70.537647 198.507398 \nL 72.312823 198.702835 \nL 74.383862 199.162835 \nL 76.987454 199.982861 \nL 80.360288 201.294879 \nL 85.153264 203.417898 \nL 94.029145 207.637533 \nL 111.840079 216.093195 \nL 124.266312 221.72579 \nL 136.515028 227.03277 \nL 148.941261 232.173931 \nL 161.545012 237.149799 \nL 174.56297 242.049527 \nL 187.817619 246.801441 \nL 201.427303 251.445585 \nL 215.451194 255.996123 \nL 229.889294 260.445818 \nL 244.741601 264.789214 \nL 260.008116 269.021391 \nL 273.440283 272.598059 \nL 275.215459 281.106898 \nL 277.049807 288.819671 \nL 278.884156 295.602153 \nL 280.777677 301.774048 \nL 282.730371 307.38681 \nL 284.742237 312.488461 \nL 286.754104 316.998962 \nL 288.825143 321.112858 \nL 290.955354 324.86298 \nL 293.144738 328.279871 \nL 295.452467 331.468819 \nL 297.819369 334.361441 \nL 300.304615 337.045042 \nL 302.908207 339.523272 \nL 305.630144 341.802387 \nL 308.470426 343.890408 \nL 311.488225 345.832525 \nL 314.683542 347.625547 \nL 318.115549 349.296751 \nL 321.843419 350.861619 \nL 325.867152 352.307527 \nL 330.305092 353.661579 \nL 335.216413 354.921192 \nL 340.660287 356.083025 \nL 346.814231 357.163735 \nL 353.855763 358.168349 \nL 362.021573 359.102964 \nL 371.72587 359.98352 \nL 383.61955 360.830742 \nL 398.649375 361.668246 \nL 418.472175 362.538503 \nL 445.691543 363.497928 \nL 483.029415 364.580103 \nL 520.130597 365.672659 \nL 529.302341 366.643447 \nL 539.894225 367.534529 \nL 552.261286 368.345057 \nL 559.421163 368.728184 \nL 559.421163 368.728184 \n\" clip-path=\"url(#pf4877e5170)\" style=\"fill: none; stroke: #1f77b4; stroke-width: 1.5; stroke-linecap: square\"/>\n   </g>\n   <g id=\"patch_3\">\n    <path d=\"M 44.915937 387.72 \nL 44.915937 7.2 \n\" style=\"fill: none; stroke: #000000; stroke-width: 0.8; stroke-linejoin: miter; stroke-linecap: square\"/>\n   </g>\n   <g id=\"patch_4\">\n    <path d=\"M 602.915938 387.72 \nL 602.915938 7.2 \n\" style=\"fill: none; stroke: #000000; stroke-width: 0.8; stroke-linejoin: miter; stroke-linecap: square\"/>\n   </g>\n   <g id=\"patch_5\">\n    <path d=\"M 44.915937 387.72 \nL 602.915937 387.72 \n\" style=\"fill: none; stroke: #000000; stroke-width: 0.8; stroke-linejoin: miter; stroke-linecap: square\"/>\n   </g>\n   <g id=\"patch_6\">\n    <path d=\"M 44.915937 7.2 \nL 602.915937 7.2 \n\" style=\"fill: none; stroke: #000000; stroke-width: 0.8; stroke-linejoin: miter; stroke-linecap: square\"/>\n   </g>\n   <g id=\"legend_1\">\n    <g id=\"patch_7\">\n     <path d=\"M 492.595937 77.784063 \nL 593.115937 77.784063 \nQ 595.915937 77.784063 595.915937 74.984063 \nL 595.915937 17 \nQ 595.915937 14.2 593.115937 14.2 \nL 492.595937 14.2 \nQ 489.795937 14.2 489.795937 17 \nL 489.795937 74.984063 \nQ 489.795937 77.784063 492.595937 77.784063 \nz\n\" style=\"fill: #ffffff; opacity: 0.8; stroke: #cccccc; stroke-linejoin: miter\"/>\n    </g>\n    <g id=\"line2d_27\">\n     <path d=\"M 495.395938 24.7 \nL 509.395938 24.7 \nL 523.395937 24.7 \n\" style=\"fill: none; stroke: #2ca02c; stroke-width: 1.5; stroke-linecap: square\"/>\n    </g>\n    <g id=\"text_14\">\n     <!-- $\\mathit{t}$ = +18°C -->\n     <g transform=\"translate(534.595937 29.6)scale(0.14 -0.14)\">\n      <defs>\n       <path id=\"TimesNewRomanPSMT-3d\" d=\"M 116 2759 \nL 3488 2759 \nL 3488 2503 \nL 116 2503 \nL 116 2759 \nz\nM 116 1741 \nL 3488 1741 \nL 3488 1484 \nL 116 1484 \nL 116 1741 \nz\n\" transform=\"scale(0.015625)\"/>\n       <path id=\"TimesNewRomanPSMT-2b\" d=\"M 1672 441 \nL 1672 2000 \nL 116 2000 \nL 116 2256 \nL 1672 2256 \nL 1672 3809 \nL 1922 3809 \nL 1922 2256 \nL 3484 2256 \nL 3484 2000 \nL 1922 2000 \nL 1922 441 \nL 1672 441 \nz\n\" transform=\"scale(0.015625)\"/>\n       <path id=\"TimesNewRomanPSMT-38\" d=\"M 1228 2134 \nQ 725 2547 579 2797 \nQ 434 3047 434 3316 \nQ 434 3728 753 4026 \nQ 1072 4325 1600 4325 \nQ 2113 4325 2425 4047 \nQ 2738 3769 2738 3413 \nQ 2738 3175 2569 2928 \nQ 2400 2681 1866 2347 \nQ 2416 1922 2594 1678 \nQ 2831 1359 2831 1006 \nQ 2831 559 2490 242 \nQ 2150 -75 1597 -75 \nQ 994 -75 656 303 \nQ 388 606 388 966 \nQ 388 1247 577 1523 \nQ 766 1800 1228 2134 \nz\nM 1719 2469 \nQ 2094 2806 2194 3001 \nQ 2294 3197 2294 3444 \nQ 2294 3772 2109 3958 \nQ 1925 4144 1606 4144 \nQ 1288 4144 1088 3959 \nQ 888 3775 888 3528 \nQ 888 3366 970 3203 \nQ 1053 3041 1206 2894 \nL 1719 2469 \nz\nM 1375 2016 \nQ 1116 1797 991 1539 \nQ 866 1281 866 981 \nQ 866 578 1086 336 \nQ 1306 94 1647 94 \nQ 1984 94 2187 284 \nQ 2391 475 2391 747 \nQ 2391 972 2272 1150 \nQ 2050 1481 1375 2016 \nz\n\" transform=\"scale(0.015625)\"/>\n       <path id=\"TimesNewRomanPSMT-b0\" d=\"M 1266 4331 \nQ 1669 4331 1948 4050 \nQ 2228 3769 2228 3369 \nQ 2228 2972 1947 2690 \nQ 1666 2409 1266 2409 \nQ 869 2409 587 2690 \nQ 306 2972 306 3369 \nQ 306 3769 586 4050 \nQ 866 4331 1266 4331 \nz\nM 1266 4069 \nQ 975 4069 772 3866 \nQ 569 3663 569 3372 \nQ 569 3084 772 2879 \nQ 975 2675 1266 2675 \nQ 1553 2675 1758 2879 \nQ 1963 3084 1963 3372 \nQ 1963 3663 1759 3866 \nQ 1556 4069 1266 4069 \nz\n\" transform=\"scale(0.015625)\"/>\n       <path id=\"TimesNewRomanPSMT-43\" d=\"M 3853 4334 \nL 3950 2894 \nL 3853 2894 \nQ 3659 3541 3300 3825 \nQ 2941 4109 2438 4109 \nQ 2016 4109 1675 3895 \nQ 1334 3681 1139 3212 \nQ 944 2744 944 2047 \nQ 944 1472 1128 1050 \nQ 1313 628 1683 403 \nQ 2053 178 2528 178 \nQ 2941 178 3256 354 \nQ 3572 531 3950 1056 \nL 4047 994 \nQ 3728 428 3303 165 \nQ 2878 -97 2294 -97 \nQ 1241 -97 663 684 \nQ 231 1266 231 2053 \nQ 231 2688 515 3219 \nQ 800 3750 1298 4042 \nQ 1797 4334 2388 4334 \nQ 2847 4334 3294 4109 \nQ 3425 4041 3481 4041 \nQ 3566 4041 3628 4100 \nQ 3709 4184 3744 4334 \nL 3853 4334 \nz\n\" transform=\"scale(0.015625)\"/>\n      </defs>\n      <use xlink:href=\"#STIXGeneral-Italic-74\" transform=\"translate(0 0.28125)\"/>\n      <use xlink:href=\"#TimesNewRomanPSMT-20\" transform=\"translate(27.799988 0.28125)\"/>\n      <use xlink:href=\"#TimesNewRomanPSMT-3d\" transform=\"translate(52.799988 0.28125)\"/>\n      <use xlink:href=\"#TimesNewRomanPSMT-20\" transform=\"translate(109.196472 0.28125)\"/>\n      <use xlink:href=\"#TimesNewRomanPSMT-2b\" transform=\"translate(134.196472 0.28125)\"/>\n      <use xlink:href=\"#TimesNewRomanPSMT-31\" transform=\"translate(190.592957 0.28125)\"/>\n      <use xlink:href=\"#TimesNewRomanPSMT-38\" transform=\"translate(240.592957 0.28125)\"/>\n      <use xlink:href=\"#TimesNewRomanPSMT-b0\" transform=\"translate(290.592957 0.28125)\"/>\n      <use xlink:href=\"#TimesNewRomanPSMT-43\" transform=\"translate(330.583191 0.28125)\"/>\n     </g>\n    </g>\n    <g id=\"line2d_28\">\n     <path d=\"M 495.395938 44.494688 \nL 509.395938 44.494688 \nL 523.395937 44.494688 \n\" style=\"fill: none; stroke: #d62728; stroke-width: 1.5; stroke-linecap: square\"/>\n    </g>\n    <g id=\"text_15\">\n     <!-- $\\mathit{t}$ = +50°C -->\n     <g transform=\"translate(534.595937 49.394688)scale(0.14 -0.14)\">\n      <use xlink:href=\"#STIXGeneral-Italic-74\" transform=\"translate(0 0.28125)\"/>\n      <use xlink:href=\"#TimesNewRomanPSMT-20\" transform=\"translate(27.799988 0.28125)\"/>\n      <use xlink:href=\"#TimesNewRomanPSMT-3d\" transform=\"translate(52.799988 0.28125)\"/>\n      <use xlink:href=\"#TimesNewRomanPSMT-20\" transform=\"translate(109.196472 0.28125)\"/>\n      <use xlink:href=\"#TimesNewRomanPSMT-2b\" transform=\"translate(134.196472 0.28125)\"/>\n      <use xlink:href=\"#TimesNewRomanPSMT-35\" transform=\"translate(190.592957 0.28125)\"/>\n      <use xlink:href=\"#TimesNewRomanPSMT-30\" transform=\"translate(240.592957 0.28125)\"/>\n      <use xlink:href=\"#TimesNewRomanPSMT-b0\" transform=\"translate(290.592957 0.28125)\"/>\n      <use xlink:href=\"#TimesNewRomanPSMT-43\" transform=\"translate(330.583191 0.28125)\"/>\n     </g>\n    </g>\n    <g id=\"line2d_29\">\n     <path d=\"M 495.395938 64.289375 \nL 509.395938 64.289375 \nL 523.395937 64.289375 \n\" style=\"fill: none; stroke: #1f77b4; stroke-width: 1.5; stroke-linecap: square\"/>\n    </g>\n    <g id=\"text_16\">\n     <!-- $\\mathit{t}$ = $-$50°C -->\n     <g transform=\"translate(534.595937 69.189375)scale(0.14 -0.14)\">\n      <defs>\n       <path id=\"TimesNewRomanPSMT-2212\" d=\"M 3484 2000 \nL 116 2000 \nL 116 2256 \nL 3484 2256 \nL 3484 2000 \nz\n\" transform=\"scale(0.015625)\"/>\n      </defs>\n      <use xlink:href=\"#STIXGeneral-Italic-74\" transform=\"translate(0 0.28125)\"/>\n      <use xlink:href=\"#TimesNewRomanPSMT-20\" transform=\"translate(27.799988 0.28125)\"/>\n      <use xlink:href=\"#TimesNewRomanPSMT-3d\" transform=\"translate(52.799988 0.28125)\"/>\n      <use xlink:href=\"#TimesNewRomanPSMT-20\" transform=\"translate(109.196472 0.28125)\"/>\n      <use xlink:href=\"#TimesNewRomanPSMT-2212\" transform=\"translate(134.196472 0.28125)\"/>\n      <use xlink:href=\"#TimesNewRomanPSMT-35\" transform=\"translate(190.592957 0.28125)\"/>\n      <use xlink:href=\"#TimesNewRomanPSMT-30\" transform=\"translate(240.592957 0.28125)\"/>\n      <use xlink:href=\"#TimesNewRomanPSMT-b0\" transform=\"translate(290.592957 0.28125)\"/>\n      <use xlink:href=\"#TimesNewRomanPSMT-43\" transform=\"translate(330.583191 0.28125)\"/>\n     </g>\n    </g>\n   </g>\n  </g>\n </g>\n <defs>\n  <clipPath id=\"pf4877e5170\">\n   <rect x=\"44.915937\" y=\"7.2\" width=\"558\" height=\"380.52\"/>\n  </clipPath>\n </defs>\n</svg>\n",
      "text/plain": [
       "<Figure size 720x504 with 1 Axes>"
      ]
     },
     "metadata": {
      "needs_background": "light"
     },
     "output_type": "display_data"
    }
   ],
   "source": [
    "plt.figure(figsize = (10,7))\n",
    "plt.plot(res18['t'],Ps(res18,273.15+18)/1e3, c = 'tab:green', label = '$\\mathit{t}$ = +18°C')\n",
    "plt.axhline(P_need/1e3,ls = '--',c = 'grey')\n",
    "plt.plot(res50['t'],Ps(res50,273.15+50)/1e3, c = 'tab:red', label = '$\\mathit{t}$ = +50°C')\n",
    "plt.plot(res_50['t'],Ps(res_50,273.15-50)/1e3, c = 'tab:blue', label = '$\\mathit{t}$ = $-$50°C')\n",
    "\n",
    "plt.xlim(0)\n",
    "plt.xlabel('$\\mathit{t}$, с')\n",
    "plt.ylabel('$\\mathit{P}$, кН')\n",
    "plt.legend()\n",
    "plt.grid()\n",
    "# plt.savefig('Инд Pp.svg', dpi=500, bbox_inches='tight')"
   ]
  }
 ],
 "metadata": {
  "kernelspec": {
   "display_name": "Python 3.9.13 64-bit",
   "language": "python",
   "name": "python3"
  },
  "language_info": {
   "codemirror_mode": {
    "name": "ipython",
    "version": 3
   },
   "file_extension": ".py",
   "mimetype": "text/x-python",
   "name": "python",
   "nbconvert_exporter": "python",
   "pygments_lexer": "ipython3",
   "version": "3.9.13"
  },
  "orig_nbformat": 4,
  "vscode": {
   "interpreter": {
    "hash": "f5ff168696553f3e2cb115c273c46eeb315c32b0d0536992c4bad2740a7f9469"
   }
  }
 },
 "nbformat": 4,
 "nbformat_minor": 2
}
