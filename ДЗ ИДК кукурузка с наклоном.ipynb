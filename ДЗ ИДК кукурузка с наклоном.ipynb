{
 "cells": [
  {
   "cell_type": "code",
   "execution_count": 1,
   "metadata": {},
   "outputs": [],
   "source": [
    "import numpy as np\n",
    "import matplotlib.pyplot as plt\n",
    "import prop\n",
    "from pandas import DataFrame\n",
    "from scipy.optimize import fsolve\n",
    "from scipy.interpolate import interp1d\n",
    "from scipy.integrate import ode, simps\n",
    "import math\n",
    "\n",
    "%matplotlib inline\n",
    "%config InlineBackend.figure_format = 'svg'\n",
    "\n",
    "#Perараметры текста\n",
    "plt.rcParams[\"font.family\"] = 'serif'\n",
    "plt.rcParams['font.weight'] = 'ultralight'\n",
    "plt.rcParams['font.serif'] = 'Times New Roman'\n",
    "plt.rcParams['font.size'] = 14\n",
    "plt.rcParams['font.style'] = 'normal'\n",
    "plt.rcParams['mathtext.default'] = 'regular'\n",
    "plt.rcParams['mathtext.fontset'] = 'stix'"
   ]
  },
  {
   "cell_type": "code",
   "execution_count": 2,
   "metadata": {},
   "outputs": [],
   "source": [
    "# Исходные данные\n",
    "D_sn = 0.195    # калибр снаряда\n",
    "m_sn = 93       # масса снаряда\n",
    "# скорость полета во время коррекции, м/с\n",
    "V_sn_kor_min = 370\n",
    "V_sn_kor_max = 410\n",
    "# угловая скорость снаряда, об/с\n",
    "nu_sn_min = 8\n",
    "nu_sn_max = 10\n",
    "I_kor = 140     # требуемый импульс коррекции\n",
    "fi2_tel = np.deg2rad(120) # телесный угол коррекции\n",
    "t_v = 1e-3      # = delta_t время выхода двигателя на режим\n",
    "n_du = 18       # 18\n",
    "m_du_max = 0.35 # максимальная масса одного ИДК\n",
    "# кол-во коррекций: 6 (по 3 ДУ),   12 (6 по 2 ДУ + 6 по 1 ДУ),   18 (по 1 ДУ)\n",
    "# угол наклона сопла: 25 градусов\n",
    "# угол между осями ДУ: 60 градусов\n",
    "T_min = 273.15 - 50\n",
    "T_nom = 273.15 + 18\n",
    "T_max = 273.15 + 50\n",
    "\n",
    "mu_c = 0.95\n",
    "kappa_pred = 180"
   ]
  },
  {
   "cell_type": "markdown",
   "metadata": {},
   "source": [
    "#### 1. Формирование недостающих исходных данных"
   ]
  },
  {
   "cell_type": "code",
   "execution_count": 3,
   "metadata": {},
   "outputs": [
    {
     "name": "stdout",
     "output_type": "stream",
     "text": [
      "L_max = 53.2\n",
      "Время коррекции 0.033 ... 0.042 с\n",
      "ksi = 0.670\n",
      "Время горения заряда топлива: 0.02 c\n",
      "Время последействия: 0.012 c\n"
     ]
    }
   ],
   "source": [
    "D_du = 50/1000  # диаметр ИДК\n",
    "\n",
    "# максимальная длина ДУ\n",
    "L_max = (D_sn / 2 - np.sqrt(3) / 2 * D_du - 2 * 3e-3) / np.cos(np.deg2rad(25))\n",
    "print(f'L_max = {L_max*1e3:.1f}')\n",
    "L_max = math.ceil(L_max * 1000) / 1000\n",
    "\n",
    "# Определение времени работы ИДК\n",
    "t_d_min = 1 / nu_sn_max * fi2_tel / (2 * np.pi)\n",
    "t_d_max = 1 / nu_sn_min * fi2_tel / (2 * np.pi)\n",
    "print(f'Время коррекции {t_d_min:.3f} ... {t_d_max:.3f} с')\n",
    "\n",
    "# Окончательное время \n",
    "t_d = 0.033\n",
    "\n",
    "# Коэффициент заполнения индикаторной кривой\n",
    "ksi_max = interp1d(np.linspace(0.01,0.07,7),[0.5,0.55,0.65,0.75,0.79,0.8,0.8])\n",
    "ksi_min = interp1d(np.linspace(0.01,0.07,7),[0.5,0.52,0.59,0.68,0.71,0.72,0.72])\n",
    "# ksi = np.mean([ksi_min(t_d),ksi_max(t_d)])\n",
    "ksi = ksi_max(t_d) - 0.01\n",
    "print(f'ksi = {ksi:.3f}')\n",
    "\n",
    "t_g = t_d / 4 * (5 * ksi - 1) - 3/8 * t_v   # Время горения заряда топлива (первое приближение)\n",
    "t_g = math.ceil(t_g * 1000) / 1000\n",
    "t_p = t_d - t_v - t_g                       # Время последействия\n",
    "print(f'Время горения заряда топлива: {t_g} c\\nВремя последействия: {t_p:.3f} c')"
   ]
  },
  {
   "cell_type": "code",
   "execution_count": 4,
   "metadata": {},
   "outputs": [
    {
     "name": "stdout",
     "output_type": "stream",
     "text": [
      "Теоретический коэффициент тяги 1.46\n",
      "Действительный коэффициент тяги 1.318\n"
     ]
    }
   ],
   "source": [
    "# Назначим в первом приближении коэффициент расширения сопла\n",
    "zeta = 1.4\n",
    "\n",
    "# теоретический коэффициент тяги\n",
    "K_tf = interp1d(np.linspace(1.4,2.6,7),[1.46,1.51,1.56,1.6,1.62,1.64,1.67])\n",
    "K_t = K_tf(zeta) + 0\n",
    "print(f'Теоретический коэффициент тяги {K_t}')\n",
    "\n",
    "# потери\n",
    "fi1 = 0.95\n",
    "fi2 = 0.95\n",
    "\n",
    "# Действительный коэффициент тяги\n",
    "K_d = fi1 * fi2 * K_t\n",
    "print(f'Действительный коэффициент тяги {K_d:.3f}')"
   ]
  },
  {
   "cell_type": "code",
   "execution_count": 5,
   "metadata": {},
   "outputs": [
    {
     "name": "stdout",
     "output_type": "stream",
     "text": [
      "Необходимая тяга 7031.57\n"
     ]
    }
   ],
   "source": [
    "# Коэффициенты\n",
    "K1 = 0.92\n",
    "K2 = 1.08\n",
    "\n",
    "# необходимая тяга\n",
    "P_need = I_kor / (K1 * K2 * ksi * t_d) / np.cos(np.deg2rad(25))\n",
    "print(f'Необходимая тяга {P_need:.2f}')"
   ]
  },
  {
   "cell_type": "markdown",
   "metadata": {},
   "source": [
    "##### 1.6 Выбор марки топлива"
   ]
  },
  {
   "cell_type": "code",
   "execution_count": 6,
   "metadata": {},
   "outputs": [
    {
     "name": "stdout",
     "output_type": "stream",
     "text": [
      "0.0047 0.0406\n",
      "p1N = 108.303 МПа\n",
      "p1_min = 62.846 МПа\n"
     ]
    }
   ],
   "source": [
    "# посчитать тепловые потери\n",
    "\n",
    "propel = prop.get_propellant('B-3')\n",
    "p1_max = 145e6\n",
    "delta_st = np.round(1.3 * p1_max * D_du / (2 * 1000e6),4)\n",
    "D_km = np.round(D_du - 2 * delta_st,4)\n",
    "print(delta_st,D_km)\n",
    "\n",
    "# Из уравнения Бори находим минимальное и номинальное давления по одному заданному\n",
    "def fun(x):\n",
    "    p1N, p1_min = x[0], x[1]\n",
    "    return [propel.u(p1_max,T_max) / p1_max - propel.F1(p1N/1e6) / p1N,\n",
    "            propel.u(p1_max,T_max) / (p1_max * propel.F3(T_min)) - propel.F1(p1_min/1e6) / p1_min]\n",
    "\n",
    "find_p1N = lambda p1N: propel.u(p1_max,T_max) / p1_max - propel.F1(p1N/1e6) / p1N\n",
    "find_p1_min = lambda p1_min: propel.u(p1_max,T_max) / (p1_max * propel.F3(T_min)) - propel.F1(p1_min/1e6) / p1_min\n",
    "\n",
    "p1N, p1_min = fsolve(fun,[0.9 * p1_max, 0.6 * p1_max])\n",
    "\n",
    "print(f'p1N = {p1N/1e6:.3f} МПа\\np1_min = {p1_min/1e6:.3f} МПа')"
   ]
  },
  {
   "cell_type": "code",
   "execution_count": 7,
   "metadata": {},
   "outputs": [
    {
     "name": "stdout",
     "output_type": "stream",
     "text": [
      "Площадь критики 4.9273091689799966e-05\n",
      "Диаметр критики 0.0079206343704791\n",
      "Длины блоков сопла: (0.009, 0.002, 0.0044)\n",
      " Общая длина сопла: 0.0154\n",
      " Макс допуст длина заряда 0.038599999999999995\n"
     ]
    }
   ],
   "source": [
    "# Площадь критического сечения сопла\n",
    "F_kr = P_need / (K_d * p1N)\n",
    "print(f'Площадь критики {F_kr}')\n",
    "\n",
    "# диаметр критического сечения сопла\n",
    "D_kr = np.sqrt(4 * F_kr / np.pi)\n",
    "print(f'Диаметр критики {D_kr}')\n",
    "\n",
    "fi_vx = np.deg2rad(60)\n",
    "fi_c = np.deg2rad(20)\n",
    "\n",
    "# Длины участков сопла\n",
    "L1 = np.round((D_km - D_kr) / (2 * np.tan(fi_vx)),3)\n",
    "L2 = 2e-3\n",
    "L3 = np.round(D_kr/(2*np.tan(fi_c)) * (zeta - 1),4)\n",
    "\n",
    "print(f'Длины блоков сопла: {L1,L2,L3}\\n',\n",
    "      f'Общая длина сопла: {L1 + L2 + L3}\\n',\n",
    "      f'Макс допуст длина заряда {L_max - (L1 + L2 + L3)}')"
   ]
  },
  {
   "cell_type": "code",
   "execution_count": 8,
   "metadata": {},
   "outputs": [
    {
     "name": "stdout",
     "output_type": "stream",
     "text": [
      "Безразм скорость потока 1.772\n",
      " Критическая скорость звука 1075.505\n",
      " Скорость 1905.735\n",
      " Давление 12.676\n",
      " Температура 2005.495\n",
      " Плотность 18.701\n"
     ]
    }
   ],
   "source": [
    "# Расчет газодинамических параметров в выходном сечении сопла\n",
    "\n",
    "#вспомогательные гд функции\n",
    "tau = lambda lmbd, k: 1 - (k - 1)/(k + 1)*lmbd**2\n",
    "pi = lambda lmbd, k: (1 - (k - 1)/(k + 1)*lmbd**2) ** (k / (k - 1))\n",
    "eps = lambda lmbd, k: pi(lmbd,k) / tau(lmbd,k)\n",
    "q = lambda lmbd, k:  ((k + 1) / 2)**(1 / (k - 1)) * lmbd * eps(lmbd, k)\n",
    "nu = lambda lmbd, k: 1 / q(lmbd,k)\n",
    "f = lambda lmbd, k: (lmbd**2 + 1) * (1 - (k - 1) / (k + 1) * lmbd**2) ** (1 / (k - 1))\n",
    "\n",
    "A = lambda k: np.sqrt(k * ((2 / (k + 1))**((k + 1) / (k - 1))))\n",
    "\n",
    "find_lambda_a = lambda lmbd: q(lmbd,propel.k) - 1 / zeta ** 2\n",
    "\n",
    "lambda_a = fsolve(find_lambda_a,1.5)[0]\n",
    "c_kr = np.sqrt(2 * propel.k / (propel.k + 1) * propel.R * propel.T0)\n",
    "V_a = lambda_a * c_kr\n",
    "p_a = pi(lambda_a,propel.k) * p1N\n",
    "T_a = tau(lambda_a,propel.k) * propel.T0\n",
    "rho_a = p_a / (propel.R * T_a)\n",
    "\n",
    "print(f'Безразм скорость потока {lambda_a:.3f}\\n',\n",
    "      f'Критическая скорость звука {c_kr:.3f}\\n',\n",
    "      f'Скорость {V_a:.3f}\\n',\n",
    "      f'Давление {p_a/1e6:.3f}\\n',\n",
    "      f'Температура {T_a:.3f}\\n',\n",
    "      f'Плотность {rho_a:.3f}')"
   ]
  },
  {
   "cell_type": "code",
   "execution_count": 9,
   "metadata": {},
   "outputs": [],
   "source": [
    "G_p = mu_c * A(propel.k) * F_kr * p1_min / np.sqrt(propel.R * propel.T0)\n",
    "omega_t = G_p * t_g\n",
    "e_0 = 2 * propel.u(p1_min,T_min) * t_g\n",
    "S_g = omega_t / (propel.rho * propel.u(p1_min,T_min) * t_g)\n",
    "\n",
    "def results_for_one_m(m):\n",
    "    n = 1\n",
    "    ki = 1\n",
    "    while m > ki:\n",
    "        n += 3 * (m - ki)\n",
    "        ki += 2\n",
    "\n",
    "    D_nar = (D_km - 2e-3) / m\n",
    "    D_vn = D_nar - 2 * e_0\n",
    "    L_zar = S_g / (np.pi * n * (D_nar + D_vn))\n",
    "    kappa_vn = 4 * L_zar / D_vn\n",
    "    kappa_nar = 4 * n * D_nar * L_zar / (D_km**2 - n * D_nar ** 2)\n",
    "    eps_s = (D_nar ** 2 - D_vn ** 2) / D_km ** 2 * n\n",
    "    Sh = 4 * F_kr / (np.pi * D_km**2 * (1 - eps_s))\n",
    "\n",
    "    result = {\n",
    "        'm': m,\n",
    "        'n': n,\n",
    "        'D_nar': np.round(D_nar*1e3,1),\n",
    "        'D_vn': np.round(D_vn*1e3,1),\n",
    "        'L_zar': np.round(L_zar*1e3),\n",
    "        'kappa_vn': np.round(kappa_vn,2),\n",
    "        'kappa_nar': np.round(kappa_nar,2),\n",
    "        'eps_s': np.round(eps_s,3),\n",
    "        'Sh': np.round(Sh,3),\n",
    "        'pass': []\n",
    "    }\n",
    "\n",
    "    if D_vn <= 1.5e-3:\n",
    "        result['pass'].append('D_вн')\n",
    "    if L_zar > L_max - L1 - L2 - L3:\n",
    "        result['pass'].append(f'L_з на {(L_zar - (L_max - L1 - L2 - L3))*1e3:.1f} мм')\n",
    "    if kappa_vn > kappa_pred:\n",
    "        result['pass'].append('к_вн')\n",
    "    if kappa_nar > kappa_pred:\n",
    "        result['pass'].append('к_нар')\n",
    "    if eps_s <= 0.5:\n",
    "        result['pass'].append('eps_s')\n",
    "    if Sh >= 0.75:\n",
    "        result['pass'].append('Sh')\n",
    "\n",
    "    return result"
   ]
  },
  {
   "cell_type": "code",
   "execution_count": 10,
   "metadata": {},
   "outputs": [],
   "source": [
    "results = []\n",
    "for m in range(3,13,2):\n",
    "    results.append(results_for_one_m(m))"
   ]
  },
  {
   "cell_type": "code",
   "execution_count": 11,
   "metadata": {},
   "outputs": [
    {
     "data": {
      "text/html": [
       "<div>\n",
       "<style scoped>\n",
       "    .dataframe tbody tr th:only-of-type {\n",
       "        vertical-align: middle;\n",
       "    }\n",
       "\n",
       "    .dataframe tbody tr th {\n",
       "        vertical-align: top;\n",
       "    }\n",
       "\n",
       "    .dataframe thead th {\n",
       "        text-align: right;\n",
       "    }\n",
       "</style>\n",
       "<table border=\"1\" class=\"dataframe\">\n",
       "  <thead>\n",
       "    <tr style=\"text-align: right;\">\n",
       "      <th></th>\n",
       "      <th>3</th>\n",
       "      <th>5</th>\n",
       "      <th>7</th>\n",
       "      <th>9</th>\n",
       "      <th>11</th>\n",
       "    </tr>\n",
       "  </thead>\n",
       "  <tbody>\n",
       "    <tr>\n",
       "      <th>n</th>\n",
       "      <td>7</td>\n",
       "      <td>19</td>\n",
       "      <td>37</td>\n",
       "      <td>61</td>\n",
       "      <td>91</td>\n",
       "    </tr>\n",
       "    <tr>\n",
       "      <th>D_н</th>\n",
       "      <td>12.9</td>\n",
       "      <td>7.7</td>\n",
       "      <td>5.5</td>\n",
       "      <td>4.3</td>\n",
       "      <td>3.5</td>\n",
       "    </tr>\n",
       "    <tr>\n",
       "      <th>D_вн</th>\n",
       "      <td>8.0</td>\n",
       "      <td>2.9</td>\n",
       "      <td>0.7</td>\n",
       "      <td>-0.5</td>\n",
       "      <td>-1.3</td>\n",
       "    </tr>\n",
       "    <tr>\n",
       "      <th>L_з</th>\n",
       "      <td>42.0</td>\n",
       "      <td>30.0</td>\n",
       "      <td>27.0</td>\n",
       "      <td>27.0</td>\n",
       "      <td>31.0</td>\n",
       "    </tr>\n",
       "    <tr>\n",
       "      <th>к_вн</th>\n",
       "      <td>20.74</td>\n",
       "      <td>41.92</td>\n",
       "      <td>156.33</td>\n",
       "      <td>-195.85</td>\n",
       "      <td>-92.58</td>\n",
       "    </tr>\n",
       "    <tr>\n",
       "      <th>к_нар</th>\n",
       "      <td>30.66</td>\n",
       "      <td>34.39</td>\n",
       "      <td>41.47</td>\n",
       "      <td>53.06</td>\n",
       "      <td>74.2</td>\n",
       "    </tr>\n",
       "    <tr>\n",
       "      <th>eps_s</th>\n",
       "      <td>0.429</td>\n",
       "      <td>0.591</td>\n",
       "      <td>0.672</td>\n",
       "      <td>0.67</td>\n",
       "      <td>0.583</td>\n",
       "    </tr>\n",
       "    <tr>\n",
       "      <th>Sh</th>\n",
       "      <td>0.067</td>\n",
       "      <td>0.093</td>\n",
       "      <td>0.116</td>\n",
       "      <td>0.115</td>\n",
       "      <td>0.091</td>\n",
       "    </tr>\n",
       "    <tr>\n",
       "      <th>не подходит по</th>\n",
       "      <td>[L_з на 3.1 мм, eps_s]</td>\n",
       "      <td>[]</td>\n",
       "      <td>[D_вн]</td>\n",
       "      <td>[D_вн]</td>\n",
       "      <td>[D_вн]</td>\n",
       "    </tr>\n",
       "  </tbody>\n",
       "</table>\n",
       "</div>"
      ],
      "text/plain": [
       "                                    3      5       7       9       11\n",
       "n                                    7     19      37      61      91\n",
       "D_н                               12.9    7.7     5.5     4.3     3.5\n",
       "D_вн                               8.0    2.9     0.7    -0.5    -1.3\n",
       "L_з                               42.0   30.0    27.0    27.0    31.0\n",
       "к_вн                             20.74  41.92  156.33 -195.85  -92.58\n",
       "к_нар                            30.66  34.39   41.47   53.06    74.2\n",
       "eps_s                            0.429  0.591   0.672    0.67   0.583\n",
       "Sh                               0.067  0.093   0.116   0.115   0.091\n",
       "не подходит по  [L_з на 3.1 мм, eps_s]     []  [D_вн]  [D_вн]  [D_вн]"
      ]
     },
     "execution_count": 11,
     "metadata": {},
     "output_type": "execute_result"
    }
   ],
   "source": [
    "df_dict = {}\n",
    "for data in results:\n",
    "    df_dict[data['m']] = list(data.values())[1:]\n",
    "df = DataFrame(df_dict,index = ['n','D_н','D_вн','L_з','к_вн','к_нар','eps_s','Sh','не подходит по'])\n",
    "df.style.hide(axis='index')\n",
    "\n",
    "df"
   ]
  },
  {
   "cell_type": "code",
   "execution_count": 12,
   "metadata": {},
   "outputs": [],
   "source": [
    "itog = results[-4]\n",
    "L_zar = itog['L_zar']/1e3\n",
    "D_nar = itog['D_nar']/1e3\n",
    "D_vn = itog['D_vn']/1e3\n",
    "n_zar = itog['n']"
   ]
  },
  {
   "cell_type": "code",
   "execution_count": 13,
   "metadata": {},
   "outputs": [],
   "source": [
    "sigma_t = 300\n",
    "nu_t = 0.7\n",
    "\n",
    "# тепловые потери\n",
    "# F_oxl = 1.2 * np.pi * D_km * L_zar + n_zar * np.pi * L_zar * (D_vn + D_nar) + \\\n",
    "#         np.pi * n_zar / 2 * (D_nar**2 - D_vn**2)\n",
    "# Q_zh = propel.k / (propel.k - 1) * propel.R * propel.T0\n",
    "\n",
    "# def chi_teplf(p0):\n",
    "#      chi_tepl1 = sigma_t * nu_t * F_oxl * p0 / (Q_zh * propel.R * G_p)\n",
    "#      chi_tepl2 = propel.k / (propel.k - 1) * p0 / (propel.rho * Q_zh)\n",
    "#      return 1 - chi_tepl1 - chi_tepl2\n",
    "# print(chi_teplf(p1_max))"
   ]
  },
  {
   "cell_type": "markdown",
   "metadata": {},
   "source": [
    "#### Расчет воспламенителя"
   ]
  },
  {
   "cell_type": "code",
   "execution_count": 14,
   "metadata": {},
   "outputs": [
    {
     "name": "stdout",
     "output_type": "stream",
     "text": [
      "p_vsp-50 = 1.721\n",
      "omega_v = 0.00301\n"
     ]
    }
   ],
   "source": [
    "sigma_t = 300\n",
    "v_t = 0.7\n",
    "\n",
    "R_v = 314\n",
    "Q_v = 3050e3\n",
    "u_v = 0.05\n",
    "k_v = 1.25\n",
    "rho_v = 1700\n",
    "e_v = 4e-3\n",
    "m_v = 3\n",
    "p_atm = 101325\n",
    "\n",
    "t_vv = e_v / u_v\n",
    "T_v = ((k_v - 1) / k_v) * (Q_v / R_v)\n",
    "T_s = 500\n",
    "\n",
    "W_0 = np.pi / 4 * (D_km**2) * L_zar - omega_t / propel.rho\n",
    "F_oxl = 1.2 * np.pi * D_km * L_zar + n_zar * np.pi * L_zar * (D_vn + D_nar) + \\\n",
    "        np.pi * n_zar / 2 * (D_nar**2 - D_vn**2)\n",
    "\n",
    "lambda_t = 0.23\n",
    "\n",
    "def p_vsp(T0):\n",
    "    return 1250 * propel.rho / sigma_t * propel.u(0.5e6, T0) * R_v * T_v * (T_s - T0) / (T_v - T_s)\n",
    "\n",
    "p_vsp_50 = p_vsp(273.15 - 50)\n",
    "#p_vsp_50 = 5e6\n",
    "p_max = 1.1 * p_vsp_50\n",
    "print(f'p_vsp-50 = {p_vsp_50/1e6:.3f}')\n",
    "\n",
    "b2 = (((propel.k - 1) / W_0) * (v_t * sigma_t * F_oxl / propel.R)) + ((propel.k * A(propel.k) * F_kr / W_0) *\\\n",
    "     (np.sqrt(propel.R * propel.T0)))\n",
    "S0_v = (p_max * b2 * ((m_v / (t_vv * b2)) ** (-m_v / (t_vv * b2 - m_v)))) / (((propel.k - 1) / W_0) * u_v * rho_v * Q_v)\n",
    "b1 = ((propel.k-1) / W_0) * rho_v * S0_v * u_v * Q_v\n",
    "\n",
    "\n",
    "def p_v(t):\n",
    "    p = - ((b1 / ((m_v / t_vv) - b2)) * (np.exp(- m_v * t / t_vv))) + ((p_atm + (b1 / ((m_v / t_vv) - b2))) * (np.exp(- b2 * t)))\n",
    "    return p\n",
    "\n",
    "omega_v = e_v * rho_v * S0_v * ((1 - np.exp(- m_v)) / m_v)\n",
    "print(f'omega_v = {(omega_v):.5f}')"
   ]
  },
  {
   "cell_type": "code",
   "execution_count": 15,
   "metadata": {},
   "outputs": [
    {
     "data": {
      "image/svg+xml": "<?xml version=\"1.0\" encoding=\"utf-8\" standalone=\"no\"?>\n<!DOCTYPE svg PUBLIC \"-//W3C//DTD SVG 1.1//EN\"\n  \"http://www.w3.org/Graphics/SVG/1.1/DTD/svg11.dtd\">\n<svg xmlns:xlink=\"http://www.w3.org/1999/xlink\" width=\"564.815938pt\" height=\"376.991875pt\" viewBox=\"0 0 564.815938 376.991875\" xmlns=\"http://www.w3.org/2000/svg\" version=\"1.1\">\n <metadata>\n  <rdf:RDF xmlns:dc=\"http://purl.org/dc/elements/1.1/\" xmlns:cc=\"http://creativecommons.org/ns#\" xmlns:rdf=\"http://www.w3.org/1999/02/22-rdf-syntax-ns#\">\n   <cc:Work>\n    <dc:type rdf:resource=\"http://purl.org/dc/dcmitype/StillImage\"/>\n    <dc:date>2022-11-13T19:56:50.337840</dc:date>\n    <dc:format>image/svg+xml</dc:format>\n    <dc:creator>\n     <cc:Agent>\n      <dc:title>Matplotlib v3.5.2, https://matplotlib.org/</dc:title>\n     </cc:Agent>\n    </dc:creator>\n   </cc:Work>\n  </rdf:RDF>\n </metadata>\n <defs>\n  <style type=\"text/css\">*{stroke-linejoin: round; stroke-linecap: butt}</style>\n </defs>\n <g id=\"figure_1\">\n  <g id=\"patch_1\">\n   <path d=\"M 0 376.991875 \nL 564.815938 376.991875 \nL 564.815938 0 \nL 0 0 \nL 0 376.991875 \nz\n\" style=\"fill: none\"/>\n  </g>\n  <g id=\"axes_1\">\n   <g id=\"patch_2\">\n    <path d=\"M 55.415938 333.36 \nL 557.615938 333.36 \nL 557.615938 7.2 \nL 55.415938 7.2 \nz\n\" style=\"fill: #ffffff\"/>\n   </g>\n   <g id=\"matplotlib.axis_1\">\n    <g id=\"xtick_1\">\n     <g id=\"line2d_1\">\n      <path d=\"M 78.24321 333.36 \nL 78.24321 7.2 \n\" clip-path=\"url(#p15ad710767)\" style=\"fill: none; stroke: #b0b0b0; stroke-width: 0.8; stroke-linecap: square\"/>\n     </g>\n     <g id=\"line2d_2\">\n      <defs>\n       <path id=\"me839113265\" d=\"M 0 0 \nL 0 3.5 \n\" style=\"stroke: #000000; stroke-width: 0.8\"/>\n      </defs>\n      <g>\n       <use xlink:href=\"#me839113265\" x=\"78.24321\" y=\"333.36\" style=\"stroke: #000000; stroke-width: 0.8\"/>\n      </g>\n     </g>\n     <g id=\"text_1\">\n      <!-- 0.00 -->\n      <g transform=\"translate(65.99321 350.08125)scale(0.14 -0.14)\">\n       <defs>\n        <path id=\"TimesNewRomanPSMT-30\" d=\"M 231 2094 \nQ 231 2819 450 3342 \nQ 669 3866 1031 4122 \nQ 1313 4325 1613 4325 \nQ 2100 4325 2488 3828 \nQ 2972 3213 2972 2159 \nQ 2972 1422 2759 906 \nQ 2547 391 2217 158 \nQ 1888 -75 1581 -75 \nQ 975 -75 572 641 \nQ 231 1244 231 2094 \nz\nM 844 2016 \nQ 844 1141 1059 588 \nQ 1238 122 1591 122 \nQ 1759 122 1940 273 \nQ 2122 425 2216 781 \nQ 2359 1319 2359 2297 \nQ 2359 3022 2209 3506 \nQ 2097 3866 1919 4016 \nQ 1791 4119 1609 4119 \nQ 1397 4119 1231 3928 \nQ 1006 3669 925 3112 \nQ 844 2556 844 2016 \nz\n\" transform=\"scale(0.015625)\"/>\n        <path id=\"TimesNewRomanPSMT-2e\" d=\"M 800 606 \nQ 947 606 1047 504 \nQ 1147 403 1147 259 \nQ 1147 116 1045 14 \nQ 944 -88 800 -88 \nQ 656 -88 554 14 \nQ 453 116 453 259 \nQ 453 406 554 506 \nQ 656 606 800 606 \nz\n\" transform=\"scale(0.015625)\"/>\n       </defs>\n       <use xlink:href=\"#TimesNewRomanPSMT-30\"/>\n       <use xlink:href=\"#TimesNewRomanPSMT-2e\" x=\"50\"/>\n       <use xlink:href=\"#TimesNewRomanPSMT-30\" x=\"75\"/>\n       <use xlink:href=\"#TimesNewRomanPSMT-30\" x=\"125\"/>\n      </g>\n     </g>\n    </g>\n    <g id=\"xtick_2\">\n     <g id=\"line2d_3\">\n      <path d=\"M 135.354247 333.36 \nL 135.354247 7.2 \n\" clip-path=\"url(#p15ad710767)\" style=\"fill: none; stroke: #b0b0b0; stroke-width: 0.8; stroke-linecap: square\"/>\n     </g>\n     <g id=\"line2d_4\">\n      <g>\n       <use xlink:href=\"#me839113265\" x=\"135.354247\" y=\"333.36\" style=\"stroke: #000000; stroke-width: 0.8\"/>\n      </g>\n     </g>\n     <g id=\"text_2\">\n      <!-- 0.01 -->\n      <g transform=\"translate(123.104247 350.08125)scale(0.14 -0.14)\">\n       <defs>\n        <path id=\"TimesNewRomanPSMT-31\" d=\"M 750 3822 \nL 1781 4325 \nL 1884 4325 \nL 1884 747 \nQ 1884 391 1914 303 \nQ 1944 216 2037 169 \nQ 2131 122 2419 116 \nL 2419 0 \nL 825 0 \nL 825 116 \nQ 1125 122 1212 167 \nQ 1300 213 1334 289 \nQ 1369 366 1369 747 \nL 1369 3034 \nQ 1369 3497 1338 3628 \nQ 1316 3728 1258 3775 \nQ 1200 3822 1119 3822 \nQ 1003 3822 797 3725 \nL 750 3822 \nz\n\" transform=\"scale(0.015625)\"/>\n       </defs>\n       <use xlink:href=\"#TimesNewRomanPSMT-30\"/>\n       <use xlink:href=\"#TimesNewRomanPSMT-2e\" x=\"50\"/>\n       <use xlink:href=\"#TimesNewRomanPSMT-30\" x=\"75\"/>\n       <use xlink:href=\"#TimesNewRomanPSMT-31\" x=\"125\"/>\n      </g>\n     </g>\n    </g>\n    <g id=\"xtick_3\">\n     <g id=\"line2d_5\">\n      <path d=\"M 192.465283 333.36 \nL 192.465283 7.2 \n\" clip-path=\"url(#p15ad710767)\" style=\"fill: none; stroke: #b0b0b0; stroke-width: 0.8; stroke-linecap: square\"/>\n     </g>\n     <g id=\"line2d_6\">\n      <g>\n       <use xlink:href=\"#me839113265\" x=\"192.465283\" y=\"333.36\" style=\"stroke: #000000; stroke-width: 0.8\"/>\n      </g>\n     </g>\n     <g id=\"text_3\">\n      <!-- 0.02 -->\n      <g transform=\"translate(180.215283 350.08125)scale(0.14 -0.14)\">\n       <defs>\n        <path id=\"TimesNewRomanPSMT-32\" d=\"M 2934 816 \nL 2638 0 \nL 138 0 \nL 138 116 \nQ 1241 1122 1691 1759 \nQ 2141 2397 2141 2925 \nQ 2141 3328 1894 3587 \nQ 1647 3847 1303 3847 \nQ 991 3847 742 3664 \nQ 494 3481 375 3128 \nL 259 3128 \nQ 338 3706 661 4015 \nQ 984 4325 1469 4325 \nQ 1984 4325 2329 3994 \nQ 2675 3663 2675 3213 \nQ 2675 2891 2525 2569 \nQ 2294 2063 1775 1497 \nQ 997 647 803 472 \nL 1909 472 \nQ 2247 472 2383 497 \nQ 2519 522 2628 598 \nQ 2738 675 2819 816 \nL 2934 816 \nz\n\" transform=\"scale(0.015625)\"/>\n       </defs>\n       <use xlink:href=\"#TimesNewRomanPSMT-30\"/>\n       <use xlink:href=\"#TimesNewRomanPSMT-2e\" x=\"50\"/>\n       <use xlink:href=\"#TimesNewRomanPSMT-30\" x=\"75\"/>\n       <use xlink:href=\"#TimesNewRomanPSMT-32\" x=\"125\"/>\n      </g>\n     </g>\n    </g>\n    <g id=\"xtick_4\">\n     <g id=\"line2d_7\">\n      <path d=\"M 249.57632 333.36 \nL 249.57632 7.2 \n\" clip-path=\"url(#p15ad710767)\" style=\"fill: none; stroke: #b0b0b0; stroke-width: 0.8; stroke-linecap: square\"/>\n     </g>\n     <g id=\"line2d_8\">\n      <g>\n       <use xlink:href=\"#me839113265\" x=\"249.57632\" y=\"333.36\" style=\"stroke: #000000; stroke-width: 0.8\"/>\n      </g>\n     </g>\n     <g id=\"text_4\">\n      <!-- 0.03 -->\n      <g transform=\"translate(237.32632 350.08125)scale(0.14 -0.14)\">\n       <defs>\n        <path id=\"TimesNewRomanPSMT-33\" d=\"M 325 3431 \nQ 506 3859 782 4092 \nQ 1059 4325 1472 4325 \nQ 1981 4325 2253 3994 \nQ 2459 3747 2459 3466 \nQ 2459 3003 1878 2509 \nQ 2269 2356 2469 2072 \nQ 2669 1788 2669 1403 \nQ 2669 853 2319 450 \nQ 1863 -75 997 -75 \nQ 569 -75 414 31 \nQ 259 138 259 259 \nQ 259 350 332 419 \nQ 406 488 509 488 \nQ 588 488 669 463 \nQ 722 447 909 348 \nQ 1097 250 1169 231 \nQ 1284 197 1416 197 \nQ 1734 197 1970 444 \nQ 2206 691 2206 1028 \nQ 2206 1275 2097 1509 \nQ 2016 1684 1919 1775 \nQ 1784 1900 1550 2001 \nQ 1316 2103 1072 2103 \nL 972 2103 \nL 972 2197 \nQ 1219 2228 1467 2375 \nQ 1716 2522 1828 2728 \nQ 1941 2934 1941 3181 \nQ 1941 3503 1739 3701 \nQ 1538 3900 1238 3900 \nQ 753 3900 428 3381 \nL 325 3431 \nz\n\" transform=\"scale(0.015625)\"/>\n       </defs>\n       <use xlink:href=\"#TimesNewRomanPSMT-30\"/>\n       <use xlink:href=\"#TimesNewRomanPSMT-2e\" x=\"50\"/>\n       <use xlink:href=\"#TimesNewRomanPSMT-30\" x=\"75\"/>\n       <use xlink:href=\"#TimesNewRomanPSMT-33\" x=\"125\"/>\n      </g>\n     </g>\n    </g>\n    <g id=\"xtick_5\">\n     <g id=\"line2d_9\">\n      <path d=\"M 306.687356 333.36 \nL 306.687356 7.2 \n\" clip-path=\"url(#p15ad710767)\" style=\"fill: none; stroke: #b0b0b0; stroke-width: 0.8; stroke-linecap: square\"/>\n     </g>\n     <g id=\"line2d_10\">\n      <g>\n       <use xlink:href=\"#me839113265\" x=\"306.687356\" y=\"333.36\" style=\"stroke: #000000; stroke-width: 0.8\"/>\n      </g>\n     </g>\n     <g id=\"text_5\">\n      <!-- 0.04 -->\n      <g transform=\"translate(294.437356 350.08125)scale(0.14 -0.14)\">\n       <defs>\n        <path id=\"TimesNewRomanPSMT-34\" d=\"M 2978 1563 \nL 2978 1119 \nL 2409 1119 \nL 2409 0 \nL 1894 0 \nL 1894 1119 \nL 100 1119 \nL 100 1519 \nL 2066 4325 \nL 2409 4325 \nL 2409 1563 \nL 2978 1563 \nz\nM 1894 1563 \nL 1894 3666 \nL 406 1563 \nL 1894 1563 \nz\n\" transform=\"scale(0.015625)\"/>\n       </defs>\n       <use xlink:href=\"#TimesNewRomanPSMT-30\"/>\n       <use xlink:href=\"#TimesNewRomanPSMT-2e\" x=\"50\"/>\n       <use xlink:href=\"#TimesNewRomanPSMT-30\" x=\"75\"/>\n       <use xlink:href=\"#TimesNewRomanPSMT-34\" x=\"125\"/>\n      </g>\n     </g>\n    </g>\n    <g id=\"xtick_6\">\n     <g id=\"line2d_11\">\n      <path d=\"M 363.798393 333.36 \nL 363.798393 7.2 \n\" clip-path=\"url(#p15ad710767)\" style=\"fill: none; stroke: #b0b0b0; stroke-width: 0.8; stroke-linecap: square\"/>\n     </g>\n     <g id=\"line2d_12\">\n      <g>\n       <use xlink:href=\"#me839113265\" x=\"363.798393\" y=\"333.36\" style=\"stroke: #000000; stroke-width: 0.8\"/>\n      </g>\n     </g>\n     <g id=\"text_6\">\n      <!-- 0.05 -->\n      <g transform=\"translate(351.548393 350.08125)scale(0.14 -0.14)\">\n       <defs>\n        <path id=\"TimesNewRomanPSMT-35\" d=\"M 2778 4238 \nL 2534 3706 \nL 1259 3706 \nL 981 3138 \nQ 1809 3016 2294 2522 \nQ 2709 2097 2709 1522 \nQ 2709 1188 2573 903 \nQ 2438 619 2231 419 \nQ 2025 219 1772 97 \nQ 1413 -75 1034 -75 \nQ 653 -75 479 54 \nQ 306 184 306 341 \nQ 306 428 378 495 \nQ 450 563 559 563 \nQ 641 563 702 538 \nQ 763 513 909 409 \nQ 1144 247 1384 247 \nQ 1750 247 2026 523 \nQ 2303 800 2303 1197 \nQ 2303 1581 2056 1914 \nQ 1809 2247 1375 2428 \nQ 1034 2569 447 2591 \nL 1259 4238 \nL 2778 4238 \nz\n\" transform=\"scale(0.015625)\"/>\n       </defs>\n       <use xlink:href=\"#TimesNewRomanPSMT-30\"/>\n       <use xlink:href=\"#TimesNewRomanPSMT-2e\" x=\"50\"/>\n       <use xlink:href=\"#TimesNewRomanPSMT-30\" x=\"75\"/>\n       <use xlink:href=\"#TimesNewRomanPSMT-35\" x=\"125\"/>\n      </g>\n     </g>\n    </g>\n    <g id=\"xtick_7\">\n     <g id=\"line2d_13\">\n      <path d=\"M 420.909429 333.36 \nL 420.909429 7.2 \n\" clip-path=\"url(#p15ad710767)\" style=\"fill: none; stroke: #b0b0b0; stroke-width: 0.8; stroke-linecap: square\"/>\n     </g>\n     <g id=\"line2d_14\">\n      <g>\n       <use xlink:href=\"#me839113265\" x=\"420.909429\" y=\"333.36\" style=\"stroke: #000000; stroke-width: 0.8\"/>\n      </g>\n     </g>\n     <g id=\"text_7\">\n      <!-- 0.06 -->\n      <g transform=\"translate(408.659429 350.08125)scale(0.14 -0.14)\">\n       <defs>\n        <path id=\"TimesNewRomanPSMT-36\" d=\"M 2869 4325 \nL 2869 4209 \nQ 2456 4169 2195 4045 \nQ 1934 3922 1679 3669 \nQ 1425 3416 1258 3105 \nQ 1091 2794 978 2366 \nQ 1428 2675 1881 2675 \nQ 2316 2675 2634 2325 \nQ 2953 1975 2953 1425 \nQ 2953 894 2631 456 \nQ 2244 -75 1606 -75 \nQ 1172 -75 869 213 \nQ 275 772 275 1663 \nQ 275 2231 503 2743 \nQ 731 3256 1154 3653 \nQ 1578 4050 1965 4187 \nQ 2353 4325 2688 4325 \nL 2869 4325 \nz\nM 925 2138 \nQ 869 1716 869 1456 \nQ 869 1156 980 804 \nQ 1091 453 1309 247 \nQ 1469 100 1697 100 \nQ 1969 100 2183 356 \nQ 2397 613 2397 1088 \nQ 2397 1622 2184 2012 \nQ 1972 2403 1581 2403 \nQ 1463 2403 1327 2353 \nQ 1191 2303 925 2138 \nz\n\" transform=\"scale(0.015625)\"/>\n       </defs>\n       <use xlink:href=\"#TimesNewRomanPSMT-30\"/>\n       <use xlink:href=\"#TimesNewRomanPSMT-2e\" x=\"50\"/>\n       <use xlink:href=\"#TimesNewRomanPSMT-30\" x=\"75\"/>\n       <use xlink:href=\"#TimesNewRomanPSMT-36\" x=\"125\"/>\n      </g>\n     </g>\n    </g>\n    <g id=\"xtick_8\">\n     <g id=\"line2d_15\">\n      <path d=\"M 478.020466 333.36 \nL 478.020466 7.2 \n\" clip-path=\"url(#p15ad710767)\" style=\"fill: none; stroke: #b0b0b0; stroke-width: 0.8; stroke-linecap: square\"/>\n     </g>\n     <g id=\"line2d_16\">\n      <g>\n       <use xlink:href=\"#me839113265\" x=\"478.020466\" y=\"333.36\" style=\"stroke: #000000; stroke-width: 0.8\"/>\n      </g>\n     </g>\n     <g id=\"text_8\">\n      <!-- 0.07 -->\n      <g transform=\"translate(465.770466 350.08125)scale(0.14 -0.14)\">\n       <defs>\n        <path id=\"TimesNewRomanPSMT-37\" d=\"M 644 4238 \nL 2916 4238 \nL 2916 4119 \nL 1503 -88 \nL 1153 -88 \nL 2419 3728 \nL 1253 3728 \nQ 900 3728 750 3644 \nQ 488 3500 328 3200 \nL 238 3234 \nL 644 4238 \nz\n\" transform=\"scale(0.015625)\"/>\n       </defs>\n       <use xlink:href=\"#TimesNewRomanPSMT-30\"/>\n       <use xlink:href=\"#TimesNewRomanPSMT-2e\" x=\"50\"/>\n       <use xlink:href=\"#TimesNewRomanPSMT-30\" x=\"75\"/>\n       <use xlink:href=\"#TimesNewRomanPSMT-37\" x=\"125\"/>\n      </g>\n     </g>\n    </g>\n    <g id=\"xtick_9\">\n     <g id=\"line2d_17\">\n      <path d=\"M 535.131502 333.36 \nL 535.131502 7.2 \n\" clip-path=\"url(#p15ad710767)\" style=\"fill: none; stroke: #b0b0b0; stroke-width: 0.8; stroke-linecap: square\"/>\n     </g>\n     <g id=\"line2d_18\">\n      <g>\n       <use xlink:href=\"#me839113265\" x=\"535.131502\" y=\"333.36\" style=\"stroke: #000000; stroke-width: 0.8\"/>\n      </g>\n     </g>\n     <g id=\"text_9\">\n      <!-- 0.08 -->\n      <g transform=\"translate(522.881502 350.08125)scale(0.14 -0.14)\">\n       <defs>\n        <path id=\"TimesNewRomanPSMT-38\" d=\"M 1228 2134 \nQ 725 2547 579 2797 \nQ 434 3047 434 3316 \nQ 434 3728 753 4026 \nQ 1072 4325 1600 4325 \nQ 2113 4325 2425 4047 \nQ 2738 3769 2738 3413 \nQ 2738 3175 2569 2928 \nQ 2400 2681 1866 2347 \nQ 2416 1922 2594 1678 \nQ 2831 1359 2831 1006 \nQ 2831 559 2490 242 \nQ 2150 -75 1597 -75 \nQ 994 -75 656 303 \nQ 388 606 388 966 \nQ 388 1247 577 1523 \nQ 766 1800 1228 2134 \nz\nM 1719 2469 \nQ 2094 2806 2194 3001 \nQ 2294 3197 2294 3444 \nQ 2294 3772 2109 3958 \nQ 1925 4144 1606 4144 \nQ 1288 4144 1088 3959 \nQ 888 3775 888 3528 \nQ 888 3366 970 3203 \nQ 1053 3041 1206 2894 \nL 1719 2469 \nz\nM 1375 2016 \nQ 1116 1797 991 1539 \nQ 866 1281 866 981 \nQ 866 578 1086 336 \nQ 1306 94 1647 94 \nQ 1984 94 2187 284 \nQ 2391 475 2391 747 \nQ 2391 972 2272 1150 \nQ 2050 1481 1375 2016 \nz\n\" transform=\"scale(0.015625)\"/>\n       </defs>\n       <use xlink:href=\"#TimesNewRomanPSMT-30\"/>\n       <use xlink:href=\"#TimesNewRomanPSMT-2e\" x=\"50\"/>\n       <use xlink:href=\"#TimesNewRomanPSMT-30\" x=\"75\"/>\n       <use xlink:href=\"#TimesNewRomanPSMT-38\" x=\"125\"/>\n      </g>\n     </g>\n    </g>\n    <g id=\"text_10\">\n     <!-- $\\mathit{t}, с$ -->\n     <g transform=\"translate(298.605938 366.797188)scale(0.14 -0.14)\">\n      <defs>\n       <path id=\"STIXGeneral-Italic-74\" d=\"M 1894 2739 \nL 1862 2534 \nL 1325 2534 \nL 768 435 \nQ 755 384 755 346 \nQ 755 243 851 243 \nQ 928 243 1030 342 \nQ 1133 442 1370 749 \nL 1453 704 \nQ 1158 256 969 93 \nQ 781 -70 538 -70 \nQ 243 -70 243 166 \nQ 243 230 346 640 \nL 845 2534 \nL 365 2534 \nL 358 2573 \nQ 358 2688 570 2733 \nQ 730 2771 992 2979 \nQ 1254 3187 1421 3437 \nQ 1459 3494 1510 3494 \nQ 1568 3494 1568 3443 \nQ 1568 3411 1562 3398 \nL 1382 2739 \nL 1894 2739 \nz\n\" transform=\"scale(0.015625)\"/>\n       <path id=\"TimesNewRomanPSMT-2c\" d=\"M 344 -1066 \nL 344 -928 \nQ 666 -822 842 -598 \nQ 1019 -375 1019 -125 \nQ 1019 -66 991 -25 \nQ 969 3 947 3 \nQ 913 3 797 -59 \nQ 741 -88 678 -88 \nQ 525 -88 434 3 \nQ 344 94 344 253 \nQ 344 406 461 515 \nQ 578 625 747 625 \nQ 953 625 1114 445 \nQ 1275 266 1275 -31 \nQ 1275 -353 1051 -629 \nQ 828 -906 344 -1066 \nz\n\" transform=\"scale(0.015625)\"/>\n       <path id=\"TimesNewRomanPSMT-441\" d=\"M 2631 1088 \nQ 2516 522 2178 217 \nQ 1841 -88 1431 -88 \nQ 944 -88 581 321 \nQ 219 731 219 1428 \nQ 219 2103 620 2525 \nQ 1022 2947 1584 2947 \nQ 2006 2947 2278 2723 \nQ 2550 2500 2550 2259 \nQ 2550 2141 2473 2067 \nQ 2397 1994 2259 1994 \nQ 2075 1994 1981 2113 \nQ 1928 2178 1911 2362 \nQ 1894 2547 1784 2644 \nQ 1675 2738 1481 2738 \nQ 1169 2738 978 2506 \nQ 725 2200 725 1697 \nQ 725 1184 976 792 \nQ 1228 400 1656 400 \nQ 1963 400 2206 609 \nQ 2378 753 2541 1131 \nL 2631 1088 \nz\n\" transform=\"scale(0.015625)\"/>\n      </defs>\n      <use xlink:href=\"#STIXGeneral-Italic-74\" transform=\"translate(0 0.40625)\"/>\n      <use xlink:href=\"#TimesNewRomanPSMT-2c\" transform=\"translate(27.799988 0.40625)\"/>\n      <use xlink:href=\"#TimesNewRomanPSMT-441\" transform=\"translate(68.356628 0.40625)\"/>\n     </g>\n    </g>\n   </g>\n   <g id=\"matplotlib.axis_2\">\n    <g id=\"ytick_1\">\n     <g id=\"line2d_19\">\n      <path d=\"M 55.415938 293.945456 \nL 557.615938 293.945456 \n\" clip-path=\"url(#p15ad710767)\" style=\"fill: none; stroke: #b0b0b0; stroke-width: 0.8; stroke-linecap: square\"/>\n     </g>\n     <g id=\"line2d_20\">\n      <defs>\n       <path id=\"ma3d3fe0786\" d=\"M 0 0 \nL -3.5 0 \n\" style=\"stroke: #000000; stroke-width: 0.8\"/>\n      </defs>\n      <g>\n       <use xlink:href=\"#ma3d3fe0786\" x=\"55.415938\" y=\"293.945456\" style=\"stroke: #000000; stroke-width: 0.8\"/>\n      </g>\n     </g>\n     <g id=\"text_11\">\n      <!-- 0.25 -->\n      <g transform=\"translate(23.915938 298.806081)scale(0.14 -0.14)\">\n       <use xlink:href=\"#TimesNewRomanPSMT-30\"/>\n       <use xlink:href=\"#TimesNewRomanPSMT-2e\" x=\"50\"/>\n       <use xlink:href=\"#TimesNewRomanPSMT-32\" x=\"75\"/>\n       <use xlink:href=\"#TimesNewRomanPSMT-35\" x=\"125\"/>\n      </g>\n     </g>\n    </g>\n    <g id=\"ytick_2\">\n     <g id=\"line2d_21\">\n      <path d=\"M 55.415938 252.598408 \nL 557.615938 252.598408 \n\" clip-path=\"url(#p15ad710767)\" style=\"fill: none; stroke: #b0b0b0; stroke-width: 0.8; stroke-linecap: square\"/>\n     </g>\n     <g id=\"line2d_22\">\n      <g>\n       <use xlink:href=\"#ma3d3fe0786\" x=\"55.415938\" y=\"252.598408\" style=\"stroke: #000000; stroke-width: 0.8\"/>\n      </g>\n     </g>\n     <g id=\"text_12\">\n      <!-- 0.50 -->\n      <g transform=\"translate(23.915938 257.459033)scale(0.14 -0.14)\">\n       <use xlink:href=\"#TimesNewRomanPSMT-30\"/>\n       <use xlink:href=\"#TimesNewRomanPSMT-2e\" x=\"50\"/>\n       <use xlink:href=\"#TimesNewRomanPSMT-35\" x=\"75\"/>\n       <use xlink:href=\"#TimesNewRomanPSMT-30\" x=\"125\"/>\n      </g>\n     </g>\n    </g>\n    <g id=\"ytick_3\">\n     <g id=\"line2d_23\">\n      <path d=\"M 55.415938 211.25136 \nL 557.615938 211.25136 \n\" clip-path=\"url(#p15ad710767)\" style=\"fill: none; stroke: #b0b0b0; stroke-width: 0.8; stroke-linecap: square\"/>\n     </g>\n     <g id=\"line2d_24\">\n      <g>\n       <use xlink:href=\"#ma3d3fe0786\" x=\"55.415938\" y=\"211.25136\" style=\"stroke: #000000; stroke-width: 0.8\"/>\n      </g>\n     </g>\n     <g id=\"text_13\">\n      <!-- 0.75 -->\n      <g transform=\"translate(23.915938 216.111985)scale(0.14 -0.14)\">\n       <use xlink:href=\"#TimesNewRomanPSMT-30\"/>\n       <use xlink:href=\"#TimesNewRomanPSMT-2e\" x=\"50\"/>\n       <use xlink:href=\"#TimesNewRomanPSMT-37\" x=\"75\"/>\n       <use xlink:href=\"#TimesNewRomanPSMT-35\" x=\"125\"/>\n      </g>\n     </g>\n    </g>\n    <g id=\"ytick_4\">\n     <g id=\"line2d_25\">\n      <path d=\"M 55.415938 169.904312 \nL 557.615938 169.904312 \n\" clip-path=\"url(#p15ad710767)\" style=\"fill: none; stroke: #b0b0b0; stroke-width: 0.8; stroke-linecap: square\"/>\n     </g>\n     <g id=\"line2d_26\">\n      <g>\n       <use xlink:href=\"#ma3d3fe0786\" x=\"55.415938\" y=\"169.904312\" style=\"stroke: #000000; stroke-width: 0.8\"/>\n      </g>\n     </g>\n     <g id=\"text_14\">\n      <!-- 1.00 -->\n      <g transform=\"translate(23.915938 174.764937)scale(0.14 -0.14)\">\n       <use xlink:href=\"#TimesNewRomanPSMT-31\"/>\n       <use xlink:href=\"#TimesNewRomanPSMT-2e\" x=\"50\"/>\n       <use xlink:href=\"#TimesNewRomanPSMT-30\" x=\"75\"/>\n       <use xlink:href=\"#TimesNewRomanPSMT-30\" x=\"125\"/>\n      </g>\n     </g>\n    </g>\n    <g id=\"ytick_5\">\n     <g id=\"line2d_27\">\n      <path d=\"M 55.415938 128.557264 \nL 557.615938 128.557264 \n\" clip-path=\"url(#p15ad710767)\" style=\"fill: none; stroke: #b0b0b0; stroke-width: 0.8; stroke-linecap: square\"/>\n     </g>\n     <g id=\"line2d_28\">\n      <g>\n       <use xlink:href=\"#ma3d3fe0786\" x=\"55.415938\" y=\"128.557264\" style=\"stroke: #000000; stroke-width: 0.8\"/>\n      </g>\n     </g>\n     <g id=\"text_15\">\n      <!-- 1.25 -->\n      <g transform=\"translate(23.915938 133.417889)scale(0.14 -0.14)\">\n       <use xlink:href=\"#TimesNewRomanPSMT-31\"/>\n       <use xlink:href=\"#TimesNewRomanPSMT-2e\" x=\"50\"/>\n       <use xlink:href=\"#TimesNewRomanPSMT-32\" x=\"75\"/>\n       <use xlink:href=\"#TimesNewRomanPSMT-35\" x=\"125\"/>\n      </g>\n     </g>\n    </g>\n    <g id=\"ytick_6\">\n     <g id=\"line2d_29\">\n      <path d=\"M 55.415938 87.210217 \nL 557.615938 87.210217 \n\" clip-path=\"url(#p15ad710767)\" style=\"fill: none; stroke: #b0b0b0; stroke-width: 0.8; stroke-linecap: square\"/>\n     </g>\n     <g id=\"line2d_30\">\n      <g>\n       <use xlink:href=\"#ma3d3fe0786\" x=\"55.415938\" y=\"87.210217\" style=\"stroke: #000000; stroke-width: 0.8\"/>\n      </g>\n     </g>\n     <g id=\"text_16\">\n      <!-- 1.50 -->\n      <g transform=\"translate(23.915938 92.070842)scale(0.14 -0.14)\">\n       <use xlink:href=\"#TimesNewRomanPSMT-31\"/>\n       <use xlink:href=\"#TimesNewRomanPSMT-2e\" x=\"50\"/>\n       <use xlink:href=\"#TimesNewRomanPSMT-35\" x=\"75\"/>\n       <use xlink:href=\"#TimesNewRomanPSMT-30\" x=\"125\"/>\n      </g>\n     </g>\n    </g>\n    <g id=\"ytick_7\">\n     <g id=\"line2d_31\">\n      <path d=\"M 55.415938 45.863169 \nL 557.615938 45.863169 \n\" clip-path=\"url(#p15ad710767)\" style=\"fill: none; stroke: #b0b0b0; stroke-width: 0.8; stroke-linecap: square\"/>\n     </g>\n     <g id=\"line2d_32\">\n      <g>\n       <use xlink:href=\"#ma3d3fe0786\" x=\"55.415938\" y=\"45.863169\" style=\"stroke: #000000; stroke-width: 0.8\"/>\n      </g>\n     </g>\n     <g id=\"text_17\">\n      <!-- 1.75 -->\n      <g transform=\"translate(23.915938 50.723794)scale(0.14 -0.14)\">\n       <use xlink:href=\"#TimesNewRomanPSMT-31\"/>\n       <use xlink:href=\"#TimesNewRomanPSMT-2e\" x=\"50\"/>\n       <use xlink:href=\"#TimesNewRomanPSMT-37\" x=\"75\"/>\n       <use xlink:href=\"#TimesNewRomanPSMT-35\" x=\"125\"/>\n      </g>\n     </g>\n    </g>\n    <g id=\"text_18\">\n     <!-- $\\mathit{p}, МПа$ -->\n     <g transform=\"translate(16.92125 191.07)rotate(-90)scale(0.14 -0.14)\">\n      <defs>\n       <path id=\"STIXGeneral-Italic-70\" d=\"M 1376 2739 \nL 1190 2099 \nQ 1670 2822 2285 2822 \nQ 2637 2822 2829 2611 \nQ 3021 2400 3021 2022 \nQ 3021 1235 2422 582 \nQ 1824 -70 1120 -70 \nQ 890 -70 678 38 \nQ 422 -1018 422 -1024 \nQ 422 -1126 508 -1168 \nQ 595 -1210 819 -1210 \nL 819 -1312 \nL -480 -1312 \nL -480 -1210 \nQ -275 -1203 -188 -1120 \nQ -102 -1037 -45 -806 \nL 691 1958 \nQ 794 2330 794 2413 \nQ 794 2586 512 2586 \nL 371 2586 \nL 358 2682 \nL 1357 2822 \nQ 1389 2822 1389 2797 \nQ 1382 2765 1376 2739 \nz\nM 2445 2003 \nQ 2445 2285 2352 2416 \nQ 2259 2547 2048 2547 \nQ 1798 2547 1548 2329 \nQ 1299 2112 1184 1818 \nQ 1043 1453 905 953 \nQ 768 454 768 294 \nQ 768 186 854 118 \nQ 941 51 1075 51 \nQ 1574 51 2003 659 \nQ 2445 1274 2445 2003 \nz\n\" transform=\"scale(0.015625)\"/>\n       <path id=\"TimesNewRomanPSMT-41c\" d=\"M 2619 0 \nL 981 3566 \nL 981 734 \nQ 981 344 1066 247 \nQ 1181 116 1431 116 \nL 1581 116 \nL 1581 0 \nL 106 0 \nL 106 116 \nL 256 116 \nQ 525 116 638 278 \nQ 706 378 706 734 \nL 706 3503 \nQ 706 3784 644 3909 \nQ 600 4000 483 4061 \nQ 366 4122 106 4122 \nL 106 4238 \nL 1306 4238 \nL 2844 922 \nL 4356 4238 \nL 5556 4238 \nL 5556 4122 \nL 5409 4122 \nQ 5138 4122 5025 3959 \nQ 4956 3859 4956 3503 \nL 4956 734 \nQ 4956 344 5044 247 \nQ 5159 116 5409 116 \nL 5556 116 \nL 5556 0 \nL 3756 0 \nL 3756 116 \nL 3906 116 \nQ 4178 116 4288 278 \nQ 4356 378 4356 734 \nL 4356 3566 \nL 2722 0 \nL 2619 0 \nz\n\" transform=\"scale(0.015625)\"/>\n       <path id=\"TimesNewRomanPSMT-41f\" d=\"M 3294 4006 \nL 1328 4006 \nL 1328 772 \nQ 1328 353 1436 240 \nQ 1544 128 1941 116 \nL 1941 0 \nL 116 0 \nL 116 116 \nQ 509 128 618 240 \nQ 728 353 728 772 \nL 728 3466 \nQ 728 3884 618 3996 \nQ 509 4109 116 4122 \nL 116 4238 \nL 4506 4238 \nL 4506 4122 \nQ 4113 4109 4003 3996 \nQ 3894 3884 3894 3466 \nL 3894 772 \nQ 3894 353 4003 240 \nQ 4113 128 4506 116 \nL 4506 0 \nL 2684 0 \nL 2684 116 \nQ 3075 128 3184 239 \nQ 3294 350 3294 772 \nL 3294 4006 \nz\n\" transform=\"scale(0.015625)\"/>\n       <path id=\"TimesNewRomanPSMT-430\" d=\"M 1822 413 \nQ 1381 72 1269 19 \nQ 1100 -59 909 -59 \nQ 613 -59 420 144 \nQ 228 347 228 678 \nQ 228 888 322 1041 \nQ 450 1253 767 1440 \nQ 1084 1628 1822 1897 \nL 1822 2009 \nQ 1822 2438 1686 2597 \nQ 1550 2756 1291 2756 \nQ 1094 2756 978 2650 \nQ 859 2544 859 2406 \nL 866 2225 \nQ 866 2081 792 2003 \nQ 719 1925 600 1925 \nQ 484 1925 411 2006 \nQ 338 2088 338 2228 \nQ 338 2497 613 2722 \nQ 888 2947 1384 2947 \nQ 1766 2947 2009 2819 \nQ 2194 2722 2281 2516 \nQ 2338 2381 2338 1966 \nL 2338 994 \nQ 2338 584 2353 492 \nQ 2369 400 2405 369 \nQ 2441 338 2488 338 \nQ 2538 338 2575 359 \nQ 2641 400 2828 588 \nL 2828 413 \nQ 2478 -56 2159 -56 \nQ 2006 -56 1915 50 \nQ 1825 156 1822 413 \nz\nM 1822 616 \nL 1822 1706 \nQ 1350 1519 1213 1441 \nQ 966 1303 859 1153 \nQ 753 1003 753 825 \nQ 753 600 887 451 \nQ 1022 303 1197 303 \nQ 1434 303 1822 616 \nz\n\" transform=\"scale(0.015625)\"/>\n      </defs>\n      <use xlink:href=\"#STIXGeneral-Italic-70\" transform=\"translate(0 0.78125)\"/>\n      <use xlink:href=\"#TimesNewRomanPSMT-2c\" transform=\"translate(50.399994 0.78125)\"/>\n      <use xlink:href=\"#TimesNewRomanPSMT-41c\" transform=\"translate(90.956635 0.78125)\"/>\n      <use xlink:href=\"#TimesNewRomanPSMT-41f\" transform=\"translate(179.87265 0.78125)\"/>\n      <use xlink:href=\"#TimesNewRomanPSMT-430\" transform=\"translate(252.089447 0.78125)\"/>\n     </g>\n    </g>\n   </g>\n   <g id=\"line2d_33\">\n    <path d=\"M 78.24321 318.534545 \nL 78.814606 239.850285 \nL 79.386002 181.188061 \nL 79.957398 137.530874 \nL 80.528794 105.118566 \nL 81.100191 81.132963 \nL 81.671587 63.461893 \nL 82.242983 50.522319 \nL 82.814379 41.127786 \nL 83.385775 34.389069 \nL 83.957171 29.639712 \nL 84.528567 26.38022 \nL 85.099963 24.236235 \nL 85.671359 22.927185 \nL 86.242755 22.242791 \nL 86.814151 22.025455 \nL 87.385547 22.157064 \nL 87.956943 22.549099 \nL 88.814037 23.485001 \nL 89.95683 25.153268 \nL 91.671018 28.133863 \nL 95.099394 34.679926 \nL 103.384637 50.536942 \nL 109.669994 62.048876 \nL 115.95535 73.096242 \nL 122.240707 83.696992 \nL 128.526064 93.869149 \nL 134.81142 103.63004 \nL 141.096777 112.996292 \nL 147.667832 122.383639 \nL 154.238887 131.374569 \nL 160.809941 139.98582 \nL 167.380996 148.233427 \nL 173.952051 156.132745 \nL 180.808804 164.020081 \nL 187.665556 171.560185 \nL 194.522309 178.768343 \nL 201.379062 185.659169 \nL 208.521513 192.514726 \nL 215.663963 199.056191 \nL 222.806414 205.297955 \nL 229.948865 211.253747 \nL 237.377014 217.158491 \nL 244.805163 222.782145 \nL 252.51901 228.338917 \nL 260.232856 233.621246 \nL 268.232401 238.823825 \nL 276.231946 243.760185 \nL 284.517189 248.606718 \nL 292.802432 253.196633 \nL 301.373373 257.689233 \nL 310.230012 262.073463 \nL 319.086651 266.210005 \nL 328.228988 270.235009 \nL 337.657023 274.140327 \nL 347.370756 277.918944 \nL 357.370187 281.564963 \nL 367.655316 285.073578 \nL 378.226143 288.441039 \nL 389.082669 291.664614 \nL 400.224892 294.742534 \nL 411.938511 297.744449 \nL 423.937829 300.589294 \nL 436.508542 303.33871 \nL 449.650651 305.980481 \nL 463.364157 308.504538 \nL 477.649058 310.902927 \nL 492.505356 313.169741 \nL 508.218748 315.338487 \nL 524.789234 317.395629 \nL 534.788665 318.532954 \nL 534.788665 318.532954 \n\" clip-path=\"url(#p15ad710767)\" style=\"fill: none; stroke: #1f77b4; stroke-width: 1.5; stroke-linecap: square\"/>\n   </g>\n   <g id=\"line2d_34\">\n    <path d=\"M 55.415938 50.695469 \nL 557.615938 50.695469 \n\" clip-path=\"url(#p15ad710767)\" style=\"fill: none; stroke-dasharray: 5.55,2.4; stroke-dashoffset: 0; stroke: #d62728; stroke-width: 1.5\"/>\n   </g>\n   <g id=\"patch_3\">\n    <path d=\"M 55.415938 333.36 \nL 55.415938 7.2 \n\" style=\"fill: none; stroke: #000000; stroke-width: 0.8; stroke-linejoin: miter; stroke-linecap: square\"/>\n   </g>\n   <g id=\"patch_4\">\n    <path d=\"M 557.615938 333.36 \nL 557.615938 7.2 \n\" style=\"fill: none; stroke: #000000; stroke-width: 0.8; stroke-linejoin: miter; stroke-linecap: square\"/>\n   </g>\n   <g id=\"patch_5\">\n    <path d=\"M 55.415937 333.36 \nL 557.615938 333.36 \n\" style=\"fill: none; stroke: #000000; stroke-width: 0.8; stroke-linejoin: miter; stroke-linecap: square\"/>\n   </g>\n   <g id=\"patch_6\">\n    <path d=\"M 55.415937 7.2 \nL 557.615938 7.2 \n\" style=\"fill: none; stroke: #000000; stroke-width: 0.8; stroke-linejoin: miter; stroke-linecap: square\"/>\n   </g>\n   <g id=\"legend_1\">\n    <g id=\"patch_7\">\n     <path d=\"M 416.355938 38.98 \nL 547.815938 38.98 \nQ 550.615938 38.98 550.615938 36.18 \nL 550.615938 17 \nQ 550.615938 14.2 547.815938 14.2 \nL 416.355938 14.2 \nQ 413.555938 14.2 413.555938 17 \nL 413.555938 36.18 \nQ 413.555938 38.98 416.355938 38.98 \nz\n\" style=\"fill: #ffffff; opacity: 0.8; stroke: #cccccc; stroke-linejoin: miter\"/>\n    </g>\n    <g id=\"line2d_35\">\n     <path d=\"M 419.155938 24.7 \nL 433.155938 24.7 \nL 447.155938 24.7 \n\" style=\"fill: none; stroke-dasharray: 5.55,2.4; stroke-dashoffset: 0; stroke: #d62728; stroke-width: 1.5\"/>\n    </g>\n    <g id=\"text_19\">\n     <!-- $\\mathit{p}_{всп}$ = 1.7 МПа -->\n     <g transform=\"translate(458.355938 29.6)scale(0.14 -0.14)\">\n      <defs>\n       <path id=\"TimesNewRomanPSMT-432\" d=\"M 2016 1513 \nQ 2800 1350 2800 778 \nQ 2800 388 2473 194 \nQ 2147 0 1563 0 \nL 150 0 \nL 150 116 \nQ 428 116 501 220 \nQ 575 325 575 672 \nL 575 2191 \nQ 575 2528 542 2587 \nQ 509 2647 439 2695 \nQ 369 2744 150 2744 \nL 150 2863 \nL 1469 2863 \nQ 1850 2863 2086 2803 \nQ 2322 2744 2473 2569 \nQ 2625 2394 2625 2144 \nQ 2625 1656 2016 1513 \nz\nM 1094 1584 \nQ 1231 1581 1259 1581 \nQ 1688 1581 1878 1745 \nQ 2069 1909 2069 2144 \nQ 2069 2416 1875 2537 \nQ 1681 2659 1256 2659 \nL 1094 2659 \nL 1094 1584 \nz\nM 1094 253 \nQ 1250 203 1466 203 \nQ 1838 203 2019 365 \nQ 2200 528 2200 784 \nQ 2200 1072 1965 1225 \nQ 1731 1378 1316 1378 \nQ 1213 1378 1094 1372 \nL 1094 253 \nz\n\" transform=\"scale(0.015625)\"/>\n       <path id=\"TimesNewRomanPSMT-43f\" d=\"M 2331 2659 \nL 1094 2659 \nL 1094 672 \nQ 1094 341 1128 277 \nQ 1163 213 1236 164 \nQ 1309 116 1528 116 \nL 1528 0 \nL 144 0 \nL 144 116 \nQ 422 116 500 217 \nQ 578 319 578 672 \nL 578 2191 \nQ 578 2525 543 2586 \nQ 509 2647 437 2695 \nQ 366 2744 144 2744 \nL 144 2863 \nL 3281 2863 \nL 3281 2744 \nQ 3072 2744 3000 2701 \nQ 2928 2659 2887 2596 \nQ 2847 2534 2847 2191 \nL 2847 672 \nQ 2847 341 2881 277 \nQ 2916 213 2989 164 \nQ 3063 116 3281 116 \nL 3281 0 \nL 1897 0 \nL 1897 116 \nQ 2156 116 2243 211 \nQ 2331 306 2331 672 \nL 2331 2659 \nz\n\" transform=\"scale(0.015625)\"/>\n       <path id=\"TimesNewRomanPSMT-20\" transform=\"scale(0.015625)\"/>\n       <path id=\"TimesNewRomanPSMT-3d\" d=\"M 116 2759 \nL 3488 2759 \nL 3488 2503 \nL 116 2503 \nL 116 2759 \nz\nM 116 1741 \nL 3488 1741 \nL 3488 1484 \nL 116 1484 \nL 116 1741 \nz\n\" transform=\"scale(0.015625)\"/>\n      </defs>\n      <use xlink:href=\"#STIXGeneral-Italic-70\" transform=\"translate(0 0.421875)\"/>\n      <use xlink:href=\"#TimesNewRomanPSMT-432\" transform=\"translate(50.399994 -25.340625)scale(0.7)\"/>\n      <use xlink:href=\"#TimesNewRomanPSMT-441\" transform=\"translate(83.451752 -25.340625)scale(0.7)\"/>\n      <use xlink:href=\"#TimesNewRomanPSMT-43f\" transform=\"translate(114.521088 -25.340625)scale(0.7)\"/>\n      <use xlink:href=\"#TimesNewRomanPSMT-20\" transform=\"translate(156.275775 0.421875)\"/>\n      <use xlink:href=\"#TimesNewRomanPSMT-3d\" transform=\"translate(181.275775 0.421875)\"/>\n      <use xlink:href=\"#TimesNewRomanPSMT-20\" transform=\"translate(237.67226 0.421875)\"/>\n      <use xlink:href=\"#TimesNewRomanPSMT-31\" transform=\"translate(262.67226 0.421875)\"/>\n      <use xlink:href=\"#TimesNewRomanPSMT-2e\" transform=\"translate(312.67226 0.421875)\"/>\n      <use xlink:href=\"#TimesNewRomanPSMT-37\" transform=\"translate(337.67226 0.421875)\"/>\n      <use xlink:href=\"#TimesNewRomanPSMT-20\" transform=\"translate(387.67226 0.421875)\"/>\n      <use xlink:href=\"#TimesNewRomanPSMT-41c\" transform=\"translate(412.67226 0.421875)\"/>\n      <use xlink:href=\"#TimesNewRomanPSMT-41f\" transform=\"translate(501.588275 0.421875)\"/>\n      <use xlink:href=\"#TimesNewRomanPSMT-430\" transform=\"translate(573.805072 0.421875)\"/>\n     </g>\n    </g>\n   </g>\n  </g>\n </g>\n <defs>\n  <clipPath id=\"p15ad710767\">\n   <rect x=\"55.415938\" y=\"7.2\" width=\"502.2\" height=\"326.16\"/>\n  </clipPath>\n </defs>\n</svg>\n",
      "text/plain": [
       "<Figure size 648x432 with 1 Axes>"
      ]
     },
     "metadata": {
      "needs_background": "light"
     },
     "output_type": "display_data"
    }
   ],
   "source": [
    "t_vs = np.linspace(0,0.1,2000)\n",
    "p_vs = np.array([p_v(t) for t in t_vs])\n",
    "\n",
    "f = plt.figure(figsize=(9, 6))\n",
    "plt.plot(t_vs[p_vs >= p_atm], p_vs[p_vs >= p_atm]/1e6)\n",
    "plt.axhline(p_vsp_50/1e6, linestyle = '--', color = 'tab:red', label = '$\\mathit{p}_{всп}$ = '+f'{p_vsp_50/1e6:.1f} МПа')\n",
    "\n",
    "plt.legend(loc = 'upper right')\n",
    "plt.grid()\n",
    "plt.xlabel('$\\mathit{t}, с$')\n",
    "plt.ylabel('$\\mathit{p}, МПа$')\n",
    "# plt.savefig('График pW0.svg', dpi=500, bbox_inches='tight')\n",
    "\n",
    "plt.show()"
   ]
  },
  {
   "cell_type": "code",
   "execution_count": 16,
   "metadata": {},
   "outputs": [
    {
     "data": {
      "text/plain": [
       "0.7003501750875438"
      ]
     },
     "execution_count": 16,
     "metadata": {},
     "output_type": "execute_result"
    }
   ],
   "source": [
    "t_vs[p_vs >= p_vsp_50][0]*1e3"
   ]
  },
  {
   "cell_type": "markdown",
   "metadata": {},
   "source": [
    "#### ОЗВБ"
   ]
  },
  {
   "cell_type": "code",
   "execution_count": 17,
   "metadata": {},
   "outputs": [],
   "source": [
    "mu_c = 0.95\n",
    "e_max = e_0\n",
    "Q_t = propel.k / (propel.k - 1) * propel.R * propel.T0\n",
    "\n",
    "def S_zar(e):\n",
    "    return n_zar * (np.pi * (D_vn + 2 * e)*(L_zar - 2 * e) + np.pi * (D_nar - 2 * e) * (L_zar - 2 * e) + \\\n",
    "        2 * np.pi * 0.25 * (((D_nar - 2 * e) ** 2) - ((D_vn + 2 * e) ** 2)))"
   ]
  },
  {
   "cell_type": "code",
   "execution_count": 18,
   "metadata": {},
   "outputs": [],
   "source": [
    "def sys_int(t, Y, T0, p_vsp):\n",
    "\n",
    "    p, W, omega_g, omega_vg, e_t = Y\n",
    "    U = np.zeros(5)\n",
    "\n",
    "    Hev_v = 1 if t <= t_v else 0\n",
    "    Hev_p = 1 if p > p_vsp or abs(e_t) > 0 else 0\n",
    "    Hev_e = 1 if 0 <= abs(e_t) <= e_max else 0\n",
    "\n",
    "    u_g = propel.u(p,T0)\n",
    "    S_g = S_zar(abs(e_t))\n",
    "\n",
    "    #domega_v/dt\n",
    "    U[3] = S0_v * np.exp(-m_v * t / t_v) * u_v * rho_v * Hev_v\n",
    "\n",
    "    #dp/dt\n",
    "    p1 = (propel.k - 1) * Q_v / (propel.rho * S_g * u_g) * U[3] + (propel.k - 1) * Q_t * Hev_e\n",
    "    p2 = propel.k * (mu_c * A(propel.k) * F_kr * p / (propel.rho * S_g * u_g)) ** 2\n",
    "    p3 = (propel.k - 1) * sigma_t * v_t * F_oxl * p / (propel.R * propel.rho * S_g * u_g)\n",
    "    p4 = propel.k * p / (rho_v * propel.rho * S_g * u_g) * U[3]\n",
    "    p5 = propel.k * p / propel.rho * Hev_e\n",
    "    U[0] = (p1 - p2 - p3 - p4 - p5) * propel.rho * S_g * u_g / W\n",
    "\n",
    "    #de/dt\n",
    "    U[4] = u_g * Hev_p * Hev_e\n",
    "\n",
    "    #domega_t/dt\n",
    "    U[2] = S_g * propel.rho * U[4]\n",
    "\n",
    "    #dW/dt\n",
    "    U[1] = 1 / propel.rho * U[2] + 1 / rho_v * U[3]\n",
    "\n",
    "    return U\n",
    "\n",
    "def res_int(T0):\n",
    "\n",
    "    stop = lambda p: p * pi(1,propel.k) <= p_atm\n",
    "    # stop = lambda p: p <= p_atm\n",
    "\n",
    "    Y_0 = [0, p_atm, W_0, 0, 0, 0]\n",
    "\n",
    "    result = dict()\n",
    "    keys = ['t','p','W','omega_g','omega_gv','e_t']\n",
    "    for key, val in zip(keys,Y_0):\n",
    "        result[key] = np.array([val])\n",
    "\n",
    "    r = ode(sys_int).set_integrator('vode', method = 'adams')     #'vode', method = 'adams'\n",
    "    r.set_initial_value(Y_0[1:])\n",
    "    r.set_f_params(T0, p_vsp(T0))\n",
    "\n",
    "    while r.successful() and (not stop(result['p'][-1]) or result['t'][-1] < 0.005):\n",
    "        dt = 5e-6\n",
    "        result['t'] = np.append(result['t'], result['t'][-1] + dt)\n",
    "        Y_tek = r.integrate(r.t+dt)\n",
    "        for key, val in zip(keys[1:],Y_tek):\n",
    "            if key != 'p':\n",
    "                result[key] = np.append(result[key], val)\n",
    "            else:\n",
    "                result[key] = np.append(result[key], val * 1)\n",
    "\n",
    "    return result"
   ]
  },
  {
   "cell_type": "code",
   "execution_count": 19,
   "metadata": {},
   "outputs": [],
   "source": [
    "res18 = res_int(T_nom)\n",
    "res50 = res_int(T_max)\n",
    "res_50 = res_int(T_min)"
   ]
  },
  {
   "cell_type": "code",
   "execution_count": 20,
   "metadata": {},
   "outputs": [
    {
     "data": {
      "image/svg+xml": "<?xml version=\"1.0\" encoding=\"utf-8\" standalone=\"no\"?>\n<!DOCTYPE svg PUBLIC \"-//W3C//DTD SVG 1.1//EN\"\n  \"http://www.w3.org/Graphics/SVG/1.1/DTD/svg11.dtd\">\n<svg xmlns:xlink=\"http://www.w3.org/1999/xlink\" width=\"617.115937pt\" height=\"431.351875pt\" viewBox=\"0 0 617.115937 431.351875\" xmlns=\"http://www.w3.org/2000/svg\" version=\"1.1\">\n <metadata>\n  <rdf:RDF xmlns:dc=\"http://purl.org/dc/elements/1.1/\" xmlns:cc=\"http://creativecommons.org/ns#\" xmlns:rdf=\"http://www.w3.org/1999/02/22-rdf-syntax-ns#\">\n   <cc:Work>\n    <dc:type rdf:resource=\"http://purl.org/dc/dcmitype/StillImage\"/>\n    <dc:date>2022-11-13T19:56:53.171111</dc:date>\n    <dc:format>image/svg+xml</dc:format>\n    <dc:creator>\n     <cc:Agent>\n      <dc:title>Matplotlib v3.5.2, https://matplotlib.org/</dc:title>\n     </cc:Agent>\n    </dc:creator>\n   </cc:Work>\n  </rdf:RDF>\n </metadata>\n <defs>\n  <style type=\"text/css\">*{stroke-linejoin: round; stroke-linecap: butt}</style>\n </defs>\n <g id=\"figure_1\">\n  <g id=\"patch_1\">\n   <path d=\"M 0 431.351875 \nL 617.115937 431.351875 \nL 617.115937 0 \nL 0 0 \nL 0 431.351875 \nz\n\" style=\"fill: none\"/>\n  </g>\n  <g id=\"axes_1\">\n   <g id=\"patch_2\">\n    <path d=\"M 51.915937 387.72 \nL 609.915938 387.72 \nL 609.915938 7.2 \nL 51.915937 7.2 \nz\n\" style=\"fill: #ffffff\"/>\n   </g>\n   <g id=\"matplotlib.axis_1\">\n    <g id=\"xtick_1\">\n     <g id=\"line2d_1\">\n      <path d=\"M 51.915937 387.72 \nL 51.915937 7.2 \n\" clip-path=\"url(#p1644303f5c)\" style=\"fill: none; stroke: #b0b0b0; stroke-width: 0.8; stroke-linecap: square\"/>\n     </g>\n     <g id=\"line2d_2\">\n      <defs>\n       <path id=\"me12b1d2b10\" d=\"M 0 0 \nL 0 3.5 \n\" style=\"stroke: #000000; stroke-width: 0.8\"/>\n      </defs>\n      <g>\n       <use xlink:href=\"#me12b1d2b10\" x=\"51.915937\" y=\"387.72\" style=\"stroke: #000000; stroke-width: 0.8\"/>\n      </g>\n     </g>\n     <g id=\"text_1\">\n      <!-- 0.00 -->\n      <g transform=\"translate(39.665937 404.44125)scale(0.14 -0.14)\">\n       <defs>\n        <path id=\"TimesNewRomanPSMT-30\" d=\"M 231 2094 \nQ 231 2819 450 3342 \nQ 669 3866 1031 4122 \nQ 1313 4325 1613 4325 \nQ 2100 4325 2488 3828 \nQ 2972 3213 2972 2159 \nQ 2972 1422 2759 906 \nQ 2547 391 2217 158 \nQ 1888 -75 1581 -75 \nQ 975 -75 572 641 \nQ 231 1244 231 2094 \nz\nM 844 2016 \nQ 844 1141 1059 588 \nQ 1238 122 1591 122 \nQ 1759 122 1940 273 \nQ 2122 425 2216 781 \nQ 2359 1319 2359 2297 \nQ 2359 3022 2209 3506 \nQ 2097 3866 1919 4016 \nQ 1791 4119 1609 4119 \nQ 1397 4119 1231 3928 \nQ 1006 3669 925 3112 \nQ 844 2556 844 2016 \nz\n\" transform=\"scale(0.015625)\"/>\n        <path id=\"TimesNewRomanPSMT-2e\" d=\"M 800 606 \nQ 947 606 1047 504 \nQ 1147 403 1147 259 \nQ 1147 116 1045 14 \nQ 944 -88 800 -88 \nQ 656 -88 554 14 \nQ 453 116 453 259 \nQ 453 406 554 506 \nQ 656 606 800 606 \nz\n\" transform=\"scale(0.015625)\"/>\n       </defs>\n       <use xlink:href=\"#TimesNewRomanPSMT-30\"/>\n       <use xlink:href=\"#TimesNewRomanPSMT-2e\" x=\"50\"/>\n       <use xlink:href=\"#TimesNewRomanPSMT-30\" x=\"75\"/>\n       <use xlink:href=\"#TimesNewRomanPSMT-30\" x=\"125\"/>\n      </g>\n     </g>\n    </g>\n    <g id=\"xtick_2\">\n     <g id=\"line2d_3\">\n      <path d=\"M 126.111899 387.72 \nL 126.111899 7.2 \n\" clip-path=\"url(#p1644303f5c)\" style=\"fill: none; stroke: #b0b0b0; stroke-width: 0.8; stroke-linecap: square\"/>\n     </g>\n     <g id=\"line2d_4\">\n      <g>\n       <use xlink:href=\"#me12b1d2b10\" x=\"126.111899\" y=\"387.72\" style=\"stroke: #000000; stroke-width: 0.8\"/>\n      </g>\n     </g>\n     <g id=\"text_2\">\n      <!-- 0.01 -->\n      <g transform=\"translate(113.861899 404.44125)scale(0.14 -0.14)\">\n       <defs>\n        <path id=\"TimesNewRomanPSMT-31\" d=\"M 750 3822 \nL 1781 4325 \nL 1884 4325 \nL 1884 747 \nQ 1884 391 1914 303 \nQ 1944 216 2037 169 \nQ 2131 122 2419 116 \nL 2419 0 \nL 825 0 \nL 825 116 \nQ 1125 122 1212 167 \nQ 1300 213 1334 289 \nQ 1369 366 1369 747 \nL 1369 3034 \nQ 1369 3497 1338 3628 \nQ 1316 3728 1258 3775 \nQ 1200 3822 1119 3822 \nQ 1003 3822 797 3725 \nL 750 3822 \nz\n\" transform=\"scale(0.015625)\"/>\n       </defs>\n       <use xlink:href=\"#TimesNewRomanPSMT-30\"/>\n       <use xlink:href=\"#TimesNewRomanPSMT-2e\" x=\"50\"/>\n       <use xlink:href=\"#TimesNewRomanPSMT-30\" x=\"75\"/>\n       <use xlink:href=\"#TimesNewRomanPSMT-31\" x=\"125\"/>\n      </g>\n     </g>\n    </g>\n    <g id=\"xtick_3\">\n     <g id=\"line2d_5\">\n      <path d=\"M 200.30786 387.72 \nL 200.30786 7.2 \n\" clip-path=\"url(#p1644303f5c)\" style=\"fill: none; stroke: #b0b0b0; stroke-width: 0.8; stroke-linecap: square\"/>\n     </g>\n     <g id=\"line2d_6\">\n      <g>\n       <use xlink:href=\"#me12b1d2b10\" x=\"200.30786\" y=\"387.72\" style=\"stroke: #000000; stroke-width: 0.8\"/>\n      </g>\n     </g>\n     <g id=\"text_3\">\n      <!-- 0.02 -->\n      <g transform=\"translate(188.05786 404.44125)scale(0.14 -0.14)\">\n       <defs>\n        <path id=\"TimesNewRomanPSMT-32\" d=\"M 2934 816 \nL 2638 0 \nL 138 0 \nL 138 116 \nQ 1241 1122 1691 1759 \nQ 2141 2397 2141 2925 \nQ 2141 3328 1894 3587 \nQ 1647 3847 1303 3847 \nQ 991 3847 742 3664 \nQ 494 3481 375 3128 \nL 259 3128 \nQ 338 3706 661 4015 \nQ 984 4325 1469 4325 \nQ 1984 4325 2329 3994 \nQ 2675 3663 2675 3213 \nQ 2675 2891 2525 2569 \nQ 2294 2063 1775 1497 \nQ 997 647 803 472 \nL 1909 472 \nQ 2247 472 2383 497 \nQ 2519 522 2628 598 \nQ 2738 675 2819 816 \nL 2934 816 \nz\n\" transform=\"scale(0.015625)\"/>\n       </defs>\n       <use xlink:href=\"#TimesNewRomanPSMT-30\"/>\n       <use xlink:href=\"#TimesNewRomanPSMT-2e\" x=\"50\"/>\n       <use xlink:href=\"#TimesNewRomanPSMT-30\" x=\"75\"/>\n       <use xlink:href=\"#TimesNewRomanPSMT-32\" x=\"125\"/>\n      </g>\n     </g>\n    </g>\n    <g id=\"xtick_4\">\n     <g id=\"line2d_7\">\n      <path d=\"M 274.503821 387.72 \nL 274.503821 7.2 \n\" clip-path=\"url(#p1644303f5c)\" style=\"fill: none; stroke: #b0b0b0; stroke-width: 0.8; stroke-linecap: square\"/>\n     </g>\n     <g id=\"line2d_8\">\n      <g>\n       <use xlink:href=\"#me12b1d2b10\" x=\"274.503821\" y=\"387.72\" style=\"stroke: #000000; stroke-width: 0.8\"/>\n      </g>\n     </g>\n     <g id=\"text_4\">\n      <!-- 0.03 -->\n      <g transform=\"translate(262.253821 404.44125)scale(0.14 -0.14)\">\n       <defs>\n        <path id=\"TimesNewRomanPSMT-33\" d=\"M 325 3431 \nQ 506 3859 782 4092 \nQ 1059 4325 1472 4325 \nQ 1981 4325 2253 3994 \nQ 2459 3747 2459 3466 \nQ 2459 3003 1878 2509 \nQ 2269 2356 2469 2072 \nQ 2669 1788 2669 1403 \nQ 2669 853 2319 450 \nQ 1863 -75 997 -75 \nQ 569 -75 414 31 \nQ 259 138 259 259 \nQ 259 350 332 419 \nQ 406 488 509 488 \nQ 588 488 669 463 \nQ 722 447 909 348 \nQ 1097 250 1169 231 \nQ 1284 197 1416 197 \nQ 1734 197 1970 444 \nQ 2206 691 2206 1028 \nQ 2206 1275 2097 1509 \nQ 2016 1684 1919 1775 \nQ 1784 1900 1550 2001 \nQ 1316 2103 1072 2103 \nL 972 2103 \nL 972 2197 \nQ 1219 2228 1467 2375 \nQ 1716 2522 1828 2728 \nQ 1941 2934 1941 3181 \nQ 1941 3503 1739 3701 \nQ 1538 3900 1238 3900 \nQ 753 3900 428 3381 \nL 325 3431 \nz\n\" transform=\"scale(0.015625)\"/>\n       </defs>\n       <use xlink:href=\"#TimesNewRomanPSMT-30\"/>\n       <use xlink:href=\"#TimesNewRomanPSMT-2e\" x=\"50\"/>\n       <use xlink:href=\"#TimesNewRomanPSMT-30\" x=\"75\"/>\n       <use xlink:href=\"#TimesNewRomanPSMT-33\" x=\"125\"/>\n      </g>\n     </g>\n    </g>\n    <g id=\"xtick_5\">\n     <g id=\"line2d_9\">\n      <path d=\"M 348.699782 387.72 \nL 348.699782 7.2 \n\" clip-path=\"url(#p1644303f5c)\" style=\"fill: none; stroke: #b0b0b0; stroke-width: 0.8; stroke-linecap: square\"/>\n     </g>\n     <g id=\"line2d_10\">\n      <g>\n       <use xlink:href=\"#me12b1d2b10\" x=\"348.699782\" y=\"387.72\" style=\"stroke: #000000; stroke-width: 0.8\"/>\n      </g>\n     </g>\n     <g id=\"text_5\">\n      <!-- 0.04 -->\n      <g transform=\"translate(336.449782 404.44125)scale(0.14 -0.14)\">\n       <defs>\n        <path id=\"TimesNewRomanPSMT-34\" d=\"M 2978 1563 \nL 2978 1119 \nL 2409 1119 \nL 2409 0 \nL 1894 0 \nL 1894 1119 \nL 100 1119 \nL 100 1519 \nL 2066 4325 \nL 2409 4325 \nL 2409 1563 \nL 2978 1563 \nz\nM 1894 1563 \nL 1894 3666 \nL 406 1563 \nL 1894 1563 \nz\n\" transform=\"scale(0.015625)\"/>\n       </defs>\n       <use xlink:href=\"#TimesNewRomanPSMT-30\"/>\n       <use xlink:href=\"#TimesNewRomanPSMT-2e\" x=\"50\"/>\n       <use xlink:href=\"#TimesNewRomanPSMT-30\" x=\"75\"/>\n       <use xlink:href=\"#TimesNewRomanPSMT-34\" x=\"125\"/>\n      </g>\n     </g>\n    </g>\n    <g id=\"xtick_6\">\n     <g id=\"line2d_11\">\n      <path d=\"M 422.895743 387.72 \nL 422.895743 7.2 \n\" clip-path=\"url(#p1644303f5c)\" style=\"fill: none; stroke: #b0b0b0; stroke-width: 0.8; stroke-linecap: square\"/>\n     </g>\n     <g id=\"line2d_12\">\n      <g>\n       <use xlink:href=\"#me12b1d2b10\" x=\"422.895743\" y=\"387.72\" style=\"stroke: #000000; stroke-width: 0.8\"/>\n      </g>\n     </g>\n     <g id=\"text_6\">\n      <!-- 0.05 -->\n      <g transform=\"translate(410.645743 404.44125)scale(0.14 -0.14)\">\n       <defs>\n        <path id=\"TimesNewRomanPSMT-35\" d=\"M 2778 4238 \nL 2534 3706 \nL 1259 3706 \nL 981 3138 \nQ 1809 3016 2294 2522 \nQ 2709 2097 2709 1522 \nQ 2709 1188 2573 903 \nQ 2438 619 2231 419 \nQ 2025 219 1772 97 \nQ 1413 -75 1034 -75 \nQ 653 -75 479 54 \nQ 306 184 306 341 \nQ 306 428 378 495 \nQ 450 563 559 563 \nQ 641 563 702 538 \nQ 763 513 909 409 \nQ 1144 247 1384 247 \nQ 1750 247 2026 523 \nQ 2303 800 2303 1197 \nQ 2303 1581 2056 1914 \nQ 1809 2247 1375 2428 \nQ 1034 2569 447 2591 \nL 1259 4238 \nL 2778 4238 \nz\n\" transform=\"scale(0.015625)\"/>\n       </defs>\n       <use xlink:href=\"#TimesNewRomanPSMT-30\"/>\n       <use xlink:href=\"#TimesNewRomanPSMT-2e\" x=\"50\"/>\n       <use xlink:href=\"#TimesNewRomanPSMT-30\" x=\"75\"/>\n       <use xlink:href=\"#TimesNewRomanPSMT-35\" x=\"125\"/>\n      </g>\n     </g>\n    </g>\n    <g id=\"xtick_7\">\n     <g id=\"line2d_13\">\n      <path d=\"M 497.091704 387.72 \nL 497.091704 7.2 \n\" clip-path=\"url(#p1644303f5c)\" style=\"fill: none; stroke: #b0b0b0; stroke-width: 0.8; stroke-linecap: square\"/>\n     </g>\n     <g id=\"line2d_14\">\n      <g>\n       <use xlink:href=\"#me12b1d2b10\" x=\"497.091704\" y=\"387.72\" style=\"stroke: #000000; stroke-width: 0.8\"/>\n      </g>\n     </g>\n     <g id=\"text_7\">\n      <!-- 0.06 -->\n      <g transform=\"translate(484.841704 404.44125)scale(0.14 -0.14)\">\n       <defs>\n        <path id=\"TimesNewRomanPSMT-36\" d=\"M 2869 4325 \nL 2869 4209 \nQ 2456 4169 2195 4045 \nQ 1934 3922 1679 3669 \nQ 1425 3416 1258 3105 \nQ 1091 2794 978 2366 \nQ 1428 2675 1881 2675 \nQ 2316 2675 2634 2325 \nQ 2953 1975 2953 1425 \nQ 2953 894 2631 456 \nQ 2244 -75 1606 -75 \nQ 1172 -75 869 213 \nQ 275 772 275 1663 \nQ 275 2231 503 2743 \nQ 731 3256 1154 3653 \nQ 1578 4050 1965 4187 \nQ 2353 4325 2688 4325 \nL 2869 4325 \nz\nM 925 2138 \nQ 869 1716 869 1456 \nQ 869 1156 980 804 \nQ 1091 453 1309 247 \nQ 1469 100 1697 100 \nQ 1969 100 2183 356 \nQ 2397 613 2397 1088 \nQ 2397 1622 2184 2012 \nQ 1972 2403 1581 2403 \nQ 1463 2403 1327 2353 \nQ 1191 2303 925 2138 \nz\n\" transform=\"scale(0.015625)\"/>\n       </defs>\n       <use xlink:href=\"#TimesNewRomanPSMT-30\"/>\n       <use xlink:href=\"#TimesNewRomanPSMT-2e\" x=\"50\"/>\n       <use xlink:href=\"#TimesNewRomanPSMT-30\" x=\"75\"/>\n       <use xlink:href=\"#TimesNewRomanPSMT-36\" x=\"125\"/>\n      </g>\n     </g>\n    </g>\n    <g id=\"xtick_8\">\n     <g id=\"line2d_15\">\n      <path d=\"M 571.287665 387.72 \nL 571.287665 7.2 \n\" clip-path=\"url(#p1644303f5c)\" style=\"fill: none; stroke: #b0b0b0; stroke-width: 0.8; stroke-linecap: square\"/>\n     </g>\n     <g id=\"line2d_16\">\n      <g>\n       <use xlink:href=\"#me12b1d2b10\" x=\"571.287665\" y=\"387.72\" style=\"stroke: #000000; stroke-width: 0.8\"/>\n      </g>\n     </g>\n     <g id=\"text_8\">\n      <!-- 0.07 -->\n      <g transform=\"translate(559.037665 404.44125)scale(0.14 -0.14)\">\n       <defs>\n        <path id=\"TimesNewRomanPSMT-37\" d=\"M 644 4238 \nL 2916 4238 \nL 2916 4119 \nL 1503 -88 \nL 1153 -88 \nL 2419 3728 \nL 1253 3728 \nQ 900 3728 750 3644 \nQ 488 3500 328 3200 \nL 238 3234 \nL 644 4238 \nz\n\" transform=\"scale(0.015625)\"/>\n       </defs>\n       <use xlink:href=\"#TimesNewRomanPSMT-30\"/>\n       <use xlink:href=\"#TimesNewRomanPSMT-2e\" x=\"50\"/>\n       <use xlink:href=\"#TimesNewRomanPSMT-30\" x=\"75\"/>\n       <use xlink:href=\"#TimesNewRomanPSMT-37\" x=\"125\"/>\n      </g>\n     </g>\n    </g>\n    <g id=\"text_9\">\n     <!-- $\\mathit{t}$, с -->\n     <g transform=\"translate(322.305937 421.157187)scale(0.14 -0.14)\">\n      <defs>\n       <path id=\"STIXGeneral-Italic-74\" d=\"M 1894 2739 \nL 1862 2534 \nL 1325 2534 \nL 768 435 \nQ 755 384 755 346 \nQ 755 243 851 243 \nQ 928 243 1030 342 \nQ 1133 442 1370 749 \nL 1453 704 \nQ 1158 256 969 93 \nQ 781 -70 538 -70 \nQ 243 -70 243 166 \nQ 243 230 346 640 \nL 845 2534 \nL 365 2534 \nL 358 2573 \nQ 358 2688 570 2733 \nQ 730 2771 992 2979 \nQ 1254 3187 1421 3437 \nQ 1459 3494 1510 3494 \nQ 1568 3494 1568 3443 \nQ 1568 3411 1562 3398 \nL 1382 2739 \nL 1894 2739 \nz\n\" transform=\"scale(0.015625)\"/>\n       <path id=\"TimesNewRomanPSMT-2c\" d=\"M 344 -1066 \nL 344 -928 \nQ 666 -822 842 -598 \nQ 1019 -375 1019 -125 \nQ 1019 -66 991 -25 \nQ 969 3 947 3 \nQ 913 3 797 -59 \nQ 741 -88 678 -88 \nQ 525 -88 434 3 \nQ 344 94 344 253 \nQ 344 406 461 515 \nQ 578 625 747 625 \nQ 953 625 1114 445 \nQ 1275 266 1275 -31 \nQ 1275 -353 1051 -629 \nQ 828 -906 344 -1066 \nz\n\" transform=\"scale(0.015625)\"/>\n       <path id=\"TimesNewRomanPSMT-20\" transform=\"scale(0.015625)\"/>\n       <path id=\"TimesNewRomanPSMT-441\" d=\"M 2631 1088 \nQ 2516 522 2178 217 \nQ 1841 -88 1431 -88 \nQ 944 -88 581 321 \nQ 219 731 219 1428 \nQ 219 2103 620 2525 \nQ 1022 2947 1584 2947 \nQ 2006 2947 2278 2723 \nQ 2550 2500 2550 2259 \nQ 2550 2141 2473 2067 \nQ 2397 1994 2259 1994 \nQ 2075 1994 1981 2113 \nQ 1928 2178 1911 2362 \nQ 1894 2547 1784 2644 \nQ 1675 2738 1481 2738 \nQ 1169 2738 978 2506 \nQ 725 2200 725 1697 \nQ 725 1184 976 792 \nQ 1228 400 1656 400 \nQ 1963 400 2206 609 \nQ 2378 753 2541 1131 \nL 2631 1088 \nz\n\" transform=\"scale(0.015625)\"/>\n      </defs>\n      <use xlink:href=\"#STIXGeneral-Italic-74\" transform=\"translate(0 0.40625)\"/>\n      <use xlink:href=\"#TimesNewRomanPSMT-2c\" transform=\"translate(27.799988 0.40625)\"/>\n      <use xlink:href=\"#TimesNewRomanPSMT-20\" transform=\"translate(52.799988 0.40625)\"/>\n      <use xlink:href=\"#TimesNewRomanPSMT-441\" transform=\"translate(77.799988 0.40625)\"/>\n     </g>\n    </g>\n   </g>\n   <g id=\"matplotlib.axis_2\">\n    <g id=\"ytick_1\">\n     <g id=\"line2d_17\">\n      <path d=\"M 51.915937 370.665537 \nL 609.915938 370.665537 \n\" clip-path=\"url(#p1644303f5c)\" style=\"fill: none; stroke: #b0b0b0; stroke-width: 0.8; stroke-linecap: square\"/>\n     </g>\n     <g id=\"line2d_18\">\n      <defs>\n       <path id=\"m234d2ee963\" d=\"M 0 0 \nL -3.5 0 \n\" style=\"stroke: #000000; stroke-width: 0.8\"/>\n      </defs>\n      <g>\n       <use xlink:href=\"#m234d2ee963\" x=\"51.915937\" y=\"370.665537\" style=\"stroke: #000000; stroke-width: 0.8\"/>\n      </g>\n     </g>\n     <g id=\"text_10\">\n      <!-- 0 -->\n      <g transform=\"translate(37.915937 375.526162)scale(0.14 -0.14)\">\n       <use xlink:href=\"#TimesNewRomanPSMT-30\"/>\n      </g>\n     </g>\n    </g>\n    <g id=\"ytick_2\">\n     <g id=\"line2d_19\">\n      <path d=\"M 51.915937 322.918065 \nL 609.915938 322.918065 \n\" clip-path=\"url(#p1644303f5c)\" style=\"fill: none; stroke: #b0b0b0; stroke-width: 0.8; stroke-linecap: square\"/>\n     </g>\n     <g id=\"line2d_20\">\n      <g>\n       <use xlink:href=\"#m234d2ee963\" x=\"51.915937\" y=\"322.918065\" style=\"stroke: #000000; stroke-width: 0.8\"/>\n      </g>\n     </g>\n     <g id=\"text_11\">\n      <!-- 20 -->\n      <g transform=\"translate(30.915937 327.77869)scale(0.14 -0.14)\">\n       <use xlink:href=\"#TimesNewRomanPSMT-32\"/>\n       <use xlink:href=\"#TimesNewRomanPSMT-30\" x=\"50\"/>\n      </g>\n     </g>\n    </g>\n    <g id=\"ytick_3\">\n     <g id=\"line2d_21\">\n      <path d=\"M 51.915937 275.170593 \nL 609.915938 275.170593 \n\" clip-path=\"url(#p1644303f5c)\" style=\"fill: none; stroke: #b0b0b0; stroke-width: 0.8; stroke-linecap: square\"/>\n     </g>\n     <g id=\"line2d_22\">\n      <g>\n       <use xlink:href=\"#m234d2ee963\" x=\"51.915937\" y=\"275.170593\" style=\"stroke: #000000; stroke-width: 0.8\"/>\n      </g>\n     </g>\n     <g id=\"text_12\">\n      <!-- 40 -->\n      <g transform=\"translate(30.915937 280.031218)scale(0.14 -0.14)\">\n       <use xlink:href=\"#TimesNewRomanPSMT-34\"/>\n       <use xlink:href=\"#TimesNewRomanPSMT-30\" x=\"50\"/>\n      </g>\n     </g>\n    </g>\n    <g id=\"ytick_4\">\n     <g id=\"line2d_23\">\n      <path d=\"M 51.915937 227.42312 \nL 609.915938 227.42312 \n\" clip-path=\"url(#p1644303f5c)\" style=\"fill: none; stroke: #b0b0b0; stroke-width: 0.8; stroke-linecap: square\"/>\n     </g>\n     <g id=\"line2d_24\">\n      <g>\n       <use xlink:href=\"#m234d2ee963\" x=\"51.915937\" y=\"227.42312\" style=\"stroke: #000000; stroke-width: 0.8\"/>\n      </g>\n     </g>\n     <g id=\"text_13\">\n      <!-- 60 -->\n      <g transform=\"translate(30.915937 232.283745)scale(0.14 -0.14)\">\n       <use xlink:href=\"#TimesNewRomanPSMT-36\"/>\n       <use xlink:href=\"#TimesNewRomanPSMT-30\" x=\"50\"/>\n      </g>\n     </g>\n    </g>\n    <g id=\"ytick_5\">\n     <g id=\"line2d_25\">\n      <path d=\"M 51.915937 179.675648 \nL 609.915938 179.675648 \n\" clip-path=\"url(#p1644303f5c)\" style=\"fill: none; stroke: #b0b0b0; stroke-width: 0.8; stroke-linecap: square\"/>\n     </g>\n     <g id=\"line2d_26\">\n      <g>\n       <use xlink:href=\"#m234d2ee963\" x=\"51.915937\" y=\"179.675648\" style=\"stroke: #000000; stroke-width: 0.8\"/>\n      </g>\n     </g>\n     <g id=\"text_14\">\n      <!-- 80 -->\n      <g transform=\"translate(30.915937 184.536273)scale(0.14 -0.14)\">\n       <defs>\n        <path id=\"TimesNewRomanPSMT-38\" d=\"M 1228 2134 \nQ 725 2547 579 2797 \nQ 434 3047 434 3316 \nQ 434 3728 753 4026 \nQ 1072 4325 1600 4325 \nQ 2113 4325 2425 4047 \nQ 2738 3769 2738 3413 \nQ 2738 3175 2569 2928 \nQ 2400 2681 1866 2347 \nQ 2416 1922 2594 1678 \nQ 2831 1359 2831 1006 \nQ 2831 559 2490 242 \nQ 2150 -75 1597 -75 \nQ 994 -75 656 303 \nQ 388 606 388 966 \nQ 388 1247 577 1523 \nQ 766 1800 1228 2134 \nz\nM 1719 2469 \nQ 2094 2806 2194 3001 \nQ 2294 3197 2294 3444 \nQ 2294 3772 2109 3958 \nQ 1925 4144 1606 4144 \nQ 1288 4144 1088 3959 \nQ 888 3775 888 3528 \nQ 888 3366 970 3203 \nQ 1053 3041 1206 2894 \nL 1719 2469 \nz\nM 1375 2016 \nQ 1116 1797 991 1539 \nQ 866 1281 866 981 \nQ 866 578 1086 336 \nQ 1306 94 1647 94 \nQ 1984 94 2187 284 \nQ 2391 475 2391 747 \nQ 2391 972 2272 1150 \nQ 2050 1481 1375 2016 \nz\n\" transform=\"scale(0.015625)\"/>\n       </defs>\n       <use xlink:href=\"#TimesNewRomanPSMT-38\"/>\n       <use xlink:href=\"#TimesNewRomanPSMT-30\" x=\"50\"/>\n      </g>\n     </g>\n    </g>\n    <g id=\"ytick_6\">\n     <g id=\"line2d_27\">\n      <path d=\"M 51.915937 131.928176 \nL 609.915938 131.928176 \n\" clip-path=\"url(#p1644303f5c)\" style=\"fill: none; stroke: #b0b0b0; stroke-width: 0.8; stroke-linecap: square\"/>\n     </g>\n     <g id=\"line2d_28\">\n      <g>\n       <use xlink:href=\"#m234d2ee963\" x=\"51.915937\" y=\"131.928176\" style=\"stroke: #000000; stroke-width: 0.8\"/>\n      </g>\n     </g>\n     <g id=\"text_15\">\n      <!-- 100 -->\n      <g transform=\"translate(23.915937 136.788801)scale(0.14 -0.14)\">\n       <use xlink:href=\"#TimesNewRomanPSMT-31\"/>\n       <use xlink:href=\"#TimesNewRomanPSMT-30\" x=\"50\"/>\n       <use xlink:href=\"#TimesNewRomanPSMT-30\" x=\"100\"/>\n      </g>\n     </g>\n    </g>\n    <g id=\"ytick_7\">\n     <g id=\"line2d_29\">\n      <path d=\"M 51.915937 84.180704 \nL 609.915938 84.180704 \n\" clip-path=\"url(#p1644303f5c)\" style=\"fill: none; stroke: #b0b0b0; stroke-width: 0.8; stroke-linecap: square\"/>\n     </g>\n     <g id=\"line2d_30\">\n      <g>\n       <use xlink:href=\"#m234d2ee963\" x=\"51.915937\" y=\"84.180704\" style=\"stroke: #000000; stroke-width: 0.8\"/>\n      </g>\n     </g>\n     <g id=\"text_16\">\n      <!-- 120 -->\n      <g transform=\"translate(23.915937 89.041329)scale(0.14 -0.14)\">\n       <use xlink:href=\"#TimesNewRomanPSMT-31\"/>\n       <use xlink:href=\"#TimesNewRomanPSMT-32\" x=\"50\"/>\n       <use xlink:href=\"#TimesNewRomanPSMT-30\" x=\"100\"/>\n      </g>\n     </g>\n    </g>\n    <g id=\"ytick_8\">\n     <g id=\"line2d_31\">\n      <path d=\"M 51.915937 36.433232 \nL 609.915938 36.433232 \n\" clip-path=\"url(#p1644303f5c)\" style=\"fill: none; stroke: #b0b0b0; stroke-width: 0.8; stroke-linecap: square\"/>\n     </g>\n     <g id=\"line2d_32\">\n      <g>\n       <use xlink:href=\"#m234d2ee963\" x=\"51.915937\" y=\"36.433232\" style=\"stroke: #000000; stroke-width: 0.8\"/>\n      </g>\n     </g>\n     <g id=\"text_17\">\n      <!-- 140 -->\n      <g transform=\"translate(23.915937 41.293857)scale(0.14 -0.14)\">\n       <use xlink:href=\"#TimesNewRomanPSMT-31\"/>\n       <use xlink:href=\"#TimesNewRomanPSMT-34\" x=\"50\"/>\n       <use xlink:href=\"#TimesNewRomanPSMT-30\" x=\"100\"/>\n      </g>\n     </g>\n    </g>\n    <g id=\"text_18\">\n     <!-- $\\mathit{p}$, МПа -->\n     <g transform=\"translate(16.92125 218.88)rotate(-90)scale(0.14 -0.14)\">\n      <defs>\n       <path id=\"STIXGeneral-Italic-70\" d=\"M 1376 2739 \nL 1190 2099 \nQ 1670 2822 2285 2822 \nQ 2637 2822 2829 2611 \nQ 3021 2400 3021 2022 \nQ 3021 1235 2422 582 \nQ 1824 -70 1120 -70 \nQ 890 -70 678 38 \nQ 422 -1018 422 -1024 \nQ 422 -1126 508 -1168 \nQ 595 -1210 819 -1210 \nL 819 -1312 \nL -480 -1312 \nL -480 -1210 \nQ -275 -1203 -188 -1120 \nQ -102 -1037 -45 -806 \nL 691 1958 \nQ 794 2330 794 2413 \nQ 794 2586 512 2586 \nL 371 2586 \nL 358 2682 \nL 1357 2822 \nQ 1389 2822 1389 2797 \nQ 1382 2765 1376 2739 \nz\nM 2445 2003 \nQ 2445 2285 2352 2416 \nQ 2259 2547 2048 2547 \nQ 1798 2547 1548 2329 \nQ 1299 2112 1184 1818 \nQ 1043 1453 905 953 \nQ 768 454 768 294 \nQ 768 186 854 118 \nQ 941 51 1075 51 \nQ 1574 51 2003 659 \nQ 2445 1274 2445 2003 \nz\n\" transform=\"scale(0.015625)\"/>\n       <path id=\"TimesNewRomanPSMT-41c\" d=\"M 2619 0 \nL 981 3566 \nL 981 734 \nQ 981 344 1066 247 \nQ 1181 116 1431 116 \nL 1581 116 \nL 1581 0 \nL 106 0 \nL 106 116 \nL 256 116 \nQ 525 116 638 278 \nQ 706 378 706 734 \nL 706 3503 \nQ 706 3784 644 3909 \nQ 600 4000 483 4061 \nQ 366 4122 106 4122 \nL 106 4238 \nL 1306 4238 \nL 2844 922 \nL 4356 4238 \nL 5556 4238 \nL 5556 4122 \nL 5409 4122 \nQ 5138 4122 5025 3959 \nQ 4956 3859 4956 3503 \nL 4956 734 \nQ 4956 344 5044 247 \nQ 5159 116 5409 116 \nL 5556 116 \nL 5556 0 \nL 3756 0 \nL 3756 116 \nL 3906 116 \nQ 4178 116 4288 278 \nQ 4356 378 4356 734 \nL 4356 3566 \nL 2722 0 \nL 2619 0 \nz\n\" transform=\"scale(0.015625)\"/>\n       <path id=\"TimesNewRomanPSMT-41f\" d=\"M 3294 4006 \nL 1328 4006 \nL 1328 772 \nQ 1328 353 1436 240 \nQ 1544 128 1941 116 \nL 1941 0 \nL 116 0 \nL 116 116 \nQ 509 128 618 240 \nQ 728 353 728 772 \nL 728 3466 \nQ 728 3884 618 3996 \nQ 509 4109 116 4122 \nL 116 4238 \nL 4506 4238 \nL 4506 4122 \nQ 4113 4109 4003 3996 \nQ 3894 3884 3894 3466 \nL 3894 772 \nQ 3894 353 4003 240 \nQ 4113 128 4506 116 \nL 4506 0 \nL 2684 0 \nL 2684 116 \nQ 3075 128 3184 239 \nQ 3294 350 3294 772 \nL 3294 4006 \nz\n\" transform=\"scale(0.015625)\"/>\n       <path id=\"TimesNewRomanPSMT-430\" d=\"M 1822 413 \nQ 1381 72 1269 19 \nQ 1100 -59 909 -59 \nQ 613 -59 420 144 \nQ 228 347 228 678 \nQ 228 888 322 1041 \nQ 450 1253 767 1440 \nQ 1084 1628 1822 1897 \nL 1822 2009 \nQ 1822 2438 1686 2597 \nQ 1550 2756 1291 2756 \nQ 1094 2756 978 2650 \nQ 859 2544 859 2406 \nL 866 2225 \nQ 866 2081 792 2003 \nQ 719 1925 600 1925 \nQ 484 1925 411 2006 \nQ 338 2088 338 2228 \nQ 338 2497 613 2722 \nQ 888 2947 1384 2947 \nQ 1766 2947 2009 2819 \nQ 2194 2722 2281 2516 \nQ 2338 2381 2338 1966 \nL 2338 994 \nQ 2338 584 2353 492 \nQ 2369 400 2405 369 \nQ 2441 338 2488 338 \nQ 2538 338 2575 359 \nQ 2641 400 2828 588 \nL 2828 413 \nQ 2478 -56 2159 -56 \nQ 2006 -56 1915 50 \nQ 1825 156 1822 413 \nz\nM 1822 616 \nL 1822 1706 \nQ 1350 1519 1213 1441 \nQ 966 1303 859 1153 \nQ 753 1003 753 825 \nQ 753 600 887 451 \nQ 1022 303 1197 303 \nQ 1434 303 1822 616 \nz\n\" transform=\"scale(0.015625)\"/>\n      </defs>\n      <use xlink:href=\"#STIXGeneral-Italic-70\" transform=\"translate(0 0.78125)\"/>\n      <use xlink:href=\"#TimesNewRomanPSMT-2c\" transform=\"translate(50.399994 0.78125)\"/>\n      <use xlink:href=\"#TimesNewRomanPSMT-20\" transform=\"translate(75.399994 0.78125)\"/>\n      <use xlink:href=\"#TimesNewRomanPSMT-41c\" transform=\"translate(100.399994 0.78125)\"/>\n      <use xlink:href=\"#TimesNewRomanPSMT-41f\" transform=\"translate(189.31601 0.78125)\"/>\n      <use xlink:href=\"#TimesNewRomanPSMT-430\" transform=\"translate(261.532806 0.78125)\"/>\n     </g>\n    </g>\n   </g>\n   <g id=\"line2d_33\">\n    <path d=\"M 51.915937 370.423636 \nL 52.324015 369.015071 \nL 52.806289 366.496325 \nL 53.399857 362.092677 \nL 54.06762 355.380418 \nL 54.883776 344.743047 \nL 55.885421 328.547318 \nL 57.332243 301.112783 \nL 60.633963 237.581987 \nL 62.043686 215.176201 \nL 63.305018 198.452306 \nL 64.492153 185.51906 \nL 65.64219 175.352483 \nL 66.75513 167.451313 \nL 67.830971 161.362577 \nL 68.869715 156.703535 \nL 69.87136 153.162866 \nL 70.873006 150.403094 \nL 71.837553 148.361199 \nL 72.802101 146.822456 \nL 73.72955 145.738836 \nL 74.657 144.97948 \nL 75.621547 144.476628 \nL 76.623193 144.211307 \nL 77.699034 144.165857 \nL 78.886169 144.348501 \nL 80.221697 144.785865 \nL 81.81691 145.554603 \nL 83.746005 146.746298 \nL 86.157374 148.510836 \nL 89.421996 151.195102 \nL 94.467321 155.665417 \nL 114.759917 173.88332 \nL 123.218256 181.064049 \nL 131.565302 187.858631 \nL 139.949445 194.39769 \nL 148.444883 200.741577 \nL 157.051614 206.89093 \nL 165.806738 212.872762 \nL 174.710253 218.686037 \nL 183.76216 224.330212 \nL 192.999558 229.827135 \nL 202.422445 235.174573 \nL 212.030822 240.370746 \nL 221.824688 245.414239 \nL 231.841143 250.322284 \nL 242.117284 255.109405 \nL 252.65311 259.771396 \nL 263.448623 264.303934 \nL 274.503821 268.703813 \nL 285.892901 272.99654 \nL 297.615863 277.176895 \nL 307.929101 280.807813 \nL 309.301727 291.801488 \nL 310.71145 301.363135 \nL 312.158271 309.68811 \nL 313.64219 316.944438 \nL 315.163208 323.27662 \nL 316.684225 328.687061 \nL 318.24234 333.439456 \nL 319.837553 337.617858 \nL 321.506962 341.372603 \nL 323.213469 344.668131 \nL 324.957074 347.564277 \nL 326.774875 350.161851 \nL 328.666872 352.484985 \nL 330.670163 354.59367 \nL 332.784748 356.495308 \nL 335.010627 358.200446 \nL 337.421996 359.766245 \nL 340.018854 361.185723 \nL 342.875399 362.489255 \nL 346.028727 363.677773 \nL 349.515938 364.751026 \nL 353.448323 365.725643 \nL 357.974277 366.612146 \nL 363.205092 367.403835 \nL 369.363357 368.105144 \nL 376.782953 368.719582 \nL 385.983252 369.249284 \nL 397.743312 369.692763 \nL 413.472856 370.050674 \nL 426.308757 370.229738 \nL 426.308757 370.229738 \n\" clip-path=\"url(#p1644303f5c)\" style=\"fill: none; stroke: #2ca02c; stroke-width: 1.5; stroke-linecap: square\"/>\n   </g>\n   <g id=\"line2d_34\">\n    <path d=\"M 51.915937 24.496364 \nL 609.915938 24.496364 \n\" clip-path=\"url(#p1644303f5c)\" style=\"fill: none; stroke-dasharray: 5.55,2.4; stroke-dashoffset: 0; stroke: #ffa500; stroke-width: 1.5\"/>\n   </g>\n   <g id=\"line2d_35\">\n    <path d=\"M 51.915937 220.627985 \nL 609.915938 220.627985 \n\" clip-path=\"url(#p1644303f5c)\" style=\"fill: none; stroke-dasharray: 5.55,2.4; stroke-dashoffset: 0; stroke: #ffa500; stroke-width: 1.5\"/>\n   </g>\n   <g id=\"line2d_36\">\n    <path d=\"M 51.915937 112.104841 \nL 609.915938 112.104841 \n\" clip-path=\"url(#p1644303f5c)\" style=\"fill: none; stroke-dasharray: 5.55,2.4; stroke-dashoffset: 0; stroke: #ffa500; stroke-width: 1.5\"/>\n   </g>\n   <g id=\"line2d_37\">\n    <path d=\"M 51.915937 370.423636 \nL 52.286917 369.092901 \nL 52.732093 366.617134 \nL 53.288563 362.0912 \nL 53.919228 354.925614 \nL 54.661188 343.710941 \nL 55.55154 326.613045 \nL 56.738675 299.06667 \nL 61.672706 178.924736 \nL 62.971136 155.300833 \nL 64.158271 137.567279 \nL 65.308308 123.635556 \nL 66.38415 113.156179 \nL 67.459991 104.799001 \nL 68.498735 98.436425 \nL 69.50038 93.63406 \nL 70.464928 90.045328 \nL 71.392377 87.397776 \nL 72.282729 85.478856 \nL 73.17308 84.073889 \nL 74.026334 83.135085 \nL 74.842489 82.553748 \nL 75.658645 82.236158 \nL 76.511899 82.144249 \nL 77.439348 82.279861 \nL 78.440994 82.656587 \nL 79.591031 83.330631 \nL 80.963656 84.404682 \nL 82.633065 86.012879 \nL 84.710552 88.346496 \nL 87.381607 91.702367 \nL 91.202699 96.891781 \nL 98.993275 107.944093 \nL 108.379064 121.115537 \nL 115.61317 130.880962 \nL 122.550492 139.874929 \nL 129.413619 148.41007 \nL 136.276745 156.590187 \nL 143.17697 164.468878 \nL 150.114292 172.052522 \nL 157.12581 179.388215 \nL 164.211525 186.479465 \nL 171.371435 193.329663 \nL 178.605541 199.943902 \nL 185.950941 206.360432 \nL 193.370537 212.54835 \nL 200.901427 218.541043 \nL 208.617807 224.396464 \nL 216.445481 230.057215 \nL 224.384449 235.524427 \nL 232.508907 240.848515 \nL 240.818854 246.027694 \nL 246.160964 249.363354 \nL 247.533589 264.235692 \nL 248.943312 277.165899 \nL 250.390133 288.419722 \nL 251.874053 298.225553 \nL 253.357972 306.586905 \nL 254.878989 313.921306 \nL 256.437104 320.360965 \nL 258.032317 326.020589 \nL 259.664629 330.999687 \nL 261.334038 335.384611 \nL 263.040545 339.250318 \nL 264.78415 342.66193 \nL 266.601951 345.734329 \nL 268.493948 348.493029 \nL 270.460141 350.963652 \nL 272.50053 353.171293 \nL 274.652213 355.172121 \nL 276.91519 356.975417 \nL 279.363656 358.639306 \nL 281.997613 360.15555 \nL 284.854157 361.538816 \nL 287.970388 362.797776 \nL 291.4205 363.948737 \nL 295.27869 364.99788 \nL 299.656252 365.952872 \nL 304.664479 366.812855 \nL 310.488862 367.582229 \nL 317.389086 368.263527 \nL 325.77323 368.859736 \nL 336.197762 369.368632 \nL 349.664329 369.791925 \nL 367.916536 370.129355 \nL 376.226483 370.229733 \nL 376.226483 370.229733 \n\" clip-path=\"url(#p1644303f5c)\" style=\"fill: none; stroke: #d62728; stroke-width: 1.5; stroke-linecap: square\"/>\n   </g>\n   <g id=\"line2d_38\">\n    <path d=\"M 51.915937 370.423636 \nL 52.361113 369.018932 \nL 52.954681 366.318278 \nL 53.659543 361.949942 \nL 54.512796 355.088785 \nL 55.55154 344.783317 \nL 57.109655 326.772928 \nL 60.188787 290.868635 \nL 61.672706 276.386002 \nL 62.971136 265.767786 \nL 64.195369 257.501183 \nL 65.382504 250.968168 \nL 66.532542 245.86246 \nL 67.645481 241.902478 \nL 68.721323 238.847931 \nL 69.797164 236.428138 \nL 70.873006 234.534248 \nL 71.948847 233.072839 \nL 73.061786 231.932668 \nL 74.211824 231.075895 \nL 75.398959 230.466136 \nL 76.697389 230.051861 \nL 78.14421 229.831096 \nL 79.776521 229.811447 \nL 81.742714 230.020514 \nL 84.154083 230.511967 \nL 87.307411 231.395564 \nL 91.870463 232.925647 \nL 100.440096 236.078054 \nL 119.953634 243.260701 \nL 133.97667 248.165264 \nL 148.148099 252.885972 \nL 162.690507 257.49577 \nL 177.603896 261.988993 \nL 192.96246 266.383068 \nL 208.729101 270.66168 \nL 224.978017 274.83931 \nL 241.709206 278.910542 \nL 258.959767 282.878278 \nL 276.766798 286.745072 \nL 295.167396 290.51238 \nL 314.19866 294.181276 \nL 333.934786 297.758349 \nL 354.412871 301.242484 \nL 375.670014 304.632199 \nL 397.78041 307.930814 \nL 420.781158 311.136068 \nL 444.709356 314.24459 \nL 469.750492 317.271735 \nL 484.923567 319.030802 \nL 486.33329 325.488383 \nL 487.780111 331.079599 \nL 489.26403 335.927388 \nL 490.785047 340.136537 \nL 492.343163 343.796395 \nL 493.938376 346.983272 \nL 495.607785 349.820498 \nL 497.314292 352.28851 \nL 499.094995 354.481195 \nL 500.986992 356.459665 \nL 502.990283 358.232009 \nL 505.141966 359.835135 \nL 507.442041 361.270479 \nL 509.964703 362.57947 \nL 512.747052 363.767656 \nL 515.826184 364.837638 \nL 519.313394 365.809637 \nL 523.282878 366.681374 \nL 527.920126 367.465969 \nL 533.410627 368.161439 \nL 540.014068 368.766387 \nL 548.212721 369.285888 \nL 558.748548 369.720496 \nL 572.957074 370.071072 \nL 583.344509 370.230078 \nL 583.344509 370.230078 \n\" clip-path=\"url(#p1644303f5c)\" style=\"fill: none; stroke: #1f77b4; stroke-width: 1.5; stroke-linecap: square\"/>\n   </g>\n   <g id=\"line2d_39\">\n    <path d=\"M 205.504175 387.72 \nL 205.504175 7.2 \n\" clip-path=\"url(#p1644303f5c)\" style=\"fill: none; stroke-dasharray: 5.55,2.4; stroke-dashoffset: 0; stroke: #808080; stroke-width: 1.5\"/>\n   </g>\n   <g id=\"patch_3\">\n    <path d=\"M 51.915937 387.72 \nL 51.915937 7.2 \n\" style=\"fill: none; stroke: #000000; stroke-width: 0.8; stroke-linejoin: miter; stroke-linecap: square\"/>\n   </g>\n   <g id=\"patch_4\">\n    <path d=\"M 609.915938 387.72 \nL 609.915938 7.2 \n\" style=\"fill: none; stroke: #000000; stroke-width: 0.8; stroke-linejoin: miter; stroke-linecap: square\"/>\n   </g>\n   <g id=\"patch_5\">\n    <path d=\"M 51.915937 387.72 \nL 609.915938 387.72 \n\" style=\"fill: none; stroke: #000000; stroke-width: 0.8; stroke-linejoin: miter; stroke-linecap: square\"/>\n   </g>\n   <g id=\"patch_6\">\n    <path d=\"M 51.915937 7.2 \nL 609.915938 7.2 \n\" style=\"fill: none; stroke: #000000; stroke-width: 0.8; stroke-linejoin: miter; stroke-linecap: square\"/>\n   </g>\n   <g id=\"legend_1\">\n    <g id=\"patch_7\">\n     <path d=\"M 499.595937 98.224062 \nL 600.115937 98.224062 \nQ 602.915937 98.224062 602.915937 95.424062 \nL 602.915937 17 \nQ 602.915937 14.2 600.115937 14.2 \nL 499.595937 14.2 \nQ 496.795937 14.2 496.795937 17 \nL 496.795937 95.424062 \nQ 496.795937 98.224062 499.595937 98.224062 \nz\n\" style=\"fill: #ffffff; opacity: 0.8; stroke: #cccccc; stroke-linejoin: miter\"/>\n    </g>\n    <g id=\"line2d_40\">\n     <path d=\"M 502.395938 24.7 \nL 516.395937 24.7 \nL 530.395937 24.7 \n\" style=\"fill: none; stroke: #2ca02c; stroke-width: 1.5; stroke-linecap: square\"/>\n    </g>\n    <g id=\"text_19\">\n     <!-- $\\mathit{t}$ = +18°C -->\n     <g transform=\"translate(541.595937 29.6)scale(0.14 -0.14)\">\n      <defs>\n       <path id=\"TimesNewRomanPSMT-3d\" d=\"M 116 2759 \nL 3488 2759 \nL 3488 2503 \nL 116 2503 \nL 116 2759 \nz\nM 116 1741 \nL 3488 1741 \nL 3488 1484 \nL 116 1484 \nL 116 1741 \nz\n\" transform=\"scale(0.015625)\"/>\n       <path id=\"TimesNewRomanPSMT-2b\" d=\"M 1672 441 \nL 1672 2000 \nL 116 2000 \nL 116 2256 \nL 1672 2256 \nL 1672 3809 \nL 1922 3809 \nL 1922 2256 \nL 3484 2256 \nL 3484 2000 \nL 1922 2000 \nL 1922 441 \nL 1672 441 \nz\n\" transform=\"scale(0.015625)\"/>\n       <path id=\"TimesNewRomanPSMT-b0\" d=\"M 1266 4331 \nQ 1669 4331 1948 4050 \nQ 2228 3769 2228 3369 \nQ 2228 2972 1947 2690 \nQ 1666 2409 1266 2409 \nQ 869 2409 587 2690 \nQ 306 2972 306 3369 \nQ 306 3769 586 4050 \nQ 866 4331 1266 4331 \nz\nM 1266 4069 \nQ 975 4069 772 3866 \nQ 569 3663 569 3372 \nQ 569 3084 772 2879 \nQ 975 2675 1266 2675 \nQ 1553 2675 1758 2879 \nQ 1963 3084 1963 3372 \nQ 1963 3663 1759 3866 \nQ 1556 4069 1266 4069 \nz\n\" transform=\"scale(0.015625)\"/>\n       <path id=\"TimesNewRomanPSMT-43\" d=\"M 3853 4334 \nL 3950 2894 \nL 3853 2894 \nQ 3659 3541 3300 3825 \nQ 2941 4109 2438 4109 \nQ 2016 4109 1675 3895 \nQ 1334 3681 1139 3212 \nQ 944 2744 944 2047 \nQ 944 1472 1128 1050 \nQ 1313 628 1683 403 \nQ 2053 178 2528 178 \nQ 2941 178 3256 354 \nQ 3572 531 3950 1056 \nL 4047 994 \nQ 3728 428 3303 165 \nQ 2878 -97 2294 -97 \nQ 1241 -97 663 684 \nQ 231 1266 231 2053 \nQ 231 2688 515 3219 \nQ 800 3750 1298 4042 \nQ 1797 4334 2388 4334 \nQ 2847 4334 3294 4109 \nQ 3425 4041 3481 4041 \nQ 3566 4041 3628 4100 \nQ 3709 4184 3744 4334 \nL 3853 4334 \nz\n\" transform=\"scale(0.015625)\"/>\n      </defs>\n      <use xlink:href=\"#STIXGeneral-Italic-74\" transform=\"translate(0 0.28125)\"/>\n      <use xlink:href=\"#TimesNewRomanPSMT-20\" transform=\"translate(27.799988 0.28125)\"/>\n      <use xlink:href=\"#TimesNewRomanPSMT-3d\" transform=\"translate(52.799988 0.28125)\"/>\n      <use xlink:href=\"#TimesNewRomanPSMT-20\" transform=\"translate(109.196472 0.28125)\"/>\n      <use xlink:href=\"#TimesNewRomanPSMT-2b\" transform=\"translate(134.196472 0.28125)\"/>\n      <use xlink:href=\"#TimesNewRomanPSMT-31\" transform=\"translate(190.592957 0.28125)\"/>\n      <use xlink:href=\"#TimesNewRomanPSMT-38\" transform=\"translate(240.592957 0.28125)\"/>\n      <use xlink:href=\"#TimesNewRomanPSMT-b0\" transform=\"translate(290.592957 0.28125)\"/>\n      <use xlink:href=\"#TimesNewRomanPSMT-43\" transform=\"translate(330.583191 0.28125)\"/>\n     </g>\n    </g>\n    <g id=\"line2d_41\">\n     <path d=\"M 502.395938 44.494687 \nL 516.395937 44.494687 \nL 530.395937 44.494687 \n\" style=\"fill: none; stroke: #d62728; stroke-width: 1.5; stroke-linecap: square\"/>\n    </g>\n    <g id=\"text_20\">\n     <!-- $\\mathit{t}$ = +50°C -->\n     <g transform=\"translate(541.595937 49.394687)scale(0.14 -0.14)\">\n      <use xlink:href=\"#STIXGeneral-Italic-74\" transform=\"translate(0 0.28125)\"/>\n      <use xlink:href=\"#TimesNewRomanPSMT-20\" transform=\"translate(27.799988 0.28125)\"/>\n      <use xlink:href=\"#TimesNewRomanPSMT-3d\" transform=\"translate(52.799988 0.28125)\"/>\n      <use xlink:href=\"#TimesNewRomanPSMT-20\" transform=\"translate(109.196472 0.28125)\"/>\n      <use xlink:href=\"#TimesNewRomanPSMT-2b\" transform=\"translate(134.196472 0.28125)\"/>\n      <use xlink:href=\"#TimesNewRomanPSMT-35\" transform=\"translate(190.592957 0.28125)\"/>\n      <use xlink:href=\"#TimesNewRomanPSMT-30\" transform=\"translate(240.592957 0.28125)\"/>\n      <use xlink:href=\"#TimesNewRomanPSMT-b0\" transform=\"translate(290.592957 0.28125)\"/>\n      <use xlink:href=\"#TimesNewRomanPSMT-43\" transform=\"translate(330.583191 0.28125)\"/>\n     </g>\n    </g>\n    <g id=\"line2d_42\">\n     <path d=\"M 502.395938 64.289375 \nL 516.395937 64.289375 \nL 530.395937 64.289375 \n\" style=\"fill: none; stroke: #1f77b4; stroke-width: 1.5; stroke-linecap: square\"/>\n    </g>\n    <g id=\"text_21\">\n     <!-- $\\mathit{t}$ = $-$50°C -->\n     <g transform=\"translate(541.595937 69.189375)scale(0.14 -0.14)\">\n      <defs>\n       <path id=\"TimesNewRomanPSMT-2212\" d=\"M 3484 2000 \nL 116 2000 \nL 116 2256 \nL 3484 2256 \nL 3484 2000 \nz\n\" transform=\"scale(0.015625)\"/>\n      </defs>\n      <use xlink:href=\"#STIXGeneral-Italic-74\" transform=\"translate(0 0.28125)\"/>\n      <use xlink:href=\"#TimesNewRomanPSMT-20\" transform=\"translate(27.799988 0.28125)\"/>\n      <use xlink:href=\"#TimesNewRomanPSMT-3d\" transform=\"translate(52.799988 0.28125)\"/>\n      <use xlink:href=\"#TimesNewRomanPSMT-20\" transform=\"translate(109.196472 0.28125)\"/>\n      <use xlink:href=\"#TimesNewRomanPSMT-2212\" transform=\"translate(134.196472 0.28125)\"/>\n      <use xlink:href=\"#TimesNewRomanPSMT-35\" transform=\"translate(190.592957 0.28125)\"/>\n      <use xlink:href=\"#TimesNewRomanPSMT-30\" transform=\"translate(240.592957 0.28125)\"/>\n      <use xlink:href=\"#TimesNewRomanPSMT-b0\" transform=\"translate(290.592957 0.28125)\"/>\n      <use xlink:href=\"#TimesNewRomanPSMT-43\" transform=\"translate(330.583191 0.28125)\"/>\n     </g>\n    </g>\n    <g id=\"line2d_43\">\n     <path d=\"M 502.395938 84.084062 \nL 516.395937 84.084062 \nL 530.395937 84.084062 \n\" style=\"fill: none; stroke-dasharray: 5.55,2.4; stroke-dashoffset: 0; stroke: #808080; stroke-width: 1.5\"/>\n    </g>\n    <g id=\"text_22\">\n     <!-- $\\mathit{t}_{в}$ + $\\mathit{t}_г$ -->\n     <g transform=\"translate(541.595937 88.984062)scale(0.14 -0.14)\">\n      <defs>\n       <path id=\"TimesNewRomanPSMT-432\" d=\"M 2016 1513 \nQ 2800 1350 2800 778 \nQ 2800 388 2473 194 \nQ 2147 0 1563 0 \nL 150 0 \nL 150 116 \nQ 428 116 501 220 \nQ 575 325 575 672 \nL 575 2191 \nQ 575 2528 542 2587 \nQ 509 2647 439 2695 \nQ 369 2744 150 2744 \nL 150 2863 \nL 1469 2863 \nQ 1850 2863 2086 2803 \nQ 2322 2744 2473 2569 \nQ 2625 2394 2625 2144 \nQ 2625 1656 2016 1513 \nz\nM 1094 1584 \nQ 1231 1581 1259 1581 \nQ 1688 1581 1878 1745 \nQ 2069 1909 2069 2144 \nQ 2069 2416 1875 2537 \nQ 1681 2659 1256 2659 \nL 1094 2659 \nL 1094 1584 \nz\nM 1094 253 \nQ 1250 203 1466 203 \nQ 1838 203 2019 365 \nQ 2200 528 2200 784 \nQ 2200 1072 1965 1225 \nQ 1731 1378 1316 1378 \nQ 1213 1378 1094 1372 \nL 1094 253 \nz\n\" transform=\"scale(0.015625)\"/>\n       <path id=\"TimesNewRomanPSMT-433\" d=\"M 2469 2863 \nL 2584 2081 \nL 2447 2081 \nQ 2328 2469 2208 2564 \nQ 2088 2659 1700 2659 \nL 1094 2659 \nL 1094 672 \nQ 1094 341 1128 277 \nQ 1163 213 1236 164 \nQ 1309 116 1528 116 \nL 1528 0 \nL 97 0 \nL 97 116 \nQ 403 122 490 211 \nQ 578 300 578 672 \nL 578 2191 \nQ 578 2494 543 2580 \nQ 509 2666 423 2703 \nQ 338 2741 97 2744 \nL 97 2863 \nL 2469 2863 \nz\n\" transform=\"scale(0.015625)\"/>\n      </defs>\n      <use xlink:href=\"#STIXGeneral-Italic-74\" transform=\"translate(0 0.484375)\"/>\n      <use xlink:href=\"#TimesNewRomanPSMT-432\" transform=\"translate(27.799988 -25.278125)scale(0.7)\"/>\n      <use xlink:href=\"#TimesNewRomanPSMT-20\" transform=\"translate(65.145496 0.484375)\"/>\n      <use xlink:href=\"#TimesNewRomanPSMT-2b\" transform=\"translate(90.145496 0.484375)\"/>\n      <use xlink:href=\"#TimesNewRomanPSMT-20\" transform=\"translate(146.54198 0.484375)\"/>\n      <use xlink:href=\"#STIXGeneral-Italic-74\" transform=\"translate(171.54198 0.484375)\"/>\n      <use xlink:href=\"#TimesNewRomanPSMT-433\" transform=\"translate(199.341968 -25.278125)scale(0.7)\"/>\n     </g>\n    </g>\n   </g>\n  </g>\n </g>\n <defs>\n  <clipPath id=\"p1644303f5c\">\n   <rect x=\"51.915937\" y=\"7.2\" width=\"558\" height=\"380.52\"/>\n  </clipPath>\n </defs>\n</svg>\n",
      "text/plain": [
       "<Figure size 720x504 with 1 Axes>"
      ]
     },
     "metadata": {
      "needs_background": "light"
     },
     "output_type": "display_data"
    }
   ],
   "source": [
    "plt.figure(figsize = (10,7))\n",
    "plt.plot(res18['t'],res18['p']/1e6, c = 'tab:green', label = '$\\mathit{t}$ = +18°C')\n",
    "plt.axhline(p1_max/1e6,ls = '--',c = 'orange')\n",
    "plt.axhline(p1_min/1e6,ls = '--',c = 'orange')\n",
    "plt.axhline(p1N/1e6,ls = '--',c = 'orange')\n",
    "plt.plot(res50['t'],res50['p']/1e6, c = 'tab:red', label = '$\\mathit{t}$ = +50°C')\n",
    "plt.plot(res_50['t'],res_50['p']/1e6, c = 'tab:blue', label = '$\\mathit{t}$ = $-$50°C')\n",
    "plt.axvline(t_g + t_vs[p_vs >= p_vsp_50][0],ls = '--',c = 'grey', label = '$\\mathit{t}_{в}$ + $\\mathit{t}_г$')\n",
    "\n",
    "plt.xlim(0)\n",
    "# plt.ylim(top = 18.5)\n",
    "plt.xlabel('$\\mathit{t}$, с')\n",
    "plt.ylabel('$\\mathit{p}$, МПа')\n",
    "plt.legend()\n",
    "plt.grid()\n",
    "# plt.savefig('Инд p.svg', dpi=500, bbox_inches='tight')\n",
    "plt.show()"
   ]
  },
  {
   "cell_type": "code",
   "execution_count": 21,
   "metadata": {},
   "outputs": [
    {
     "data": {
      "text/plain": [
       "(208.491152511265, 212.812126732422, 263.2136610232656, 140)"
      ]
     },
     "execution_count": 21,
     "metadata": {},
     "output_type": "execute_result"
    }
   ],
   "source": [
    "G_ts = lambda res, T_0: np.array([S_zar(abs(e_t)) * propel.rho * propel.u(p,T_0) for e_t, p in zip(res['e_t'],res['p'])])\n",
    "Ps = lambda res, T_0: 1.365*np.array([G_t * V_a + np.pi * zeta * D_kr**2 / 4 * (p * pi(lambda_a,propel.k) - p_atm) for G_t, p in zip(G_ts(res,T_0),res['p'])])\n",
    "\n",
    "I_sumf = lambda res, T_0: simps(Ps(res,T_0),res['t'])\n",
    "\n",
    "# Импульсы\n",
    "I_sumf(res_50,T_min), I_sumf(res18,T_nom), I_sumf(res_50,T_max), I_kor"
   ]
  },
  {
   "cell_type": "code",
   "execution_count": 22,
   "metadata": {},
   "outputs": [
    {
     "data": {
      "image/svg+xml": "<?xml version=\"1.0\" encoding=\"utf-8\" standalone=\"no\"?>\n<!DOCTYPE svg PUBLIC \"-//W3C//DTD SVG 1.1//EN\"\n  \"http://www.w3.org/Graphics/SVG/1.1/DTD/svg11.dtd\">\n<svg xmlns:xlink=\"http://www.w3.org/1999/xlink\" width=\"610.115937pt\" height=\"431.351875pt\" viewBox=\"0 0 610.115937 431.351875\" xmlns=\"http://www.w3.org/2000/svg\" version=\"1.1\">\n <metadata>\n  <rdf:RDF xmlns:dc=\"http://purl.org/dc/elements/1.1/\" xmlns:cc=\"http://creativecommons.org/ns#\" xmlns:rdf=\"http://www.w3.org/1999/02/22-rdf-syntax-ns#\">\n   <cc:Work>\n    <dc:type rdf:resource=\"http://purl.org/dc/dcmitype/StillImage\"/>\n    <dc:date>2022-11-13T19:56:54.147476</dc:date>\n    <dc:format>image/svg+xml</dc:format>\n    <dc:creator>\n     <cc:Agent>\n      <dc:title>Matplotlib v3.5.2, https://matplotlib.org/</dc:title>\n     </cc:Agent>\n    </dc:creator>\n   </cc:Work>\n  </rdf:RDF>\n </metadata>\n <defs>\n  <style type=\"text/css\">*{stroke-linejoin: round; stroke-linecap: butt}</style>\n </defs>\n <g id=\"figure_1\">\n  <g id=\"patch_1\">\n   <path d=\"M 0 431.351875 \nL 610.115937 431.351875 \nL 610.115937 0 \nL 0 0 \nL 0 431.351875 \nz\n\" style=\"fill: none\"/>\n  </g>\n  <g id=\"axes_1\">\n   <g id=\"patch_2\">\n    <path d=\"M 44.915937 387.72 \nL 602.915938 387.72 \nL 602.915938 7.2 \nL 44.915937 7.2 \nz\n\" style=\"fill: #ffffff\"/>\n   </g>\n   <g id=\"matplotlib.axis_1\">\n    <g id=\"xtick_1\">\n     <g id=\"line2d_1\">\n      <path d=\"M 44.915937 387.72 \nL 44.915937 7.2 \n\" clip-path=\"url(#pa2666e97b7)\" style=\"fill: none; stroke: #b0b0b0; stroke-width: 0.8; stroke-linecap: square\"/>\n     </g>\n     <g id=\"line2d_2\">\n      <defs>\n       <path id=\"mc0583eb9de\" d=\"M 0 0 \nL 0 3.5 \n\" style=\"stroke: #000000; stroke-width: 0.8\"/>\n      </defs>\n      <g>\n       <use xlink:href=\"#mc0583eb9de\" x=\"44.915937\" y=\"387.72\" style=\"stroke: #000000; stroke-width: 0.8\"/>\n      </g>\n     </g>\n     <g id=\"text_1\">\n      <!-- 0.00 -->\n      <g transform=\"translate(32.665937 404.44125)scale(0.14 -0.14)\">\n       <defs>\n        <path id=\"TimesNewRomanPSMT-30\" d=\"M 231 2094 \nQ 231 2819 450 3342 \nQ 669 3866 1031 4122 \nQ 1313 4325 1613 4325 \nQ 2100 4325 2488 3828 \nQ 2972 3213 2972 2159 \nQ 2972 1422 2759 906 \nQ 2547 391 2217 158 \nQ 1888 -75 1581 -75 \nQ 975 -75 572 641 \nQ 231 1244 231 2094 \nz\nM 844 2016 \nQ 844 1141 1059 588 \nQ 1238 122 1591 122 \nQ 1759 122 1940 273 \nQ 2122 425 2216 781 \nQ 2359 1319 2359 2297 \nQ 2359 3022 2209 3506 \nQ 2097 3866 1919 4016 \nQ 1791 4119 1609 4119 \nQ 1397 4119 1231 3928 \nQ 1006 3669 925 3112 \nQ 844 2556 844 2016 \nz\n\" transform=\"scale(0.015625)\"/>\n        <path id=\"TimesNewRomanPSMT-2e\" d=\"M 800 606 \nQ 947 606 1047 504 \nQ 1147 403 1147 259 \nQ 1147 116 1045 14 \nQ 944 -88 800 -88 \nQ 656 -88 554 14 \nQ 453 116 453 259 \nQ 453 406 554 506 \nQ 656 606 800 606 \nz\n\" transform=\"scale(0.015625)\"/>\n       </defs>\n       <use xlink:href=\"#TimesNewRomanPSMT-30\"/>\n       <use xlink:href=\"#TimesNewRomanPSMT-2e\" x=\"50\"/>\n       <use xlink:href=\"#TimesNewRomanPSMT-30\" x=\"75\"/>\n       <use xlink:href=\"#TimesNewRomanPSMT-30\" x=\"125\"/>\n      </g>\n     </g>\n    </g>\n    <g id=\"xtick_2\">\n     <g id=\"line2d_3\">\n      <path d=\"M 119.111899 387.72 \nL 119.111899 7.2 \n\" clip-path=\"url(#pa2666e97b7)\" style=\"fill: none; stroke: #b0b0b0; stroke-width: 0.8; stroke-linecap: square\"/>\n     </g>\n     <g id=\"line2d_4\">\n      <g>\n       <use xlink:href=\"#mc0583eb9de\" x=\"119.111899\" y=\"387.72\" style=\"stroke: #000000; stroke-width: 0.8\"/>\n      </g>\n     </g>\n     <g id=\"text_2\">\n      <!-- 0.01 -->\n      <g transform=\"translate(106.861899 404.44125)scale(0.14 -0.14)\">\n       <defs>\n        <path id=\"TimesNewRomanPSMT-31\" d=\"M 750 3822 \nL 1781 4325 \nL 1884 4325 \nL 1884 747 \nQ 1884 391 1914 303 \nQ 1944 216 2037 169 \nQ 2131 122 2419 116 \nL 2419 0 \nL 825 0 \nL 825 116 \nQ 1125 122 1212 167 \nQ 1300 213 1334 289 \nQ 1369 366 1369 747 \nL 1369 3034 \nQ 1369 3497 1338 3628 \nQ 1316 3728 1258 3775 \nQ 1200 3822 1119 3822 \nQ 1003 3822 797 3725 \nL 750 3822 \nz\n\" transform=\"scale(0.015625)\"/>\n       </defs>\n       <use xlink:href=\"#TimesNewRomanPSMT-30\"/>\n       <use xlink:href=\"#TimesNewRomanPSMT-2e\" x=\"50\"/>\n       <use xlink:href=\"#TimesNewRomanPSMT-30\" x=\"75\"/>\n       <use xlink:href=\"#TimesNewRomanPSMT-31\" x=\"125\"/>\n      </g>\n     </g>\n    </g>\n    <g id=\"xtick_3\">\n     <g id=\"line2d_5\">\n      <path d=\"M 193.30786 387.72 \nL 193.30786 7.2 \n\" clip-path=\"url(#pa2666e97b7)\" style=\"fill: none; stroke: #b0b0b0; stroke-width: 0.8; stroke-linecap: square\"/>\n     </g>\n     <g id=\"line2d_6\">\n      <g>\n       <use xlink:href=\"#mc0583eb9de\" x=\"193.30786\" y=\"387.72\" style=\"stroke: #000000; stroke-width: 0.8\"/>\n      </g>\n     </g>\n     <g id=\"text_3\">\n      <!-- 0.02 -->\n      <g transform=\"translate(181.05786 404.44125)scale(0.14 -0.14)\">\n       <defs>\n        <path id=\"TimesNewRomanPSMT-32\" d=\"M 2934 816 \nL 2638 0 \nL 138 0 \nL 138 116 \nQ 1241 1122 1691 1759 \nQ 2141 2397 2141 2925 \nQ 2141 3328 1894 3587 \nQ 1647 3847 1303 3847 \nQ 991 3847 742 3664 \nQ 494 3481 375 3128 \nL 259 3128 \nQ 338 3706 661 4015 \nQ 984 4325 1469 4325 \nQ 1984 4325 2329 3994 \nQ 2675 3663 2675 3213 \nQ 2675 2891 2525 2569 \nQ 2294 2063 1775 1497 \nQ 997 647 803 472 \nL 1909 472 \nQ 2247 472 2383 497 \nQ 2519 522 2628 598 \nQ 2738 675 2819 816 \nL 2934 816 \nz\n\" transform=\"scale(0.015625)\"/>\n       </defs>\n       <use xlink:href=\"#TimesNewRomanPSMT-30\"/>\n       <use xlink:href=\"#TimesNewRomanPSMT-2e\" x=\"50\"/>\n       <use xlink:href=\"#TimesNewRomanPSMT-30\" x=\"75\"/>\n       <use xlink:href=\"#TimesNewRomanPSMT-32\" x=\"125\"/>\n      </g>\n     </g>\n    </g>\n    <g id=\"xtick_4\">\n     <g id=\"line2d_7\">\n      <path d=\"M 267.503821 387.72 \nL 267.503821 7.2 \n\" clip-path=\"url(#pa2666e97b7)\" style=\"fill: none; stroke: #b0b0b0; stroke-width: 0.8; stroke-linecap: square\"/>\n     </g>\n     <g id=\"line2d_8\">\n      <g>\n       <use xlink:href=\"#mc0583eb9de\" x=\"267.503821\" y=\"387.72\" style=\"stroke: #000000; stroke-width: 0.8\"/>\n      </g>\n     </g>\n     <g id=\"text_4\">\n      <!-- 0.03 -->\n      <g transform=\"translate(255.253821 404.44125)scale(0.14 -0.14)\">\n       <defs>\n        <path id=\"TimesNewRomanPSMT-33\" d=\"M 325 3431 \nQ 506 3859 782 4092 \nQ 1059 4325 1472 4325 \nQ 1981 4325 2253 3994 \nQ 2459 3747 2459 3466 \nQ 2459 3003 1878 2509 \nQ 2269 2356 2469 2072 \nQ 2669 1788 2669 1403 \nQ 2669 853 2319 450 \nQ 1863 -75 997 -75 \nQ 569 -75 414 31 \nQ 259 138 259 259 \nQ 259 350 332 419 \nQ 406 488 509 488 \nQ 588 488 669 463 \nQ 722 447 909 348 \nQ 1097 250 1169 231 \nQ 1284 197 1416 197 \nQ 1734 197 1970 444 \nQ 2206 691 2206 1028 \nQ 2206 1275 2097 1509 \nQ 2016 1684 1919 1775 \nQ 1784 1900 1550 2001 \nQ 1316 2103 1072 2103 \nL 972 2103 \nL 972 2197 \nQ 1219 2228 1467 2375 \nQ 1716 2522 1828 2728 \nQ 1941 2934 1941 3181 \nQ 1941 3503 1739 3701 \nQ 1538 3900 1238 3900 \nQ 753 3900 428 3381 \nL 325 3431 \nz\n\" transform=\"scale(0.015625)\"/>\n       </defs>\n       <use xlink:href=\"#TimesNewRomanPSMT-30\"/>\n       <use xlink:href=\"#TimesNewRomanPSMT-2e\" x=\"50\"/>\n       <use xlink:href=\"#TimesNewRomanPSMT-30\" x=\"75\"/>\n       <use xlink:href=\"#TimesNewRomanPSMT-33\" x=\"125\"/>\n      </g>\n     </g>\n    </g>\n    <g id=\"xtick_5\">\n     <g id=\"line2d_9\">\n      <path d=\"M 341.699782 387.72 \nL 341.699782 7.2 \n\" clip-path=\"url(#pa2666e97b7)\" style=\"fill: none; stroke: #b0b0b0; stroke-width: 0.8; stroke-linecap: square\"/>\n     </g>\n     <g id=\"line2d_10\">\n      <g>\n       <use xlink:href=\"#mc0583eb9de\" x=\"341.699782\" y=\"387.72\" style=\"stroke: #000000; stroke-width: 0.8\"/>\n      </g>\n     </g>\n     <g id=\"text_5\">\n      <!-- 0.04 -->\n      <g transform=\"translate(329.449782 404.44125)scale(0.14 -0.14)\">\n       <defs>\n        <path id=\"TimesNewRomanPSMT-34\" d=\"M 2978 1563 \nL 2978 1119 \nL 2409 1119 \nL 2409 0 \nL 1894 0 \nL 1894 1119 \nL 100 1119 \nL 100 1519 \nL 2066 4325 \nL 2409 4325 \nL 2409 1563 \nL 2978 1563 \nz\nM 1894 1563 \nL 1894 3666 \nL 406 1563 \nL 1894 1563 \nz\n\" transform=\"scale(0.015625)\"/>\n       </defs>\n       <use xlink:href=\"#TimesNewRomanPSMT-30\"/>\n       <use xlink:href=\"#TimesNewRomanPSMT-2e\" x=\"50\"/>\n       <use xlink:href=\"#TimesNewRomanPSMT-30\" x=\"75\"/>\n       <use xlink:href=\"#TimesNewRomanPSMT-34\" x=\"125\"/>\n      </g>\n     </g>\n    </g>\n    <g id=\"xtick_6\">\n     <g id=\"line2d_11\">\n      <path d=\"M 415.895743 387.72 \nL 415.895743 7.2 \n\" clip-path=\"url(#pa2666e97b7)\" style=\"fill: none; stroke: #b0b0b0; stroke-width: 0.8; stroke-linecap: square\"/>\n     </g>\n     <g id=\"line2d_12\">\n      <g>\n       <use xlink:href=\"#mc0583eb9de\" x=\"415.895743\" y=\"387.72\" style=\"stroke: #000000; stroke-width: 0.8\"/>\n      </g>\n     </g>\n     <g id=\"text_6\">\n      <!-- 0.05 -->\n      <g transform=\"translate(403.645743 404.44125)scale(0.14 -0.14)\">\n       <defs>\n        <path id=\"TimesNewRomanPSMT-35\" d=\"M 2778 4238 \nL 2534 3706 \nL 1259 3706 \nL 981 3138 \nQ 1809 3016 2294 2522 \nQ 2709 2097 2709 1522 \nQ 2709 1188 2573 903 \nQ 2438 619 2231 419 \nQ 2025 219 1772 97 \nQ 1413 -75 1034 -75 \nQ 653 -75 479 54 \nQ 306 184 306 341 \nQ 306 428 378 495 \nQ 450 563 559 563 \nQ 641 563 702 538 \nQ 763 513 909 409 \nQ 1144 247 1384 247 \nQ 1750 247 2026 523 \nQ 2303 800 2303 1197 \nQ 2303 1581 2056 1914 \nQ 1809 2247 1375 2428 \nQ 1034 2569 447 2591 \nL 1259 4238 \nL 2778 4238 \nz\n\" transform=\"scale(0.015625)\"/>\n       </defs>\n       <use xlink:href=\"#TimesNewRomanPSMT-30\"/>\n       <use xlink:href=\"#TimesNewRomanPSMT-2e\" x=\"50\"/>\n       <use xlink:href=\"#TimesNewRomanPSMT-30\" x=\"75\"/>\n       <use xlink:href=\"#TimesNewRomanPSMT-35\" x=\"125\"/>\n      </g>\n     </g>\n    </g>\n    <g id=\"xtick_7\">\n     <g id=\"line2d_13\">\n      <path d=\"M 490.091704 387.72 \nL 490.091704 7.2 \n\" clip-path=\"url(#pa2666e97b7)\" style=\"fill: none; stroke: #b0b0b0; stroke-width: 0.8; stroke-linecap: square\"/>\n     </g>\n     <g id=\"line2d_14\">\n      <g>\n       <use xlink:href=\"#mc0583eb9de\" x=\"490.091704\" y=\"387.72\" style=\"stroke: #000000; stroke-width: 0.8\"/>\n      </g>\n     </g>\n     <g id=\"text_7\">\n      <!-- 0.06 -->\n      <g transform=\"translate(477.841704 404.44125)scale(0.14 -0.14)\">\n       <defs>\n        <path id=\"TimesNewRomanPSMT-36\" d=\"M 2869 4325 \nL 2869 4209 \nQ 2456 4169 2195 4045 \nQ 1934 3922 1679 3669 \nQ 1425 3416 1258 3105 \nQ 1091 2794 978 2366 \nQ 1428 2675 1881 2675 \nQ 2316 2675 2634 2325 \nQ 2953 1975 2953 1425 \nQ 2953 894 2631 456 \nQ 2244 -75 1606 -75 \nQ 1172 -75 869 213 \nQ 275 772 275 1663 \nQ 275 2231 503 2743 \nQ 731 3256 1154 3653 \nQ 1578 4050 1965 4187 \nQ 2353 4325 2688 4325 \nL 2869 4325 \nz\nM 925 2138 \nQ 869 1716 869 1456 \nQ 869 1156 980 804 \nQ 1091 453 1309 247 \nQ 1469 100 1697 100 \nQ 1969 100 2183 356 \nQ 2397 613 2397 1088 \nQ 2397 1622 2184 2012 \nQ 1972 2403 1581 2403 \nQ 1463 2403 1327 2353 \nQ 1191 2303 925 2138 \nz\n\" transform=\"scale(0.015625)\"/>\n       </defs>\n       <use xlink:href=\"#TimesNewRomanPSMT-30\"/>\n       <use xlink:href=\"#TimesNewRomanPSMT-2e\" x=\"50\"/>\n       <use xlink:href=\"#TimesNewRomanPSMT-30\" x=\"75\"/>\n       <use xlink:href=\"#TimesNewRomanPSMT-36\" x=\"125\"/>\n      </g>\n     </g>\n    </g>\n    <g id=\"xtick_8\">\n     <g id=\"line2d_15\">\n      <path d=\"M 564.287665 387.72 \nL 564.287665 7.2 \n\" clip-path=\"url(#pa2666e97b7)\" style=\"fill: none; stroke: #b0b0b0; stroke-width: 0.8; stroke-linecap: square\"/>\n     </g>\n     <g id=\"line2d_16\">\n      <g>\n       <use xlink:href=\"#mc0583eb9de\" x=\"564.287665\" y=\"387.72\" style=\"stroke: #000000; stroke-width: 0.8\"/>\n      </g>\n     </g>\n     <g id=\"text_8\">\n      <!-- 0.07 -->\n      <g transform=\"translate(552.037665 404.44125)scale(0.14 -0.14)\">\n       <defs>\n        <path id=\"TimesNewRomanPSMT-37\" d=\"M 644 4238 \nL 2916 4238 \nL 2916 4119 \nL 1503 -88 \nL 1153 -88 \nL 2419 3728 \nL 1253 3728 \nQ 900 3728 750 3644 \nQ 488 3500 328 3200 \nL 238 3234 \nL 644 4238 \nz\n\" transform=\"scale(0.015625)\"/>\n       </defs>\n       <use xlink:href=\"#TimesNewRomanPSMT-30\"/>\n       <use xlink:href=\"#TimesNewRomanPSMT-2e\" x=\"50\"/>\n       <use xlink:href=\"#TimesNewRomanPSMT-30\" x=\"75\"/>\n       <use xlink:href=\"#TimesNewRomanPSMT-37\" x=\"125\"/>\n      </g>\n     </g>\n    </g>\n    <g id=\"text_9\">\n     <!-- $\\mathit{t}$, с -->\n     <g transform=\"translate(315.305937 421.157187)scale(0.14 -0.14)\">\n      <defs>\n       <path id=\"STIXGeneral-Italic-74\" d=\"M 1894 2739 \nL 1862 2534 \nL 1325 2534 \nL 768 435 \nQ 755 384 755 346 \nQ 755 243 851 243 \nQ 928 243 1030 342 \nQ 1133 442 1370 749 \nL 1453 704 \nQ 1158 256 969 93 \nQ 781 -70 538 -70 \nQ 243 -70 243 166 \nQ 243 230 346 640 \nL 845 2534 \nL 365 2534 \nL 358 2573 \nQ 358 2688 570 2733 \nQ 730 2771 992 2979 \nQ 1254 3187 1421 3437 \nQ 1459 3494 1510 3494 \nQ 1568 3494 1568 3443 \nQ 1568 3411 1562 3398 \nL 1382 2739 \nL 1894 2739 \nz\n\" transform=\"scale(0.015625)\"/>\n       <path id=\"TimesNewRomanPSMT-2c\" d=\"M 344 -1066 \nL 344 -928 \nQ 666 -822 842 -598 \nQ 1019 -375 1019 -125 \nQ 1019 -66 991 -25 \nQ 969 3 947 3 \nQ 913 3 797 -59 \nQ 741 -88 678 -88 \nQ 525 -88 434 3 \nQ 344 94 344 253 \nQ 344 406 461 515 \nQ 578 625 747 625 \nQ 953 625 1114 445 \nQ 1275 266 1275 -31 \nQ 1275 -353 1051 -629 \nQ 828 -906 344 -1066 \nz\n\" transform=\"scale(0.015625)\"/>\n       <path id=\"TimesNewRomanPSMT-20\" transform=\"scale(0.015625)\"/>\n       <path id=\"TimesNewRomanPSMT-441\" d=\"M 2631 1088 \nQ 2516 522 2178 217 \nQ 1841 -88 1431 -88 \nQ 944 -88 581 321 \nQ 219 731 219 1428 \nQ 219 2103 620 2525 \nQ 1022 2947 1584 2947 \nQ 2006 2947 2278 2723 \nQ 2550 2500 2550 2259 \nQ 2550 2141 2473 2067 \nQ 2397 1994 2259 1994 \nQ 2075 1994 1981 2113 \nQ 1928 2178 1911 2362 \nQ 1894 2547 1784 2644 \nQ 1675 2738 1481 2738 \nQ 1169 2738 978 2506 \nQ 725 2200 725 1697 \nQ 725 1184 976 792 \nQ 1228 400 1656 400 \nQ 1963 400 2206 609 \nQ 2378 753 2541 1131 \nL 2631 1088 \nz\n\" transform=\"scale(0.015625)\"/>\n      </defs>\n      <use xlink:href=\"#STIXGeneral-Italic-74\" transform=\"translate(0 0.40625)\"/>\n      <use xlink:href=\"#TimesNewRomanPSMT-2c\" transform=\"translate(27.799988 0.40625)\"/>\n      <use xlink:href=\"#TimesNewRomanPSMT-20\" transform=\"translate(52.799988 0.40625)\"/>\n      <use xlink:href=\"#TimesNewRomanPSMT-441\" transform=\"translate(77.799988 0.40625)\"/>\n     </g>\n    </g>\n   </g>\n   <g id=\"matplotlib.axis_2\">\n    <g id=\"ytick_1\">\n     <g id=\"line2d_17\">\n      <path d=\"M 44.915937 372.02925 \nL 602.915938 372.02925 \n\" clip-path=\"url(#pa2666e97b7)\" style=\"fill: none; stroke: #b0b0b0; stroke-width: 0.8; stroke-linecap: square\"/>\n     </g>\n     <g id=\"line2d_18\">\n      <defs>\n       <path id=\"m0ecbaf59ef\" d=\"M 0 0 \nL -3.5 0 \n\" style=\"stroke: #000000; stroke-width: 0.8\"/>\n      </defs>\n      <g>\n       <use xlink:href=\"#m0ecbaf59ef\" x=\"44.915937\" y=\"372.02925\" style=\"stroke: #000000; stroke-width: 0.8\"/>\n      </g>\n     </g>\n     <g id=\"text_10\">\n      <!-- 0 -->\n      <g transform=\"translate(30.915937 376.889875)scale(0.14 -0.14)\">\n       <use xlink:href=\"#TimesNewRomanPSMT-30\"/>\n      </g>\n     </g>\n    </g>\n    <g id=\"ytick_2\">\n     <g id=\"line2d_19\">\n      <path d=\"M 44.915937 312.685932 \nL 602.915938 312.685932 \n\" clip-path=\"url(#pa2666e97b7)\" style=\"fill: none; stroke: #b0b0b0; stroke-width: 0.8; stroke-linecap: square\"/>\n     </g>\n     <g id=\"line2d_20\">\n      <g>\n       <use xlink:href=\"#m0ecbaf59ef\" x=\"44.915937\" y=\"312.685932\" style=\"stroke: #000000; stroke-width: 0.8\"/>\n      </g>\n     </g>\n     <g id=\"text_11\">\n      <!-- 2 -->\n      <g transform=\"translate(30.915937 317.546557)scale(0.14 -0.14)\">\n       <use xlink:href=\"#TimesNewRomanPSMT-32\"/>\n      </g>\n     </g>\n    </g>\n    <g id=\"ytick_3\">\n     <g id=\"line2d_21\">\n      <path d=\"M 44.915937 253.342613 \nL 602.915938 253.342613 \n\" clip-path=\"url(#pa2666e97b7)\" style=\"fill: none; stroke: #b0b0b0; stroke-width: 0.8; stroke-linecap: square\"/>\n     </g>\n     <g id=\"line2d_22\">\n      <g>\n       <use xlink:href=\"#m0ecbaf59ef\" x=\"44.915937\" y=\"253.342613\" style=\"stroke: #000000; stroke-width: 0.8\"/>\n      </g>\n     </g>\n     <g id=\"text_12\">\n      <!-- 4 -->\n      <g transform=\"translate(30.915937 258.203238)scale(0.14 -0.14)\">\n       <use xlink:href=\"#TimesNewRomanPSMT-34\"/>\n      </g>\n     </g>\n    </g>\n    <g id=\"ytick_4\">\n     <g id=\"line2d_23\">\n      <path d=\"M 44.915937 193.999295 \nL 602.915938 193.999295 \n\" clip-path=\"url(#pa2666e97b7)\" style=\"fill: none; stroke: #b0b0b0; stroke-width: 0.8; stroke-linecap: square\"/>\n     </g>\n     <g id=\"line2d_24\">\n      <g>\n       <use xlink:href=\"#m0ecbaf59ef\" x=\"44.915937\" y=\"193.999295\" style=\"stroke: #000000; stroke-width: 0.8\"/>\n      </g>\n     </g>\n     <g id=\"text_13\">\n      <!-- 6 -->\n      <g transform=\"translate(30.915937 198.85992)scale(0.14 -0.14)\">\n       <use xlink:href=\"#TimesNewRomanPSMT-36\"/>\n      </g>\n     </g>\n    </g>\n    <g id=\"ytick_5\">\n     <g id=\"line2d_25\">\n      <path d=\"M 44.915937 134.655976 \nL 602.915938 134.655976 \n\" clip-path=\"url(#pa2666e97b7)\" style=\"fill: none; stroke: #b0b0b0; stroke-width: 0.8; stroke-linecap: square\"/>\n     </g>\n     <g id=\"line2d_26\">\n      <g>\n       <use xlink:href=\"#m0ecbaf59ef\" x=\"44.915937\" y=\"134.655976\" style=\"stroke: #000000; stroke-width: 0.8\"/>\n      </g>\n     </g>\n     <g id=\"text_14\">\n      <!-- 8 -->\n      <g transform=\"translate(30.915937 139.516601)scale(0.14 -0.14)\">\n       <defs>\n        <path id=\"TimesNewRomanPSMT-38\" d=\"M 1228 2134 \nQ 725 2547 579 2797 \nQ 434 3047 434 3316 \nQ 434 3728 753 4026 \nQ 1072 4325 1600 4325 \nQ 2113 4325 2425 4047 \nQ 2738 3769 2738 3413 \nQ 2738 3175 2569 2928 \nQ 2400 2681 1866 2347 \nQ 2416 1922 2594 1678 \nQ 2831 1359 2831 1006 \nQ 2831 559 2490 242 \nQ 2150 -75 1597 -75 \nQ 994 -75 656 303 \nQ 388 606 388 966 \nQ 388 1247 577 1523 \nQ 766 1800 1228 2134 \nz\nM 1719 2469 \nQ 2094 2806 2194 3001 \nQ 2294 3197 2294 3444 \nQ 2294 3772 2109 3958 \nQ 1925 4144 1606 4144 \nQ 1288 4144 1088 3959 \nQ 888 3775 888 3528 \nQ 888 3366 970 3203 \nQ 1053 3041 1206 2894 \nL 1719 2469 \nz\nM 1375 2016 \nQ 1116 1797 991 1539 \nQ 866 1281 866 981 \nQ 866 578 1086 336 \nQ 1306 94 1647 94 \nQ 1984 94 2187 284 \nQ 2391 475 2391 747 \nQ 2391 972 2272 1150 \nQ 2050 1481 1375 2016 \nz\n\" transform=\"scale(0.015625)\"/>\n       </defs>\n       <use xlink:href=\"#TimesNewRomanPSMT-38\"/>\n      </g>\n     </g>\n    </g>\n    <g id=\"ytick_6\">\n     <g id=\"line2d_27\">\n      <path d=\"M 44.915937 75.312658 \nL 602.915938 75.312658 \n\" clip-path=\"url(#pa2666e97b7)\" style=\"fill: none; stroke: #b0b0b0; stroke-width: 0.8; stroke-linecap: square\"/>\n     </g>\n     <g id=\"line2d_28\">\n      <g>\n       <use xlink:href=\"#m0ecbaf59ef\" x=\"44.915937\" y=\"75.312658\" style=\"stroke: #000000; stroke-width: 0.8\"/>\n      </g>\n     </g>\n     <g id=\"text_15\">\n      <!-- 10 -->\n      <g transform=\"translate(23.915937 80.173283)scale(0.14 -0.14)\">\n       <use xlink:href=\"#TimesNewRomanPSMT-31\"/>\n       <use xlink:href=\"#TimesNewRomanPSMT-30\" x=\"50\"/>\n      </g>\n     </g>\n    </g>\n    <g id=\"ytick_7\">\n     <g id=\"line2d_29\">\n      <path d=\"M 44.915937 15.969339 \nL 602.915938 15.969339 \n\" clip-path=\"url(#pa2666e97b7)\" style=\"fill: none; stroke: #b0b0b0; stroke-width: 0.8; stroke-linecap: square\"/>\n     </g>\n     <g id=\"line2d_30\">\n      <g>\n       <use xlink:href=\"#m0ecbaf59ef\" x=\"44.915937\" y=\"15.969339\" style=\"stroke: #000000; stroke-width: 0.8\"/>\n      </g>\n     </g>\n     <g id=\"text_16\">\n      <!-- 12 -->\n      <g transform=\"translate(23.915937 20.829964)scale(0.14 -0.14)\">\n       <use xlink:href=\"#TimesNewRomanPSMT-31\"/>\n       <use xlink:href=\"#TimesNewRomanPSMT-32\" x=\"50\"/>\n      </g>\n     </g>\n    </g>\n    <g id=\"text_17\">\n     <!-- $\\mathit{P}$, кН -->\n     <g transform=\"translate(16.92125 213.7)rotate(-90)scale(0.14 -0.14)\">\n      <defs>\n       <path id=\"STIXGeneral-Italic-50\" d=\"M 934 4179 \nL 2477 4179 \nQ 3872 4179 3872 3232 \nQ 3872 2976 3753 2729 \nQ 3635 2483 3437 2317 \nQ 2995 1952 2125 1952 \nQ 1773 1952 1549 2003 \nL 1210 768 \nQ 1120 422 1120 365 \nQ 1120 250 1216 189 \nQ 1312 128 1562 102 \nL 1562 0 \nL 0 0 \nL 0 102 \nQ 275 141 361 227 \nQ 448 314 538 627 \nL 1280 3277 \nQ 1389 3667 1389 3808 \nQ 1389 3936 1299 3990 \nQ 1210 4045 934 4077 \nL 934 4179 \nz\nM 2048 3789 \nL 1606 2221 \nQ 1792 2189 1939 2189 \nQ 2496 2189 2758 2342 \nQ 3213 2598 3213 3200 \nQ 3213 3987 2381 3987 \nQ 2099 3987 2048 3789 \nz\n\" transform=\"scale(0.015625)\"/>\n       <path id=\"TimesNewRomanPSMT-43a\" d=\"M 3072 0 \nL 2228 0 \nQ 1834 572 1516 1172 \nQ 1441 1309 1380 1376 \nQ 1319 1444 1213 1444 \nQ 1175 1444 1094 1438 \nL 1094 672 \nQ 1094 363 1130 277 \nQ 1166 191 1259 153 \nQ 1353 116 1575 116 \nL 1575 0 \nL 144 0 \nL 144 116 \nQ 422 116 500 217 \nQ 578 319 578 672 \nL 578 2191 \nQ 578 2525 543 2586 \nQ 509 2647 437 2695 \nQ 366 2744 144 2744 \nL 144 2863 \nL 1575 2863 \nL 1575 2744 \nQ 1316 2744 1255 2706 \nQ 1194 2669 1144 2614 \nQ 1094 2559 1094 2191 \nL 1094 1628 \nQ 1166 1622 1191 1622 \nQ 1381 1622 1548 1730 \nQ 1716 1838 1847 2188 \nQ 1969 2519 2048 2634 \nQ 2128 2750 2270 2823 \nQ 2413 2897 2569 2897 \nQ 2738 2897 2838 2815 \nQ 2938 2734 2938 2603 \nQ 2938 2494 2866 2417 \nQ 2794 2341 2666 2341 \nQ 2597 2341 2494 2378 \nQ 2363 2425 2294 2425 \nQ 2150 2425 2056 2178 \nQ 1950 1894 1900 1811 \nQ 1850 1728 1709 1591 \nQ 1806 1563 1920 1447 \nQ 2034 1331 2344 788 \nQ 2591 353 2714 237 \nQ 2838 122 3072 116 \nL 3072 0 \nz\n\" transform=\"scale(0.015625)\"/>\n       <path id=\"TimesNewRomanPSMT-41d\" d=\"M 1316 2272 \nL 3284 2272 \nL 3284 3484 \nQ 3284 3809 3244 3913 \nQ 3213 3991 3113 4047 \nQ 2978 4122 2828 4122 \nL 2678 4122 \nL 2678 4238 \nL 4491 4238 \nL 4491 4122 \nL 4341 4122 \nQ 4191 4122 4056 4050 \nQ 3956 4000 3920 3898 \nQ 3884 3797 3884 3484 \nL 3884 750 \nQ 3884 428 3925 325 \nQ 3956 247 4053 191 \nQ 4191 116 4341 116 \nL 4491 116 \nL 4491 0 \nL 2678 0 \nL 2678 116 \nL 2828 116 \nQ 3088 116 3206 269 \nQ 3284 369 3284 750 \nL 3284 2041 \nL 1316 2041 \nL 1316 750 \nQ 1316 428 1356 325 \nQ 1388 247 1488 191 \nQ 1622 116 1772 116 \nL 1925 116 \nL 1925 0 \nL 109 0 \nL 109 116 \nL 259 116 \nQ 522 116 641 269 \nQ 716 369 716 750 \nL 716 3484 \nQ 716 3809 675 3913 \nQ 644 3991 547 4047 \nQ 409 4122 259 4122 \nL 109 4122 \nL 109 4238 \nL 1925 4238 \nL 1925 4122 \nL 1772 4122 \nQ 1622 4122 1488 4050 \nQ 1391 4000 1353 3898 \nQ 1316 3797 1316 3484 \nL 1316 2272 \nz\n\" transform=\"scale(0.015625)\"/>\n      </defs>\n      <use xlink:href=\"#STIXGeneral-Italic-50\" transform=\"translate(0 0.78125)\"/>\n      <use xlink:href=\"#TimesNewRomanPSMT-2c\" transform=\"translate(61.099991 0.78125)\"/>\n      <use xlink:href=\"#TimesNewRomanPSMT-20\" transform=\"translate(86.099991 0.78125)\"/>\n      <use xlink:href=\"#TimesNewRomanPSMT-43a\" transform=\"translate(111.099991 0.78125)\"/>\n      <use xlink:href=\"#TimesNewRomanPSMT-41d\" transform=\"translate(159.683975 0.78125)\"/>\n     </g>\n    </g>\n   </g>\n   <g id=\"line2d_31\">\n    <path d=\"M 44.915937 370.082612 \nL 46.733739 338.798692 \nL 47.99507 310.904483 \nL 52.929101 196.857493 \nL 54.264629 173.563922 \nL 55.488862 156.012747 \nL 56.638899 142.615679 \nL 57.751839 132.180494 \nL 58.82768 124.133762 \nL 59.866424 117.979042 \nL 60.868069 113.306856 \nL 61.869715 109.670529 \nL 62.834262 106.984705 \nL 63.761712 105.030991 \nL 64.652063 103.64027 \nL 65.542415 102.647742 \nL 66.395668 102.010841 \nL 67.28602 101.62192 \nL 68.213469 101.467742 \nL 69.178017 101.533104 \nL 70.253858 101.829194 \nL 71.51519 102.416685 \nL 72.999109 103.366148 \nL 74.81691 104.809992 \nL 77.116985 106.941917 \nL 80.196117 110.123362 \nL 84.944659 115.386488 \nL 103.604943 136.324137 \nL 111.321323 144.526272 \nL 118.926409 152.286926 \nL 126.568593 159.767349 \nL 134.247875 166.974301 \nL 142.038451 173.981262 \nL 149.94032 180.788892 \nL 157.953484 187.398918 \nL 166.077942 193.813198 \nL 174.350792 200.061236 \nL 182.772033 206.142018 \nL 191.341667 212.055123 \nL 200.059692 217.800535 \nL 208.963208 223.401288 \nL 218.052213 228.854917 \nL 227.326708 234.159795 \nL 236.823791 239.334785 \nL 246.506364 244.35774 \nL 256.411525 249.246048 \nL 266.576371 254.01431 \nL 277.000904 258.658662 \nL 287.72222 263.19161 \nL 298.74032 267.607808 \nL 300.929101 268.574191 \nL 302.487216 279.128278 \nL 304.08243 288.435878 \nL 305.714741 296.664351 \nL 307.38415 303.956042 \nL 309.090657 310.432353 \nL 310.834262 316.197103 \nL 312.614965 321.339336 \nL 314.469864 326.023304 \nL 316.361861 330.205889 \nL 318.328054 334.015971 \nL 320.331345 337.422981 \nL 322.408832 340.528034 \nL 324.597613 343.400569 \nL 326.86059 346.006564 \nL 329.23486 348.404857 \nL 331.757523 350.635255 \nL 334.428578 352.696666 \nL 337.248024 354.591754 \nL 340.290059 356.366283 \nL 343.554681 358.011351 \nL 347.116087 359.553164 \nL 350.974277 360.97935 \nL 355.240545 362.316137 \nL 359.951988 363.556428 \nL 365.219902 364.709946 \nL 371.155578 365.778177 \nL 377.907411 366.763059 \nL 385.697987 367.668844 \nL 394.749894 368.491394 \nL 405.434113 369.232909 \nL 418.307112 369.895833 \nL 419.308757 369.939295 \nL 419.308757 369.939295 \n\" clip-path=\"url(#pa2666e97b7)\" style=\"fill: none; stroke: #2ca02c; stroke-width: 1.5; stroke-linecap: square\"/>\n   </g>\n   <g id=\"line2d_32\">\n    <path d=\"M 44.915937 163.391048 \nL 602.915938 163.391048 \n\" clip-path=\"url(#pa2666e97b7)\" style=\"fill: none; stroke-dasharray: 5.55,2.4; stroke-dashoffset: 0; stroke: #808080; stroke-width: 1.5\"/>\n   </g>\n   <g id=\"line2d_33\">\n    <path d=\"M 44.915937 369.874651 \nL 46.325661 342.07866 \nL 47.327306 316.131315 \nL 48.737029 273.209639 \nL 52.22424 164.826472 \nL 53.596865 130.093146 \nL 54.821098 104.366261 \nL 55.971136 84.595247 \nL 57.084075 69.150306 \nL 58.159917 57.237739 \nL 59.19866 48.14313 \nL 60.200305 41.264596 \nL 61.164853 36.11387 \nL 62.092302 32.303432 \nL 62.982654 29.529425 \nL 63.835908 27.555229 \nL 64.652063 26.197063 \nL 65.431121 25.312184 \nL 66.17308 24.789511 \nL 66.91504 24.535476 \nL 67.657 24.513017 \nL 68.473155 24.71773 \nL 69.400605 25.197455 \nL 70.476446 26.026842 \nL 71.737777 27.299376 \nL 73.258795 29.166431 \nL 75.150792 31.859639 \nL 77.599258 35.753911 \nL 81.049371 41.691865 \nL 87.541517 53.397906 \nL 97.0386 70.41212 \nL 103.790433 82.039134 \nL 110.208383 92.651096 \nL 116.552138 102.711414 \nL 122.858795 112.297622 \nL 129.202549 121.535796 \nL 135.583402 130.435618 \nL 142.001353 139.00618 \nL 148.493499 147.304736 \nL 155.022744 155.291508 \nL 161.626184 163.018885 \nL 168.303821 170.491659 \nL 175.092751 177.755109 \nL 181.955878 184.772347 \nL 188.8932 191.547986 \nL 195.941816 198.121393 \nL 203.101727 204.495421 \nL 210.372931 210.67162 \nL 217.755429 216.651127 \nL 225.286319 222.464461 \nL 232.965601 228.111868 \nL 239.160964 232.588014 \nL 240.719079 246.835269 \nL 242.314292 259.395433 \nL 243.946603 270.495686 \nL 245.616012 280.329122 \nL 247.322519 289.060375 \nL 249.066124 296.830157 \nL 250.846828 303.759098 \nL 252.664629 309.950884 \nL 254.519528 315.494878 \nL 256.411525 320.468305 \nL 258.377718 325.018727 \nL 260.381009 329.104836 \nL 262.458495 332.843653 \nL 264.610178 336.260571 \nL 266.836057 339.380221 \nL 269.136132 342.226187 \nL 271.547501 344.858986 \nL 274.070163 347.286273 \nL 276.741218 349.546946 \nL 279.560665 351.64085 \nL 282.565601 353.593565 \nL 285.756027 355.401891 \nL 289.206139 357.100444 \nL 292.953035 358.693513 \nL 297.033813 360.182482 \nL 301.485571 361.567157 \nL 306.419602 362.86481 \nL 311.910104 364.073741 \nL 318.068368 365.196376 \nL 325.005691 366.230392 \nL 332.944659 367.183657 \nL 342.10786 368.054319 \nL 352.829176 368.843647 \nL 365.590881 369.553072 \nL 369.226483 369.720259 \nL 369.226483 369.720259 \n\" clip-path=\"url(#pa2666e97b7)\" style=\"fill: none; stroke: #d62728; stroke-width: 1.5; stroke-linecap: square\"/>\n   </g>\n   <g id=\"line2d_34\">\n    <path d=\"M 44.915937 370.423636 \nL 46.140171 355.806496 \nL 47.549894 336.803213 \nL 52.335534 269.788229 \nL 53.708159 254.918057 \nL 54.96949 243.556702 \nL 56.156626 234.782569 \nL 57.306663 227.877421 \nL 58.419602 222.49428 \nL 59.495444 218.325448 \nL 60.571285 215.01152 \nL 61.647127 212.408655 \nL 62.68587 210.45288 \nL 63.724614 208.947553 \nL 64.800455 207.777259 \nL 65.876297 206.929125 \nL 66.989236 206.325755 \nL 68.213469 205.919308 \nL 69.548997 205.717284 \nL 71.070014 205.721445 \nL 72.850717 205.95984 \nL 75.0024 206.482484 \nL 77.74765 207.389383 \nL 81.568742 208.90466 \nL 87.838301 211.662087 \nL 112.916536 222.862641 \nL 125.529849 228.17706 \nL 138.291555 233.31301 \nL 151.387142 238.343345 \nL 164.779513 243.248835 \nL 178.542863 248.052291 \nL 192.640096 252.736381 \nL 207.108308 257.309001 \nL 222.021697 261.787973 \nL 237.343163 266.15656 \nL 253.109804 270.420114 \nL 269.35872 274.583211 \nL 286.127007 278.64898 \nL 303.451764 282.619881 \nL 321.332991 286.489271 \nL 339.844883 290.266687 \nL 359.024539 293.952195 \nL 378.871958 297.538561 \nL 399.498436 301.038687 \nL 420.90397 304.444411 \nL 443.162759 307.759453 \nL 466.386095 310.991864 \nL 477.923567 312.541705 \nL 479.481682 318.606406 \nL 481.113993 324.072489 \nL 482.783402 328.888768 \nL 484.489909 333.143663 \nL 486.270612 336.986667 \nL 488.088413 340.38741 \nL 489.98041 343.460724 \nL 491.946603 346.234657 \nL 493.986992 348.735994 \nL 496.138675 351.026777 \nL 498.401652 353.115985 \nL 500.813021 355.042218 \nL 503.409879 356.830198 \nL 506.192228 358.474408 \nL 509.197164 359.991828 \nL 512.498884 361.407542 \nL 516.134486 362.720748 \nL 520.178166 363.940119 \nL 524.70412 365.067535 \nL 529.823641 366.108119 \nL 535.648024 367.060555 \nL 542.399857 367.93379 \nL 550.301727 368.725453 \nL 559.724614 369.43867 \nL 571.150792 370.072185 \nL 576.344509 370.299541 \nL 576.344509 370.299541 \n\" clip-path=\"url(#pa2666e97b7)\" style=\"fill: none; stroke: #1f77b4; stroke-width: 1.5; stroke-linecap: square\"/>\n   </g>\n   <g id=\"patch_3\">\n    <path d=\"M 44.915937 387.72 \nL 44.915937 7.2 \n\" style=\"fill: none; stroke: #000000; stroke-width: 0.8; stroke-linejoin: miter; stroke-linecap: square\"/>\n   </g>\n   <g id=\"patch_4\">\n    <path d=\"M 602.915938 387.72 \nL 602.915938 7.2 \n\" style=\"fill: none; stroke: #000000; stroke-width: 0.8; stroke-linejoin: miter; stroke-linecap: square\"/>\n   </g>\n   <g id=\"patch_5\">\n    <path d=\"M 44.915937 387.72 \nL 602.915938 387.72 \n\" style=\"fill: none; stroke: #000000; stroke-width: 0.8; stroke-linejoin: miter; stroke-linecap: square\"/>\n   </g>\n   <g id=\"patch_6\">\n    <path d=\"M 44.915937 7.2 \nL 602.915938 7.2 \n\" style=\"fill: none; stroke: #000000; stroke-width: 0.8; stroke-linejoin: miter; stroke-linecap: square\"/>\n   </g>\n   <g id=\"legend_1\">\n    <g id=\"patch_7\">\n     <path d=\"M 492.595937 77.784063 \nL 593.115937 77.784063 \nQ 595.915937 77.784063 595.915937 74.984062 \nL 595.915937 17 \nQ 595.915937 14.2 593.115937 14.2 \nL 492.595937 14.2 \nQ 489.795937 14.2 489.795937 17 \nL 489.795937 74.984062 \nQ 489.795937 77.784063 492.595937 77.784063 \nz\n\" style=\"fill: #ffffff; opacity: 0.8; stroke: #cccccc; stroke-linejoin: miter\"/>\n    </g>\n    <g id=\"line2d_35\">\n     <path d=\"M 495.395938 24.7 \nL 509.395938 24.7 \nL 523.395937 24.7 \n\" style=\"fill: none; stroke: #2ca02c; stroke-width: 1.5; stroke-linecap: square\"/>\n    </g>\n    <g id=\"text_18\">\n     <!-- $\\mathit{t}$ = +18°C -->\n     <g transform=\"translate(534.595937 29.6)scale(0.14 -0.14)\">\n      <defs>\n       <path id=\"TimesNewRomanPSMT-3d\" d=\"M 116 2759 \nL 3488 2759 \nL 3488 2503 \nL 116 2503 \nL 116 2759 \nz\nM 116 1741 \nL 3488 1741 \nL 3488 1484 \nL 116 1484 \nL 116 1741 \nz\n\" transform=\"scale(0.015625)\"/>\n       <path id=\"TimesNewRomanPSMT-2b\" d=\"M 1672 441 \nL 1672 2000 \nL 116 2000 \nL 116 2256 \nL 1672 2256 \nL 1672 3809 \nL 1922 3809 \nL 1922 2256 \nL 3484 2256 \nL 3484 2000 \nL 1922 2000 \nL 1922 441 \nL 1672 441 \nz\n\" transform=\"scale(0.015625)\"/>\n       <path id=\"TimesNewRomanPSMT-b0\" d=\"M 1266 4331 \nQ 1669 4331 1948 4050 \nQ 2228 3769 2228 3369 \nQ 2228 2972 1947 2690 \nQ 1666 2409 1266 2409 \nQ 869 2409 587 2690 \nQ 306 2972 306 3369 \nQ 306 3769 586 4050 \nQ 866 4331 1266 4331 \nz\nM 1266 4069 \nQ 975 4069 772 3866 \nQ 569 3663 569 3372 \nQ 569 3084 772 2879 \nQ 975 2675 1266 2675 \nQ 1553 2675 1758 2879 \nQ 1963 3084 1963 3372 \nQ 1963 3663 1759 3866 \nQ 1556 4069 1266 4069 \nz\n\" transform=\"scale(0.015625)\"/>\n       <path id=\"TimesNewRomanPSMT-43\" d=\"M 3853 4334 \nL 3950 2894 \nL 3853 2894 \nQ 3659 3541 3300 3825 \nQ 2941 4109 2438 4109 \nQ 2016 4109 1675 3895 \nQ 1334 3681 1139 3212 \nQ 944 2744 944 2047 \nQ 944 1472 1128 1050 \nQ 1313 628 1683 403 \nQ 2053 178 2528 178 \nQ 2941 178 3256 354 \nQ 3572 531 3950 1056 \nL 4047 994 \nQ 3728 428 3303 165 \nQ 2878 -97 2294 -97 \nQ 1241 -97 663 684 \nQ 231 1266 231 2053 \nQ 231 2688 515 3219 \nQ 800 3750 1298 4042 \nQ 1797 4334 2388 4334 \nQ 2847 4334 3294 4109 \nQ 3425 4041 3481 4041 \nQ 3566 4041 3628 4100 \nQ 3709 4184 3744 4334 \nL 3853 4334 \nz\n\" transform=\"scale(0.015625)\"/>\n      </defs>\n      <use xlink:href=\"#STIXGeneral-Italic-74\" transform=\"translate(0 0.28125)\"/>\n      <use xlink:href=\"#TimesNewRomanPSMT-20\" transform=\"translate(27.799988 0.28125)\"/>\n      <use xlink:href=\"#TimesNewRomanPSMT-3d\" transform=\"translate(52.799988 0.28125)\"/>\n      <use xlink:href=\"#TimesNewRomanPSMT-20\" transform=\"translate(109.196472 0.28125)\"/>\n      <use xlink:href=\"#TimesNewRomanPSMT-2b\" transform=\"translate(134.196472 0.28125)\"/>\n      <use xlink:href=\"#TimesNewRomanPSMT-31\" transform=\"translate(190.592957 0.28125)\"/>\n      <use xlink:href=\"#TimesNewRomanPSMT-38\" transform=\"translate(240.592957 0.28125)\"/>\n      <use xlink:href=\"#TimesNewRomanPSMT-b0\" transform=\"translate(290.592957 0.28125)\"/>\n      <use xlink:href=\"#TimesNewRomanPSMT-43\" transform=\"translate(330.583191 0.28125)\"/>\n     </g>\n    </g>\n    <g id=\"line2d_36\">\n     <path d=\"M 495.395938 44.494688 \nL 509.395938 44.494688 \nL 523.395937 44.494688 \n\" style=\"fill: none; stroke: #d62728; stroke-width: 1.5; stroke-linecap: square\"/>\n    </g>\n    <g id=\"text_19\">\n     <!-- $\\mathit{t}$ = +50°C -->\n     <g transform=\"translate(534.595937 49.394688)scale(0.14 -0.14)\">\n      <use xlink:href=\"#STIXGeneral-Italic-74\" transform=\"translate(0 0.28125)\"/>\n      <use xlink:href=\"#TimesNewRomanPSMT-20\" transform=\"translate(27.799988 0.28125)\"/>\n      <use xlink:href=\"#TimesNewRomanPSMT-3d\" transform=\"translate(52.799988 0.28125)\"/>\n      <use xlink:href=\"#TimesNewRomanPSMT-20\" transform=\"translate(109.196472 0.28125)\"/>\n      <use xlink:href=\"#TimesNewRomanPSMT-2b\" transform=\"translate(134.196472 0.28125)\"/>\n      <use xlink:href=\"#TimesNewRomanPSMT-35\" transform=\"translate(190.592957 0.28125)\"/>\n      <use xlink:href=\"#TimesNewRomanPSMT-30\" transform=\"translate(240.592957 0.28125)\"/>\n      <use xlink:href=\"#TimesNewRomanPSMT-b0\" transform=\"translate(290.592957 0.28125)\"/>\n      <use xlink:href=\"#TimesNewRomanPSMT-43\" transform=\"translate(330.583191 0.28125)\"/>\n     </g>\n    </g>\n    <g id=\"line2d_37\">\n     <path d=\"M 495.395938 64.289375 \nL 509.395938 64.289375 \nL 523.395937 64.289375 \n\" style=\"fill: none; stroke: #1f77b4; stroke-width: 1.5; stroke-linecap: square\"/>\n    </g>\n    <g id=\"text_20\">\n     <!-- $\\mathit{t}$ = $-$50°C -->\n     <g transform=\"translate(534.595937 69.189375)scale(0.14 -0.14)\">\n      <defs>\n       <path id=\"TimesNewRomanPSMT-2212\" d=\"M 3484 2000 \nL 116 2000 \nL 116 2256 \nL 3484 2256 \nL 3484 2000 \nz\n\" transform=\"scale(0.015625)\"/>\n      </defs>\n      <use xlink:href=\"#STIXGeneral-Italic-74\" transform=\"translate(0 0.28125)\"/>\n      <use xlink:href=\"#TimesNewRomanPSMT-20\" transform=\"translate(27.799988 0.28125)\"/>\n      <use xlink:href=\"#TimesNewRomanPSMT-3d\" transform=\"translate(52.799988 0.28125)\"/>\n      <use xlink:href=\"#TimesNewRomanPSMT-20\" transform=\"translate(109.196472 0.28125)\"/>\n      <use xlink:href=\"#TimesNewRomanPSMT-2212\" transform=\"translate(134.196472 0.28125)\"/>\n      <use xlink:href=\"#TimesNewRomanPSMT-35\" transform=\"translate(190.592957 0.28125)\"/>\n      <use xlink:href=\"#TimesNewRomanPSMT-30\" transform=\"translate(240.592957 0.28125)\"/>\n      <use xlink:href=\"#TimesNewRomanPSMT-b0\" transform=\"translate(290.592957 0.28125)\"/>\n      <use xlink:href=\"#TimesNewRomanPSMT-43\" transform=\"translate(330.583191 0.28125)\"/>\n     </g>\n    </g>\n   </g>\n  </g>\n </g>\n <defs>\n  <clipPath id=\"pa2666e97b7\">\n   <rect x=\"44.915937\" y=\"7.2\" width=\"558\" height=\"380.52\"/>\n  </clipPath>\n </defs>\n</svg>\n",
      "text/plain": [
       "<Figure size 720x504 with 1 Axes>"
      ]
     },
     "metadata": {
      "needs_background": "light"
     },
     "output_type": "display_data"
    }
   ],
   "source": [
    "plt.figure(figsize = (10,7))\n",
    "plt.plot(res18['t'],Ps(res18,T_nom)/1e3, c = 'tab:green', label = '$\\mathit{t}$ = +18°C')\n",
    "plt.axhline(P_need/1e3,ls = '--',c = 'grey')\n",
    "plt.plot(res50['t'],Ps(res50,T_max)/1e3, c = 'tab:red', label = '$\\mathit{t}$ = +50°C')\n",
    "plt.plot(res_50['t'],Ps(res_50,T_min)/1e3, c = 'tab:blue', label = '$\\mathit{t}$ = $-$50°C')\n",
    "\n",
    "plt.xlim(0)\n",
    "plt.xlabel('$\\mathit{t}$, с')\n",
    "plt.ylabel('$\\mathit{P}$, кН')\n",
    "plt.legend()\n",
    "plt.grid()\n",
    "# plt.savefig('Инд Pp.svg', dpi=500, bbox_inches='tight')"
   ]
  }
 ],
 "metadata": {
  "kernelspec": {
   "display_name": "Python 3.9.13 64-bit",
   "language": "python",
   "name": "python3"
  },
  "language_info": {
   "codemirror_mode": {
    "name": "ipython",
    "version": 3
   },
   "file_extension": ".py",
   "mimetype": "text/x-python",
   "name": "python",
   "nbconvert_exporter": "python",
   "pygments_lexer": "ipython3",
   "version": "3.9.13"
  },
  "orig_nbformat": 4,
  "vscode": {
   "interpreter": {
    "hash": "f5ff168696553f3e2cb115c273c46eeb315c32b0d0536992c4bad2740a7f9469"
   }
  }
 },
 "nbformat": 4,
 "nbformat_minor": 2
}
