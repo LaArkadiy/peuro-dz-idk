{
 "cells": [
  {
   "cell_type": "code",
   "execution_count": 335,
   "metadata": {},
   "outputs": [],
   "source": [
    "import numpy as np\n",
    "import matplotlib.pyplot as plt\n",
    "import prop\n",
    "from pandas import DataFrame\n",
    "from scipy.optimize import fsolve\n",
    "from scipy.interpolate import interp1d\n",
    "from scipy.integrate import ode, simps\n",
    "import math\n",
    "\n",
    "%matplotlib inline\n",
    "%config InlineBackend.figure_format = 'svg'\n",
    "\n",
    "#Perараметры текста\n",
    "plt.rcParams[\"font.family\"] = 'serif'\n",
    "plt.rcParams['font.weight'] = 'ultralight'\n",
    "plt.rcParams['font.serif'] = 'Times New Roman'\n",
    "plt.rcParams['font.size'] = 14\n",
    "plt.rcParams['font.style'] = 'normal'\n",
    "plt.rcParams['mathtext.default'] = 'regular'\n",
    "plt.rcParams['mathtext.fontset'] = 'stix'"
   ]
  },
  {
   "cell_type": "code",
   "execution_count": 336,
   "metadata": {},
   "outputs": [],
   "source": [
    "# Исходные данные\n",
    "D_sn = 0.195    # калибр снаряда\n",
    "m_sn = 93       # масса снаряда\n",
    "# скорость полета во время коррекции, м/с\n",
    "V_sn_kor_min = 370\n",
    "V_sn_kor_max = 410\n",
    "# угловая скорость снаряда, об/с\n",
    "nu_sn_min = 8\n",
    "nu_sn_max = 10\n",
    "I_kor = 140     # требуемый импульс коррекции\n",
    "fi2_tel = np.deg2rad(120) # телесный угол коррекции\n",
    "t_v = 1e-3      # = delta_t время выхода двигателя на режим\n",
    "n_du = 18       # 18\n",
    "m_du_max = 0.35 # максимальная масса одного ИДК\n",
    "# кол-во коррекций: 6 (по 3 ДУ),   12 (6 по 2 ДУ + 6 по 1 ДУ),   18 (по 1 ДУ)\n",
    "# угол наклона сопла: 25 градусов\n",
    "# угол между осями ДУ: 60 градусов\n",
    "T_min = 273.15 - 50\n",
    "T_nom = 273.15 + 18\n",
    "T_max = 273.15 + 50\n",
    "\n",
    "mu_c = 0.95\n",
    "kappa_pred = 180\n",
    "#L_treb = 55e-3"
   ]
  },
  {
   "cell_type": "markdown",
   "metadata": {},
   "source": [
    "#### 1. Формирование недостающих исходных данных"
   ]
  },
  {
   "cell_type": "code",
   "execution_count": 337,
   "metadata": {},
   "outputs": [
    {
     "name": "stdout",
     "output_type": "stream",
     "text": [
      "L_max = 53.2\n",
      "Время коррекции 0.033 ... 0.042 с\n",
      "ksi = 0.670\n",
      "Время горения заряда топлива: 0.02 c\n",
      "Время последействия: 0.012 c\n"
     ]
    }
   ],
   "source": [
    "D_du = 50/1000  # диаметр ИДК\n",
    "\n",
    "# максимальная длина ДУ\n",
    "L_max = (D_sn / 2 - np.sqrt(3) / 2 * D_du - 2 * 3e-3) / np.cos(np.deg2rad(25))\n",
    "print(f'L_max = {L_max*1e3:.1f}')\n",
    "L_max = math.ceil(L_max * 1000) / 1000\n",
    "\n",
    "# Определение времени работы ИДК\n",
    "t_d_min = 1 / nu_sn_max * fi2_tel / (2 * np.pi)\n",
    "t_d_max = 1 / nu_sn_min * fi2_tel / (2 * np.pi)\n",
    "print(f'Время коррекции {t_d_min:.3f} ... {t_d_max:.3f} с')\n",
    "\n",
    "# Окончательное время \n",
    "t_d = 0.033\n",
    "\n",
    "# Коэффициент заполнения индикаторной кривой\n",
    "ksi_max = interp1d(np.linspace(0.01,0.07,7),[0.5,0.55,0.65,0.75,0.79,0.8,0.8])\n",
    "ksi_min = interp1d(np.linspace(0.01,0.07,7),[0.5,0.52,0.59,0.68,0.71,0.72,0.72])\n",
    "# ksi = np.mean([ksi_min(t_d),ksi_max(t_d)])\n",
    "ksi = ksi_max(t_d) - 0.01\n",
    "print(f'ksi = {ksi:.3f}')\n",
    "\n",
    "t_g = t_d / 4 * (5 * ksi - 1) - 3/8 * t_v   # Время горения заряда топлива (первое приближение)\n",
    "t_g = math.ceil(t_g * 1000) / 1000\n",
    "t_p = t_d - t_v - t_g                       # Время последействия\n",
    "print(f'Время горения заряда топлива: {t_g} c\\nВремя последействия: {t_p:.3f} c')"
   ]
  },
  {
   "cell_type": "code",
   "execution_count": 338,
   "metadata": {},
   "outputs": [
    {
     "name": "stdout",
     "output_type": "stream",
     "text": [
      "Теоретический коэффициент тяги 1.46\n",
      "Действительный коэффициент тяги 1.318\n"
     ]
    }
   ],
   "source": [
    "# Назначим в первом приближении коэффициент расширения сопла\n",
    "zeta = 1.4\n",
    "\n",
    "# теоретический коэффициент тяги\n",
    "K_tf = interp1d(np.linspace(1.4,2.6,7),[1.46,1.51,1.56,1.6,1.62,1.64,1.67])\n",
    "K_t = K_tf(zeta) + 0\n",
    "print(f'Теоретический коэффициент тяги {K_t}')\n",
    "\n",
    "# потери\n",
    "fi1 = 0.95\n",
    "fi2 = 0.95\n",
    "\n",
    "# Действительный коэффициент тяги\n",
    "K_d = fi1 * fi2 * K_t\n",
    "print(f'Действительный коэффициент тяги {K_d:.3f}')"
   ]
  },
  {
   "cell_type": "code",
   "execution_count": 339,
   "metadata": {},
   "outputs": [
    {
     "name": "stdout",
     "output_type": "stream",
     "text": [
      "Необходимая тяга 7031.57\n"
     ]
    }
   ],
   "source": [
    "# Коэффициенты\n",
    "K1 = 0.92\n",
    "K2 = 1.08\n",
    "\n",
    "# необходимая тяга\n",
    "P_need = I_kor / (K1 * K2 * ksi * t_d) / np.cos(np.deg2rad(25))\n",
    "print(f'Необходимая тяга {P_need:.2f}')"
   ]
  },
  {
   "cell_type": "markdown",
   "metadata": {},
   "source": [
    "##### 1.6 Выбор марки топлива"
   ]
  },
  {
   "cell_type": "code",
   "execution_count": 340,
   "metadata": {},
   "outputs": [
    {
     "name": "stdout",
     "output_type": "stream",
     "text": [
      "0.0039 0.0422\n",
      "p1N = 89.630 МПа\n",
      "p1_min = 52.011 МПа\n"
     ]
    }
   ],
   "source": [
    "# посчитать тепловые потери\n",
    "\n",
    "propel = prop.get_propellant('B-3')\n",
    "p1_max = 120e6\n",
    "delta_st = np.round(1.3 * p1_max * D_du / (2 * 1000e6),4)\n",
    "D_km = np.round(D_du - 2 * delta_st,4)\n",
    "print(delta_st,D_km)\n",
    "\n",
    "# Из уравнения Бори находим минимальное и номинальное давления по одному заданному\n",
    "def fun(x):\n",
    "    p1N, p1_min = x[0], x[1]\n",
    "    return [propel.u(p1_max,T_max) / p1_max - propel.F1(p1N/1e6) / p1N,\n",
    "            propel.u(p1_max,T_max) / (p1_max * propel.F3(T_min)) - propel.F1(p1_min/1e6) / p1_min]\n",
    "\n",
    "find_p1N = lambda p1N: propel.u(p1_max,T_max) / p1_max - propel.F1(p1N/1e6) / p1N\n",
    "find_p1_min = lambda p1_min: propel.u(p1_max,T_max) / (p1_max * propel.F3(T_min)) - propel.F1(p1_min/1e6) / p1_min\n",
    "\n",
    "p1N, p1_min = fsolve(fun,[0.9 * p1_max, 0.6 * p1_max])\n",
    "\n",
    "print(f'p1N = {p1N/1e6:.3f} МПа\\np1_min = {p1_min/1e6:.3f} МПа')"
   ]
  },
  {
   "cell_type": "code",
   "execution_count": 341,
   "metadata": {},
   "outputs": [
    {
     "name": "stdout",
     "output_type": "stream",
     "text": [
      "Площадь критики 0.00010260277489851142\n",
      "Диаметр критики 0.011429694239145029\n",
      "Длины блоков сопла: (0.009, 0.002, 0.0063)\n",
      " Общая длина сопла: 0.0173\n",
      " Макс допуст длина заряда 0.036699999999999997\n"
     ]
    }
   ],
   "source": [
    "# Площадь критического сечения сопла\n",
    "F_kr = P_need / (K_d * p1_min)\n",
    "print(f'Площадь критики {F_kr}')\n",
    "\n",
    "# диаметр критического сечения сопла\n",
    "D_kr = np.sqrt(4 * F_kr / np.pi)\n",
    "print(f'Диаметр критики {D_kr}')\n",
    "\n",
    "fi_vx = np.deg2rad(60)\n",
    "fi_c = np.deg2rad(20)\n",
    "\n",
    "# Длины участков сопла\n",
    "L1 = np.round((D_km - D_kr) / (2 * np.tan(fi_vx)),3)\n",
    "L2 = 2e-3\n",
    "L3 = np.round(D_kr/(2*np.tan(fi_c)) * (zeta - 1),4)\n",
    "\n",
    "print(f'Длины блоков сопла: {L1,L2,L3}\\n',\n",
    "      f'Общая длина сопла: {L1 + L2 + L3}\\n',\n",
    "      f'Макс допуст длина заряда {L_max - (L1 + L2 + L3)}')"
   ]
  },
  {
   "cell_type": "code",
   "execution_count": 342,
   "metadata": {},
   "outputs": [
    {
     "name": "stdout",
     "output_type": "stream",
     "text": [
      "Безразм скорость потока 1.772\n",
      " Критическая скорость звука 1075.505\n",
      " Скорость 1905.735\n",
      " Давление 10.491\n",
      " Температура 2005.495\n",
      " Плотность 15.476\n"
     ]
    }
   ],
   "source": [
    "# Расчет газодинамических параметров в выходном сечении сопла\n",
    "\n",
    "#вспомогательные гд функции\n",
    "tau = lambda lmbd, k: 1 - (k - 1)/(k + 1)*lmbd**2\n",
    "pi = lambda lmbd, k: (1 - (k - 1)/(k + 1)*lmbd**2) ** (k / (k - 1))\n",
    "eps = lambda lmbd, k: pi(lmbd,k) / tau(lmbd,k)\n",
    "q = lambda lmbd, k:  ((k + 1) / 2)**(1 / (k - 1)) * lmbd * eps(lmbd, k)\n",
    "nu = lambda lmbd, k: 1 / q(lmbd,k)\n",
    "f = lambda lmbd, k: (lmbd**2 + 1) * (1 - (k - 1) / (k + 1) * lmbd**2) ** (1 / (k - 1))\n",
    "\n",
    "A = lambda k: np.sqrt(k * ((2 / (k + 1))**((k + 1) / (k - 1))))\n",
    "\n",
    "find_lambda_a = lambda lmbd: q(lmbd,propel.k) - 1 / zeta ** 2\n",
    "\n",
    "lambda_a = fsolve(find_lambda_a,1.5)[0]\n",
    "c_kr = np.sqrt(2 * propel.k / (propel.k + 1) * propel.R * propel.T0)\n",
    "V_a = lambda_a * c_kr\n",
    "p_a = pi(lambda_a,propel.k) * p1N\n",
    "T_a = tau(lambda_a,propel.k) * propel.T0\n",
    "rho_a = p_a / (propel.R * T_a)\n",
    "\n",
    "print(f'Безразм скорость потока {lambda_a:.3f}\\n',\n",
    "      f'Критическая скорость звука {c_kr:.3f}\\n',\n",
    "      f'Скорость {V_a:.3f}\\n',\n",
    "      f'Давление {p_a/1e6:.3f}\\n',\n",
    "      f'Температура {T_a:.3f}\\n',\n",
    "      f'Плотность {rho_a:.3f}')"
   ]
  },
  {
   "cell_type": "code",
   "execution_count": 343,
   "metadata": {},
   "outputs": [],
   "source": [
    "G_p = mu_c * A(propel.k) * F_kr * p1_min / np.sqrt(propel.R * propel.T0)\n",
    "omega_t = G_p * t_g\n",
    "e_0 = 2 * propel.u(p1_min,T_min) * t_g\n",
    "S_g = omega_t / (propel.rho * propel.u(p1_min,T_min) * t_g)\n",
    "\n",
    "def results_for_one_m(m):\n",
    "    n = 1\n",
    "    ki = 1\n",
    "    while m > ki:\n",
    "        n += 3 * (m - ki)\n",
    "        ki += 2\n",
    "\n",
    "    D_nar = (D_km - 2e-3) / m\n",
    "    D_vn = D_nar - 2 * e_0\n",
    "    L_zar = S_g / (np.pi * n * (D_nar + D_vn))\n",
    "    kappa_vn = 4 * L_zar / D_vn\n",
    "    kappa_nar = 4 * n * D_nar * L_zar / (D_km**2 - n * D_nar ** 2)\n",
    "    eps_s = (D_nar ** 2 - D_vn ** 2) / D_km ** 2 * n\n",
    "    Sh = 4 * F_kr / (np.pi * D_km**2 * (1 - eps_s))\n",
    "\n",
    "    result = {\n",
    "        'm': m,\n",
    "        'n': n,\n",
    "        'D_nar': np.round(D_nar*1e3,1),\n",
    "        'D_vn': np.round(D_vn*1e3,1),\n",
    "        'L_zar': np.round(L_zar*1e3),\n",
    "        'kappa_vn': np.round(kappa_vn,2),\n",
    "        'kappa_nar': np.round(kappa_nar,2),\n",
    "        'eps_s': np.round(eps_s,3),\n",
    "        'Sh': np.round(Sh,3),\n",
    "        'pass': []\n",
    "    }\n",
    "\n",
    "    if D_vn <= 1.5e-3:\n",
    "        result['pass'].append('D_вн')\n",
    "    if L_zar > L_max - L1 - L2 - L3:\n",
    "        result['pass'].append(f'L_з на {(L_zar - (L_max - L1 - L2 - L3))*1e3:.1f} мм')\n",
    "    if kappa_vn > kappa_pred:\n",
    "        result['pass'].append('к_вн')\n",
    "    if kappa_nar > kappa_pred:\n",
    "        result['pass'].append('к_нар')\n",
    "    if eps_s <= 0.5:\n",
    "        result['pass'].append('eps_s')\n",
    "    if Sh >= 0.75:\n",
    "        result['pass'].append('Sh')\n",
    "\n",
    "    return result"
   ]
  },
  {
   "cell_type": "code",
   "execution_count": 344,
   "metadata": {},
   "outputs": [],
   "source": [
    "results = []\n",
    "for m in range(3,13,2):\n",
    "    results.append(results_for_one_m(m))"
   ]
  },
  {
   "cell_type": "code",
   "execution_count": 345,
   "metadata": {},
   "outputs": [
    {
     "data": {
      "text/html": [
       "<div>\n",
       "<style scoped>\n",
       "    .dataframe tbody tr th:only-of-type {\n",
       "        vertical-align: middle;\n",
       "    }\n",
       "\n",
       "    .dataframe tbody tr th {\n",
       "        vertical-align: top;\n",
       "    }\n",
       "\n",
       "    .dataframe thead th {\n",
       "        text-align: right;\n",
       "    }\n",
       "</style>\n",
       "<table border=\"1\" class=\"dataframe\">\n",
       "  <thead>\n",
       "    <tr style=\"text-align: right;\">\n",
       "      <th></th>\n",
       "      <th>3</th>\n",
       "      <th>5</th>\n",
       "      <th>7</th>\n",
       "      <th>9</th>\n",
       "      <th>11</th>\n",
       "    </tr>\n",
       "  </thead>\n",
       "  <tbody>\n",
       "    <tr>\n",
       "      <th>n</th>\n",
       "      <td>7</td>\n",
       "      <td>19</td>\n",
       "      <td>37</td>\n",
       "      <td>61</td>\n",
       "      <td>91</td>\n",
       "    </tr>\n",
       "    <tr>\n",
       "      <th>D_н</th>\n",
       "      <td>13.4</td>\n",
       "      <td>8.0</td>\n",
       "      <td>5.7</td>\n",
       "      <td>4.5</td>\n",
       "      <td>3.7</td>\n",
       "    </tr>\n",
       "    <tr>\n",
       "      <th>D_вн</th>\n",
       "      <td>9.2</td>\n",
       "      <td>3.8</td>\n",
       "      <td>1.5</td>\n",
       "      <td>0.2</td>\n",
       "      <td>-0.6</td>\n",
       "    </tr>\n",
       "    <tr>\n",
       "      <th>L_з</th>\n",
       "      <td>76.0</td>\n",
       "      <td>53.0</td>\n",
       "      <td>45.0</td>\n",
       "      <td>42.0</td>\n",
       "      <td>43.0</td>\n",
       "    </tr>\n",
       "    <tr>\n",
       "      <th>к_вн</th>\n",
       "      <td>33.1</td>\n",
       "      <td>56.04</td>\n",
       "      <td>119.03</td>\n",
       "      <td>745.31</td>\n",
       "      <td>-291.88</td>\n",
       "    </tr>\n",
       "    <tr>\n",
       "      <th>к_нар</th>\n",
       "      <td>54.28</td>\n",
       "      <td>58.83</td>\n",
       "      <td>67.71</td>\n",
       "      <td>80.84</td>\n",
       "      <td>100.88</td>\n",
       "    </tr>\n",
       "    <tr>\n",
       "      <th>eps_s</th>\n",
       "      <td>0.376</td>\n",
       "      <td>0.536</td>\n",
       "      <td>0.638</td>\n",
       "      <td>0.682</td>\n",
       "      <td>0.665</td>\n",
       "    </tr>\n",
       "    <tr>\n",
       "      <th>Sh</th>\n",
       "      <td>0.118</td>\n",
       "      <td>0.158</td>\n",
       "      <td>0.203</td>\n",
       "      <td>0.23</td>\n",
       "      <td>0.219</td>\n",
       "    </tr>\n",
       "    <tr>\n",
       "      <th>не подходит по</th>\n",
       "      <td>[L_з на 39.1 мм, eps_s]</td>\n",
       "      <td>[L_з на 16.5 мм]</td>\n",
       "      <td>[L_з на 8.0 мм]</td>\n",
       "      <td>[D_вн, L_з на 5.1 мм, к_вн]</td>\n",
       "      <td>[D_вн, L_з на 6.2 мм]</td>\n",
       "    </tr>\n",
       "  </tbody>\n",
       "</table>\n",
       "</div>"
      ],
      "text/plain": [
       "                                     3                 5                7   \\\n",
       "n                                     7                19               37   \n",
       "D_н                                13.4               8.0              5.7   \n",
       "D_вн                                9.2               3.8              1.5   \n",
       "L_з                                76.0              53.0             45.0   \n",
       "к_вн                               33.1             56.04           119.03   \n",
       "к_нар                             54.28             58.83            67.71   \n",
       "eps_s                             0.376             0.536            0.638   \n",
       "Sh                                0.118             0.158            0.203   \n",
       "не подходит по  [L_з на 39.1 мм, eps_s]  [L_з на 16.5 мм]  [L_з на 8.0 мм]   \n",
       "\n",
       "                                         9                      11  \n",
       "n                                        61                     91  \n",
       "D_н                                     4.5                    3.7  \n",
       "D_вн                                    0.2                   -0.6  \n",
       "L_з                                    42.0                   43.0  \n",
       "к_вн                                 745.31                -291.88  \n",
       "к_нар                                 80.84                 100.88  \n",
       "eps_s                                 0.682                  0.665  \n",
       "Sh                                     0.23                  0.219  \n",
       "не подходит по  [D_вн, L_з на 5.1 мм, к_вн]  [D_вн, L_з на 6.2 мм]  "
      ]
     },
     "execution_count": 345,
     "metadata": {},
     "output_type": "execute_result"
    }
   ],
   "source": [
    "df_dict = {}\n",
    "for data in results:\n",
    "    df_dict[data['m']] = list(data.values())[1:]\n",
    "df = DataFrame(df_dict,index = ['n','D_н','D_вн','L_з','к_вн','к_нар','eps_s','Sh','не подходит по'])\n",
    "df.style.hide(axis='index')\n",
    "\n",
    "df"
   ]
  },
  {
   "cell_type": "code",
   "execution_count": 346,
   "metadata": {},
   "outputs": [],
   "source": [
    "itog = results[-3]\n",
    "L_zar = itog['L_zar']/1e3\n",
    "D_nar = itog['D_nar']/1e3\n",
    "D_vn = itog['D_vn']/1e3\n",
    "n_zar = itog['n']"
   ]
  },
  {
   "cell_type": "code",
   "execution_count": 347,
   "metadata": {},
   "outputs": [],
   "source": [
    "sigma_t = 300\n",
    "nu_t = 0.7\n",
    "\n",
    "# тепловые потери\n",
    "# F_oxl = 1.2 * np.pi * D_km * L_zar + n_zar * np.pi * L_zar * (D_vn + D_nar) + \\\n",
    "#         np.pi * n_zar / 2 * (D_nar**2 - D_vn**2)\n",
    "# Q_zh = propel.k / (propel.k - 1) * propel.R * propel.T0\n",
    "\n",
    "# def chi_teplf(p0):\n",
    "#      chi_tepl1 = sigma_t * nu_t * F_oxl * p0 / (Q_zh * propel.R * G_p)\n",
    "#      chi_tepl2 = propel.k / (propel.k - 1) * p0 / (propel.rho * Q_zh)\n",
    "#      return 1 - chi_tepl1 - chi_tepl2\n",
    "# print(chi_teplf(p1_max))"
   ]
  },
  {
   "cell_type": "markdown",
   "metadata": {},
   "source": [
    "#### Расчет воспламенителя"
   ]
  },
  {
   "cell_type": "code",
   "execution_count": 348,
   "metadata": {},
   "outputs": [
    {
     "name": "stdout",
     "output_type": "stream",
     "text": [
      "p_vsp-50 = 1.721\n",
      "omega_v = 0.00613\n"
     ]
    }
   ],
   "source": [
    "sigma_t = 300\n",
    "v_t = 0.7\n",
    "\n",
    "R_v = 314\n",
    "Q_v = 3050e3\n",
    "u_v = 0.05\n",
    "k_v = 1.25\n",
    "rho_v = 1700\n",
    "e_v = 4e-3\n",
    "m_v = 3\n",
    "p_atm = 101325\n",
    "\n",
    "t_vv = e_v / u_v\n",
    "T_v = ((k_v - 1) / k_v) * (Q_v / R_v)\n",
    "T_s = 500\n",
    "\n",
    "W_0 = np.pi / 4 * (D_km**2) * L_zar - omega_t / propel.rho\n",
    "F_oxl = 1.2 * np.pi * D_km * L_zar + n_zar * np.pi * L_zar * (D_vn + D_nar) + \\\n",
    "        np.pi * n_zar / 2 * (D_nar**2 - D_vn**2)\n",
    "\n",
    "lambda_t = 0.23\n",
    "\n",
    "def p_vsp(T0):\n",
    "    return 1250 * propel.rho / sigma_t * propel.u(0.5e6, T0) * R_v * T_v * (T_s - T0) / (T_v - T_s)\n",
    "\n",
    "p_vsp_50 = p_vsp(273.15 - 50)\n",
    "#p_vsp_50 = 5e6\n",
    "p_max = 1.1 * p_vsp_50\n",
    "print(f'p_vsp-50 = {p_vsp_50/1e6:.3f}')\n",
    "\n",
    "b2 = (((propel.k - 1) / W_0) * (v_t * sigma_t * F_oxl / propel.R)) + ((propel.k * A(propel.k) * F_kr / W_0) *\\\n",
    "     (np.sqrt(propel.R * propel.T0)))\n",
    "S0_v = (p_max * b2 * ((m_v / (t_vv * b2)) ** (-m_v / (t_vv * b2 - m_v)))) / (((propel.k - 1) / W_0) * u_v * rho_v * Q_v)\n",
    "b1 = ((propel.k-1) / W_0) * rho_v * S0_v * u_v * Q_v\n",
    "\n",
    "\n",
    "def p_v(t):\n",
    "    p = - ((b1 / ((m_v / t_vv) - b2)) * (np.exp(- m_v * t / t_vv))) + ((p_atm + (b1 / ((m_v / t_vv) - b2))) * (np.exp(- b2 * t)))\n",
    "    return p\n",
    "\n",
    "omega_v = e_v * rho_v * S0_v * ((1 - np.exp(- m_v)) / m_v)\n",
    "print(f'omega_v = {(omega_v):.5f}')"
   ]
  },
  {
   "cell_type": "code",
   "execution_count": 349,
   "metadata": {},
   "outputs": [
    {
     "data": {
      "image/svg+xml": "<?xml version=\"1.0\" encoding=\"utf-8\" standalone=\"no\"?>\n<!DOCTYPE svg PUBLIC \"-//W3C//DTD SVG 1.1//EN\"\n  \"http://www.w3.org/Graphics/SVG/1.1/DTD/svg11.dtd\">\n<svg xmlns:xlink=\"http://www.w3.org/1999/xlink\" width=\"564.815938pt\" height=\"376.991875pt\" viewBox=\"0 0 564.815938 376.991875\" xmlns=\"http://www.w3.org/2000/svg\" version=\"1.1\">\n <metadata>\n  <rdf:RDF xmlns:dc=\"http://purl.org/dc/elements/1.1/\" xmlns:cc=\"http://creativecommons.org/ns#\" xmlns:rdf=\"http://www.w3.org/1999/02/22-rdf-syntax-ns#\">\n   <cc:Work>\n    <dc:type rdf:resource=\"http://purl.org/dc/dcmitype/StillImage\"/>\n    <dc:date>2022-11-13T19:26:13.304971</dc:date>\n    <dc:format>image/svg+xml</dc:format>\n    <dc:creator>\n     <cc:Agent>\n      <dc:title>Matplotlib v3.5.2, https://matplotlib.org/</dc:title>\n     </cc:Agent>\n    </dc:creator>\n   </cc:Work>\n  </rdf:RDF>\n </metadata>\n <defs>\n  <style type=\"text/css\">*{stroke-linejoin: round; stroke-linecap: butt}</style>\n </defs>\n <g id=\"figure_1\">\n  <g id=\"patch_1\">\n   <path d=\"M 0 376.991875 \nL 564.815938 376.991875 \nL 564.815938 0 \nL 0 0 \nL 0 376.991875 \nz\n\" style=\"fill: none\"/>\n  </g>\n  <g id=\"axes_1\">\n   <g id=\"patch_2\">\n    <path d=\"M 55.415938 333.36 \nL 557.615938 333.36 \nL 557.615938 7.2 \nL 55.415938 7.2 \nz\n\" style=\"fill: #ffffff\"/>\n   </g>\n   <g id=\"matplotlib.axis_1\">\n    <g id=\"xtick_1\">\n     <g id=\"line2d_1\">\n      <path d=\"M 78.24321 333.36 \nL 78.24321 7.2 \n\" clip-path=\"url(#pb9f08cc21b)\" style=\"fill: none; stroke: #b0b0b0; stroke-width: 0.8; stroke-linecap: square\"/>\n     </g>\n     <g id=\"line2d_2\">\n      <defs>\n       <path id=\"m8c0c69f9d8\" d=\"M 0 0 \nL 0 3.5 \n\" style=\"stroke: #000000; stroke-width: 0.8\"/>\n      </defs>\n      <g>\n       <use xlink:href=\"#m8c0c69f9d8\" x=\"78.24321\" y=\"333.36\" style=\"stroke: #000000; stroke-width: 0.8\"/>\n      </g>\n     </g>\n     <g id=\"text_1\">\n      <!-- 0.00 -->\n      <g transform=\"translate(65.99321 350.08125)scale(0.14 -0.14)\">\n       <defs>\n        <path id=\"TimesNewRomanPSMT-30\" d=\"M 231 2094 \nQ 231 2819 450 3342 \nQ 669 3866 1031 4122 \nQ 1313 4325 1613 4325 \nQ 2100 4325 2488 3828 \nQ 2972 3213 2972 2159 \nQ 2972 1422 2759 906 \nQ 2547 391 2217 158 \nQ 1888 -75 1581 -75 \nQ 975 -75 572 641 \nQ 231 1244 231 2094 \nz\nM 844 2016 \nQ 844 1141 1059 588 \nQ 1238 122 1591 122 \nQ 1759 122 1940 273 \nQ 2122 425 2216 781 \nQ 2359 1319 2359 2297 \nQ 2359 3022 2209 3506 \nQ 2097 3866 1919 4016 \nQ 1791 4119 1609 4119 \nQ 1397 4119 1231 3928 \nQ 1006 3669 925 3112 \nQ 844 2556 844 2016 \nz\n\" transform=\"scale(0.015625)\"/>\n        <path id=\"TimesNewRomanPSMT-2e\" d=\"M 800 606 \nQ 947 606 1047 504 \nQ 1147 403 1147 259 \nQ 1147 116 1045 14 \nQ 944 -88 800 -88 \nQ 656 -88 554 14 \nQ 453 116 453 259 \nQ 453 406 554 506 \nQ 656 606 800 606 \nz\n\" transform=\"scale(0.015625)\"/>\n       </defs>\n       <use xlink:href=\"#TimesNewRomanPSMT-30\"/>\n       <use xlink:href=\"#TimesNewRomanPSMT-2e\" x=\"50\"/>\n       <use xlink:href=\"#TimesNewRomanPSMT-30\" x=\"75\"/>\n       <use xlink:href=\"#TimesNewRomanPSMT-30\" x=\"125\"/>\n      </g>\n     </g>\n    </g>\n    <g id=\"xtick_2\">\n     <g id=\"line2d_3\">\n      <path d=\"M 135.713888 333.36 \nL 135.713888 7.2 \n\" clip-path=\"url(#pb9f08cc21b)\" style=\"fill: none; stroke: #b0b0b0; stroke-width: 0.8; stroke-linecap: square\"/>\n     </g>\n     <g id=\"line2d_4\">\n      <g>\n       <use xlink:href=\"#m8c0c69f9d8\" x=\"135.713888\" y=\"333.36\" style=\"stroke: #000000; stroke-width: 0.8\"/>\n      </g>\n     </g>\n     <g id=\"text_2\">\n      <!-- 0.01 -->\n      <g transform=\"translate(123.463888 350.08125)scale(0.14 -0.14)\">\n       <defs>\n        <path id=\"TimesNewRomanPSMT-31\" d=\"M 750 3822 \nL 1781 4325 \nL 1884 4325 \nL 1884 747 \nQ 1884 391 1914 303 \nQ 1944 216 2037 169 \nQ 2131 122 2419 116 \nL 2419 0 \nL 825 0 \nL 825 116 \nQ 1125 122 1212 167 \nQ 1300 213 1334 289 \nQ 1369 366 1369 747 \nL 1369 3034 \nQ 1369 3497 1338 3628 \nQ 1316 3728 1258 3775 \nQ 1200 3822 1119 3822 \nQ 1003 3822 797 3725 \nL 750 3822 \nz\n\" transform=\"scale(0.015625)\"/>\n       </defs>\n       <use xlink:href=\"#TimesNewRomanPSMT-30\"/>\n       <use xlink:href=\"#TimesNewRomanPSMT-2e\" x=\"50\"/>\n       <use xlink:href=\"#TimesNewRomanPSMT-30\" x=\"75\"/>\n       <use xlink:href=\"#TimesNewRomanPSMT-31\" x=\"125\"/>\n      </g>\n     </g>\n    </g>\n    <g id=\"xtick_3\">\n     <g id=\"line2d_5\">\n      <path d=\"M 193.184566 333.36 \nL 193.184566 7.2 \n\" clip-path=\"url(#pb9f08cc21b)\" style=\"fill: none; stroke: #b0b0b0; stroke-width: 0.8; stroke-linecap: square\"/>\n     </g>\n     <g id=\"line2d_6\">\n      <g>\n       <use xlink:href=\"#m8c0c69f9d8\" x=\"193.184566\" y=\"333.36\" style=\"stroke: #000000; stroke-width: 0.8\"/>\n      </g>\n     </g>\n     <g id=\"text_3\">\n      <!-- 0.02 -->\n      <g transform=\"translate(180.934566 350.08125)scale(0.14 -0.14)\">\n       <defs>\n        <path id=\"TimesNewRomanPSMT-32\" d=\"M 2934 816 \nL 2638 0 \nL 138 0 \nL 138 116 \nQ 1241 1122 1691 1759 \nQ 2141 2397 2141 2925 \nQ 2141 3328 1894 3587 \nQ 1647 3847 1303 3847 \nQ 991 3847 742 3664 \nQ 494 3481 375 3128 \nL 259 3128 \nQ 338 3706 661 4015 \nQ 984 4325 1469 4325 \nQ 1984 4325 2329 3994 \nQ 2675 3663 2675 3213 \nQ 2675 2891 2525 2569 \nQ 2294 2063 1775 1497 \nQ 997 647 803 472 \nL 1909 472 \nQ 2247 472 2383 497 \nQ 2519 522 2628 598 \nQ 2738 675 2819 816 \nL 2934 816 \nz\n\" transform=\"scale(0.015625)\"/>\n       </defs>\n       <use xlink:href=\"#TimesNewRomanPSMT-30\"/>\n       <use xlink:href=\"#TimesNewRomanPSMT-2e\" x=\"50\"/>\n       <use xlink:href=\"#TimesNewRomanPSMT-30\" x=\"75\"/>\n       <use xlink:href=\"#TimesNewRomanPSMT-32\" x=\"125\"/>\n      </g>\n     </g>\n    </g>\n    <g id=\"xtick_4\">\n     <g id=\"line2d_7\">\n      <path d=\"M 250.655244 333.36 \nL 250.655244 7.2 \n\" clip-path=\"url(#pb9f08cc21b)\" style=\"fill: none; stroke: #b0b0b0; stroke-width: 0.8; stroke-linecap: square\"/>\n     </g>\n     <g id=\"line2d_8\">\n      <g>\n       <use xlink:href=\"#m8c0c69f9d8\" x=\"250.655244\" y=\"333.36\" style=\"stroke: #000000; stroke-width: 0.8\"/>\n      </g>\n     </g>\n     <g id=\"text_4\">\n      <!-- 0.03 -->\n      <g transform=\"translate(238.405244 350.08125)scale(0.14 -0.14)\">\n       <defs>\n        <path id=\"TimesNewRomanPSMT-33\" d=\"M 325 3431 \nQ 506 3859 782 4092 \nQ 1059 4325 1472 4325 \nQ 1981 4325 2253 3994 \nQ 2459 3747 2459 3466 \nQ 2459 3003 1878 2509 \nQ 2269 2356 2469 2072 \nQ 2669 1788 2669 1403 \nQ 2669 853 2319 450 \nQ 1863 -75 997 -75 \nQ 569 -75 414 31 \nQ 259 138 259 259 \nQ 259 350 332 419 \nQ 406 488 509 488 \nQ 588 488 669 463 \nQ 722 447 909 348 \nQ 1097 250 1169 231 \nQ 1284 197 1416 197 \nQ 1734 197 1970 444 \nQ 2206 691 2206 1028 \nQ 2206 1275 2097 1509 \nQ 2016 1684 1919 1775 \nQ 1784 1900 1550 2001 \nQ 1316 2103 1072 2103 \nL 972 2103 \nL 972 2197 \nQ 1219 2228 1467 2375 \nQ 1716 2522 1828 2728 \nQ 1941 2934 1941 3181 \nQ 1941 3503 1739 3701 \nQ 1538 3900 1238 3900 \nQ 753 3900 428 3381 \nL 325 3431 \nz\n\" transform=\"scale(0.015625)\"/>\n       </defs>\n       <use xlink:href=\"#TimesNewRomanPSMT-30\"/>\n       <use xlink:href=\"#TimesNewRomanPSMT-2e\" x=\"50\"/>\n       <use xlink:href=\"#TimesNewRomanPSMT-30\" x=\"75\"/>\n       <use xlink:href=\"#TimesNewRomanPSMT-33\" x=\"125\"/>\n      </g>\n     </g>\n    </g>\n    <g id=\"xtick_5\">\n     <g id=\"line2d_9\">\n      <path d=\"M 308.125921 333.36 \nL 308.125921 7.2 \n\" clip-path=\"url(#pb9f08cc21b)\" style=\"fill: none; stroke: #b0b0b0; stroke-width: 0.8; stroke-linecap: square\"/>\n     </g>\n     <g id=\"line2d_10\">\n      <g>\n       <use xlink:href=\"#m8c0c69f9d8\" x=\"308.125921\" y=\"333.36\" style=\"stroke: #000000; stroke-width: 0.8\"/>\n      </g>\n     </g>\n     <g id=\"text_5\">\n      <!-- 0.04 -->\n      <g transform=\"translate(295.875921 350.08125)scale(0.14 -0.14)\">\n       <defs>\n        <path id=\"TimesNewRomanPSMT-34\" d=\"M 2978 1563 \nL 2978 1119 \nL 2409 1119 \nL 2409 0 \nL 1894 0 \nL 1894 1119 \nL 100 1119 \nL 100 1519 \nL 2066 4325 \nL 2409 4325 \nL 2409 1563 \nL 2978 1563 \nz\nM 1894 1563 \nL 1894 3666 \nL 406 1563 \nL 1894 1563 \nz\n\" transform=\"scale(0.015625)\"/>\n       </defs>\n       <use xlink:href=\"#TimesNewRomanPSMT-30\"/>\n       <use xlink:href=\"#TimesNewRomanPSMT-2e\" x=\"50\"/>\n       <use xlink:href=\"#TimesNewRomanPSMT-30\" x=\"75\"/>\n       <use xlink:href=\"#TimesNewRomanPSMT-34\" x=\"125\"/>\n      </g>\n     </g>\n    </g>\n    <g id=\"xtick_6\">\n     <g id=\"line2d_11\">\n      <path d=\"M 365.596599 333.36 \nL 365.596599 7.2 \n\" clip-path=\"url(#pb9f08cc21b)\" style=\"fill: none; stroke: #b0b0b0; stroke-width: 0.8; stroke-linecap: square\"/>\n     </g>\n     <g id=\"line2d_12\">\n      <g>\n       <use xlink:href=\"#m8c0c69f9d8\" x=\"365.596599\" y=\"333.36\" style=\"stroke: #000000; stroke-width: 0.8\"/>\n      </g>\n     </g>\n     <g id=\"text_6\">\n      <!-- 0.05 -->\n      <g transform=\"translate(353.346599 350.08125)scale(0.14 -0.14)\">\n       <defs>\n        <path id=\"TimesNewRomanPSMT-35\" d=\"M 2778 4238 \nL 2534 3706 \nL 1259 3706 \nL 981 3138 \nQ 1809 3016 2294 2522 \nQ 2709 2097 2709 1522 \nQ 2709 1188 2573 903 \nQ 2438 619 2231 419 \nQ 2025 219 1772 97 \nQ 1413 -75 1034 -75 \nQ 653 -75 479 54 \nQ 306 184 306 341 \nQ 306 428 378 495 \nQ 450 563 559 563 \nQ 641 563 702 538 \nQ 763 513 909 409 \nQ 1144 247 1384 247 \nQ 1750 247 2026 523 \nQ 2303 800 2303 1197 \nQ 2303 1581 2056 1914 \nQ 1809 2247 1375 2428 \nQ 1034 2569 447 2591 \nL 1259 4238 \nL 2778 4238 \nz\n\" transform=\"scale(0.015625)\"/>\n       </defs>\n       <use xlink:href=\"#TimesNewRomanPSMT-30\"/>\n       <use xlink:href=\"#TimesNewRomanPSMT-2e\" x=\"50\"/>\n       <use xlink:href=\"#TimesNewRomanPSMT-30\" x=\"75\"/>\n       <use xlink:href=\"#TimesNewRomanPSMT-35\" x=\"125\"/>\n      </g>\n     </g>\n    </g>\n    <g id=\"xtick_7\">\n     <g id=\"line2d_13\">\n      <path d=\"M 423.067277 333.36 \nL 423.067277 7.2 \n\" clip-path=\"url(#pb9f08cc21b)\" style=\"fill: none; stroke: #b0b0b0; stroke-width: 0.8; stroke-linecap: square\"/>\n     </g>\n     <g id=\"line2d_14\">\n      <g>\n       <use xlink:href=\"#m8c0c69f9d8\" x=\"423.067277\" y=\"333.36\" style=\"stroke: #000000; stroke-width: 0.8\"/>\n      </g>\n     </g>\n     <g id=\"text_7\">\n      <!-- 0.06 -->\n      <g transform=\"translate(410.817277 350.08125)scale(0.14 -0.14)\">\n       <defs>\n        <path id=\"TimesNewRomanPSMT-36\" d=\"M 2869 4325 \nL 2869 4209 \nQ 2456 4169 2195 4045 \nQ 1934 3922 1679 3669 \nQ 1425 3416 1258 3105 \nQ 1091 2794 978 2366 \nQ 1428 2675 1881 2675 \nQ 2316 2675 2634 2325 \nQ 2953 1975 2953 1425 \nQ 2953 894 2631 456 \nQ 2244 -75 1606 -75 \nQ 1172 -75 869 213 \nQ 275 772 275 1663 \nQ 275 2231 503 2743 \nQ 731 3256 1154 3653 \nQ 1578 4050 1965 4187 \nQ 2353 4325 2688 4325 \nL 2869 4325 \nz\nM 925 2138 \nQ 869 1716 869 1456 \nQ 869 1156 980 804 \nQ 1091 453 1309 247 \nQ 1469 100 1697 100 \nQ 1969 100 2183 356 \nQ 2397 613 2397 1088 \nQ 2397 1622 2184 2012 \nQ 1972 2403 1581 2403 \nQ 1463 2403 1327 2353 \nQ 1191 2303 925 2138 \nz\n\" transform=\"scale(0.015625)\"/>\n       </defs>\n       <use xlink:href=\"#TimesNewRomanPSMT-30\"/>\n       <use xlink:href=\"#TimesNewRomanPSMT-2e\" x=\"50\"/>\n       <use xlink:href=\"#TimesNewRomanPSMT-30\" x=\"75\"/>\n       <use xlink:href=\"#TimesNewRomanPSMT-36\" x=\"125\"/>\n      </g>\n     </g>\n    </g>\n    <g id=\"xtick_8\">\n     <g id=\"line2d_15\">\n      <path d=\"M 480.537955 333.36 \nL 480.537955 7.2 \n\" clip-path=\"url(#pb9f08cc21b)\" style=\"fill: none; stroke: #b0b0b0; stroke-width: 0.8; stroke-linecap: square\"/>\n     </g>\n     <g id=\"line2d_16\">\n      <g>\n       <use xlink:href=\"#m8c0c69f9d8\" x=\"480.537955\" y=\"333.36\" style=\"stroke: #000000; stroke-width: 0.8\"/>\n      </g>\n     </g>\n     <g id=\"text_8\">\n      <!-- 0.07 -->\n      <g transform=\"translate(468.287955 350.08125)scale(0.14 -0.14)\">\n       <defs>\n        <path id=\"TimesNewRomanPSMT-37\" d=\"M 644 4238 \nL 2916 4238 \nL 2916 4119 \nL 1503 -88 \nL 1153 -88 \nL 2419 3728 \nL 1253 3728 \nQ 900 3728 750 3644 \nQ 488 3500 328 3200 \nL 238 3234 \nL 644 4238 \nz\n\" transform=\"scale(0.015625)\"/>\n       </defs>\n       <use xlink:href=\"#TimesNewRomanPSMT-30\"/>\n       <use xlink:href=\"#TimesNewRomanPSMT-2e\" x=\"50\"/>\n       <use xlink:href=\"#TimesNewRomanPSMT-30\" x=\"75\"/>\n       <use xlink:href=\"#TimesNewRomanPSMT-37\" x=\"125\"/>\n      </g>\n     </g>\n    </g>\n    <g id=\"xtick_9\">\n     <g id=\"line2d_17\">\n      <path d=\"M 538.008633 333.36 \nL 538.008633 7.2 \n\" clip-path=\"url(#pb9f08cc21b)\" style=\"fill: none; stroke: #b0b0b0; stroke-width: 0.8; stroke-linecap: square\"/>\n     </g>\n     <g id=\"line2d_18\">\n      <g>\n       <use xlink:href=\"#m8c0c69f9d8\" x=\"538.008633\" y=\"333.36\" style=\"stroke: #000000; stroke-width: 0.8\"/>\n      </g>\n     </g>\n     <g id=\"text_9\">\n      <!-- 0.08 -->\n      <g transform=\"translate(525.758633 350.08125)scale(0.14 -0.14)\">\n       <defs>\n        <path id=\"TimesNewRomanPSMT-38\" d=\"M 1228 2134 \nQ 725 2547 579 2797 \nQ 434 3047 434 3316 \nQ 434 3728 753 4026 \nQ 1072 4325 1600 4325 \nQ 2113 4325 2425 4047 \nQ 2738 3769 2738 3413 \nQ 2738 3175 2569 2928 \nQ 2400 2681 1866 2347 \nQ 2416 1922 2594 1678 \nQ 2831 1359 2831 1006 \nQ 2831 559 2490 242 \nQ 2150 -75 1597 -75 \nQ 994 -75 656 303 \nQ 388 606 388 966 \nQ 388 1247 577 1523 \nQ 766 1800 1228 2134 \nz\nM 1719 2469 \nQ 2094 2806 2194 3001 \nQ 2294 3197 2294 3444 \nQ 2294 3772 2109 3958 \nQ 1925 4144 1606 4144 \nQ 1288 4144 1088 3959 \nQ 888 3775 888 3528 \nQ 888 3366 970 3203 \nQ 1053 3041 1206 2894 \nL 1719 2469 \nz\nM 1375 2016 \nQ 1116 1797 991 1539 \nQ 866 1281 866 981 \nQ 866 578 1086 336 \nQ 1306 94 1647 94 \nQ 1984 94 2187 284 \nQ 2391 475 2391 747 \nQ 2391 972 2272 1150 \nQ 2050 1481 1375 2016 \nz\n\" transform=\"scale(0.015625)\"/>\n       </defs>\n       <use xlink:href=\"#TimesNewRomanPSMT-30\"/>\n       <use xlink:href=\"#TimesNewRomanPSMT-2e\" x=\"50\"/>\n       <use xlink:href=\"#TimesNewRomanPSMT-30\" x=\"75\"/>\n       <use xlink:href=\"#TimesNewRomanPSMT-38\" x=\"125\"/>\n      </g>\n     </g>\n    </g>\n    <g id=\"text_10\">\n     <!-- $\\mathit{t}, с$ -->\n     <g transform=\"translate(298.605938 366.797188)scale(0.14 -0.14)\">\n      <defs>\n       <path id=\"STIXGeneral-Italic-74\" d=\"M 1894 2739 \nL 1862 2534 \nL 1325 2534 \nL 768 435 \nQ 755 384 755 346 \nQ 755 243 851 243 \nQ 928 243 1030 342 \nQ 1133 442 1370 749 \nL 1453 704 \nQ 1158 256 969 93 \nQ 781 -70 538 -70 \nQ 243 -70 243 166 \nQ 243 230 346 640 \nL 845 2534 \nL 365 2534 \nL 358 2573 \nQ 358 2688 570 2733 \nQ 730 2771 992 2979 \nQ 1254 3187 1421 3437 \nQ 1459 3494 1510 3494 \nQ 1568 3494 1568 3443 \nQ 1568 3411 1562 3398 \nL 1382 2739 \nL 1894 2739 \nz\n\" transform=\"scale(0.015625)\"/>\n       <path id=\"TimesNewRomanPSMT-2c\" d=\"M 344 -1066 \nL 344 -928 \nQ 666 -822 842 -598 \nQ 1019 -375 1019 -125 \nQ 1019 -66 991 -25 \nQ 969 3 947 3 \nQ 913 3 797 -59 \nQ 741 -88 678 -88 \nQ 525 -88 434 3 \nQ 344 94 344 253 \nQ 344 406 461 515 \nQ 578 625 747 625 \nQ 953 625 1114 445 \nQ 1275 266 1275 -31 \nQ 1275 -353 1051 -629 \nQ 828 -906 344 -1066 \nz\n\" transform=\"scale(0.015625)\"/>\n       <path id=\"TimesNewRomanPSMT-441\" d=\"M 2631 1088 \nQ 2516 522 2178 217 \nQ 1841 -88 1431 -88 \nQ 944 -88 581 321 \nQ 219 731 219 1428 \nQ 219 2103 620 2525 \nQ 1022 2947 1584 2947 \nQ 2006 2947 2278 2723 \nQ 2550 2500 2550 2259 \nQ 2550 2141 2473 2067 \nQ 2397 1994 2259 1994 \nQ 2075 1994 1981 2113 \nQ 1928 2178 1911 2362 \nQ 1894 2547 1784 2644 \nQ 1675 2738 1481 2738 \nQ 1169 2738 978 2506 \nQ 725 2200 725 1697 \nQ 725 1184 976 792 \nQ 1228 400 1656 400 \nQ 1963 400 2206 609 \nQ 2378 753 2541 1131 \nL 2631 1088 \nz\n\" transform=\"scale(0.015625)\"/>\n      </defs>\n      <use xlink:href=\"#STIXGeneral-Italic-74\" transform=\"translate(0 0.40625)\"/>\n      <use xlink:href=\"#TimesNewRomanPSMT-2c\" transform=\"translate(27.799988 0.40625)\"/>\n      <use xlink:href=\"#TimesNewRomanPSMT-441\" transform=\"translate(68.356628 0.40625)\"/>\n     </g>\n    </g>\n   </g>\n   <g id=\"matplotlib.axis_2\">\n    <g id=\"ytick_1\">\n     <g id=\"line2d_19\">\n      <path d=\"M 55.415938 293.940635 \nL 557.615938 293.940635 \n\" clip-path=\"url(#pb9f08cc21b)\" style=\"fill: none; stroke: #b0b0b0; stroke-width: 0.8; stroke-linecap: square\"/>\n     </g>\n     <g id=\"line2d_20\">\n      <defs>\n       <path id=\"m275908c3d5\" d=\"M 0 0 \nL -3.5 0 \n\" style=\"stroke: #000000; stroke-width: 0.8\"/>\n      </defs>\n      <g>\n       <use xlink:href=\"#m275908c3d5\" x=\"55.415938\" y=\"293.940635\" style=\"stroke: #000000; stroke-width: 0.8\"/>\n      </g>\n     </g>\n     <g id=\"text_11\">\n      <!-- 0.25 -->\n      <g transform=\"translate(23.915938 298.80126)scale(0.14 -0.14)\">\n       <use xlink:href=\"#TimesNewRomanPSMT-30\"/>\n       <use xlink:href=\"#TimesNewRomanPSMT-2e\" x=\"50\"/>\n       <use xlink:href=\"#TimesNewRomanPSMT-32\" x=\"75\"/>\n       <use xlink:href=\"#TimesNewRomanPSMT-35\" x=\"125\"/>\n      </g>\n     </g>\n    </g>\n    <g id=\"ytick_2\">\n     <g id=\"line2d_21\">\n      <path d=\"M 55.415938 252.585481 \nL 557.615938 252.585481 \n\" clip-path=\"url(#pb9f08cc21b)\" style=\"fill: none; stroke: #b0b0b0; stroke-width: 0.8; stroke-linecap: square\"/>\n     </g>\n     <g id=\"line2d_22\">\n      <g>\n       <use xlink:href=\"#m275908c3d5\" x=\"55.415938\" y=\"252.585481\" style=\"stroke: #000000; stroke-width: 0.8\"/>\n      </g>\n     </g>\n     <g id=\"text_12\">\n      <!-- 0.50 -->\n      <g transform=\"translate(23.915938 257.446106)scale(0.14 -0.14)\">\n       <use xlink:href=\"#TimesNewRomanPSMT-30\"/>\n       <use xlink:href=\"#TimesNewRomanPSMT-2e\" x=\"50\"/>\n       <use xlink:href=\"#TimesNewRomanPSMT-35\" x=\"75\"/>\n       <use xlink:href=\"#TimesNewRomanPSMT-30\" x=\"125\"/>\n      </g>\n     </g>\n    </g>\n    <g id=\"ytick_3\">\n     <g id=\"line2d_23\">\n      <path d=\"M 55.415938 211.230326 \nL 557.615938 211.230326 \n\" clip-path=\"url(#pb9f08cc21b)\" style=\"fill: none; stroke: #b0b0b0; stroke-width: 0.8; stroke-linecap: square\"/>\n     </g>\n     <g id=\"line2d_24\">\n      <g>\n       <use xlink:href=\"#m275908c3d5\" x=\"55.415938\" y=\"211.230326\" style=\"stroke: #000000; stroke-width: 0.8\"/>\n      </g>\n     </g>\n     <g id=\"text_13\">\n      <!-- 0.75 -->\n      <g transform=\"translate(23.915938 216.090951)scale(0.14 -0.14)\">\n       <use xlink:href=\"#TimesNewRomanPSMT-30\"/>\n       <use xlink:href=\"#TimesNewRomanPSMT-2e\" x=\"50\"/>\n       <use xlink:href=\"#TimesNewRomanPSMT-37\" x=\"75\"/>\n       <use xlink:href=\"#TimesNewRomanPSMT-35\" x=\"125\"/>\n      </g>\n     </g>\n    </g>\n    <g id=\"ytick_4\">\n     <g id=\"line2d_25\">\n      <path d=\"M 55.415938 169.875172 \nL 557.615938 169.875172 \n\" clip-path=\"url(#pb9f08cc21b)\" style=\"fill: none; stroke: #b0b0b0; stroke-width: 0.8; stroke-linecap: square\"/>\n     </g>\n     <g id=\"line2d_26\">\n      <g>\n       <use xlink:href=\"#m275908c3d5\" x=\"55.415938\" y=\"169.875172\" style=\"stroke: #000000; stroke-width: 0.8\"/>\n      </g>\n     </g>\n     <g id=\"text_14\">\n      <!-- 1.00 -->\n      <g transform=\"translate(23.915938 174.735797)scale(0.14 -0.14)\">\n       <use xlink:href=\"#TimesNewRomanPSMT-31\"/>\n       <use xlink:href=\"#TimesNewRomanPSMT-2e\" x=\"50\"/>\n       <use xlink:href=\"#TimesNewRomanPSMT-30\" x=\"75\"/>\n       <use xlink:href=\"#TimesNewRomanPSMT-30\" x=\"125\"/>\n      </g>\n     </g>\n    </g>\n    <g id=\"ytick_5\">\n     <g id=\"line2d_27\">\n      <path d=\"M 55.415938 128.520017 \nL 557.615938 128.520017 \n\" clip-path=\"url(#pb9f08cc21b)\" style=\"fill: none; stroke: #b0b0b0; stroke-width: 0.8; stroke-linecap: square\"/>\n     </g>\n     <g id=\"line2d_28\">\n      <g>\n       <use xlink:href=\"#m275908c3d5\" x=\"55.415938\" y=\"128.520017\" style=\"stroke: #000000; stroke-width: 0.8\"/>\n      </g>\n     </g>\n     <g id=\"text_15\">\n      <!-- 1.25 -->\n      <g transform=\"translate(23.915938 133.380642)scale(0.14 -0.14)\">\n       <use xlink:href=\"#TimesNewRomanPSMT-31\"/>\n       <use xlink:href=\"#TimesNewRomanPSMT-2e\" x=\"50\"/>\n       <use xlink:href=\"#TimesNewRomanPSMT-32\" x=\"75\"/>\n       <use xlink:href=\"#TimesNewRomanPSMT-35\" x=\"125\"/>\n      </g>\n     </g>\n    </g>\n    <g id=\"ytick_6\">\n     <g id=\"line2d_29\">\n      <path d=\"M 55.415938 87.164863 \nL 557.615938 87.164863 \n\" clip-path=\"url(#pb9f08cc21b)\" style=\"fill: none; stroke: #b0b0b0; stroke-width: 0.8; stroke-linecap: square\"/>\n     </g>\n     <g id=\"line2d_30\">\n      <g>\n       <use xlink:href=\"#m275908c3d5\" x=\"55.415938\" y=\"87.164863\" style=\"stroke: #000000; stroke-width: 0.8\"/>\n      </g>\n     </g>\n     <g id=\"text_16\">\n      <!-- 1.50 -->\n      <g transform=\"translate(23.915938 92.025488)scale(0.14 -0.14)\">\n       <use xlink:href=\"#TimesNewRomanPSMT-31\"/>\n       <use xlink:href=\"#TimesNewRomanPSMT-2e\" x=\"50\"/>\n       <use xlink:href=\"#TimesNewRomanPSMT-35\" x=\"75\"/>\n       <use xlink:href=\"#TimesNewRomanPSMT-30\" x=\"125\"/>\n      </g>\n     </g>\n    </g>\n    <g id=\"ytick_7\">\n     <g id=\"line2d_31\">\n      <path d=\"M 55.415938 45.809709 \nL 557.615938 45.809709 \n\" clip-path=\"url(#pb9f08cc21b)\" style=\"fill: none; stroke: #b0b0b0; stroke-width: 0.8; stroke-linecap: square\"/>\n     </g>\n     <g id=\"line2d_32\">\n      <g>\n       <use xlink:href=\"#m275908c3d5\" x=\"55.415938\" y=\"45.809709\" style=\"stroke: #000000; stroke-width: 0.8\"/>\n      </g>\n     </g>\n     <g id=\"text_17\">\n      <!-- 1.75 -->\n      <g transform=\"translate(23.915938 50.670334)scale(0.14 -0.14)\">\n       <use xlink:href=\"#TimesNewRomanPSMT-31\"/>\n       <use xlink:href=\"#TimesNewRomanPSMT-2e\" x=\"50\"/>\n       <use xlink:href=\"#TimesNewRomanPSMT-37\" x=\"75\"/>\n       <use xlink:href=\"#TimesNewRomanPSMT-35\" x=\"125\"/>\n      </g>\n     </g>\n    </g>\n    <g id=\"text_18\">\n     <!-- $\\mathit{p}, МПа$ -->\n     <g transform=\"translate(16.92125 191.07)rotate(-90)scale(0.14 -0.14)\">\n      <defs>\n       <path id=\"STIXGeneral-Italic-70\" d=\"M 1376 2739 \nL 1190 2099 \nQ 1670 2822 2285 2822 \nQ 2637 2822 2829 2611 \nQ 3021 2400 3021 2022 \nQ 3021 1235 2422 582 \nQ 1824 -70 1120 -70 \nQ 890 -70 678 38 \nQ 422 -1018 422 -1024 \nQ 422 -1126 508 -1168 \nQ 595 -1210 819 -1210 \nL 819 -1312 \nL -480 -1312 \nL -480 -1210 \nQ -275 -1203 -188 -1120 \nQ -102 -1037 -45 -806 \nL 691 1958 \nQ 794 2330 794 2413 \nQ 794 2586 512 2586 \nL 371 2586 \nL 358 2682 \nL 1357 2822 \nQ 1389 2822 1389 2797 \nQ 1382 2765 1376 2739 \nz\nM 2445 2003 \nQ 2445 2285 2352 2416 \nQ 2259 2547 2048 2547 \nQ 1798 2547 1548 2329 \nQ 1299 2112 1184 1818 \nQ 1043 1453 905 953 \nQ 768 454 768 294 \nQ 768 186 854 118 \nQ 941 51 1075 51 \nQ 1574 51 2003 659 \nQ 2445 1274 2445 2003 \nz\n\" transform=\"scale(0.015625)\"/>\n       <path id=\"TimesNewRomanPSMT-41c\" d=\"M 2619 0 \nL 981 3566 \nL 981 734 \nQ 981 344 1066 247 \nQ 1181 116 1431 116 \nL 1581 116 \nL 1581 0 \nL 106 0 \nL 106 116 \nL 256 116 \nQ 525 116 638 278 \nQ 706 378 706 734 \nL 706 3503 \nQ 706 3784 644 3909 \nQ 600 4000 483 4061 \nQ 366 4122 106 4122 \nL 106 4238 \nL 1306 4238 \nL 2844 922 \nL 4356 4238 \nL 5556 4238 \nL 5556 4122 \nL 5409 4122 \nQ 5138 4122 5025 3959 \nQ 4956 3859 4956 3503 \nL 4956 734 \nQ 4956 344 5044 247 \nQ 5159 116 5409 116 \nL 5556 116 \nL 5556 0 \nL 3756 0 \nL 3756 116 \nL 3906 116 \nQ 4178 116 4288 278 \nQ 4356 378 4356 734 \nL 4356 3566 \nL 2722 0 \nL 2619 0 \nz\n\" transform=\"scale(0.015625)\"/>\n       <path id=\"TimesNewRomanPSMT-41f\" d=\"M 3294 4006 \nL 1328 4006 \nL 1328 772 \nQ 1328 353 1436 240 \nQ 1544 128 1941 116 \nL 1941 0 \nL 116 0 \nL 116 116 \nQ 509 128 618 240 \nQ 728 353 728 772 \nL 728 3466 \nQ 728 3884 618 3996 \nQ 509 4109 116 4122 \nL 116 4238 \nL 4506 4238 \nL 4506 4122 \nQ 4113 4109 4003 3996 \nQ 3894 3884 3894 3466 \nL 3894 772 \nQ 3894 353 4003 240 \nQ 4113 128 4506 116 \nL 4506 0 \nL 2684 0 \nL 2684 116 \nQ 3075 128 3184 239 \nQ 3294 350 3294 772 \nL 3294 4006 \nz\n\" transform=\"scale(0.015625)\"/>\n       <path id=\"TimesNewRomanPSMT-430\" d=\"M 1822 413 \nQ 1381 72 1269 19 \nQ 1100 -59 909 -59 \nQ 613 -59 420 144 \nQ 228 347 228 678 \nQ 228 888 322 1041 \nQ 450 1253 767 1440 \nQ 1084 1628 1822 1897 \nL 1822 2009 \nQ 1822 2438 1686 2597 \nQ 1550 2756 1291 2756 \nQ 1094 2756 978 2650 \nQ 859 2544 859 2406 \nL 866 2225 \nQ 866 2081 792 2003 \nQ 719 1925 600 1925 \nQ 484 1925 411 2006 \nQ 338 2088 338 2228 \nQ 338 2497 613 2722 \nQ 888 2947 1384 2947 \nQ 1766 2947 2009 2819 \nQ 2194 2722 2281 2516 \nQ 2338 2381 2338 1966 \nL 2338 994 \nQ 2338 584 2353 492 \nQ 2369 400 2405 369 \nQ 2441 338 2488 338 \nQ 2538 338 2575 359 \nQ 2641 400 2828 588 \nL 2828 413 \nQ 2478 -56 2159 -56 \nQ 2006 -56 1915 50 \nQ 1825 156 1822 413 \nz\nM 1822 616 \nL 1822 1706 \nQ 1350 1519 1213 1441 \nQ 966 1303 859 1153 \nQ 753 1003 753 825 \nQ 753 600 887 451 \nQ 1022 303 1197 303 \nQ 1434 303 1822 616 \nz\n\" transform=\"scale(0.015625)\"/>\n      </defs>\n      <use xlink:href=\"#STIXGeneral-Italic-70\" transform=\"translate(0 0.78125)\"/>\n      <use xlink:href=\"#TimesNewRomanPSMT-2c\" transform=\"translate(50.399994 0.78125)\"/>\n      <use xlink:href=\"#TimesNewRomanPSMT-41c\" transform=\"translate(90.956635 0.78125)\"/>\n      <use xlink:href=\"#TimesNewRomanPSMT-41f\" transform=\"translate(179.87265 0.78125)\"/>\n      <use xlink:href=\"#TimesNewRomanPSMT-430\" transform=\"translate(252.089447 0.78125)\"/>\n     </g>\n    </g>\n   </g>\n   <g id=\"line2d_33\">\n    <path d=\"M 78.24321 318.534545 \nL 78.818205 215.409739 \nL 79.393199 147.028978 \nL 79.968193 101.822185 \nL 80.543187 72.071718 \nL 81.118182 52.629648 \nL 81.693176 40.062131 \nL 82.26817 32.078679 \nL 82.843164 27.151462 \nL 83.418159 24.26137 \nL 83.993153 22.728627 \nL 84.568147 22.099804 \nL 84.855644 22.025455 \nL 85.430639 22.218356 \nL 86.005633 22.736923 \nL 86.868124 23.895373 \nL 88.30561 26.349839 \nL 91.180581 31.868692 \nL 98.943004 46.821872 \nL 105.267941 58.484906 \nL 111.592878 69.676534 \nL 117.917815 80.41568 \nL 124.242752 90.720635 \nL 130.567689 100.608955 \nL 136.892626 110.097484 \nL 143.217563 119.202387 \nL 149.829997 128.327796 \nL 156.442432 137.067848 \nL 163.054866 145.438816 \nL 169.6673 153.456287 \nL 176.279734 161.135188 \nL 183.179665 168.802441 \nL 190.079597 176.132151 \nL 196.979528 183.139177 \nL 203.879459 189.837726 \nL 211.066888 196.50199 \nL 218.254316 202.860926 \nL 225.441745 208.928524 \nL 232.91667 214.944114 \nL 240.391596 220.673337 \nL 247.866521 226.129827 \nL 255.628944 231.521423 \nL 263.391367 236.646733 \nL 271.441287 241.694665 \nL 279.491207 246.48429 \nL 287.828624 251.186759 \nL 296.453538 255.789527 \nL 305.078452 260.140413 \nL 313.990863 264.386349 \nL 323.190771 268.517797 \nL 332.39068 272.408533 \nL 341.878085 276.183574 \nL 351.652988 279.836141 \nL 361.715388 283.360533 \nL 372.065285 286.752105 \nL 382.702679 290.007232 \nL 393.915067 293.202311 \nL 405.414953 296.245304 \nL 417.202335 299.136212 \nL 429.564712 301.938494 \nL 442.502084 304.638842 \nL 456.014449 307.226103 \nL 470.101809 309.69126 \nL 484.764163 312.027385 \nL 500.001511 314.22955 \nL 516.101351 316.330334 \nL 533.063682 318.317442 \nL 534.788665 318.507473 \nL 534.788665 318.507473 \n\" clip-path=\"url(#pb9f08cc21b)\" style=\"fill: none; stroke: #1f77b4; stroke-width: 1.5; stroke-linecap: square\"/>\n   </g>\n   <g id=\"line2d_34\">\n    <path d=\"M 55.415938 50.642956 \nL 557.615938 50.642956 \n\" clip-path=\"url(#pb9f08cc21b)\" style=\"fill: none; stroke-dasharray: 5.55,2.4; stroke-dashoffset: 0; stroke: #d62728; stroke-width: 1.5\"/>\n   </g>\n   <g id=\"patch_3\">\n    <path d=\"M 55.415938 333.36 \nL 55.415938 7.2 \n\" style=\"fill: none; stroke: #000000; stroke-width: 0.8; stroke-linejoin: miter; stroke-linecap: square\"/>\n   </g>\n   <g id=\"patch_4\">\n    <path d=\"M 557.615938 333.36 \nL 557.615938 7.2 \n\" style=\"fill: none; stroke: #000000; stroke-width: 0.8; stroke-linejoin: miter; stroke-linecap: square\"/>\n   </g>\n   <g id=\"patch_5\">\n    <path d=\"M 55.415937 333.36 \nL 557.615938 333.36 \n\" style=\"fill: none; stroke: #000000; stroke-width: 0.8; stroke-linejoin: miter; stroke-linecap: square\"/>\n   </g>\n   <g id=\"patch_6\">\n    <path d=\"M 55.415937 7.2 \nL 557.615938 7.2 \n\" style=\"fill: none; stroke: #000000; stroke-width: 0.8; stroke-linejoin: miter; stroke-linecap: square\"/>\n   </g>\n   <g id=\"legend_1\">\n    <g id=\"patch_7\">\n     <path d=\"M 416.355938 38.98 \nL 547.815938 38.98 \nQ 550.615938 38.98 550.615938 36.18 \nL 550.615938 17 \nQ 550.615938 14.2 547.815938 14.2 \nL 416.355938 14.2 \nQ 413.555938 14.2 413.555938 17 \nL 413.555938 36.18 \nQ 413.555938 38.98 416.355938 38.98 \nz\n\" style=\"fill: #ffffff; opacity: 0.8; stroke: #cccccc; stroke-linejoin: miter\"/>\n    </g>\n    <g id=\"line2d_35\">\n     <path d=\"M 419.155938 24.7 \nL 433.155938 24.7 \nL 447.155938 24.7 \n\" style=\"fill: none; stroke-dasharray: 5.55,2.4; stroke-dashoffset: 0; stroke: #d62728; stroke-width: 1.5\"/>\n    </g>\n    <g id=\"text_19\">\n     <!-- $\\mathit{p}_{всп}$ = 1.7 МПа -->\n     <g transform=\"translate(458.355938 29.6)scale(0.14 -0.14)\">\n      <defs>\n       <path id=\"TimesNewRomanPSMT-432\" d=\"M 2016 1513 \nQ 2800 1350 2800 778 \nQ 2800 388 2473 194 \nQ 2147 0 1563 0 \nL 150 0 \nL 150 116 \nQ 428 116 501 220 \nQ 575 325 575 672 \nL 575 2191 \nQ 575 2528 542 2587 \nQ 509 2647 439 2695 \nQ 369 2744 150 2744 \nL 150 2863 \nL 1469 2863 \nQ 1850 2863 2086 2803 \nQ 2322 2744 2473 2569 \nQ 2625 2394 2625 2144 \nQ 2625 1656 2016 1513 \nz\nM 1094 1584 \nQ 1231 1581 1259 1581 \nQ 1688 1581 1878 1745 \nQ 2069 1909 2069 2144 \nQ 2069 2416 1875 2537 \nQ 1681 2659 1256 2659 \nL 1094 2659 \nL 1094 1584 \nz\nM 1094 253 \nQ 1250 203 1466 203 \nQ 1838 203 2019 365 \nQ 2200 528 2200 784 \nQ 2200 1072 1965 1225 \nQ 1731 1378 1316 1378 \nQ 1213 1378 1094 1372 \nL 1094 253 \nz\n\" transform=\"scale(0.015625)\"/>\n       <path id=\"TimesNewRomanPSMT-43f\" d=\"M 2331 2659 \nL 1094 2659 \nL 1094 672 \nQ 1094 341 1128 277 \nQ 1163 213 1236 164 \nQ 1309 116 1528 116 \nL 1528 0 \nL 144 0 \nL 144 116 \nQ 422 116 500 217 \nQ 578 319 578 672 \nL 578 2191 \nQ 578 2525 543 2586 \nQ 509 2647 437 2695 \nQ 366 2744 144 2744 \nL 144 2863 \nL 3281 2863 \nL 3281 2744 \nQ 3072 2744 3000 2701 \nQ 2928 2659 2887 2596 \nQ 2847 2534 2847 2191 \nL 2847 672 \nQ 2847 341 2881 277 \nQ 2916 213 2989 164 \nQ 3063 116 3281 116 \nL 3281 0 \nL 1897 0 \nL 1897 116 \nQ 2156 116 2243 211 \nQ 2331 306 2331 672 \nL 2331 2659 \nz\n\" transform=\"scale(0.015625)\"/>\n       <path id=\"TimesNewRomanPSMT-20\" transform=\"scale(0.015625)\"/>\n       <path id=\"TimesNewRomanPSMT-3d\" d=\"M 116 2759 \nL 3488 2759 \nL 3488 2503 \nL 116 2503 \nL 116 2759 \nz\nM 116 1741 \nL 3488 1741 \nL 3488 1484 \nL 116 1484 \nL 116 1741 \nz\n\" transform=\"scale(0.015625)\"/>\n      </defs>\n      <use xlink:href=\"#STIXGeneral-Italic-70\" transform=\"translate(0 0.421875)\"/>\n      <use xlink:href=\"#TimesNewRomanPSMT-432\" transform=\"translate(50.399994 -25.340625)scale(0.7)\"/>\n      <use xlink:href=\"#TimesNewRomanPSMT-441\" transform=\"translate(83.451752 -25.340625)scale(0.7)\"/>\n      <use xlink:href=\"#TimesNewRomanPSMT-43f\" transform=\"translate(114.521088 -25.340625)scale(0.7)\"/>\n      <use xlink:href=\"#TimesNewRomanPSMT-20\" transform=\"translate(156.275775 0.421875)\"/>\n      <use xlink:href=\"#TimesNewRomanPSMT-3d\" transform=\"translate(181.275775 0.421875)\"/>\n      <use xlink:href=\"#TimesNewRomanPSMT-20\" transform=\"translate(237.67226 0.421875)\"/>\n      <use xlink:href=\"#TimesNewRomanPSMT-31\" transform=\"translate(262.67226 0.421875)\"/>\n      <use xlink:href=\"#TimesNewRomanPSMT-2e\" transform=\"translate(312.67226 0.421875)\"/>\n      <use xlink:href=\"#TimesNewRomanPSMT-37\" transform=\"translate(337.67226 0.421875)\"/>\n      <use xlink:href=\"#TimesNewRomanPSMT-20\" transform=\"translate(387.67226 0.421875)\"/>\n      <use xlink:href=\"#TimesNewRomanPSMT-41c\" transform=\"translate(412.67226 0.421875)\"/>\n      <use xlink:href=\"#TimesNewRomanPSMT-41f\" transform=\"translate(501.588275 0.421875)\"/>\n      <use xlink:href=\"#TimesNewRomanPSMT-430\" transform=\"translate(573.805072 0.421875)\"/>\n     </g>\n    </g>\n   </g>\n  </g>\n </g>\n <defs>\n  <clipPath id=\"pb9f08cc21b\">\n   <rect x=\"55.415938\" y=\"7.2\" width=\"502.2\" height=\"326.16\"/>\n  </clipPath>\n </defs>\n</svg>\n",
      "text/plain": [
       "<Figure size 648x432 with 1 Axes>"
      ]
     },
     "metadata": {
      "needs_background": "light"
     },
     "output_type": "display_data"
    }
   ],
   "source": [
    "t_vs = np.linspace(0,0.1,2000)\n",
    "p_vs = np.array([p_v(t) for t in t_vs])\n",
    "\n",
    "f = plt.figure(figsize=(9, 6))\n",
    "plt.plot(t_vs[p_vs >= p_atm], p_vs[p_vs >= p_atm]/1e6)\n",
    "plt.axhline(p_vsp_50/1e6, linestyle = '--', color = 'tab:red', label = '$\\mathit{p}_{всп}$ = '+f'{p_vsp_50/1e6:.1f} МПа')\n",
    "\n",
    "plt.legend(loc = 'upper right')\n",
    "plt.grid()\n",
    "plt.xlabel('$\\mathit{t}, с$')\n",
    "plt.ylabel('$\\mathit{p}, МПа$')\n",
    "# plt.savefig('График pW0.svg', dpi=500, bbox_inches='tight')\n",
    "\n",
    "plt.show()"
   ]
  },
  {
   "cell_type": "code",
   "execution_count": 350,
   "metadata": {},
   "outputs": [
    {
     "data": {
      "text/plain": [
       "0.5502751375687844"
      ]
     },
     "execution_count": 350,
     "metadata": {},
     "output_type": "execute_result"
    }
   ],
   "source": [
    "t_vs[p_vs >= p_vsp_50][0]*1e3"
   ]
  },
  {
   "cell_type": "code",
   "execution_count": 360,
   "metadata": {},
   "outputs": [
    {
     "data": {
      "text/plain": [
       "2.1211051362643984"
      ]
     },
     "execution_count": 360,
     "metadata": {},
     "output_type": "execute_result"
    }
   ],
   "source": [
    "e_0*1e3"
   ]
  },
  {
   "cell_type": "markdown",
   "metadata": {},
   "source": [
    "#### ОЗВБ"
   ]
  },
  {
   "cell_type": "code",
   "execution_count": 367,
   "metadata": {},
   "outputs": [],
   "source": [
    "mu_c = 0.95\n",
    "e_max = e_0\n",
    "Q_t = propel.k / (propel.k - 1) * propel.R * propel.T0\n",
    "\n",
    "def S_zar(e):\n",
    "    return n_zar * (np.pi * (D_vn + 2 * e)*(L_zar - 2 * e) + np.pi * (D_nar - 2 * e) * (L_zar - 2 * e) + \\\n",
    "        2 * np.pi * 0.25 * (((D_nar - 2 * e) ** 2) - ((D_vn + 2 * e) ** 2)))"
   ]
  },
  {
   "cell_type": "code",
   "execution_count": 395,
   "metadata": {},
   "outputs": [],
   "source": [
    "def sys_int(t, Y, T0, p_vsp):\n",
    "\n",
    "    p, W, omega_g, omega_vg, e_t = Y\n",
    "    U = np.zeros(5)\n",
    "\n",
    "    Hev_v = 1 if t <= t_v else 0\n",
    "    Hev_p = 1 if p > p_vsp or abs(e_t) > 0 else 0\n",
    "    Hev_e = 1 if 0 <= abs(e_t) <= e_max else 0\n",
    "\n",
    "    u_g = propel.u(p,T0)\n",
    "    S_g = S_zar(abs(e_t))\n",
    "\n",
    "    #domega_v/dt\n",
    "    U[3] = S0_v * np.exp(-m_v * t / t_v) * u_v * rho_v * Hev_v\n",
    "\n",
    "    #dp/dt\n",
    "    p1 = (propel.k - 1) * Q_v / (propel.rho * S_g * u_g) * U[3] + (propel.k - 1) * Q_t * Hev_e\n",
    "    p2 = propel.k * (mu_c * A(propel.k) * F_kr * p / (propel.rho * S_g * u_g)) ** 2\n",
    "    p3 = (propel.k - 1) * sigma_t * v_t * F_oxl * p / (propel.R * propel.rho * S_g * u_g)\n",
    "    p4 = propel.k * p / (rho_v * propel.rho * S_g * u_g) * U[3]\n",
    "    p5 = propel.k * p / propel.rho * Hev_e\n",
    "    U[0] = (p1 - p2 - p3 - p4 - p5) * propel.rho * S_g * u_g / W\n",
    "\n",
    "    #de/dt\n",
    "    U[4] = 2.5 * u_g * Hev_p * Hev_e\n",
    "\n",
    "    #domega_t/dt\n",
    "    U[2] = S_g * propel.rho * U[4]\n",
    "\n",
    "    #dW/dt\n",
    "    U[1] = 1 / propel.rho * U[2] + 1 / rho_v * U[3]\n",
    "\n",
    "    return U\n",
    "\n",
    "def res_int(T0):\n",
    "\n",
    "    stop = lambda p: p * pi(1,propel.k) <= 2 * p_atm\n",
    "    # stop = lambda p: p <= p_atm\n",
    "\n",
    "    Y_0 = [0, p_atm, W_0, 0, 0, 0]\n",
    "\n",
    "    result = dict()\n",
    "    keys = ['t','p','W','omega_g','omega_gv','e_t']\n",
    "    for key, val in zip(keys,Y_0):\n",
    "        result[key] = np.array([val])\n",
    "\n",
    "    r = ode(sys_int).set_integrator('vode', method = 'adams')     #'vode', method = 'adams'\n",
    "    r.set_initial_value(Y_0[1:])\n",
    "    r.set_f_params(T0, p_vsp(T0))\n",
    "\n",
    "    while r.successful() and (not stop(result['p'][-1]) or result['t'][-1] < 0.005):\n",
    "        dt = 5e-6\n",
    "        result['t'] = np.append(result['t'], result['t'][-1] + dt)\n",
    "        Y_tek = r.integrate(r.t+dt)\n",
    "        for key, val in zip(keys[1:],Y_tek):\n",
    "            if key != 'p':\n",
    "                result[key] = np.append(result[key], val)\n",
    "            else:\n",
    "                result[key] = np.append(result[key], val * 1.5)\n",
    "\n",
    "    return result"
   ]
  },
  {
   "cell_type": "code",
   "execution_count": 396,
   "metadata": {},
   "outputs": [],
   "source": [
    "res18 = res_int(T_nom)\n",
    "res50 = res_int(T_max)\n",
    "res_50 = res_int(T_min)"
   ]
  },
  {
   "cell_type": "code",
   "execution_count": 397,
   "metadata": {},
   "outputs": [
    {
     "data": {
      "image/svg+xml": "<?xml version=\"1.0\" encoding=\"utf-8\" standalone=\"no\"?>\n<!DOCTYPE svg PUBLIC \"-//W3C//DTD SVG 1.1//EN\"\n  \"http://www.w3.org/Graphics/SVG/1.1/DTD/svg11.dtd\">\n<svg xmlns:xlink=\"http://www.w3.org/1999/xlink\" width=\"617.115937pt\" height=\"431.351875pt\" viewBox=\"0 0 617.115937 431.351875\" xmlns=\"http://www.w3.org/2000/svg\" version=\"1.1\">\n <metadata>\n  <rdf:RDF xmlns:dc=\"http://purl.org/dc/elements/1.1/\" xmlns:cc=\"http://creativecommons.org/ns#\" xmlns:rdf=\"http://www.w3.org/1999/02/22-rdf-syntax-ns#\">\n   <cc:Work>\n    <dc:type rdf:resource=\"http://purl.org/dc/dcmitype/StillImage\"/>\n    <dc:date>2022-11-13T19:43:45.664835</dc:date>\n    <dc:format>image/svg+xml</dc:format>\n    <dc:creator>\n     <cc:Agent>\n      <dc:title>Matplotlib v3.5.2, https://matplotlib.org/</dc:title>\n     </cc:Agent>\n    </dc:creator>\n   </cc:Work>\n  </rdf:RDF>\n </metadata>\n <defs>\n  <style type=\"text/css\">*{stroke-linejoin: round; stroke-linecap: butt}</style>\n </defs>\n <g id=\"figure_1\">\n  <g id=\"patch_1\">\n   <path d=\"M 0 431.351875 \nL 617.115937 431.351875 \nL 617.115937 0 \nL 0 0 \nL 0 431.351875 \nz\n\" style=\"fill: none\"/>\n  </g>\n  <g id=\"axes_1\">\n   <g id=\"patch_2\">\n    <path d=\"M 51.915937 387.72 \nL 609.915938 387.72 \nL 609.915938 7.2 \nL 51.915937 7.2 \nz\n\" style=\"fill: #ffffff\"/>\n   </g>\n   <g id=\"matplotlib.axis_1\">\n    <g id=\"xtick_1\">\n     <g id=\"line2d_1\">\n      <path d=\"M 51.915937 387.72 \nL 51.915937 7.2 \n\" clip-path=\"url(#pcc7f741553)\" style=\"fill: none; stroke: #b0b0b0; stroke-width: 0.8; stroke-linecap: square\"/>\n     </g>\n     <g id=\"line2d_2\">\n      <defs>\n       <path id=\"m2c8403cbb1\" d=\"M 0 0 \nL 0 3.5 \n\" style=\"stroke: #000000; stroke-width: 0.8\"/>\n      </defs>\n      <g>\n       <use xlink:href=\"#m2c8403cbb1\" x=\"51.915937\" y=\"387.72\" style=\"stroke: #000000; stroke-width: 0.8\"/>\n      </g>\n     </g>\n     <g id=\"text_1\">\n      <!-- 0.000 -->\n      <g transform=\"translate(36.165937 404.44125)scale(0.14 -0.14)\">\n       <defs>\n        <path id=\"TimesNewRomanPSMT-30\" d=\"M 231 2094 \nQ 231 2819 450 3342 \nQ 669 3866 1031 4122 \nQ 1313 4325 1613 4325 \nQ 2100 4325 2488 3828 \nQ 2972 3213 2972 2159 \nQ 2972 1422 2759 906 \nQ 2547 391 2217 158 \nQ 1888 -75 1581 -75 \nQ 975 -75 572 641 \nQ 231 1244 231 2094 \nz\nM 844 2016 \nQ 844 1141 1059 588 \nQ 1238 122 1591 122 \nQ 1759 122 1940 273 \nQ 2122 425 2216 781 \nQ 2359 1319 2359 2297 \nQ 2359 3022 2209 3506 \nQ 2097 3866 1919 4016 \nQ 1791 4119 1609 4119 \nQ 1397 4119 1231 3928 \nQ 1006 3669 925 3112 \nQ 844 2556 844 2016 \nz\n\" transform=\"scale(0.015625)\"/>\n        <path id=\"TimesNewRomanPSMT-2e\" d=\"M 800 606 \nQ 947 606 1047 504 \nQ 1147 403 1147 259 \nQ 1147 116 1045 14 \nQ 944 -88 800 -88 \nQ 656 -88 554 14 \nQ 453 116 453 259 \nQ 453 406 554 506 \nQ 656 606 800 606 \nz\n\" transform=\"scale(0.015625)\"/>\n       </defs>\n       <use xlink:href=\"#TimesNewRomanPSMT-30\"/>\n       <use xlink:href=\"#TimesNewRomanPSMT-2e\" x=\"50\"/>\n       <use xlink:href=\"#TimesNewRomanPSMT-30\" x=\"75\"/>\n       <use xlink:href=\"#TimesNewRomanPSMT-30\" x=\"125\"/>\n       <use xlink:href=\"#TimesNewRomanPSMT-30\" x=\"175\"/>\n      </g>\n     </g>\n    </g>\n    <g id=\"xtick_2\">\n     <g id=\"line2d_3\">\n      <path d=\"M 136.04267 387.72 \nL 136.04267 7.2 \n\" clip-path=\"url(#pcc7f741553)\" style=\"fill: none; stroke: #b0b0b0; stroke-width: 0.8; stroke-linecap: square\"/>\n     </g>\n     <g id=\"line2d_4\">\n      <g>\n       <use xlink:href=\"#m2c8403cbb1\" x=\"136.04267\" y=\"387.72\" style=\"stroke: #000000; stroke-width: 0.8\"/>\n      </g>\n     </g>\n     <g id=\"text_2\">\n      <!-- 0.005 -->\n      <g transform=\"translate(120.29267 404.44125)scale(0.14 -0.14)\">\n       <defs>\n        <path id=\"TimesNewRomanPSMT-35\" d=\"M 2778 4238 \nL 2534 3706 \nL 1259 3706 \nL 981 3138 \nQ 1809 3016 2294 2522 \nQ 2709 2097 2709 1522 \nQ 2709 1188 2573 903 \nQ 2438 619 2231 419 \nQ 2025 219 1772 97 \nQ 1413 -75 1034 -75 \nQ 653 -75 479 54 \nQ 306 184 306 341 \nQ 306 428 378 495 \nQ 450 563 559 563 \nQ 641 563 702 538 \nQ 763 513 909 409 \nQ 1144 247 1384 247 \nQ 1750 247 2026 523 \nQ 2303 800 2303 1197 \nQ 2303 1581 2056 1914 \nQ 1809 2247 1375 2428 \nQ 1034 2569 447 2591 \nL 1259 4238 \nL 2778 4238 \nz\n\" transform=\"scale(0.015625)\"/>\n       </defs>\n       <use xlink:href=\"#TimesNewRomanPSMT-30\"/>\n       <use xlink:href=\"#TimesNewRomanPSMT-2e\" x=\"50\"/>\n       <use xlink:href=\"#TimesNewRomanPSMT-30\" x=\"75\"/>\n       <use xlink:href=\"#TimesNewRomanPSMT-30\" x=\"125\"/>\n       <use xlink:href=\"#TimesNewRomanPSMT-35\" x=\"175\"/>\n      </g>\n     </g>\n    </g>\n    <g id=\"xtick_3\">\n     <g id=\"line2d_5\">\n      <path d=\"M 220.169403 387.72 \nL 220.169403 7.2 \n\" clip-path=\"url(#pcc7f741553)\" style=\"fill: none; stroke: #b0b0b0; stroke-width: 0.8; stroke-linecap: square\"/>\n     </g>\n     <g id=\"line2d_6\">\n      <g>\n       <use xlink:href=\"#m2c8403cbb1\" x=\"220.169403\" y=\"387.72\" style=\"stroke: #000000; stroke-width: 0.8\"/>\n      </g>\n     </g>\n     <g id=\"text_3\">\n      <!-- 0.010 -->\n      <g transform=\"translate(204.419403 404.44125)scale(0.14 -0.14)\">\n       <defs>\n        <path id=\"TimesNewRomanPSMT-31\" d=\"M 750 3822 \nL 1781 4325 \nL 1884 4325 \nL 1884 747 \nQ 1884 391 1914 303 \nQ 1944 216 2037 169 \nQ 2131 122 2419 116 \nL 2419 0 \nL 825 0 \nL 825 116 \nQ 1125 122 1212 167 \nQ 1300 213 1334 289 \nQ 1369 366 1369 747 \nL 1369 3034 \nQ 1369 3497 1338 3628 \nQ 1316 3728 1258 3775 \nQ 1200 3822 1119 3822 \nQ 1003 3822 797 3725 \nL 750 3822 \nz\n\" transform=\"scale(0.015625)\"/>\n       </defs>\n       <use xlink:href=\"#TimesNewRomanPSMT-30\"/>\n       <use xlink:href=\"#TimesNewRomanPSMT-2e\" x=\"50\"/>\n       <use xlink:href=\"#TimesNewRomanPSMT-30\" x=\"75\"/>\n       <use xlink:href=\"#TimesNewRomanPSMT-31\" x=\"125\"/>\n       <use xlink:href=\"#TimesNewRomanPSMT-30\" x=\"175\"/>\n      </g>\n     </g>\n    </g>\n    <g id=\"xtick_4\">\n     <g id=\"line2d_7\">\n      <path d=\"M 304.296136 387.72 \nL 304.296136 7.2 \n\" clip-path=\"url(#pcc7f741553)\" style=\"fill: none; stroke: #b0b0b0; stroke-width: 0.8; stroke-linecap: square\"/>\n     </g>\n     <g id=\"line2d_8\">\n      <g>\n       <use xlink:href=\"#m2c8403cbb1\" x=\"304.296136\" y=\"387.72\" style=\"stroke: #000000; stroke-width: 0.8\"/>\n      </g>\n     </g>\n     <g id=\"text_4\">\n      <!-- 0.015 -->\n      <g transform=\"translate(288.546136 404.44125)scale(0.14 -0.14)\">\n       <use xlink:href=\"#TimesNewRomanPSMT-30\"/>\n       <use xlink:href=\"#TimesNewRomanPSMT-2e\" x=\"50\"/>\n       <use xlink:href=\"#TimesNewRomanPSMT-30\" x=\"75\"/>\n       <use xlink:href=\"#TimesNewRomanPSMT-31\" x=\"125\"/>\n       <use xlink:href=\"#TimesNewRomanPSMT-35\" x=\"175\"/>\n      </g>\n     </g>\n    </g>\n    <g id=\"xtick_5\">\n     <g id=\"line2d_9\">\n      <path d=\"M 388.422869 387.72 \nL 388.422869 7.2 \n\" clip-path=\"url(#pcc7f741553)\" style=\"fill: none; stroke: #b0b0b0; stroke-width: 0.8; stroke-linecap: square\"/>\n     </g>\n     <g id=\"line2d_10\">\n      <g>\n       <use xlink:href=\"#m2c8403cbb1\" x=\"388.422869\" y=\"387.72\" style=\"stroke: #000000; stroke-width: 0.8\"/>\n      </g>\n     </g>\n     <g id=\"text_5\">\n      <!-- 0.020 -->\n      <g transform=\"translate(372.672869 404.44125)scale(0.14 -0.14)\">\n       <defs>\n        <path id=\"TimesNewRomanPSMT-32\" d=\"M 2934 816 \nL 2638 0 \nL 138 0 \nL 138 116 \nQ 1241 1122 1691 1759 \nQ 2141 2397 2141 2925 \nQ 2141 3328 1894 3587 \nQ 1647 3847 1303 3847 \nQ 991 3847 742 3664 \nQ 494 3481 375 3128 \nL 259 3128 \nQ 338 3706 661 4015 \nQ 984 4325 1469 4325 \nQ 1984 4325 2329 3994 \nQ 2675 3663 2675 3213 \nQ 2675 2891 2525 2569 \nQ 2294 2063 1775 1497 \nQ 997 647 803 472 \nL 1909 472 \nQ 2247 472 2383 497 \nQ 2519 522 2628 598 \nQ 2738 675 2819 816 \nL 2934 816 \nz\n\" transform=\"scale(0.015625)\"/>\n       </defs>\n       <use xlink:href=\"#TimesNewRomanPSMT-30\"/>\n       <use xlink:href=\"#TimesNewRomanPSMT-2e\" x=\"50\"/>\n       <use xlink:href=\"#TimesNewRomanPSMT-30\" x=\"75\"/>\n       <use xlink:href=\"#TimesNewRomanPSMT-32\" x=\"125\"/>\n       <use xlink:href=\"#TimesNewRomanPSMT-30\" x=\"175\"/>\n      </g>\n     </g>\n    </g>\n    <g id=\"xtick_6\">\n     <g id=\"line2d_11\">\n      <path d=\"M 472.549602 387.72 \nL 472.549602 7.2 \n\" clip-path=\"url(#pcc7f741553)\" style=\"fill: none; stroke: #b0b0b0; stroke-width: 0.8; stroke-linecap: square\"/>\n     </g>\n     <g id=\"line2d_12\">\n      <g>\n       <use xlink:href=\"#m2c8403cbb1\" x=\"472.549602\" y=\"387.72\" style=\"stroke: #000000; stroke-width: 0.8\"/>\n      </g>\n     </g>\n     <g id=\"text_6\">\n      <!-- 0.025 -->\n      <g transform=\"translate(456.799602 404.44125)scale(0.14 -0.14)\">\n       <use xlink:href=\"#TimesNewRomanPSMT-30\"/>\n       <use xlink:href=\"#TimesNewRomanPSMT-2e\" x=\"50\"/>\n       <use xlink:href=\"#TimesNewRomanPSMT-30\" x=\"75\"/>\n       <use xlink:href=\"#TimesNewRomanPSMT-32\" x=\"125\"/>\n       <use xlink:href=\"#TimesNewRomanPSMT-35\" x=\"175\"/>\n      </g>\n     </g>\n    </g>\n    <g id=\"xtick_7\">\n     <g id=\"line2d_13\">\n      <path d=\"M 556.676335 387.72 \nL 556.676335 7.2 \n\" clip-path=\"url(#pcc7f741553)\" style=\"fill: none; stroke: #b0b0b0; stroke-width: 0.8; stroke-linecap: square\"/>\n     </g>\n     <g id=\"line2d_14\">\n      <g>\n       <use xlink:href=\"#m2c8403cbb1\" x=\"556.676335\" y=\"387.72\" style=\"stroke: #000000; stroke-width: 0.8\"/>\n      </g>\n     </g>\n     <g id=\"text_7\">\n      <!-- 0.030 -->\n      <g transform=\"translate(540.926335 404.44125)scale(0.14 -0.14)\">\n       <defs>\n        <path id=\"TimesNewRomanPSMT-33\" d=\"M 325 3431 \nQ 506 3859 782 4092 \nQ 1059 4325 1472 4325 \nQ 1981 4325 2253 3994 \nQ 2459 3747 2459 3466 \nQ 2459 3003 1878 2509 \nQ 2269 2356 2469 2072 \nQ 2669 1788 2669 1403 \nQ 2669 853 2319 450 \nQ 1863 -75 997 -75 \nQ 569 -75 414 31 \nQ 259 138 259 259 \nQ 259 350 332 419 \nQ 406 488 509 488 \nQ 588 488 669 463 \nQ 722 447 909 348 \nQ 1097 250 1169 231 \nQ 1284 197 1416 197 \nQ 1734 197 1970 444 \nQ 2206 691 2206 1028 \nQ 2206 1275 2097 1509 \nQ 2016 1684 1919 1775 \nQ 1784 1900 1550 2001 \nQ 1316 2103 1072 2103 \nL 972 2103 \nL 972 2197 \nQ 1219 2228 1467 2375 \nQ 1716 2522 1828 2728 \nQ 1941 2934 1941 3181 \nQ 1941 3503 1739 3701 \nQ 1538 3900 1238 3900 \nQ 753 3900 428 3381 \nL 325 3431 \nz\n\" transform=\"scale(0.015625)\"/>\n       </defs>\n       <use xlink:href=\"#TimesNewRomanPSMT-30\"/>\n       <use xlink:href=\"#TimesNewRomanPSMT-2e\" x=\"50\"/>\n       <use xlink:href=\"#TimesNewRomanPSMT-30\" x=\"75\"/>\n       <use xlink:href=\"#TimesNewRomanPSMT-33\" x=\"125\"/>\n       <use xlink:href=\"#TimesNewRomanPSMT-30\" x=\"175\"/>\n      </g>\n     </g>\n    </g>\n    <g id=\"text_8\">\n     <!-- $\\mathit{t}$, с -->\n     <g transform=\"translate(322.305937 421.157187)scale(0.14 -0.14)\">\n      <defs>\n       <path id=\"STIXGeneral-Italic-74\" d=\"M 1894 2739 \nL 1862 2534 \nL 1325 2534 \nL 768 435 \nQ 755 384 755 346 \nQ 755 243 851 243 \nQ 928 243 1030 342 \nQ 1133 442 1370 749 \nL 1453 704 \nQ 1158 256 969 93 \nQ 781 -70 538 -70 \nQ 243 -70 243 166 \nQ 243 230 346 640 \nL 845 2534 \nL 365 2534 \nL 358 2573 \nQ 358 2688 570 2733 \nQ 730 2771 992 2979 \nQ 1254 3187 1421 3437 \nQ 1459 3494 1510 3494 \nQ 1568 3494 1568 3443 \nQ 1568 3411 1562 3398 \nL 1382 2739 \nL 1894 2739 \nz\n\" transform=\"scale(0.015625)\"/>\n       <path id=\"TimesNewRomanPSMT-2c\" d=\"M 344 -1066 \nL 344 -928 \nQ 666 -822 842 -598 \nQ 1019 -375 1019 -125 \nQ 1019 -66 991 -25 \nQ 969 3 947 3 \nQ 913 3 797 -59 \nQ 741 -88 678 -88 \nQ 525 -88 434 3 \nQ 344 94 344 253 \nQ 344 406 461 515 \nQ 578 625 747 625 \nQ 953 625 1114 445 \nQ 1275 266 1275 -31 \nQ 1275 -353 1051 -629 \nQ 828 -906 344 -1066 \nz\n\" transform=\"scale(0.015625)\"/>\n       <path id=\"TimesNewRomanPSMT-20\" transform=\"scale(0.015625)\"/>\n       <path id=\"TimesNewRomanPSMT-441\" d=\"M 2631 1088 \nQ 2516 522 2178 217 \nQ 1841 -88 1431 -88 \nQ 944 -88 581 321 \nQ 219 731 219 1428 \nQ 219 2103 620 2525 \nQ 1022 2947 1584 2947 \nQ 2006 2947 2278 2723 \nQ 2550 2500 2550 2259 \nQ 2550 2141 2473 2067 \nQ 2397 1994 2259 1994 \nQ 2075 1994 1981 2113 \nQ 1928 2178 1911 2362 \nQ 1894 2547 1784 2644 \nQ 1675 2738 1481 2738 \nQ 1169 2738 978 2506 \nQ 725 2200 725 1697 \nQ 725 1184 976 792 \nQ 1228 400 1656 400 \nQ 1963 400 2206 609 \nQ 2378 753 2541 1131 \nL 2631 1088 \nz\n\" transform=\"scale(0.015625)\"/>\n      </defs>\n      <use xlink:href=\"#STIXGeneral-Italic-74\" transform=\"translate(0 0.40625)\"/>\n      <use xlink:href=\"#TimesNewRomanPSMT-2c\" transform=\"translate(27.799988 0.40625)\"/>\n      <use xlink:href=\"#TimesNewRomanPSMT-20\" transform=\"translate(52.799988 0.40625)\"/>\n      <use xlink:href=\"#TimesNewRomanPSMT-441\" transform=\"translate(77.799988 0.40625)\"/>\n     </g>\n    </g>\n   </g>\n   <g id=\"matplotlib.axis_2\">\n    <g id=\"ytick_1\">\n     <g id=\"line2d_15\">\n      <path d=\"M 51.915937 370.666797 \nL 609.915938 370.666797 \n\" clip-path=\"url(#pcc7f741553)\" style=\"fill: none; stroke: #b0b0b0; stroke-width: 0.8; stroke-linecap: square\"/>\n     </g>\n     <g id=\"line2d_16\">\n      <defs>\n       <path id=\"m7b1be67892\" d=\"M 0 0 \nL -3.5 0 \n\" style=\"stroke: #000000; stroke-width: 0.8\"/>\n      </defs>\n      <g>\n       <use xlink:href=\"#m7b1be67892\" x=\"51.915937\" y=\"370.666797\" style=\"stroke: #000000; stroke-width: 0.8\"/>\n      </g>\n     </g>\n     <g id=\"text_9\">\n      <!-- 0 -->\n      <g transform=\"translate(37.915937 375.527422)scale(0.14 -0.14)\">\n       <use xlink:href=\"#TimesNewRomanPSMT-30\"/>\n      </g>\n     </g>\n    </g>\n    <g id=\"ytick_2\">\n     <g id=\"line2d_17\">\n      <path d=\"M 51.915937 322.670558 \nL 609.915938 322.670558 \n\" clip-path=\"url(#pcc7f741553)\" style=\"fill: none; stroke: #b0b0b0; stroke-width: 0.8; stroke-linecap: square\"/>\n     </g>\n     <g id=\"line2d_18\">\n      <g>\n       <use xlink:href=\"#m7b1be67892\" x=\"51.915937\" y=\"322.670558\" style=\"stroke: #000000; stroke-width: 0.8\"/>\n      </g>\n     </g>\n     <g id=\"text_10\">\n      <!-- 20 -->\n      <g transform=\"translate(30.915937 327.531183)scale(0.14 -0.14)\">\n       <use xlink:href=\"#TimesNewRomanPSMT-32\"/>\n       <use xlink:href=\"#TimesNewRomanPSMT-30\" x=\"50\"/>\n      </g>\n     </g>\n    </g>\n    <g id=\"ytick_3\">\n     <g id=\"line2d_19\">\n      <path d=\"M 51.915937 274.674319 \nL 609.915938 274.674319 \n\" clip-path=\"url(#pcc7f741553)\" style=\"fill: none; stroke: #b0b0b0; stroke-width: 0.8; stroke-linecap: square\"/>\n     </g>\n     <g id=\"line2d_20\">\n      <g>\n       <use xlink:href=\"#m7b1be67892\" x=\"51.915937\" y=\"274.674319\" style=\"stroke: #000000; stroke-width: 0.8\"/>\n      </g>\n     </g>\n     <g id=\"text_11\">\n      <!-- 40 -->\n      <g transform=\"translate(30.915937 279.534944)scale(0.14 -0.14)\">\n       <defs>\n        <path id=\"TimesNewRomanPSMT-34\" d=\"M 2978 1563 \nL 2978 1119 \nL 2409 1119 \nL 2409 0 \nL 1894 0 \nL 1894 1119 \nL 100 1119 \nL 100 1519 \nL 2066 4325 \nL 2409 4325 \nL 2409 1563 \nL 2978 1563 \nz\nM 1894 1563 \nL 1894 3666 \nL 406 1563 \nL 1894 1563 \nz\n\" transform=\"scale(0.015625)\"/>\n       </defs>\n       <use xlink:href=\"#TimesNewRomanPSMT-34\"/>\n       <use xlink:href=\"#TimesNewRomanPSMT-30\" x=\"50\"/>\n      </g>\n     </g>\n    </g>\n    <g id=\"ytick_4\">\n     <g id=\"line2d_21\">\n      <path d=\"M 51.915937 226.678079 \nL 609.915938 226.678079 \n\" clip-path=\"url(#pcc7f741553)\" style=\"fill: none; stroke: #b0b0b0; stroke-width: 0.8; stroke-linecap: square\"/>\n     </g>\n     <g id=\"line2d_22\">\n      <g>\n       <use xlink:href=\"#m7b1be67892\" x=\"51.915937\" y=\"226.678079\" style=\"stroke: #000000; stroke-width: 0.8\"/>\n      </g>\n     </g>\n     <g id=\"text_12\">\n      <!-- 60 -->\n      <g transform=\"translate(30.915937 231.538704)scale(0.14 -0.14)\">\n       <defs>\n        <path id=\"TimesNewRomanPSMT-36\" d=\"M 2869 4325 \nL 2869 4209 \nQ 2456 4169 2195 4045 \nQ 1934 3922 1679 3669 \nQ 1425 3416 1258 3105 \nQ 1091 2794 978 2366 \nQ 1428 2675 1881 2675 \nQ 2316 2675 2634 2325 \nQ 2953 1975 2953 1425 \nQ 2953 894 2631 456 \nQ 2244 -75 1606 -75 \nQ 1172 -75 869 213 \nQ 275 772 275 1663 \nQ 275 2231 503 2743 \nQ 731 3256 1154 3653 \nQ 1578 4050 1965 4187 \nQ 2353 4325 2688 4325 \nL 2869 4325 \nz\nM 925 2138 \nQ 869 1716 869 1456 \nQ 869 1156 980 804 \nQ 1091 453 1309 247 \nQ 1469 100 1697 100 \nQ 1969 100 2183 356 \nQ 2397 613 2397 1088 \nQ 2397 1622 2184 2012 \nQ 1972 2403 1581 2403 \nQ 1463 2403 1327 2353 \nQ 1191 2303 925 2138 \nz\n\" transform=\"scale(0.015625)\"/>\n       </defs>\n       <use xlink:href=\"#TimesNewRomanPSMT-36\"/>\n       <use xlink:href=\"#TimesNewRomanPSMT-30\" x=\"50\"/>\n      </g>\n     </g>\n    </g>\n    <g id=\"ytick_5\">\n     <g id=\"line2d_23\">\n      <path d=\"M 51.915937 178.68184 \nL 609.915938 178.68184 \n\" clip-path=\"url(#pcc7f741553)\" style=\"fill: none; stroke: #b0b0b0; stroke-width: 0.8; stroke-linecap: square\"/>\n     </g>\n     <g id=\"line2d_24\">\n      <g>\n       <use xlink:href=\"#m7b1be67892\" x=\"51.915937\" y=\"178.68184\" style=\"stroke: #000000; stroke-width: 0.8\"/>\n      </g>\n     </g>\n     <g id=\"text_13\">\n      <!-- 80 -->\n      <g transform=\"translate(30.915937 183.542465)scale(0.14 -0.14)\">\n       <defs>\n        <path id=\"TimesNewRomanPSMT-38\" d=\"M 1228 2134 \nQ 725 2547 579 2797 \nQ 434 3047 434 3316 \nQ 434 3728 753 4026 \nQ 1072 4325 1600 4325 \nQ 2113 4325 2425 4047 \nQ 2738 3769 2738 3413 \nQ 2738 3175 2569 2928 \nQ 2400 2681 1866 2347 \nQ 2416 1922 2594 1678 \nQ 2831 1359 2831 1006 \nQ 2831 559 2490 242 \nQ 2150 -75 1597 -75 \nQ 994 -75 656 303 \nQ 388 606 388 966 \nQ 388 1247 577 1523 \nQ 766 1800 1228 2134 \nz\nM 1719 2469 \nQ 2094 2806 2194 3001 \nQ 2294 3197 2294 3444 \nQ 2294 3772 2109 3958 \nQ 1925 4144 1606 4144 \nQ 1288 4144 1088 3959 \nQ 888 3775 888 3528 \nQ 888 3366 970 3203 \nQ 1053 3041 1206 2894 \nL 1719 2469 \nz\nM 1375 2016 \nQ 1116 1797 991 1539 \nQ 866 1281 866 981 \nQ 866 578 1086 336 \nQ 1306 94 1647 94 \nQ 1984 94 2187 284 \nQ 2391 475 2391 747 \nQ 2391 972 2272 1150 \nQ 2050 1481 1375 2016 \nz\n\" transform=\"scale(0.015625)\"/>\n       </defs>\n       <use xlink:href=\"#TimesNewRomanPSMT-38\"/>\n       <use xlink:href=\"#TimesNewRomanPSMT-30\" x=\"50\"/>\n      </g>\n     </g>\n    </g>\n    <g id=\"ytick_6\">\n     <g id=\"line2d_25\">\n      <path d=\"M 51.915937 130.685601 \nL 609.915938 130.685601 \n\" clip-path=\"url(#pcc7f741553)\" style=\"fill: none; stroke: #b0b0b0; stroke-width: 0.8; stroke-linecap: square\"/>\n     </g>\n     <g id=\"line2d_26\">\n      <g>\n       <use xlink:href=\"#m7b1be67892\" x=\"51.915937\" y=\"130.685601\" style=\"stroke: #000000; stroke-width: 0.8\"/>\n      </g>\n     </g>\n     <g id=\"text_14\">\n      <!-- 100 -->\n      <g transform=\"translate(23.915937 135.546226)scale(0.14 -0.14)\">\n       <use xlink:href=\"#TimesNewRomanPSMT-31\"/>\n       <use xlink:href=\"#TimesNewRomanPSMT-30\" x=\"50\"/>\n       <use xlink:href=\"#TimesNewRomanPSMT-30\" x=\"100\"/>\n      </g>\n     </g>\n    </g>\n    <g id=\"ytick_7\">\n     <g id=\"line2d_27\">\n      <path d=\"M 51.915937 82.689361 \nL 609.915938 82.689361 \n\" clip-path=\"url(#pcc7f741553)\" style=\"fill: none; stroke: #b0b0b0; stroke-width: 0.8; stroke-linecap: square\"/>\n     </g>\n     <g id=\"line2d_28\">\n      <g>\n       <use xlink:href=\"#m7b1be67892\" x=\"51.915937\" y=\"82.689361\" style=\"stroke: #000000; stroke-width: 0.8\"/>\n      </g>\n     </g>\n     <g id=\"text_15\">\n      <!-- 120 -->\n      <g transform=\"translate(23.915937 87.549986)scale(0.14 -0.14)\">\n       <use xlink:href=\"#TimesNewRomanPSMT-31\"/>\n       <use xlink:href=\"#TimesNewRomanPSMT-32\" x=\"50\"/>\n       <use xlink:href=\"#TimesNewRomanPSMT-30\" x=\"100\"/>\n      </g>\n     </g>\n    </g>\n    <g id=\"ytick_8\">\n     <g id=\"line2d_29\">\n      <path d=\"M 51.915937 34.693122 \nL 609.915938 34.693122 \n\" clip-path=\"url(#pcc7f741553)\" style=\"fill: none; stroke: #b0b0b0; stroke-width: 0.8; stroke-linecap: square\"/>\n     </g>\n     <g id=\"line2d_30\">\n      <g>\n       <use xlink:href=\"#m7b1be67892\" x=\"51.915937\" y=\"34.693122\" style=\"stroke: #000000; stroke-width: 0.8\"/>\n      </g>\n     </g>\n     <g id=\"text_16\">\n      <!-- 140 -->\n      <g transform=\"translate(23.915937 39.553747)scale(0.14 -0.14)\">\n       <use xlink:href=\"#TimesNewRomanPSMT-31\"/>\n       <use xlink:href=\"#TimesNewRomanPSMT-34\" x=\"50\"/>\n       <use xlink:href=\"#TimesNewRomanPSMT-30\" x=\"100\"/>\n      </g>\n     </g>\n    </g>\n    <g id=\"text_17\">\n     <!-- $\\mathit{p}$, МПа -->\n     <g transform=\"translate(16.92125 218.88)rotate(-90)scale(0.14 -0.14)\">\n      <defs>\n       <path id=\"STIXGeneral-Italic-70\" d=\"M 1376 2739 \nL 1190 2099 \nQ 1670 2822 2285 2822 \nQ 2637 2822 2829 2611 \nQ 3021 2400 3021 2022 \nQ 3021 1235 2422 582 \nQ 1824 -70 1120 -70 \nQ 890 -70 678 38 \nQ 422 -1018 422 -1024 \nQ 422 -1126 508 -1168 \nQ 595 -1210 819 -1210 \nL 819 -1312 \nL -480 -1312 \nL -480 -1210 \nQ -275 -1203 -188 -1120 \nQ -102 -1037 -45 -806 \nL 691 1958 \nQ 794 2330 794 2413 \nQ 794 2586 512 2586 \nL 371 2586 \nL 358 2682 \nL 1357 2822 \nQ 1389 2822 1389 2797 \nQ 1382 2765 1376 2739 \nz\nM 2445 2003 \nQ 2445 2285 2352 2416 \nQ 2259 2547 2048 2547 \nQ 1798 2547 1548 2329 \nQ 1299 2112 1184 1818 \nQ 1043 1453 905 953 \nQ 768 454 768 294 \nQ 768 186 854 118 \nQ 941 51 1075 51 \nQ 1574 51 2003 659 \nQ 2445 1274 2445 2003 \nz\n\" transform=\"scale(0.015625)\"/>\n       <path id=\"TimesNewRomanPSMT-41c\" d=\"M 2619 0 \nL 981 3566 \nL 981 734 \nQ 981 344 1066 247 \nQ 1181 116 1431 116 \nL 1581 116 \nL 1581 0 \nL 106 0 \nL 106 116 \nL 256 116 \nQ 525 116 638 278 \nQ 706 378 706 734 \nL 706 3503 \nQ 706 3784 644 3909 \nQ 600 4000 483 4061 \nQ 366 4122 106 4122 \nL 106 4238 \nL 1306 4238 \nL 2844 922 \nL 4356 4238 \nL 5556 4238 \nL 5556 4122 \nL 5409 4122 \nQ 5138 4122 5025 3959 \nQ 4956 3859 4956 3503 \nL 4956 734 \nQ 4956 344 5044 247 \nQ 5159 116 5409 116 \nL 5556 116 \nL 5556 0 \nL 3756 0 \nL 3756 116 \nL 3906 116 \nQ 4178 116 4288 278 \nQ 4356 378 4356 734 \nL 4356 3566 \nL 2722 0 \nL 2619 0 \nz\n\" transform=\"scale(0.015625)\"/>\n       <path id=\"TimesNewRomanPSMT-41f\" d=\"M 3294 4006 \nL 1328 4006 \nL 1328 772 \nQ 1328 353 1436 240 \nQ 1544 128 1941 116 \nL 1941 0 \nL 116 0 \nL 116 116 \nQ 509 128 618 240 \nQ 728 353 728 772 \nL 728 3466 \nQ 728 3884 618 3996 \nQ 509 4109 116 4122 \nL 116 4238 \nL 4506 4238 \nL 4506 4122 \nQ 4113 4109 4003 3996 \nQ 3894 3884 3894 3466 \nL 3894 772 \nQ 3894 353 4003 240 \nQ 4113 128 4506 116 \nL 4506 0 \nL 2684 0 \nL 2684 116 \nQ 3075 128 3184 239 \nQ 3294 350 3294 772 \nL 3294 4006 \nz\n\" transform=\"scale(0.015625)\"/>\n       <path id=\"TimesNewRomanPSMT-430\" d=\"M 1822 413 \nQ 1381 72 1269 19 \nQ 1100 -59 909 -59 \nQ 613 -59 420 144 \nQ 228 347 228 678 \nQ 228 888 322 1041 \nQ 450 1253 767 1440 \nQ 1084 1628 1822 1897 \nL 1822 2009 \nQ 1822 2438 1686 2597 \nQ 1550 2756 1291 2756 \nQ 1094 2756 978 2650 \nQ 859 2544 859 2406 \nL 866 2225 \nQ 866 2081 792 2003 \nQ 719 1925 600 1925 \nQ 484 1925 411 2006 \nQ 338 2088 338 2228 \nQ 338 2497 613 2722 \nQ 888 2947 1384 2947 \nQ 1766 2947 2009 2819 \nQ 2194 2722 2281 2516 \nQ 2338 2381 2338 1966 \nL 2338 994 \nQ 2338 584 2353 492 \nQ 2369 400 2405 369 \nQ 2441 338 2488 338 \nQ 2538 338 2575 359 \nQ 2641 400 2828 588 \nL 2828 413 \nQ 2478 -56 2159 -56 \nQ 2006 -56 1915 50 \nQ 1825 156 1822 413 \nz\nM 1822 616 \nL 1822 1706 \nQ 1350 1519 1213 1441 \nQ 966 1303 859 1153 \nQ 753 1003 753 825 \nQ 753 600 887 451 \nQ 1022 303 1197 303 \nQ 1434 303 1822 616 \nz\n\" transform=\"scale(0.015625)\"/>\n      </defs>\n      <use xlink:href=\"#STIXGeneral-Italic-70\" transform=\"translate(0 0.78125)\"/>\n      <use xlink:href=\"#TimesNewRomanPSMT-2c\" transform=\"translate(50.399994 0.78125)\"/>\n      <use xlink:href=\"#TimesNewRomanPSMT-20\" transform=\"translate(75.399994 0.78125)\"/>\n      <use xlink:href=\"#TimesNewRomanPSMT-41c\" transform=\"translate(100.399994 0.78125)\"/>\n      <use xlink:href=\"#TimesNewRomanPSMT-41f\" transform=\"translate(189.31601 0.78125)\"/>\n      <use xlink:href=\"#TimesNewRomanPSMT-430\" transform=\"translate(261.532806 0.78125)\"/>\n     </g>\n    </g>\n   </g>\n   <g id=\"line2d_31\">\n    <path d=\"M 51.915937 370.423636 \nL 53.514345 363.782111 \nL 54.355613 358.22369 \nL 55.281007 350.461526 \nL 56.374654 339.223489 \nL 57.720682 322.795982 \nL 59.487343 298.197731 \nL 65.292088 215.138954 \nL 67.142876 192.989976 \nL 68.825411 175.53814 \nL 70.423819 161.385786 \nL 71.9381 149.922599 \nL 73.368254 140.683384 \nL 74.798409 132.826426 \nL 76.228563 126.192571 \nL 77.658718 120.629025 \nL 79.004745 116.243893 \nL 80.350773 112.575189 \nL 81.696801 109.528057 \nL 83.042829 107.018741 \nL 84.388856 104.974005 \nL 85.734884 103.330185 \nL 87.080912 102.032048 \nL 88.42694 101.032202 \nL 89.857094 100.250716 \nL 91.287248 99.717814 \nL 92.80153 99.384293 \nL 94.484064 99.24986 \nL 96.250726 99.33257 \nL 98.269767 99.658361 \nL 100.541189 100.263555 \nL 103.149118 101.203498 \nL 106.17768 102.545406 \nL 109.79513 104.405322 \nL 114.253847 106.961548 \nL 120.142718 110.612888 \nL 128.976025 116.380942 \nL 160.271169 136.995395 \nL 172.890179 144.950185 \nL 185.088556 152.378294 \nL 197.202805 159.495221 \nL 209.317055 166.355681 \nL 221.599558 173.055413 \nL 233.966187 179.548307 \nL 246.501071 185.879428 \nL 259.288334 192.286017 \nL 261.139122 208.38283 \nL 263.074037 223.27219 \nL 265.008952 236.453974 \nL 266.943867 248.161934 \nL 268.962908 259.020088 \nL 270.98195 268.676001 \nL 273.000991 277.288642 \nL 275.10416 285.295706 \nL 277.207328 292.445784 \nL 279.394623 299.090347 \nL 281.581918 305.031052 \nL 283.85334 310.550544 \nL 286.124762 315.491764 \nL 288.48031 320.082407 \nL 290.835859 324.197624 \nL 293.275534 328.021234 \nL 295.799336 331.565568 \nL 298.407265 334.844096 \nL 301.09932 337.871016 \nL 303.875502 340.660718 \nL 306.819938 343.298991 \nL 309.8485 345.713588 \nL 313.045316 347.977317 \nL 316.410386 350.086964 \nL 319.943708 352.042457 \nL 323.729411 353.884674 \nL 327.767495 355.603753 \nL 332.142085 357.22344 \nL 336.853182 358.730419 \nL 341.984912 360.138477 \nL 347.621403 361.453351 \nL 353.846782 362.675472 \nL 360.829301 363.814765 \nL 368.653087 364.860798 \nL 377.486394 365.813747 \nL 387.665728 366.68306 \nL 399.527598 367.4661 \nL 413.576762 368.162686 \nL 430.486235 368.770607 \nL 451.433792 369.292573 \nL 478.354346 369.729832 \nL 483.317824 369.790829 \nL 483.317824 369.790829 \n\" clip-path=\"url(#pcc7f741553)\" style=\"fill: none; stroke: #2ca02c; stroke-width: 1.5; stroke-linecap: square\"/>\n   </g>\n   <g id=\"line2d_32\">\n    <path d=\"M 51.915937 82.689361 \nL 609.915938 82.689361 \n\" clip-path=\"url(#pcc7f741553)\" style=\"fill: none; stroke-dasharray: 5.55,2.4; stroke-dashoffset: 0; stroke: #ffa500; stroke-width: 1.5\"/>\n   </g>\n   <g id=\"line2d_33\">\n    <path d=\"M 51.915937 245.850861 \nL 609.915938 245.850861 \n\" clip-path=\"url(#pcc7f741553)\" style=\"fill: none; stroke-dasharray: 5.55,2.4; stroke-dashoffset: 0; stroke: #ffa500; stroke-width: 1.5\"/>\n   </g>\n   <g id=\"line2d_34\">\n    <path d=\"M 51.915937 155.570677 \nL 609.915938 155.570677 \n\" clip-path=\"url(#pcc7f741553)\" style=\"fill: none; stroke-dasharray: 5.55,2.4; stroke-dashoffset: 0; stroke: #ffa500; stroke-width: 1.5\"/>\n   </g>\n   <g id=\"line2d_35\">\n    <path d=\"M 51.915937 370.423636 \nL 53.261965 364.706431 \nL 54.019106 359.504635 \nL 54.860373 351.94463 \nL 55.785767 341.505241 \nL 56.879415 326.521622 \nL 58.225442 304.800808 \nL 60.076231 270.986925 \nL 65.039708 178.580034 \nL 66.890496 149.110368 \nL 68.573031 125.798414 \nL 70.087312 107.752595 \nL 71.601593 92.25618 \nL 73.031747 79.763236 \nL 74.461902 69.141879 \nL 75.892056 60.17983 \nL 77.238084 53.076621 \nL 78.584112 47.102087 \nL 79.93014 42.111497 \nL 81.276167 37.97561 \nL 82.538068 34.772926 \nL 83.799969 32.138468 \nL 85.06187 29.999936 \nL 86.323771 28.293736 \nL 87.585672 26.964885 \nL 88.847573 25.965113 \nL 90.109474 25.25281 \nL 91.371375 24.791629 \nL 92.717403 24.540992 \nL 94.147557 24.511662 \nL 95.661839 24.709525 \nL 97.344373 25.164886 \nL 99.195161 25.906513 \nL 101.29833 27.002156 \nL 103.653878 28.487613 \nL 106.43006 30.513465 \nL 109.711003 33.19777 \nL 113.664959 36.731777 \nL 118.712563 41.555611 \nL 125.863336 48.724842 \nL 161.28069 84.647505 \nL 171.460025 94.452982 \nL 181.302853 103.62919 \nL 191.061554 112.423967 \nL 200.736128 120.845366 \nL 210.410702 128.974569 \nL 211.25197 129.667828 \nL 213.859898 159.619844 \nL 215.794813 178.834137 \nL 217.729728 195.861655 \nL 219.664643 210.999548 \nL 221.683684 225.051405 \nL 223.702726 237.558388 \nL 225.721768 248.723351 \nL 227.824936 259.111648 \nL 229.928104 268.395348 \nL 232.031273 276.71474 \nL 234.218568 284.472413 \nL 236.405863 291.43133 \nL 238.677284 297.917616 \nL 240.948706 303.742425 \nL 243.304255 309.170282 \nL 245.659803 314.050277 \nL 248.099479 318.597247 \nL 250.62328 322.823919 \nL 253.147082 326.624467 \nL 255.755011 330.158298 \nL 258.447067 333.437559 \nL 261.223249 336.475035 \nL 264.167684 339.362002 \nL 267.196247 342.017308 \nL 270.393063 344.51889 \nL 273.674005 346.806356 \nL 277.207328 348.994796 \nL 280.908904 351.02312 \nL 284.862861 352.932896 \nL 289.069197 354.715371 \nL 293.612041 356.395082 \nL 298.491391 357.959506 \nL 303.791376 359.423116 \nL 309.59612 360.792296 \nL 315.989752 362.067936 \nL 323.056397 363.247835 \nL 330.96431 364.338968 \nL 339.881744 365.340722 \nL 350.061079 366.255416 \nL 361.838821 367.084072 \nL 375.635606 367.824783 \nL 392.124445 368.479152 \nL 412.230734 369.045762 \nL 437.468754 369.525224 \nL 457.827424 369.791125 \nL 457.827424 369.791125 \n\" clip-path=\"url(#pcc7f741553)\" style=\"fill: none; stroke: #d62728; stroke-width: 1.5; stroke-linecap: square\"/>\n   </g>\n   <g id=\"line2d_36\">\n    <path d=\"M 51.915937 370.423636 \nL 52.420698 368.948346 \nL 53.177838 366.212126 \nL 54.019106 362.271982 \nL 55.028627 356.40239 \nL 56.206401 348.184228 \nL 57.720682 335.940113 \nL 60.160357 314.049578 \nL 63.525427 284.137186 \nL 65.544468 268.228478 \nL 67.31113 256.062703 \nL 68.909538 246.540526 \nL 70.507945 238.451733 \nL 72.022227 231.907181 \nL 73.536508 226.348233 \nL 74.966662 221.903925 \nL 76.396817 218.148139 \nL 77.826971 214.993111 \nL 79.257126 212.358182 \nL 80.68728 210.170962 \nL 82.117435 208.36737 \nL 83.631716 206.81384 \nL 85.145997 205.570641 \nL 86.744405 204.541377 \nL 88.42694 203.720102 \nL 90.277728 203.072301 \nL 92.296769 202.613522 \nL 94.484064 202.348804 \nL 97.007866 202.276927 \nL 99.868175 202.424085 \nL 103.317371 202.835174 \nL 107.523708 203.573189 \nL 112.907819 204.755634 \nL 120.479225 206.66538 \nL 133.518868 210.220227 \nL 168.599716 219.837142 \nL 189.547272 225.312789 \nL 210.410702 230.535341 \nL 231.610639 235.611987 \nL 253.315336 240.578974 \nL 275.440667 245.413323 \nL 298.154885 250.147911 \nL 321.45799 254.776829 \nL 345.349982 259.295221 \nL 369.914988 263.713631 \nL 395.153008 268.026315 \nL 397.67681 268.445446 \nL 397.845063 269.080766 \nL 399.779978 278.590997 \nL 401.714893 286.988482 \nL 403.649808 294.428609 \nL 405.668849 301.312203 \nL 407.687891 307.419434 \nL 409.791059 313.068087 \nL 411.894227 318.087093 \nL 414.081522 322.728841 \nL 416.268817 326.859579 \nL 418.540239 330.680184 \nL 420.895788 334.204501 \nL 423.335463 337.447689 \nL 425.859265 340.425723 \nL 428.467194 343.154985 \nL 431.159249 345.651938 \nL 434.019558 347.997753 \nL 436.963994 350.128297 \nL 440.076683 352.111806 \nL 443.441752 353.990846 \nL 447.059202 355.750039 \nL 450.929031 357.379992 \nL 455.135368 358.904675 \nL 459.678212 360.311598 \nL 464.641689 361.61484 \nL 470.194053 362.837478 \nL 476.335305 363.957771 \nL 483.233697 364.986738 \nL 491.057483 365.925777 \nL 500.059043 366.778477 \nL 510.574885 367.546191 \nL 523.109768 368.230738 \nL 538.25258 368.827132 \nL 557.096968 369.338137 \nL 581.409594 369.764472 \nL 583.344509 369.790615 \nL 583.344509 369.790615 \n\" clip-path=\"url(#pcc7f741553)\" style=\"fill: none; stroke: #1f77b4; stroke-width: 1.5; stroke-linecap: square\"/>\n   </g>\n   <g id=\"line2d_37\">\n    <path d=\"M 397.681439 387.72 \nL 397.681439 7.2 \n\" clip-path=\"url(#pcc7f741553)\" style=\"fill: none; stroke-dasharray: 5.55,2.4; stroke-dashoffset: 0; stroke: #808080; stroke-width: 1.5\"/>\n   </g>\n   <g id=\"patch_3\">\n    <path d=\"M 51.915937 387.72 \nL 51.915937 7.2 \n\" style=\"fill: none; stroke: #000000; stroke-width: 0.8; stroke-linejoin: miter; stroke-linecap: square\"/>\n   </g>\n   <g id=\"patch_4\">\n    <path d=\"M 609.915938 387.72 \nL 609.915938 7.2 \n\" style=\"fill: none; stroke: #000000; stroke-width: 0.8; stroke-linejoin: miter; stroke-linecap: square\"/>\n   </g>\n   <g id=\"patch_5\">\n    <path d=\"M 51.915937 387.72 \nL 609.915937 387.72 \n\" style=\"fill: none; stroke: #000000; stroke-width: 0.8; stroke-linejoin: miter; stroke-linecap: square\"/>\n   </g>\n   <g id=\"patch_6\">\n    <path d=\"M 51.915937 7.2 \nL 609.915937 7.2 \n\" style=\"fill: none; stroke: #000000; stroke-width: 0.8; stroke-linejoin: miter; stroke-linecap: square\"/>\n   </g>\n   <g id=\"legend_1\">\n    <g id=\"patch_7\">\n     <path d=\"M 499.595937 98.364062 \nL 600.115937 98.364062 \nQ 602.915937 98.364062 602.915937 95.564062 \nL 602.915937 17 \nQ 602.915937 14.2 600.115937 14.2 \nL 499.595937 14.2 \nQ 496.795937 14.2 496.795937 17 \nL 496.795937 95.564062 \nQ 496.795937 98.364062 499.595937 98.364062 \nz\n\" style=\"fill: #ffffff; opacity: 0.8; stroke: #cccccc; stroke-linejoin: miter\"/>\n    </g>\n    <g id=\"line2d_38\">\n     <path d=\"M 502.395938 24.7 \nL 516.395937 24.7 \nL 530.395937 24.7 \n\" style=\"fill: none; stroke: #2ca02c; stroke-width: 1.5; stroke-linecap: square\"/>\n    </g>\n    <g id=\"text_18\">\n     <!-- $\\mathit{t}$ = +18°C -->\n     <g transform=\"translate(541.595937 29.6)scale(0.14 -0.14)\">\n      <defs>\n       <path id=\"TimesNewRomanPSMT-3d\" d=\"M 116 2759 \nL 3488 2759 \nL 3488 2503 \nL 116 2503 \nL 116 2759 \nz\nM 116 1741 \nL 3488 1741 \nL 3488 1484 \nL 116 1484 \nL 116 1741 \nz\n\" transform=\"scale(0.015625)\"/>\n       <path id=\"TimesNewRomanPSMT-2b\" d=\"M 1672 441 \nL 1672 2000 \nL 116 2000 \nL 116 2256 \nL 1672 2256 \nL 1672 3809 \nL 1922 3809 \nL 1922 2256 \nL 3484 2256 \nL 3484 2000 \nL 1922 2000 \nL 1922 441 \nL 1672 441 \nz\n\" transform=\"scale(0.015625)\"/>\n       <path id=\"TimesNewRomanPSMT-b0\" d=\"M 1266 4331 \nQ 1669 4331 1948 4050 \nQ 2228 3769 2228 3369 \nQ 2228 2972 1947 2690 \nQ 1666 2409 1266 2409 \nQ 869 2409 587 2690 \nQ 306 2972 306 3369 \nQ 306 3769 586 4050 \nQ 866 4331 1266 4331 \nz\nM 1266 4069 \nQ 975 4069 772 3866 \nQ 569 3663 569 3372 \nQ 569 3084 772 2879 \nQ 975 2675 1266 2675 \nQ 1553 2675 1758 2879 \nQ 1963 3084 1963 3372 \nQ 1963 3663 1759 3866 \nQ 1556 4069 1266 4069 \nz\n\" transform=\"scale(0.015625)\"/>\n       <path id=\"TimesNewRomanPSMT-43\" d=\"M 3853 4334 \nL 3950 2894 \nL 3853 2894 \nQ 3659 3541 3300 3825 \nQ 2941 4109 2438 4109 \nQ 2016 4109 1675 3895 \nQ 1334 3681 1139 3212 \nQ 944 2744 944 2047 \nQ 944 1472 1128 1050 \nQ 1313 628 1683 403 \nQ 2053 178 2528 178 \nQ 2941 178 3256 354 \nQ 3572 531 3950 1056 \nL 4047 994 \nQ 3728 428 3303 165 \nQ 2878 -97 2294 -97 \nQ 1241 -97 663 684 \nQ 231 1266 231 2053 \nQ 231 2688 515 3219 \nQ 800 3750 1298 4042 \nQ 1797 4334 2388 4334 \nQ 2847 4334 3294 4109 \nQ 3425 4041 3481 4041 \nQ 3566 4041 3628 4100 \nQ 3709 4184 3744 4334 \nL 3853 4334 \nz\n\" transform=\"scale(0.015625)\"/>\n      </defs>\n      <use xlink:href=\"#STIXGeneral-Italic-74\" transform=\"translate(0 0.28125)\"/>\n      <use xlink:href=\"#TimesNewRomanPSMT-20\" transform=\"translate(27.799988 0.28125)\"/>\n      <use xlink:href=\"#TimesNewRomanPSMT-3d\" transform=\"translate(52.799988 0.28125)\"/>\n      <use xlink:href=\"#TimesNewRomanPSMT-20\" transform=\"translate(109.196472 0.28125)\"/>\n      <use xlink:href=\"#TimesNewRomanPSMT-2b\" transform=\"translate(134.196472 0.28125)\"/>\n      <use xlink:href=\"#TimesNewRomanPSMT-31\" transform=\"translate(190.592957 0.28125)\"/>\n      <use xlink:href=\"#TimesNewRomanPSMT-38\" transform=\"translate(240.592957 0.28125)\"/>\n      <use xlink:href=\"#TimesNewRomanPSMT-b0\" transform=\"translate(290.592957 0.28125)\"/>\n      <use xlink:href=\"#TimesNewRomanPSMT-43\" transform=\"translate(330.583191 0.28125)\"/>\n     </g>\n    </g>\n    <g id=\"line2d_39\">\n     <path d=\"M 502.395938 44.494687 \nL 516.395937 44.494687 \nL 530.395937 44.494687 \n\" style=\"fill: none; stroke: #d62728; stroke-width: 1.5; stroke-linecap: square\"/>\n    </g>\n    <g id=\"text_19\">\n     <!-- $\\mathit{t}$ = +50°C -->\n     <g transform=\"translate(541.595937 49.394687)scale(0.14 -0.14)\">\n      <use xlink:href=\"#STIXGeneral-Italic-74\" transform=\"translate(0 0.28125)\"/>\n      <use xlink:href=\"#TimesNewRomanPSMT-20\" transform=\"translate(27.799988 0.28125)\"/>\n      <use xlink:href=\"#TimesNewRomanPSMT-3d\" transform=\"translate(52.799988 0.28125)\"/>\n      <use xlink:href=\"#TimesNewRomanPSMT-20\" transform=\"translate(109.196472 0.28125)\"/>\n      <use xlink:href=\"#TimesNewRomanPSMT-2b\" transform=\"translate(134.196472 0.28125)\"/>\n      <use xlink:href=\"#TimesNewRomanPSMT-35\" transform=\"translate(190.592957 0.28125)\"/>\n      <use xlink:href=\"#TimesNewRomanPSMT-30\" transform=\"translate(240.592957 0.28125)\"/>\n      <use xlink:href=\"#TimesNewRomanPSMT-b0\" transform=\"translate(290.592957 0.28125)\"/>\n      <use xlink:href=\"#TimesNewRomanPSMT-43\" transform=\"translate(330.583191 0.28125)\"/>\n     </g>\n    </g>\n    <g id=\"line2d_40\">\n     <path d=\"M 502.395938 64.289375 \nL 516.395937 64.289375 \nL 530.395937 64.289375 \n\" style=\"fill: none; stroke: #1f77b4; stroke-width: 1.5; stroke-linecap: square\"/>\n    </g>\n    <g id=\"text_20\">\n     <!-- $\\mathit{t}$ = $-$50°C -->\n     <g transform=\"translate(541.595937 69.189375)scale(0.14 -0.14)\">\n      <defs>\n       <path id=\"TimesNewRomanPSMT-2212\" d=\"M 3484 2000 \nL 116 2000 \nL 116 2256 \nL 3484 2256 \nL 3484 2000 \nz\n\" transform=\"scale(0.015625)\"/>\n      </defs>\n      <use xlink:href=\"#STIXGeneral-Italic-74\" transform=\"translate(0 0.28125)\"/>\n      <use xlink:href=\"#TimesNewRomanPSMT-20\" transform=\"translate(27.799988 0.28125)\"/>\n      <use xlink:href=\"#TimesNewRomanPSMT-3d\" transform=\"translate(52.799988 0.28125)\"/>\n      <use xlink:href=\"#TimesNewRomanPSMT-20\" transform=\"translate(109.196472 0.28125)\"/>\n      <use xlink:href=\"#TimesNewRomanPSMT-2212\" transform=\"translate(134.196472 0.28125)\"/>\n      <use xlink:href=\"#TimesNewRomanPSMT-35\" transform=\"translate(190.592957 0.28125)\"/>\n      <use xlink:href=\"#TimesNewRomanPSMT-30\" transform=\"translate(240.592957 0.28125)\"/>\n      <use xlink:href=\"#TimesNewRomanPSMT-b0\" transform=\"translate(290.592957 0.28125)\"/>\n      <use xlink:href=\"#TimesNewRomanPSMT-43\" transform=\"translate(330.583191 0.28125)\"/>\n     </g>\n    </g>\n    <g id=\"line2d_41\">\n     <path d=\"M 502.395938 84.084062 \nL 516.395937 84.084062 \nL 530.395937 84.084062 \n\" style=\"fill: none; stroke-dasharray: 5.55,2.4; stroke-dashoffset: 0; stroke: #808080; stroke-width: 1.5\"/>\n    </g>\n    <g id=\"text_21\">\n     <!-- $\\mathit{t}_{всп}$ + $\\mathit{t}_г$ -->\n     <g transform=\"translate(541.595937 88.984062)scale(0.14 -0.14)\">\n      <defs>\n       <path id=\"TimesNewRomanPSMT-432\" d=\"M 2016 1513 \nQ 2800 1350 2800 778 \nQ 2800 388 2473 194 \nQ 2147 0 1563 0 \nL 150 0 \nL 150 116 \nQ 428 116 501 220 \nQ 575 325 575 672 \nL 575 2191 \nQ 575 2528 542 2587 \nQ 509 2647 439 2695 \nQ 369 2744 150 2744 \nL 150 2863 \nL 1469 2863 \nQ 1850 2863 2086 2803 \nQ 2322 2744 2473 2569 \nQ 2625 2394 2625 2144 \nQ 2625 1656 2016 1513 \nz\nM 1094 1584 \nQ 1231 1581 1259 1581 \nQ 1688 1581 1878 1745 \nQ 2069 1909 2069 2144 \nQ 2069 2416 1875 2537 \nQ 1681 2659 1256 2659 \nL 1094 2659 \nL 1094 1584 \nz\nM 1094 253 \nQ 1250 203 1466 203 \nQ 1838 203 2019 365 \nQ 2200 528 2200 784 \nQ 2200 1072 1965 1225 \nQ 1731 1378 1316 1378 \nQ 1213 1378 1094 1372 \nL 1094 253 \nz\n\" transform=\"scale(0.015625)\"/>\n       <path id=\"TimesNewRomanPSMT-43f\" d=\"M 2331 2659 \nL 1094 2659 \nL 1094 672 \nQ 1094 341 1128 277 \nQ 1163 213 1236 164 \nQ 1309 116 1528 116 \nL 1528 0 \nL 144 0 \nL 144 116 \nQ 422 116 500 217 \nQ 578 319 578 672 \nL 578 2191 \nQ 578 2525 543 2586 \nQ 509 2647 437 2695 \nQ 366 2744 144 2744 \nL 144 2863 \nL 3281 2863 \nL 3281 2744 \nQ 3072 2744 3000 2701 \nQ 2928 2659 2887 2596 \nQ 2847 2534 2847 2191 \nL 2847 672 \nQ 2847 341 2881 277 \nQ 2916 213 2989 164 \nQ 3063 116 3281 116 \nL 3281 0 \nL 1897 0 \nL 1897 116 \nQ 2156 116 2243 211 \nQ 2331 306 2331 672 \nL 2331 2659 \nz\n\" transform=\"scale(0.015625)\"/>\n       <path id=\"TimesNewRomanPSMT-433\" d=\"M 2469 2863 \nL 2584 2081 \nL 2447 2081 \nQ 2328 2469 2208 2564 \nQ 2088 2659 1700 2659 \nL 1094 2659 \nL 1094 672 \nQ 1094 341 1128 277 \nQ 1163 213 1236 164 \nQ 1309 116 1528 116 \nL 1528 0 \nL 97 0 \nL 97 116 \nQ 403 122 490 211 \nQ 578 300 578 672 \nL 578 2191 \nQ 578 2494 543 2580 \nQ 509 2666 423 2703 \nQ 338 2741 97 2744 \nL 97 2863 \nL 2469 2863 \nz\n\" transform=\"scale(0.015625)\"/>\n      </defs>\n      <use xlink:href=\"#STIXGeneral-Italic-74\" transform=\"translate(0 0.484375)\"/>\n      <use xlink:href=\"#TimesNewRomanPSMT-432\" transform=\"translate(27.799988 -25.278125)scale(0.7)\"/>\n      <use xlink:href=\"#TimesNewRomanPSMT-441\" transform=\"translate(60.851746 -25.278125)scale(0.7)\"/>\n      <use xlink:href=\"#TimesNewRomanPSMT-43f\" transform=\"translate(91.921082 -25.278125)scale(0.7)\"/>\n      <use xlink:href=\"#TimesNewRomanPSMT-20\" transform=\"translate(133.675769 0.484375)\"/>\n      <use xlink:href=\"#TimesNewRomanPSMT-2b\" transform=\"translate(158.675769 0.484375)\"/>\n      <use xlink:href=\"#TimesNewRomanPSMT-20\" transform=\"translate(215.072253 0.484375)\"/>\n      <use xlink:href=\"#STIXGeneral-Italic-74\" transform=\"translate(240.072253 0.484375)\"/>\n      <use xlink:href=\"#TimesNewRomanPSMT-433\" transform=\"translate(267.872241 -25.278125)scale(0.7)\"/>\n     </g>\n    </g>\n   </g>\n  </g>\n </g>\n <defs>\n  <clipPath id=\"pcc7f741553\">\n   <rect x=\"51.915937\" y=\"7.2\" width=\"558\" height=\"380.52\"/>\n  </clipPath>\n </defs>\n</svg>\n",
      "text/plain": [
       "<Figure size 720x504 with 1 Axes>"
      ]
     },
     "metadata": {
      "needs_background": "light"
     },
     "output_type": "display_data"
    }
   ],
   "source": [
    "plt.figure(figsize = (10,7))\n",
    "plt.plot(res18['t'],res18['p']/1e6, c = 'tab:green', label = '$\\mathit{t}$ = +18°C')\n",
    "plt.axhline(p1_max/1e6,ls = '--',c = 'orange')\n",
    "plt.axhline(p1_min/1e6,ls = '--',c = 'orange')\n",
    "plt.axhline(p1N/1e6,ls = '--',c = 'orange')\n",
    "plt.plot(res50['t'],res50['p']/1e6, c = 'tab:red', label = '$\\mathit{t}$ = +50°C')\n",
    "plt.plot(res_50['t'],res_50['p']/1e6, c = 'tab:blue', label = '$\\mathit{t}$ = $-$50°C')\n",
    "plt.axvline(t_g + t_vs[p_vs >= p_vsp_50][0],ls = '--',c = 'grey', label = '$\\mathit{t}_{всп}$ + $\\mathit{t}_г$')\n",
    "\n",
    "plt.xlim(0)\n",
    "# plt.ylim(top = 18.5)\n",
    "plt.xlabel('$\\mathit{t}$, с')\n",
    "plt.ylabel('$\\mathit{p}$, МПа')\n",
    "plt.legend()\n",
    "plt.grid()\n",
    "# plt.savefig('Инд p.svg', dpi=500, bbox_inches='tight')\n",
    "plt.show()"
   ]
  },
  {
   "cell_type": "code",
   "execution_count": 398,
   "metadata": {},
   "outputs": [
    {
     "data": {
      "text/plain": [
       "(213.6640440030954, 226.538957825461, 268.9721564777866, 140)"
      ]
     },
     "execution_count": 398,
     "metadata": {},
     "output_type": "execute_result"
    }
   ],
   "source": [
    "G_ts = lambda res, T_0: np.array([S_zar(abs(e_t)) * propel.rho * propel.u(p,T_0) for e_t, p in zip(res['e_t'],res['p'])])\n",
    "Ps = lambda res, T_0: 1.365*np.array([G_t * V_a + np.pi * zeta * D_kr**2 / 4 * (p * pi(lambda_a,propel.k) - p_atm) for G_t, p in zip(G_ts(res,T_0),res['p'])])\n",
    "\n",
    "I_sumf = lambda res, T_0: simps(Ps(res,T_0),res['t'])\n",
    "\n",
    "# Импульсы\n",
    "I_sumf(res_50,T_min), I_sumf(res18,T_nom), I_sumf(res_50,T_max), I_kor"
   ]
  },
  {
   "cell_type": "code",
   "execution_count": 382,
   "metadata": {},
   "outputs": [
    {
     "data": {
      "image/svg+xml": "<?xml version=\"1.0\" encoding=\"utf-8\" standalone=\"no\"?>\n<!DOCTYPE svg PUBLIC \"-//W3C//DTD SVG 1.1//EN\"\n  \"http://www.w3.org/Graphics/SVG/1.1/DTD/svg11.dtd\">\n<svg xmlns:xlink=\"http://www.w3.org/1999/xlink\" width=\"620.615937pt\" height=\"433.728452pt\" viewBox=\"0 0 620.615937 433.728452\" xmlns=\"http://www.w3.org/2000/svg\" version=\"1.1\">\n <metadata>\n  <rdf:RDF xmlns:dc=\"http://purl.org/dc/elements/1.1/\" xmlns:cc=\"http://creativecommons.org/ns#\" xmlns:rdf=\"http://www.w3.org/1999/02/22-rdf-syntax-ns#\">\n   <cc:Work>\n    <dc:type rdf:resource=\"http://purl.org/dc/dcmitype/StillImage\"/>\n    <dc:date>2022-11-13T19:37:22.319428</dc:date>\n    <dc:format>image/svg+xml</dc:format>\n    <dc:creator>\n     <cc:Agent>\n      <dc:title>Matplotlib v3.5.2, https://matplotlib.org/</dc:title>\n     </cc:Agent>\n    </dc:creator>\n   </cc:Work>\n  </rdf:RDF>\n </metadata>\n <defs>\n  <style type=\"text/css\">*{stroke-linejoin: round; stroke-linecap: butt}</style>\n </defs>\n <g id=\"figure_1\">\n  <g id=\"patch_1\">\n   <path d=\"M 0 433.728452 \nL 620.615937 433.728452 \nL 620.615937 0 \nL 0 0 \nL 0 433.728452 \nz\n\" style=\"fill: none\"/>\n  </g>\n  <g id=\"axes_1\">\n   <g id=\"patch_2\">\n    <path d=\"M 55.415938 390.096577 \nL 613.415938 390.096577 \nL 613.415938 9.576577 \nL 55.415938 9.576577 \nz\n\" style=\"fill: #ffffff\"/>\n   </g>\n   <g id=\"matplotlib.axis_1\">\n    <g id=\"xtick_1\">\n     <g id=\"line2d_1\">\n      <path d=\"M 55.415938 390.096577 \nL 55.415938 9.576577 \n\" clip-path=\"url(#p4e94142567)\" style=\"fill: none; stroke: #b0b0b0; stroke-width: 0.8; stroke-linecap: square\"/>\n     </g>\n     <g id=\"line2d_2\">\n      <defs>\n       <path id=\"mc1ef745262\" d=\"M 0 0 \nL 0 3.5 \n\" style=\"stroke: #000000; stroke-width: 0.8\"/>\n      </defs>\n      <g>\n       <use xlink:href=\"#mc1ef745262\" x=\"55.415938\" y=\"390.096577\" style=\"stroke: #000000; stroke-width: 0.8\"/>\n      </g>\n     </g>\n     <g id=\"text_1\">\n      <!-- 0.000 -->\n      <g transform=\"translate(39.665938 406.817827)scale(0.14 -0.14)\">\n       <defs>\n        <path id=\"TimesNewRomanPSMT-30\" d=\"M 231 2094 \nQ 231 2819 450 3342 \nQ 669 3866 1031 4122 \nQ 1313 4325 1613 4325 \nQ 2100 4325 2488 3828 \nQ 2972 3213 2972 2159 \nQ 2972 1422 2759 906 \nQ 2547 391 2217 158 \nQ 1888 -75 1581 -75 \nQ 975 -75 572 641 \nQ 231 1244 231 2094 \nz\nM 844 2016 \nQ 844 1141 1059 588 \nQ 1238 122 1591 122 \nQ 1759 122 1940 273 \nQ 2122 425 2216 781 \nQ 2359 1319 2359 2297 \nQ 2359 3022 2209 3506 \nQ 2097 3866 1919 4016 \nQ 1791 4119 1609 4119 \nQ 1397 4119 1231 3928 \nQ 1006 3669 925 3112 \nQ 844 2556 844 2016 \nz\n\" transform=\"scale(0.015625)\"/>\n        <path id=\"TimesNewRomanPSMT-2e\" d=\"M 800 606 \nQ 947 606 1047 504 \nQ 1147 403 1147 259 \nQ 1147 116 1045 14 \nQ 944 -88 800 -88 \nQ 656 -88 554 14 \nQ 453 116 453 259 \nQ 453 406 554 506 \nQ 656 606 800 606 \nz\n\" transform=\"scale(0.015625)\"/>\n       </defs>\n       <use xlink:href=\"#TimesNewRomanPSMT-30\"/>\n       <use xlink:href=\"#TimesNewRomanPSMT-2e\" x=\"50\"/>\n       <use xlink:href=\"#TimesNewRomanPSMT-30\" x=\"75\"/>\n       <use xlink:href=\"#TimesNewRomanPSMT-30\" x=\"125\"/>\n       <use xlink:href=\"#TimesNewRomanPSMT-30\" x=\"175\"/>\n      </g>\n     </g>\n    </g>\n    <g id=\"xtick_2\">\n     <g id=\"line2d_3\">\n      <path d=\"M 136.550071 390.096577 \nL 136.550071 9.576577 \n\" clip-path=\"url(#p4e94142567)\" style=\"fill: none; stroke: #b0b0b0; stroke-width: 0.8; stroke-linecap: square\"/>\n     </g>\n     <g id=\"line2d_4\">\n      <g>\n       <use xlink:href=\"#mc1ef745262\" x=\"136.550071\" y=\"390.096577\" style=\"stroke: #000000; stroke-width: 0.8\"/>\n      </g>\n     </g>\n     <g id=\"text_2\">\n      <!-- 0.005 -->\n      <g transform=\"translate(120.800071 406.817827)scale(0.14 -0.14)\">\n       <defs>\n        <path id=\"TimesNewRomanPSMT-35\" d=\"M 2778 4238 \nL 2534 3706 \nL 1259 3706 \nL 981 3138 \nQ 1809 3016 2294 2522 \nQ 2709 2097 2709 1522 \nQ 2709 1188 2573 903 \nQ 2438 619 2231 419 \nQ 2025 219 1772 97 \nQ 1413 -75 1034 -75 \nQ 653 -75 479 54 \nQ 306 184 306 341 \nQ 306 428 378 495 \nQ 450 563 559 563 \nQ 641 563 702 538 \nQ 763 513 909 409 \nQ 1144 247 1384 247 \nQ 1750 247 2026 523 \nQ 2303 800 2303 1197 \nQ 2303 1581 2056 1914 \nQ 1809 2247 1375 2428 \nQ 1034 2569 447 2591 \nL 1259 4238 \nL 2778 4238 \nz\n\" transform=\"scale(0.015625)\"/>\n       </defs>\n       <use xlink:href=\"#TimesNewRomanPSMT-30\"/>\n       <use xlink:href=\"#TimesNewRomanPSMT-2e\" x=\"50\"/>\n       <use xlink:href=\"#TimesNewRomanPSMT-30\" x=\"75\"/>\n       <use xlink:href=\"#TimesNewRomanPSMT-30\" x=\"125\"/>\n       <use xlink:href=\"#TimesNewRomanPSMT-35\" x=\"175\"/>\n      </g>\n     </g>\n    </g>\n    <g id=\"xtick_3\">\n     <g id=\"line2d_5\">\n      <path d=\"M 217.684204 390.096577 \nL 217.684204 9.576577 \n\" clip-path=\"url(#p4e94142567)\" style=\"fill: none; stroke: #b0b0b0; stroke-width: 0.8; stroke-linecap: square\"/>\n     </g>\n     <g id=\"line2d_6\">\n      <g>\n       <use xlink:href=\"#mc1ef745262\" x=\"217.684204\" y=\"390.096577\" style=\"stroke: #000000; stroke-width: 0.8\"/>\n      </g>\n     </g>\n     <g id=\"text_3\">\n      <!-- 0.010 -->\n      <g transform=\"translate(201.934204 406.817827)scale(0.14 -0.14)\">\n       <defs>\n        <path id=\"TimesNewRomanPSMT-31\" d=\"M 750 3822 \nL 1781 4325 \nL 1884 4325 \nL 1884 747 \nQ 1884 391 1914 303 \nQ 1944 216 2037 169 \nQ 2131 122 2419 116 \nL 2419 0 \nL 825 0 \nL 825 116 \nQ 1125 122 1212 167 \nQ 1300 213 1334 289 \nQ 1369 366 1369 747 \nL 1369 3034 \nQ 1369 3497 1338 3628 \nQ 1316 3728 1258 3775 \nQ 1200 3822 1119 3822 \nQ 1003 3822 797 3725 \nL 750 3822 \nz\n\" transform=\"scale(0.015625)\"/>\n       </defs>\n       <use xlink:href=\"#TimesNewRomanPSMT-30\"/>\n       <use xlink:href=\"#TimesNewRomanPSMT-2e\" x=\"50\"/>\n       <use xlink:href=\"#TimesNewRomanPSMT-30\" x=\"75\"/>\n       <use xlink:href=\"#TimesNewRomanPSMT-31\" x=\"125\"/>\n       <use xlink:href=\"#TimesNewRomanPSMT-30\" x=\"175\"/>\n      </g>\n     </g>\n    </g>\n    <g id=\"xtick_4\">\n     <g id=\"line2d_7\">\n      <path d=\"M 298.818337 390.096577 \nL 298.818337 9.576577 \n\" clip-path=\"url(#p4e94142567)\" style=\"fill: none; stroke: #b0b0b0; stroke-width: 0.8; stroke-linecap: square\"/>\n     </g>\n     <g id=\"line2d_8\">\n      <g>\n       <use xlink:href=\"#mc1ef745262\" x=\"298.818337\" y=\"390.096577\" style=\"stroke: #000000; stroke-width: 0.8\"/>\n      </g>\n     </g>\n     <g id=\"text_4\">\n      <!-- 0.015 -->\n      <g transform=\"translate(283.068337 406.817827)scale(0.14 -0.14)\">\n       <use xlink:href=\"#TimesNewRomanPSMT-30\"/>\n       <use xlink:href=\"#TimesNewRomanPSMT-2e\" x=\"50\"/>\n       <use xlink:href=\"#TimesNewRomanPSMT-30\" x=\"75\"/>\n       <use xlink:href=\"#TimesNewRomanPSMT-31\" x=\"125\"/>\n       <use xlink:href=\"#TimesNewRomanPSMT-35\" x=\"175\"/>\n      </g>\n     </g>\n    </g>\n    <g id=\"xtick_5\">\n     <g id=\"line2d_9\">\n      <path d=\"M 379.95247 390.096577 \nL 379.95247 9.576577 \n\" clip-path=\"url(#p4e94142567)\" style=\"fill: none; stroke: #b0b0b0; stroke-width: 0.8; stroke-linecap: square\"/>\n     </g>\n     <g id=\"line2d_10\">\n      <g>\n       <use xlink:href=\"#mc1ef745262\" x=\"379.95247\" y=\"390.096577\" style=\"stroke: #000000; stroke-width: 0.8\"/>\n      </g>\n     </g>\n     <g id=\"text_5\">\n      <!-- 0.020 -->\n      <g transform=\"translate(364.20247 406.817827)scale(0.14 -0.14)\">\n       <defs>\n        <path id=\"TimesNewRomanPSMT-32\" d=\"M 2934 816 \nL 2638 0 \nL 138 0 \nL 138 116 \nQ 1241 1122 1691 1759 \nQ 2141 2397 2141 2925 \nQ 2141 3328 1894 3587 \nQ 1647 3847 1303 3847 \nQ 991 3847 742 3664 \nQ 494 3481 375 3128 \nL 259 3128 \nQ 338 3706 661 4015 \nQ 984 4325 1469 4325 \nQ 1984 4325 2329 3994 \nQ 2675 3663 2675 3213 \nQ 2675 2891 2525 2569 \nQ 2294 2063 1775 1497 \nQ 997 647 803 472 \nL 1909 472 \nQ 2247 472 2383 497 \nQ 2519 522 2628 598 \nQ 2738 675 2819 816 \nL 2934 816 \nz\n\" transform=\"scale(0.015625)\"/>\n       </defs>\n       <use xlink:href=\"#TimesNewRomanPSMT-30\"/>\n       <use xlink:href=\"#TimesNewRomanPSMT-2e\" x=\"50\"/>\n       <use xlink:href=\"#TimesNewRomanPSMT-30\" x=\"75\"/>\n       <use xlink:href=\"#TimesNewRomanPSMT-32\" x=\"125\"/>\n       <use xlink:href=\"#TimesNewRomanPSMT-30\" x=\"175\"/>\n      </g>\n     </g>\n    </g>\n    <g id=\"xtick_6\">\n     <g id=\"line2d_11\">\n      <path d=\"M 461.086603 390.096577 \nL 461.086603 9.576577 \n\" clip-path=\"url(#p4e94142567)\" style=\"fill: none; stroke: #b0b0b0; stroke-width: 0.8; stroke-linecap: square\"/>\n     </g>\n     <g id=\"line2d_12\">\n      <g>\n       <use xlink:href=\"#mc1ef745262\" x=\"461.086603\" y=\"390.096577\" style=\"stroke: #000000; stroke-width: 0.8\"/>\n      </g>\n     </g>\n     <g id=\"text_6\">\n      <!-- 0.025 -->\n      <g transform=\"translate(445.336603 406.817827)scale(0.14 -0.14)\">\n       <use xlink:href=\"#TimesNewRomanPSMT-30\"/>\n       <use xlink:href=\"#TimesNewRomanPSMT-2e\" x=\"50\"/>\n       <use xlink:href=\"#TimesNewRomanPSMT-30\" x=\"75\"/>\n       <use xlink:href=\"#TimesNewRomanPSMT-32\" x=\"125\"/>\n       <use xlink:href=\"#TimesNewRomanPSMT-35\" x=\"175\"/>\n      </g>\n     </g>\n    </g>\n    <g id=\"xtick_7\">\n     <g id=\"line2d_13\">\n      <path d=\"M 542.220736 390.096577 \nL 542.220736 9.576577 \n\" clip-path=\"url(#p4e94142567)\" style=\"fill: none; stroke: #b0b0b0; stroke-width: 0.8; stroke-linecap: square\"/>\n     </g>\n     <g id=\"line2d_14\">\n      <g>\n       <use xlink:href=\"#mc1ef745262\" x=\"542.220736\" y=\"390.096577\" style=\"stroke: #000000; stroke-width: 0.8\"/>\n      </g>\n     </g>\n     <g id=\"text_7\">\n      <!-- 0.030 -->\n      <g transform=\"translate(526.470736 406.817827)scale(0.14 -0.14)\">\n       <defs>\n        <path id=\"TimesNewRomanPSMT-33\" d=\"M 325 3431 \nQ 506 3859 782 4092 \nQ 1059 4325 1472 4325 \nQ 1981 4325 2253 3994 \nQ 2459 3747 2459 3466 \nQ 2459 3003 1878 2509 \nQ 2269 2356 2469 2072 \nQ 2669 1788 2669 1403 \nQ 2669 853 2319 450 \nQ 1863 -75 997 -75 \nQ 569 -75 414 31 \nQ 259 138 259 259 \nQ 259 350 332 419 \nQ 406 488 509 488 \nQ 588 488 669 463 \nQ 722 447 909 348 \nQ 1097 250 1169 231 \nQ 1284 197 1416 197 \nQ 1734 197 1970 444 \nQ 2206 691 2206 1028 \nQ 2206 1275 2097 1509 \nQ 2016 1684 1919 1775 \nQ 1784 1900 1550 2001 \nQ 1316 2103 1072 2103 \nL 972 2103 \nL 972 2197 \nQ 1219 2228 1467 2375 \nQ 1716 2522 1828 2728 \nQ 1941 2934 1941 3181 \nQ 1941 3503 1739 3701 \nQ 1538 3900 1238 3900 \nQ 753 3900 428 3381 \nL 325 3431 \nz\n\" transform=\"scale(0.015625)\"/>\n       </defs>\n       <use xlink:href=\"#TimesNewRomanPSMT-30\"/>\n       <use xlink:href=\"#TimesNewRomanPSMT-2e\" x=\"50\"/>\n       <use xlink:href=\"#TimesNewRomanPSMT-30\" x=\"75\"/>\n       <use xlink:href=\"#TimesNewRomanPSMT-33\" x=\"125\"/>\n       <use xlink:href=\"#TimesNewRomanPSMT-30\" x=\"175\"/>\n      </g>\n     </g>\n    </g>\n    <g id=\"text_8\">\n     <!-- $\\mathit{t}$, с -->\n     <g transform=\"translate(325.805937 423.533764)scale(0.14 -0.14)\">\n      <defs>\n       <path id=\"STIXGeneral-Italic-74\" d=\"M 1894 2739 \nL 1862 2534 \nL 1325 2534 \nL 768 435 \nQ 755 384 755 346 \nQ 755 243 851 243 \nQ 928 243 1030 342 \nQ 1133 442 1370 749 \nL 1453 704 \nQ 1158 256 969 93 \nQ 781 -70 538 -70 \nQ 243 -70 243 166 \nQ 243 230 346 640 \nL 845 2534 \nL 365 2534 \nL 358 2573 \nQ 358 2688 570 2733 \nQ 730 2771 992 2979 \nQ 1254 3187 1421 3437 \nQ 1459 3494 1510 3494 \nQ 1568 3494 1568 3443 \nQ 1568 3411 1562 3398 \nL 1382 2739 \nL 1894 2739 \nz\n\" transform=\"scale(0.015625)\"/>\n       <path id=\"TimesNewRomanPSMT-2c\" d=\"M 344 -1066 \nL 344 -928 \nQ 666 -822 842 -598 \nQ 1019 -375 1019 -125 \nQ 1019 -66 991 -25 \nQ 969 3 947 3 \nQ 913 3 797 -59 \nQ 741 -88 678 -88 \nQ 525 -88 434 3 \nQ 344 94 344 253 \nQ 344 406 461 515 \nQ 578 625 747 625 \nQ 953 625 1114 445 \nQ 1275 266 1275 -31 \nQ 1275 -353 1051 -629 \nQ 828 -906 344 -1066 \nz\n\" transform=\"scale(0.015625)\"/>\n       <path id=\"TimesNewRomanPSMT-20\" transform=\"scale(0.015625)\"/>\n       <path id=\"TimesNewRomanPSMT-441\" d=\"M 2631 1088 \nQ 2516 522 2178 217 \nQ 1841 -88 1431 -88 \nQ 944 -88 581 321 \nQ 219 731 219 1428 \nQ 219 2103 620 2525 \nQ 1022 2947 1584 2947 \nQ 2006 2947 2278 2723 \nQ 2550 2500 2550 2259 \nQ 2550 2141 2473 2067 \nQ 2397 1994 2259 1994 \nQ 2075 1994 1981 2113 \nQ 1928 2178 1911 2362 \nQ 1894 2547 1784 2644 \nQ 1675 2738 1481 2738 \nQ 1169 2738 978 2506 \nQ 725 2200 725 1697 \nQ 725 1184 976 792 \nQ 1228 400 1656 400 \nQ 1963 400 2206 609 \nQ 2378 753 2541 1131 \nL 2631 1088 \nz\n\" transform=\"scale(0.015625)\"/>\n      </defs>\n      <use xlink:href=\"#STIXGeneral-Italic-74\" transform=\"translate(0 0.40625)\"/>\n      <use xlink:href=\"#TimesNewRomanPSMT-2c\" transform=\"translate(27.799988 0.40625)\"/>\n      <use xlink:href=\"#TimesNewRomanPSMT-20\" transform=\"translate(52.799988 0.40625)\"/>\n      <use xlink:href=\"#TimesNewRomanPSMT-441\" transform=\"translate(77.799988 0.40625)\"/>\n     </g>\n    </g>\n   </g>\n   <g id=\"matplotlib.axis_2\">\n    <g id=\"ytick_1\">\n     <g id=\"line2d_15\">\n      <path d=\"M 55.415938 374.662329 \nL 613.415938 374.662329 \n\" clip-path=\"url(#p4e94142567)\" style=\"fill: none; stroke: #b0b0b0; stroke-width: 0.8; stroke-linecap: square\"/>\n     </g>\n     <g id=\"line2d_16\">\n      <defs>\n       <path id=\"m262943d23b\" d=\"M 0 0 \nL -3.5 0 \n\" style=\"stroke: #000000; stroke-width: 0.8\"/>\n      </defs>\n      <g>\n       <use xlink:href=\"#m262943d23b\" x=\"55.415938\" y=\"374.662329\" style=\"stroke: #000000; stroke-width: 0.8\"/>\n      </g>\n     </g>\n     <g id=\"text_9\">\n      <!-- 0.0 -->\n      <g transform=\"translate(30.915938 379.522954)scale(0.14 -0.14)\">\n       <use xlink:href=\"#TimesNewRomanPSMT-30\"/>\n       <use xlink:href=\"#TimesNewRomanPSMT-2e\" x=\"50\"/>\n       <use xlink:href=\"#TimesNewRomanPSMT-30\" x=\"75\"/>\n      </g>\n     </g>\n    </g>\n    <g id=\"ytick_2\">\n     <g id=\"line2d_17\">\n      <path d=\"M 55.415938 329.337116 \nL 613.415938 329.337116 \n\" clip-path=\"url(#p4e94142567)\" style=\"fill: none; stroke: #b0b0b0; stroke-width: 0.8; stroke-linecap: square\"/>\n     </g>\n     <g id=\"line2d_18\">\n      <g>\n       <use xlink:href=\"#m262943d23b\" x=\"55.415938\" y=\"329.337116\" style=\"stroke: #000000; stroke-width: 0.8\"/>\n      </g>\n     </g>\n     <g id=\"text_10\">\n      <!-- 2.5 -->\n      <g transform=\"translate(30.915938 334.197741)scale(0.14 -0.14)\">\n       <use xlink:href=\"#TimesNewRomanPSMT-32\"/>\n       <use xlink:href=\"#TimesNewRomanPSMT-2e\" x=\"50\"/>\n       <use xlink:href=\"#TimesNewRomanPSMT-35\" x=\"75\"/>\n      </g>\n     </g>\n    </g>\n    <g id=\"ytick_3\">\n     <g id=\"line2d_19\">\n      <path d=\"M 55.415938 284.011903 \nL 613.415938 284.011903 \n\" clip-path=\"url(#p4e94142567)\" style=\"fill: none; stroke: #b0b0b0; stroke-width: 0.8; stroke-linecap: square\"/>\n     </g>\n     <g id=\"line2d_20\">\n      <g>\n       <use xlink:href=\"#m262943d23b\" x=\"55.415938\" y=\"284.011903\" style=\"stroke: #000000; stroke-width: 0.8\"/>\n      </g>\n     </g>\n     <g id=\"text_11\">\n      <!-- 5.0 -->\n      <g transform=\"translate(30.915938 288.872528)scale(0.14 -0.14)\">\n       <use xlink:href=\"#TimesNewRomanPSMT-35\"/>\n       <use xlink:href=\"#TimesNewRomanPSMT-2e\" x=\"50\"/>\n       <use xlink:href=\"#TimesNewRomanPSMT-30\" x=\"75\"/>\n      </g>\n     </g>\n    </g>\n    <g id=\"ytick_4\">\n     <g id=\"line2d_21\">\n      <path d=\"M 55.415938 238.68669 \nL 613.415938 238.68669 \n\" clip-path=\"url(#p4e94142567)\" style=\"fill: none; stroke: #b0b0b0; stroke-width: 0.8; stroke-linecap: square\"/>\n     </g>\n     <g id=\"line2d_22\">\n      <g>\n       <use xlink:href=\"#m262943d23b\" x=\"55.415938\" y=\"238.68669\" style=\"stroke: #000000; stroke-width: 0.8\"/>\n      </g>\n     </g>\n     <g id=\"text_12\">\n      <!-- 7.5 -->\n      <g transform=\"translate(30.915938 243.547315)scale(0.14 -0.14)\">\n       <defs>\n        <path id=\"TimesNewRomanPSMT-37\" d=\"M 644 4238 \nL 2916 4238 \nL 2916 4119 \nL 1503 -88 \nL 1153 -88 \nL 2419 3728 \nL 1253 3728 \nQ 900 3728 750 3644 \nQ 488 3500 328 3200 \nL 238 3234 \nL 644 4238 \nz\n\" transform=\"scale(0.015625)\"/>\n       </defs>\n       <use xlink:href=\"#TimesNewRomanPSMT-37\"/>\n       <use xlink:href=\"#TimesNewRomanPSMT-2e\" x=\"50\"/>\n       <use xlink:href=\"#TimesNewRomanPSMT-35\" x=\"75\"/>\n      </g>\n     </g>\n    </g>\n    <g id=\"ytick_5\">\n     <g id=\"line2d_23\">\n      <path d=\"M 55.415938 193.361477 \nL 613.415938 193.361477 \n\" clip-path=\"url(#p4e94142567)\" style=\"fill: none; stroke: #b0b0b0; stroke-width: 0.8; stroke-linecap: square\"/>\n     </g>\n     <g id=\"line2d_24\">\n      <g>\n       <use xlink:href=\"#m262943d23b\" x=\"55.415938\" y=\"193.361477\" style=\"stroke: #000000; stroke-width: 0.8\"/>\n      </g>\n     </g>\n     <g id=\"text_13\">\n      <!-- 10.0 -->\n      <g transform=\"translate(23.915938 198.222102)scale(0.14 -0.14)\">\n       <use xlink:href=\"#TimesNewRomanPSMT-31\"/>\n       <use xlink:href=\"#TimesNewRomanPSMT-30\" x=\"50\"/>\n       <use xlink:href=\"#TimesNewRomanPSMT-2e\" x=\"100\"/>\n       <use xlink:href=\"#TimesNewRomanPSMT-30\" x=\"125\"/>\n      </g>\n     </g>\n    </g>\n    <g id=\"ytick_6\">\n     <g id=\"line2d_25\">\n      <path d=\"M 55.415938 148.036264 \nL 613.415938 148.036264 \n\" clip-path=\"url(#p4e94142567)\" style=\"fill: none; stroke: #b0b0b0; stroke-width: 0.8; stroke-linecap: square\"/>\n     </g>\n     <g id=\"line2d_26\">\n      <g>\n       <use xlink:href=\"#m262943d23b\" x=\"55.415938\" y=\"148.036264\" style=\"stroke: #000000; stroke-width: 0.8\"/>\n      </g>\n     </g>\n     <g id=\"text_14\">\n      <!-- 12.5 -->\n      <g transform=\"translate(23.915938 152.896889)scale(0.14 -0.14)\">\n       <use xlink:href=\"#TimesNewRomanPSMT-31\"/>\n       <use xlink:href=\"#TimesNewRomanPSMT-32\" x=\"50\"/>\n       <use xlink:href=\"#TimesNewRomanPSMT-2e\" x=\"100\"/>\n       <use xlink:href=\"#TimesNewRomanPSMT-35\" x=\"125\"/>\n      </g>\n     </g>\n    </g>\n    <g id=\"ytick_7\">\n     <g id=\"line2d_27\">\n      <path d=\"M 55.415938 102.711051 \nL 613.415938 102.711051 \n\" clip-path=\"url(#p4e94142567)\" style=\"fill: none; stroke: #b0b0b0; stroke-width: 0.8; stroke-linecap: square\"/>\n     </g>\n     <g id=\"line2d_28\">\n      <g>\n       <use xlink:href=\"#m262943d23b\" x=\"55.415938\" y=\"102.711051\" style=\"stroke: #000000; stroke-width: 0.8\"/>\n      </g>\n     </g>\n     <g id=\"text_15\">\n      <!-- 15.0 -->\n      <g transform=\"translate(23.915938 107.571676)scale(0.14 -0.14)\">\n       <use xlink:href=\"#TimesNewRomanPSMT-31\"/>\n       <use xlink:href=\"#TimesNewRomanPSMT-35\" x=\"50\"/>\n       <use xlink:href=\"#TimesNewRomanPSMT-2e\" x=\"100\"/>\n       <use xlink:href=\"#TimesNewRomanPSMT-30\" x=\"125\"/>\n      </g>\n     </g>\n    </g>\n    <g id=\"ytick_8\">\n     <g id=\"line2d_29\">\n      <path d=\"M 55.415938 57.385838 \nL 613.415938 57.385838 \n\" clip-path=\"url(#p4e94142567)\" style=\"fill: none; stroke: #b0b0b0; stroke-width: 0.8; stroke-linecap: square\"/>\n     </g>\n     <g id=\"line2d_30\">\n      <g>\n       <use xlink:href=\"#m262943d23b\" x=\"55.415938\" y=\"57.385838\" style=\"stroke: #000000; stroke-width: 0.8\"/>\n      </g>\n     </g>\n     <g id=\"text_16\">\n      <!-- 17.5 -->\n      <g transform=\"translate(23.915938 62.246463)scale(0.14 -0.14)\">\n       <use xlink:href=\"#TimesNewRomanPSMT-31\"/>\n       <use xlink:href=\"#TimesNewRomanPSMT-37\" x=\"50\"/>\n       <use xlink:href=\"#TimesNewRomanPSMT-2e\" x=\"100\"/>\n       <use xlink:href=\"#TimesNewRomanPSMT-35\" x=\"125\"/>\n      </g>\n     </g>\n    </g>\n    <g id=\"ytick_9\">\n     <g id=\"line2d_31\">\n      <path d=\"M 55.415938 12.060625 \nL 613.415938 12.060625 \n\" clip-path=\"url(#p4e94142567)\" style=\"fill: none; stroke: #b0b0b0; stroke-width: 0.8; stroke-linecap: square\"/>\n     </g>\n     <g id=\"line2d_32\">\n      <g>\n       <use xlink:href=\"#m262943d23b\" x=\"55.415938\" y=\"12.060625\" style=\"stroke: #000000; stroke-width: 0.8\"/>\n      </g>\n     </g>\n     <g id=\"text_17\">\n      <!-- 20.0 -->\n      <g transform=\"translate(23.915938 16.92125)scale(0.14 -0.14)\">\n       <use xlink:href=\"#TimesNewRomanPSMT-32\"/>\n       <use xlink:href=\"#TimesNewRomanPSMT-30\" x=\"50\"/>\n       <use xlink:href=\"#TimesNewRomanPSMT-2e\" x=\"100\"/>\n       <use xlink:href=\"#TimesNewRomanPSMT-30\" x=\"125\"/>\n      </g>\n     </g>\n    </g>\n    <g id=\"text_18\">\n     <!-- $\\mathit{P}$, кН -->\n     <g transform=\"translate(16.92125 216.076577)rotate(-90)scale(0.14 -0.14)\">\n      <defs>\n       <path id=\"STIXGeneral-Italic-50\" d=\"M 934 4179 \nL 2477 4179 \nQ 3872 4179 3872 3232 \nQ 3872 2976 3753 2729 \nQ 3635 2483 3437 2317 \nQ 2995 1952 2125 1952 \nQ 1773 1952 1549 2003 \nL 1210 768 \nQ 1120 422 1120 365 \nQ 1120 250 1216 189 \nQ 1312 128 1562 102 \nL 1562 0 \nL 0 0 \nL 0 102 \nQ 275 141 361 227 \nQ 448 314 538 627 \nL 1280 3277 \nQ 1389 3667 1389 3808 \nQ 1389 3936 1299 3990 \nQ 1210 4045 934 4077 \nL 934 4179 \nz\nM 2048 3789 \nL 1606 2221 \nQ 1792 2189 1939 2189 \nQ 2496 2189 2758 2342 \nQ 3213 2598 3213 3200 \nQ 3213 3987 2381 3987 \nQ 2099 3987 2048 3789 \nz\n\" transform=\"scale(0.015625)\"/>\n       <path id=\"TimesNewRomanPSMT-43a\" d=\"M 3072 0 \nL 2228 0 \nQ 1834 572 1516 1172 \nQ 1441 1309 1380 1376 \nQ 1319 1444 1213 1444 \nQ 1175 1444 1094 1438 \nL 1094 672 \nQ 1094 363 1130 277 \nQ 1166 191 1259 153 \nQ 1353 116 1575 116 \nL 1575 0 \nL 144 0 \nL 144 116 \nQ 422 116 500 217 \nQ 578 319 578 672 \nL 578 2191 \nQ 578 2525 543 2586 \nQ 509 2647 437 2695 \nQ 366 2744 144 2744 \nL 144 2863 \nL 1575 2863 \nL 1575 2744 \nQ 1316 2744 1255 2706 \nQ 1194 2669 1144 2614 \nQ 1094 2559 1094 2191 \nL 1094 1628 \nQ 1166 1622 1191 1622 \nQ 1381 1622 1548 1730 \nQ 1716 1838 1847 2188 \nQ 1969 2519 2048 2634 \nQ 2128 2750 2270 2823 \nQ 2413 2897 2569 2897 \nQ 2738 2897 2838 2815 \nQ 2938 2734 2938 2603 \nQ 2938 2494 2866 2417 \nQ 2794 2341 2666 2341 \nQ 2597 2341 2494 2378 \nQ 2363 2425 2294 2425 \nQ 2150 2425 2056 2178 \nQ 1950 1894 1900 1811 \nQ 1850 1728 1709 1591 \nQ 1806 1563 1920 1447 \nQ 2034 1331 2344 788 \nQ 2591 353 2714 237 \nQ 2838 122 3072 116 \nL 3072 0 \nz\n\" transform=\"scale(0.015625)\"/>\n       <path id=\"TimesNewRomanPSMT-41d\" d=\"M 1316 2272 \nL 3284 2272 \nL 3284 3484 \nQ 3284 3809 3244 3913 \nQ 3213 3991 3113 4047 \nQ 2978 4122 2828 4122 \nL 2678 4122 \nL 2678 4238 \nL 4491 4238 \nL 4491 4122 \nL 4341 4122 \nQ 4191 4122 4056 4050 \nQ 3956 4000 3920 3898 \nQ 3884 3797 3884 3484 \nL 3884 750 \nQ 3884 428 3925 325 \nQ 3956 247 4053 191 \nQ 4191 116 4341 116 \nL 4491 116 \nL 4491 0 \nL 2678 0 \nL 2678 116 \nL 2828 116 \nQ 3088 116 3206 269 \nQ 3284 369 3284 750 \nL 3284 2041 \nL 1316 2041 \nL 1316 750 \nQ 1316 428 1356 325 \nQ 1388 247 1488 191 \nQ 1622 116 1772 116 \nL 1925 116 \nL 1925 0 \nL 109 0 \nL 109 116 \nL 259 116 \nQ 522 116 641 269 \nQ 716 369 716 750 \nL 716 3484 \nQ 716 3809 675 3913 \nQ 644 3991 547 4047 \nQ 409 4122 259 4122 \nL 109 4122 \nL 109 4238 \nL 1925 4238 \nL 1925 4122 \nL 1772 4122 \nQ 1622 4122 1488 4050 \nQ 1391 4000 1353 3898 \nQ 1316 3797 1316 3484 \nL 1316 2272 \nz\n\" transform=\"scale(0.015625)\"/>\n      </defs>\n      <use xlink:href=\"#STIXGeneral-Italic-50\" transform=\"translate(0 0.78125)\"/>\n      <use xlink:href=\"#TimesNewRomanPSMT-2c\" transform=\"translate(61.099991 0.78125)\"/>\n      <use xlink:href=\"#TimesNewRomanPSMT-20\" transform=\"translate(86.099991 0.78125)\"/>\n      <use xlink:href=\"#TimesNewRomanPSMT-43a\" transform=\"translate(111.099991 0.78125)\"/>\n      <use xlink:href=\"#TimesNewRomanPSMT-41d\" transform=\"translate(159.683975 0.78125)\"/>\n     </g>\n    </g>\n   </g>\n   <g id=\"line2d_33\">\n    <path d=\"M 55.415938 372.399537 \nL 58.174498 338.504943 \nL 59.959449 311.717832 \nL 65.963375 218.780189 \nL 67.667192 196.967194 \nL 69.289874 178.98177 \nL 70.831423 164.389794 \nL 72.291837 152.699314 \nL 73.671117 143.380377 \nL 75.050398 135.512386 \nL 76.429678 128.923036 \nL 77.727824 123.74135 \nL 79.02597 119.418833 \nL 80.324116 115.840461 \nL 81.622262 112.904061 \nL 82.920409 110.519817 \nL 84.218555 108.609743 \nL 85.516701 107.10632 \nL 86.814847 105.951505 \nL 88.112993 105.095467 \nL 89.411139 104.495516 \nL 90.79042 104.098077 \nL 92.250834 103.906319 \nL 93.873517 103.92565 \nL 95.658467 104.180863 \nL 97.605687 104.686973 \nL 99.877442 105.516536 \nL 102.473735 106.708383 \nL 105.556832 108.374426 \nL 109.370136 110.699163 \nL 114.319318 113.994945 \nL 121.377988 118.987786 \nL 158.050616 145.302075 \nL 169.247126 152.886768 \nL 180.281368 160.094689 \nL 191.31561 167.037922 \nL 202.430987 173.770026 \nL 213.708631 180.339708 \nL 225.148544 186.744985 \nL 236.750725 192.985096 \nL 248.515174 199.059873 \nL 255.411575 202.642903 \nL 257.521063 216.056065 \nL 259.63055 228.044322 \nL 261.740038 238.797937 \nL 263.930659 248.829493 \nL 266.121281 257.8528 \nL 268.393037 266.281504 \nL 270.664792 273.88329 \nL 273.017682 280.993606 \nL 275.451706 287.633359 \nL 277.88573 293.634821 \nL 280.400888 299.247689 \nL 282.997181 304.490141 \nL 285.593473 309.239751 \nL 288.270899 313.683266 \nL 291.02946 317.835812 \nL 293.869155 321.712798 \nL 296.789983 325.329601 \nL 299.791946 328.70119 \nL 302.956177 331.920967 \nL 306.201543 334.909882 \nL 309.609176 337.748114 \nL 313.179078 340.432151 \nL 316.911248 342.961053 \nL 320.886821 345.382825 \nL 325.024662 347.643866 \nL 329.487039 349.824835 \nL 334.192819 351.874583 \nL 339.223135 353.821275 \nL 344.659122 355.681808 \nL 350.500779 357.441441 \nL 356.829242 359.110585 \nL 363.644509 360.676253 \nL 371.108849 362.160816 \nL 379.303397 363.561237 \nL 388.39042 364.884219 \nL 398.451052 366.120392 \nL 409.728696 367.277676 \nL 422.466755 368.355772 \nL 436.908631 369.349983 \nL 453.541128 370.266284 \nL 472.851052 371.101221 \nL 492.728915 371.771619 \nL 492.728915 371.771619 \n\" clip-path=\"url(#p4e94142567)\" style=\"fill: none; stroke: #2ca02c; stroke-width: 1.5; stroke-linecap: square\"/>\n   </g>\n   <g id=\"line2d_34\">\n    <path d=\"M 55.415938 247.179455 \nL 613.415938 247.179455 \n\" clip-path=\"url(#p4e94142567)\" style=\"fill: none; stroke-dasharray: 5.55,2.4; stroke-dashoffset: 0; stroke: #808080; stroke-width: 1.5\"/>\n   </g>\n   <g id=\"line2d_35\">\n    <path d=\"M 55.415938 372.155198 \nL 57.444291 343.79713 \nL 58.742437 321.26033 \nL 60.527388 285.998002 \nL 65.882241 177.40869 \nL 67.667192 147.083406 \nL 69.289874 123.31159 \nL 70.750289 105.002586 \nL 72.129569 90.262832 \nL 73.508849 77.790945 \nL 74.888129 67.297536 \nL 76.186276 59.017066 \nL 77.484422 52.0905 \nL 78.782568 46.342551 \nL 80.080714 41.614805 \nL 81.297726 37.98391 \nL 82.514738 35.02408 \nL 83.73175 32.646036 \nL 84.867628 30.882692 \nL 86.003506 29.503073 \nL 87.139384 28.459093 \nL 88.275261 27.708519 \nL 89.411139 27.21476 \nL 90.628151 26.934464 \nL 91.845163 26.87814 \nL 93.224443 27.048242 \nL 94.684858 27.460124 \nL 96.307541 28.153995 \nL 98.173626 29.206963 \nL 100.283113 30.663566 \nL 102.717137 32.6212 \nL 105.637966 35.2673 \nL 109.207868 38.816887 \nL 113.751379 43.664143 \nL 120.24211 50.943729 \nL 150.991946 85.842328 \nL 160.241237 95.803616 \nL 169.165992 105.091146 \nL 178.009613 113.973319 \nL 186.772099 122.460552 \nL 195.534585 130.64136 \nL 204.378206 138.595111 \nL 209.083985 142.70651 \nL 212.004814 167.246957 \nL 214.114302 182.771342 \nL 216.223789 196.711516 \nL 218.414411 209.728711 \nL 220.605032 221.448833 \nL 222.876788 232.406694 \nL 225.148544 242.298207 \nL 227.501434 251.557997 \nL 229.854324 259.937489 \nL 232.288348 267.791597 \nL 234.722372 274.916024 \nL 237.23753 281.601937 \nL 239.833822 287.867389 \nL 242.430114 293.561988 \nL 245.107541 298.905804 \nL 247.866101 303.914644 \nL 250.705796 308.604692 \nL 253.626625 312.992163 \nL 256.628587 317.093373 \nL 259.711685 320.924409 \nL 262.875916 324.500989 \nL 266.121281 327.838349 \nL 269.528915 331.023571 \nL 273.098816 334.050903 \nL 276.749852 336.858049 \nL 280.644291 339.568802 \nL 284.700997 342.119031 \nL 289.001107 344.555396 \nL 293.544618 346.869031 \nL 298.331532 349.054421 \nL 303.442982 351.140196 \nL 308.878969 353.115764 \nL 314.720627 354.999169 \nL 320.967955 356.778312 \nL 327.783222 358.483684 \nL 335.166428 360.09702 \nL 343.198707 361.620476 \nL 351.961194 363.053559 \nL 361.616156 364.404748 \nL 372.325861 365.675713 \nL 384.252579 366.863855 \nL 397.639711 367.970689 \nL 412.811794 368.998033 \nL 430.174498 369.945943 \nL 450.295763 370.815446 \nL 469.362284 371.469158 \nL 469.362284 371.469158 \n\" clip-path=\"url(#p4e94142567)\" style=\"fill: none; stroke: #d62728; stroke-width: 1.5; stroke-linecap: square\"/>\n   </g>\n   <g id=\"line2d_36\">\n    <path d=\"M 55.415938 372.800213 \nL 56.551815 362.949264 \nL 58.499035 345.240939 \nL 65.638838 277.919538 \nL 67.342655 265.005044 \nL 68.965338 254.370295 \nL 70.506886 245.733769 \nL 71.967301 238.794767 \nL 73.427715 232.980272 \nL 74.888129 228.09205 \nL 76.26741 224.222392 \nL 77.64669 220.983789 \nL 79.02597 218.290669 \nL 80.40525 216.06594 \nL 81.784531 214.241432 \nL 83.244945 212.679921 \nL 84.70536 211.439797 \nL 86.246908 210.422599 \nL 87.869591 209.620788 \nL 89.573408 209.023013 \nL 91.439493 208.601138 \nL 93.54898 208.357744 \nL 95.90187 208.313433 \nL 98.66043 208.490974 \nL 101.905796 208.928613 \nL 105.962502 209.71151 \nL 111.236221 210.971989 \nL 118.700561 213.003882 \nL 132.493364 217.031412 \nL 160.403506 225.171141 \nL 179.875698 230.600136 \nL 199.185621 235.752325 \nL 218.820081 240.760695 \nL 238.941346 245.662286 \nL 259.468282 250.433774 \nL 280.563157 255.108782 \nL 302.22597 259.681359 \nL 324.537857 264.162297 \nL 347.417682 268.529883 \nL 371.027715 272.809251 \nL 388.958358 276.038249 \nL 391.067846 283.709176 \nL 393.177333 290.568516 \nL 395.367955 296.948149 \nL 397.639711 302.870623 \nL 399.911466 308.180535 \nL 402.264356 313.119175 \nL 404.69838 317.705724 \nL 407.132404 321.829656 \nL 409.647562 325.667286 \nL 412.243855 329.234246 \nL 414.921281 332.546247 \nL 417.760976 335.70446 \nL 420.681804 338.621273 \nL 423.764902 341.383009 \nL 427.010267 343.984794 \nL 430.4179 346.425019 \nL 433.987802 348.704754 \nL 437.801107 350.870709 \nL 441.857813 352.913034 \nL 446.157922 354.826081 \nL 450.782568 356.637533 \nL 455.73175 358.337048 \nL 461.167737 359.964304 \nL 467.090529 361.499171 \nL 473.581259 362.945352 \nL 480.721063 364.302686 \nL 488.591074 365.568876 \nL 497.434694 366.76096 \nL 507.333059 367.865988 \nL 518.529569 368.88846 \nL 531.429896 369.837217 \nL 546.358577 370.705306 \nL 563.802415 371.49096 \nL 584.653887 372.200097 \nL 586.844509 372.2633 \nL 586.844509 372.2633 \n\" clip-path=\"url(#p4e94142567)\" style=\"fill: none; stroke: #1f77b4; stroke-width: 1.5; stroke-linecap: square\"/>\n   </g>\n   <g id=\"patch_3\">\n    <path d=\"M 55.415938 390.096577 \nL 55.415938 9.576577 \n\" style=\"fill: none; stroke: #000000; stroke-width: 0.8; stroke-linejoin: miter; stroke-linecap: square\"/>\n   </g>\n   <g id=\"patch_4\">\n    <path d=\"M 613.415938 390.096577 \nL 613.415938 9.576577 \n\" style=\"fill: none; stroke: #000000; stroke-width: 0.8; stroke-linejoin: miter; stroke-linecap: square\"/>\n   </g>\n   <g id=\"patch_5\">\n    <path d=\"M 55.415938 390.096577 \nL 613.415938 390.096577 \n\" style=\"fill: none; stroke: #000000; stroke-width: 0.8; stroke-linejoin: miter; stroke-linecap: square\"/>\n   </g>\n   <g id=\"patch_6\">\n    <path d=\"M 55.415938 9.576577 \nL 613.415938 9.576577 \n\" style=\"fill: none; stroke: #000000; stroke-width: 0.8; stroke-linejoin: miter; stroke-linecap: square\"/>\n   </g>\n   <g id=\"legend_1\">\n    <g id=\"patch_7\">\n     <path d=\"M 503.095937 80.160639 \nL 603.615937 80.160639 \nQ 606.415937 80.160639 606.415937 77.360639 \nL 606.415937 19.376577 \nQ 606.415937 16.576577 603.615937 16.576577 \nL 503.095937 16.576577 \nQ 500.295937 16.576577 500.295937 19.376577 \nL 500.295937 77.360639 \nQ 500.295937 80.160639 503.095937 80.160639 \nz\n\" style=\"fill: #ffffff; opacity: 0.8; stroke: #cccccc; stroke-linejoin: miter\"/>\n    </g>\n    <g id=\"line2d_37\">\n     <path d=\"M 505.895938 27.076577 \nL 519.895937 27.076577 \nL 533.895937 27.076577 \n\" style=\"fill: none; stroke: #2ca02c; stroke-width: 1.5; stroke-linecap: square\"/>\n    </g>\n    <g id=\"text_19\">\n     <!-- $\\mathit{t}$ = +18°C -->\n     <g transform=\"translate(545.095937 31.976577)scale(0.14 -0.14)\">\n      <defs>\n       <path id=\"TimesNewRomanPSMT-3d\" d=\"M 116 2759 \nL 3488 2759 \nL 3488 2503 \nL 116 2503 \nL 116 2759 \nz\nM 116 1741 \nL 3488 1741 \nL 3488 1484 \nL 116 1484 \nL 116 1741 \nz\n\" transform=\"scale(0.015625)\"/>\n       <path id=\"TimesNewRomanPSMT-2b\" d=\"M 1672 441 \nL 1672 2000 \nL 116 2000 \nL 116 2256 \nL 1672 2256 \nL 1672 3809 \nL 1922 3809 \nL 1922 2256 \nL 3484 2256 \nL 3484 2000 \nL 1922 2000 \nL 1922 441 \nL 1672 441 \nz\n\" transform=\"scale(0.015625)\"/>\n       <path id=\"TimesNewRomanPSMT-38\" d=\"M 1228 2134 \nQ 725 2547 579 2797 \nQ 434 3047 434 3316 \nQ 434 3728 753 4026 \nQ 1072 4325 1600 4325 \nQ 2113 4325 2425 4047 \nQ 2738 3769 2738 3413 \nQ 2738 3175 2569 2928 \nQ 2400 2681 1866 2347 \nQ 2416 1922 2594 1678 \nQ 2831 1359 2831 1006 \nQ 2831 559 2490 242 \nQ 2150 -75 1597 -75 \nQ 994 -75 656 303 \nQ 388 606 388 966 \nQ 388 1247 577 1523 \nQ 766 1800 1228 2134 \nz\nM 1719 2469 \nQ 2094 2806 2194 3001 \nQ 2294 3197 2294 3444 \nQ 2294 3772 2109 3958 \nQ 1925 4144 1606 4144 \nQ 1288 4144 1088 3959 \nQ 888 3775 888 3528 \nQ 888 3366 970 3203 \nQ 1053 3041 1206 2894 \nL 1719 2469 \nz\nM 1375 2016 \nQ 1116 1797 991 1539 \nQ 866 1281 866 981 \nQ 866 578 1086 336 \nQ 1306 94 1647 94 \nQ 1984 94 2187 284 \nQ 2391 475 2391 747 \nQ 2391 972 2272 1150 \nQ 2050 1481 1375 2016 \nz\n\" transform=\"scale(0.015625)\"/>\n       <path id=\"TimesNewRomanPSMT-b0\" d=\"M 1266 4331 \nQ 1669 4331 1948 4050 \nQ 2228 3769 2228 3369 \nQ 2228 2972 1947 2690 \nQ 1666 2409 1266 2409 \nQ 869 2409 587 2690 \nQ 306 2972 306 3369 \nQ 306 3769 586 4050 \nQ 866 4331 1266 4331 \nz\nM 1266 4069 \nQ 975 4069 772 3866 \nQ 569 3663 569 3372 \nQ 569 3084 772 2879 \nQ 975 2675 1266 2675 \nQ 1553 2675 1758 2879 \nQ 1963 3084 1963 3372 \nQ 1963 3663 1759 3866 \nQ 1556 4069 1266 4069 \nz\n\" transform=\"scale(0.015625)\"/>\n       <path id=\"TimesNewRomanPSMT-43\" d=\"M 3853 4334 \nL 3950 2894 \nL 3853 2894 \nQ 3659 3541 3300 3825 \nQ 2941 4109 2438 4109 \nQ 2016 4109 1675 3895 \nQ 1334 3681 1139 3212 \nQ 944 2744 944 2047 \nQ 944 1472 1128 1050 \nQ 1313 628 1683 403 \nQ 2053 178 2528 178 \nQ 2941 178 3256 354 \nQ 3572 531 3950 1056 \nL 4047 994 \nQ 3728 428 3303 165 \nQ 2878 -97 2294 -97 \nQ 1241 -97 663 684 \nQ 231 1266 231 2053 \nQ 231 2688 515 3219 \nQ 800 3750 1298 4042 \nQ 1797 4334 2388 4334 \nQ 2847 4334 3294 4109 \nQ 3425 4041 3481 4041 \nQ 3566 4041 3628 4100 \nQ 3709 4184 3744 4334 \nL 3853 4334 \nz\n\" transform=\"scale(0.015625)\"/>\n      </defs>\n      <use xlink:href=\"#STIXGeneral-Italic-74\" transform=\"translate(0 0.28125)\"/>\n      <use xlink:href=\"#TimesNewRomanPSMT-20\" transform=\"translate(27.799988 0.28125)\"/>\n      <use xlink:href=\"#TimesNewRomanPSMT-3d\" transform=\"translate(52.799988 0.28125)\"/>\n      <use xlink:href=\"#TimesNewRomanPSMT-20\" transform=\"translate(109.196472 0.28125)\"/>\n      <use xlink:href=\"#TimesNewRomanPSMT-2b\" transform=\"translate(134.196472 0.28125)\"/>\n      <use xlink:href=\"#TimesNewRomanPSMT-31\" transform=\"translate(190.592957 0.28125)\"/>\n      <use xlink:href=\"#TimesNewRomanPSMT-38\" transform=\"translate(240.592957 0.28125)\"/>\n      <use xlink:href=\"#TimesNewRomanPSMT-b0\" transform=\"translate(290.592957 0.28125)\"/>\n      <use xlink:href=\"#TimesNewRomanPSMT-43\" transform=\"translate(330.583191 0.28125)\"/>\n     </g>\n    </g>\n    <g id=\"line2d_38\">\n     <path d=\"M 505.895938 46.871264 \nL 519.895937 46.871264 \nL 533.895937 46.871264 \n\" style=\"fill: none; stroke: #d62728; stroke-width: 1.5; stroke-linecap: square\"/>\n    </g>\n    <g id=\"text_20\">\n     <!-- $\\mathit{t}$ = +50°C -->\n     <g transform=\"translate(545.095937 51.771264)scale(0.14 -0.14)\">\n      <use xlink:href=\"#STIXGeneral-Italic-74\" transform=\"translate(0 0.28125)\"/>\n      <use xlink:href=\"#TimesNewRomanPSMT-20\" transform=\"translate(27.799988 0.28125)\"/>\n      <use xlink:href=\"#TimesNewRomanPSMT-3d\" transform=\"translate(52.799988 0.28125)\"/>\n      <use xlink:href=\"#TimesNewRomanPSMT-20\" transform=\"translate(109.196472 0.28125)\"/>\n      <use xlink:href=\"#TimesNewRomanPSMT-2b\" transform=\"translate(134.196472 0.28125)\"/>\n      <use xlink:href=\"#TimesNewRomanPSMT-35\" transform=\"translate(190.592957 0.28125)\"/>\n      <use xlink:href=\"#TimesNewRomanPSMT-30\" transform=\"translate(240.592957 0.28125)\"/>\n      <use xlink:href=\"#TimesNewRomanPSMT-b0\" transform=\"translate(290.592957 0.28125)\"/>\n      <use xlink:href=\"#TimesNewRomanPSMT-43\" transform=\"translate(330.583191 0.28125)\"/>\n     </g>\n    </g>\n    <g id=\"line2d_39\">\n     <path d=\"M 505.895938 66.665952 \nL 519.895937 66.665952 \nL 533.895937 66.665952 \n\" style=\"fill: none; stroke: #1f77b4; stroke-width: 1.5; stroke-linecap: square\"/>\n    </g>\n    <g id=\"text_21\">\n     <!-- $\\mathit{t}$ = $-$50°C -->\n     <g transform=\"translate(545.095937 71.565952)scale(0.14 -0.14)\">\n      <defs>\n       <path id=\"TimesNewRomanPSMT-2212\" d=\"M 3484 2000 \nL 116 2000 \nL 116 2256 \nL 3484 2256 \nL 3484 2000 \nz\n\" transform=\"scale(0.015625)\"/>\n      </defs>\n      <use xlink:href=\"#STIXGeneral-Italic-74\" transform=\"translate(0 0.28125)\"/>\n      <use xlink:href=\"#TimesNewRomanPSMT-20\" transform=\"translate(27.799988 0.28125)\"/>\n      <use xlink:href=\"#TimesNewRomanPSMT-3d\" transform=\"translate(52.799988 0.28125)\"/>\n      <use xlink:href=\"#TimesNewRomanPSMT-20\" transform=\"translate(109.196472 0.28125)\"/>\n      <use xlink:href=\"#TimesNewRomanPSMT-2212\" transform=\"translate(134.196472 0.28125)\"/>\n      <use xlink:href=\"#TimesNewRomanPSMT-35\" transform=\"translate(190.592957 0.28125)\"/>\n      <use xlink:href=\"#TimesNewRomanPSMT-30\" transform=\"translate(240.592957 0.28125)\"/>\n      <use xlink:href=\"#TimesNewRomanPSMT-b0\" transform=\"translate(290.592957 0.28125)\"/>\n      <use xlink:href=\"#TimesNewRomanPSMT-43\" transform=\"translate(330.583191 0.28125)\"/>\n     </g>\n    </g>\n   </g>\n  </g>\n </g>\n <defs>\n  <clipPath id=\"p4e94142567\">\n   <rect x=\"55.415938\" y=\"9.576577\" width=\"558\" height=\"380.52\"/>\n  </clipPath>\n </defs>\n</svg>\n",
      "text/plain": [
       "<Figure size 720x504 with 1 Axes>"
      ]
     },
     "metadata": {
      "needs_background": "light"
     },
     "output_type": "display_data"
    }
   ],
   "source": [
    "plt.figure(figsize = (10,7))\n",
    "plt.plot(res18['t'],Ps(res18,273.15+18)/1e3, c = 'tab:green', label = '$\\mathit{t}$ = +18°C')\n",
    "plt.axhline(P_need/1e3,ls = '--',c = 'grey')\n",
    "plt.plot(res50['t'],Ps(res50,273.15+50)/1e3, c = 'tab:red', label = '$\\mathit{t}$ = +50°C')\n",
    "plt.plot(res_50['t'],Ps(res_50,273.15-50)/1e3, c = 'tab:blue', label = '$\\mathit{t}$ = $-$50°C')\n",
    "\n",
    "plt.xlim(0)\n",
    "plt.xlabel('$\\mathit{t}$, с')\n",
    "plt.ylabel('$\\mathit{P}$, кН')\n",
    "plt.legend()\n",
    "plt.grid()\n",
    "# plt.savefig('Инд Pp.svg', dpi=500, bbox_inches='tight')"
   ]
  }
 ],
 "metadata": {
  "kernelspec": {
   "display_name": "Python 3.9.13 64-bit",
   "language": "python",
   "name": "python3"
  },
  "language_info": {
   "codemirror_mode": {
    "name": "ipython",
    "version": 3
   },
   "file_extension": ".py",
   "mimetype": "text/x-python",
   "name": "python",
   "nbconvert_exporter": "python",
   "pygments_lexer": "ipython3",
   "version": "3.9.13"
  },
  "orig_nbformat": 4,
  "vscode": {
   "interpreter": {
    "hash": "f5ff168696553f3e2cb115c273c46eeb315c32b0d0536992c4bad2740a7f9469"
   }
  }
 },
 "nbformat": 4,
 "nbformat_minor": 2
}
